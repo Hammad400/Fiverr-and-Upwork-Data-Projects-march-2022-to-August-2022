{
 "cells": [
  {
   "cell_type": "markdown",
   "id": "collect-oakland",
   "metadata": {},
   "source": [
    "# data preparation and EDA"
   ]
  },
  {
   "cell_type": "markdown",
   "id": "objective-egyptian",
   "metadata": {},
   "source": [
    "#### importing libraries"
   ]
  },
  {
   "cell_type": "code",
   "execution_count": 1,
   "id": "detected-incentive",
   "metadata": {},
   "outputs": [],
   "source": [
    "import numpy as np\n",
    "import pandas as pd\n",
    "import matplotlib.pyplot as plt\n",
    "import seaborn as sns\n",
    "sns.set()\n",
    "pd.options.mode.chained_assignment = None  # default='warn'"
   ]
  },
  {
   "cell_type": "markdown",
   "id": "reasonable-adapter",
   "metadata": {},
   "source": [
    "#### importing first dataset"
   ]
  },
  {
   "cell_type": "code",
   "execution_count": 2,
   "id": "opposed-equipment",
   "metadata": {},
   "outputs": [
    {
     "data": {
      "text/html": [
       "<div>\n",
       "<style scoped>\n",
       "    .dataframe tbody tr th:only-of-type {\n",
       "        vertical-align: middle;\n",
       "    }\n",
       "\n",
       "    .dataframe tbody tr th {\n",
       "        vertical-align: top;\n",
       "    }\n",
       "\n",
       "    .dataframe thead th {\n",
       "        text-align: right;\n",
       "    }\n",
       "</style>\n",
       "<table border=\"1\" class=\"dataframe\">\n",
       "  <thead>\n",
       "    <tr style=\"text-align: right;\">\n",
       "      <th></th>\n",
       "      <th>STATISTIC</th>\n",
       "      <th>Statistic</th>\n",
       "      <th>TLIST(A1)</th>\n",
       "      <th>Year</th>\n",
       "      <th>C02039V02469</th>\n",
       "      <th>Type of Crop</th>\n",
       "      <th>UNIT</th>\n",
       "      <th>VALUE</th>\n",
       "    </tr>\n",
       "  </thead>\n",
       "  <tbody>\n",
       "    <tr>\n",
       "      <th>0</th>\n",
       "      <td>AQA04C1</td>\n",
       "      <td>Area under Crops</td>\n",
       "      <td>2008</td>\n",
       "      <td>2008</td>\n",
       "      <td>1</td>\n",
       "      <td>Total wheat, oats and barley</td>\n",
       "      <td>000 Hectares</td>\n",
       "      <td>320.7</td>\n",
       "    </tr>\n",
       "    <tr>\n",
       "      <th>1</th>\n",
       "      <td>AQA04C1</td>\n",
       "      <td>Area under Crops</td>\n",
       "      <td>2008</td>\n",
       "      <td>2008</td>\n",
       "      <td>11</td>\n",
       "      <td>Total wheat</td>\n",
       "      <td>000 Hectares</td>\n",
       "      <td>110.7</td>\n",
       "    </tr>\n",
       "    <tr>\n",
       "      <th>2</th>\n",
       "      <td>AQA04C1</td>\n",
       "      <td>Area under Crops</td>\n",
       "      <td>2008</td>\n",
       "      <td>2008</td>\n",
       "      <td>111</td>\n",
       "      <td>Winter wheat</td>\n",
       "      <td>000 Hectares</td>\n",
       "      <td>87.5</td>\n",
       "    </tr>\n",
       "    <tr>\n",
       "      <th>3</th>\n",
       "      <td>AQA04C1</td>\n",
       "      <td>Area under Crops</td>\n",
       "      <td>2008</td>\n",
       "      <td>2008</td>\n",
       "      <td>112</td>\n",
       "      <td>Spring wheat</td>\n",
       "      <td>000 Hectares</td>\n",
       "      <td>23.2</td>\n",
       "    </tr>\n",
       "    <tr>\n",
       "      <th>4</th>\n",
       "      <td>AQA04C1</td>\n",
       "      <td>Area under Crops</td>\n",
       "      <td>2008</td>\n",
       "      <td>2008</td>\n",
       "      <td>12</td>\n",
       "      <td>Total oats</td>\n",
       "      <td>000 Hectares</td>\n",
       "      <td>22.9</td>\n",
       "    </tr>\n",
       "    <tr>\n",
       "      <th>...</th>\n",
       "      <td>...</td>\n",
       "      <td>...</td>\n",
       "      <td>...</td>\n",
       "      <td>...</td>\n",
       "      <td>...</td>\n",
       "      <td>...</td>\n",
       "      <td>...</td>\n",
       "      <td>...</td>\n",
       "    </tr>\n",
       "    <tr>\n",
       "      <th>541</th>\n",
       "      <td>AQA04C3</td>\n",
       "      <td>Crop Production</td>\n",
       "      <td>2021</td>\n",
       "      <td>2021</td>\n",
       "      <td>131</td>\n",
       "      <td>Winter barley</td>\n",
       "      <td>000 Tonnes</td>\n",
       "      <td>638.8</td>\n",
       "    </tr>\n",
       "    <tr>\n",
       "      <th>542</th>\n",
       "      <td>AQA04C3</td>\n",
       "      <td>Crop Production</td>\n",
       "      <td>2021</td>\n",
       "      <td>2021</td>\n",
       "      <td>132</td>\n",
       "      <td>Spring barley</td>\n",
       "      <td>000 Tonnes</td>\n",
       "      <td>917.6</td>\n",
       "    </tr>\n",
       "    <tr>\n",
       "      <th>543</th>\n",
       "      <td>AQA04C3</td>\n",
       "      <td>Crop Production</td>\n",
       "      <td>2021</td>\n",
       "      <td>2021</td>\n",
       "      <td>2</td>\n",
       "      <td>Beans and peas</td>\n",
       "      <td>000 Tonnes</td>\n",
       "      <td>54.4</td>\n",
       "    </tr>\n",
       "    <tr>\n",
       "      <th>544</th>\n",
       "      <td>AQA04C3</td>\n",
       "      <td>Crop Production</td>\n",
       "      <td>2021</td>\n",
       "      <td>2021</td>\n",
       "      <td>3</td>\n",
       "      <td>Oilseed rape</td>\n",
       "      <td>000 Tonnes</td>\n",
       "      <td>52.2</td>\n",
       "    </tr>\n",
       "    <tr>\n",
       "      <th>545</th>\n",
       "      <td>AQA04C3</td>\n",
       "      <td>Crop Production</td>\n",
       "      <td>2021</td>\n",
       "      <td>2021</td>\n",
       "      <td>4</td>\n",
       "      <td>Potatoes</td>\n",
       "      <td>000 Tonnes</td>\n",
       "      <td>407.5</td>\n",
       "    </tr>\n",
       "  </tbody>\n",
       "</table>\n",
       "<p>546 rows × 8 columns</p>\n",
       "</div>"
      ],
      "text/plain": [
       "    STATISTIC         Statistic  TLIST(A1)  Year  C02039V02469  \\\n",
       "0     AQA04C1  Area under Crops       2008  2008             1   \n",
       "1     AQA04C1  Area under Crops       2008  2008            11   \n",
       "2     AQA04C1  Area under Crops       2008  2008           111   \n",
       "3     AQA04C1  Area under Crops       2008  2008           112   \n",
       "4     AQA04C1  Area under Crops       2008  2008            12   \n",
       "..        ...               ...        ...   ...           ...   \n",
       "541   AQA04C3   Crop Production       2021  2021           131   \n",
       "542   AQA04C3   Crop Production       2021  2021           132   \n",
       "543   AQA04C3   Crop Production       2021  2021             2   \n",
       "544   AQA04C3   Crop Production       2021  2021             3   \n",
       "545   AQA04C3   Crop Production       2021  2021             4   \n",
       "\n",
       "                     Type of Crop          UNIT  VALUE  \n",
       "0    Total wheat, oats and barley  000 Hectares  320.7  \n",
       "1                     Total wheat  000 Hectares  110.7  \n",
       "2                    Winter wheat  000 Hectares   87.5  \n",
       "3                    Spring wheat  000 Hectares   23.2  \n",
       "4                      Total oats  000 Hectares   22.9  \n",
       "..                            ...           ...    ...  \n",
       "541                 Winter barley    000 Tonnes  638.8  \n",
       "542                 Spring barley    000 Tonnes  917.6  \n",
       "543                Beans and peas    000 Tonnes   54.4  \n",
       "544                  Oilseed rape    000 Tonnes   52.2  \n",
       "545                      Potatoes    000 Tonnes  407.5  \n",
       "\n",
       "[546 rows x 8 columns]"
      ]
     },
     "execution_count": 2,
     "metadata": {},
     "output_type": "execute_result"
    }
   ],
   "source": [
    "data1=pd.read_csv('AQA04.Crop Yield and Production.csv')\n",
    "data1"
   ]
  },
  {
   "cell_type": "markdown",
   "id": "damaged-command",
   "metadata": {},
   "source": [
    "#### importing second dataset"
   ]
  },
  {
   "cell_type": "code",
   "execution_count": 3,
   "id": "waiting-jacksonville",
   "metadata": {},
   "outputs": [
    {
     "data": {
      "text/html": [
       "<div>\n",
       "<style scoped>\n",
       "    .dataframe tbody tr th:only-of-type {\n",
       "        vertical-align: middle;\n",
       "    }\n",
       "\n",
       "    .dataframe tbody tr th {\n",
       "        vertical-align: top;\n",
       "    }\n",
       "\n",
       "    .dataframe thead th {\n",
       "        text-align: right;\n",
       "    }\n",
       "</style>\n",
       "<table border=\"1\" class=\"dataframe\">\n",
       "  <thead>\n",
       "    <tr style=\"text-align: right;\">\n",
       "      <th></th>\n",
       "      <th>STATISTIC</th>\n",
       "      <th>Statistic</th>\n",
       "      <th>TLIST(A1)</th>\n",
       "      <th>Year</th>\n",
       "      <th>C02039V02469</th>\n",
       "      <th>Type of Crop</th>\n",
       "      <th>UNIT</th>\n",
       "      <th>VALUE</th>\n",
       "    </tr>\n",
       "  </thead>\n",
       "  <tbody>\n",
       "    <tr>\n",
       "      <th>0</th>\n",
       "      <td>AQA03C1</td>\n",
       "      <td>Area under Crops</td>\n",
       "      <td>1985</td>\n",
       "      <td>1985</td>\n",
       "      <td>1</td>\n",
       "      <td>Total wheat, oats and barley</td>\n",
       "      <td>000 Hectares</td>\n",
       "      <td>386.2</td>\n",
       "    </tr>\n",
       "    <tr>\n",
       "      <th>1</th>\n",
       "      <td>AQA03C1</td>\n",
       "      <td>Area under Crops</td>\n",
       "      <td>1985</td>\n",
       "      <td>1985</td>\n",
       "      <td>11</td>\n",
       "      <td>Total wheat</td>\n",
       "      <td>000 Hectares</td>\n",
       "      <td>77.7</td>\n",
       "    </tr>\n",
       "    <tr>\n",
       "      <th>2</th>\n",
       "      <td>AQA03C1</td>\n",
       "      <td>Area under Crops</td>\n",
       "      <td>1985</td>\n",
       "      <td>1985</td>\n",
       "      <td>111</td>\n",
       "      <td>Winter wheat</td>\n",
       "      <td>000 Hectares</td>\n",
       "      <td>60.3</td>\n",
       "    </tr>\n",
       "    <tr>\n",
       "      <th>3</th>\n",
       "      <td>AQA03C1</td>\n",
       "      <td>Area under Crops</td>\n",
       "      <td>1985</td>\n",
       "      <td>1985</td>\n",
       "      <td>112</td>\n",
       "      <td>Spring wheat</td>\n",
       "      <td>000 Hectares</td>\n",
       "      <td>17.4</td>\n",
       "    </tr>\n",
       "    <tr>\n",
       "      <th>4</th>\n",
       "      <td>AQA03C1</td>\n",
       "      <td>Area under Crops</td>\n",
       "      <td>1985</td>\n",
       "      <td>1985</td>\n",
       "      <td>12</td>\n",
       "      <td>Total oats</td>\n",
       "      <td>000 Hectares</td>\n",
       "      <td>24.9</td>\n",
       "    </tr>\n",
       "    <tr>\n",
       "      <th>...</th>\n",
       "      <td>...</td>\n",
       "      <td>...</td>\n",
       "      <td>...</td>\n",
       "      <td>...</td>\n",
       "      <td>...</td>\n",
       "      <td>...</td>\n",
       "      <td>...</td>\n",
       "      <td>...</td>\n",
       "    </tr>\n",
       "    <tr>\n",
       "      <th>1168</th>\n",
       "      <td>AQA03C3</td>\n",
       "      <td>Crop Yield</td>\n",
       "      <td>2007</td>\n",
       "      <td>2007</td>\n",
       "      <td>4</td>\n",
       "      <td>Potatoes</td>\n",
       "      <td>000 Tonnes</td>\n",
       "      <td>399.0</td>\n",
       "    </tr>\n",
       "    <tr>\n",
       "      <th>1169</th>\n",
       "      <td>AQA03C3</td>\n",
       "      <td>Crop Yield</td>\n",
       "      <td>2007</td>\n",
       "      <td>2007</td>\n",
       "      <td>5</td>\n",
       "      <td>Turnips</td>\n",
       "      <td>000 Tonnes</td>\n",
       "      <td>NaN</td>\n",
       "    </tr>\n",
       "    <tr>\n",
       "      <th>1170</th>\n",
       "      <td>AQA03C3</td>\n",
       "      <td>Crop Yield</td>\n",
       "      <td>2007</td>\n",
       "      <td>2007</td>\n",
       "      <td>61</td>\n",
       "      <td>Sugar beet</td>\n",
       "      <td>000 Tonnes</td>\n",
       "      <td>NaN</td>\n",
       "    </tr>\n",
       "    <tr>\n",
       "      <th>1171</th>\n",
       "      <td>AQA03C3</td>\n",
       "      <td>Crop Yield</td>\n",
       "      <td>2007</td>\n",
       "      <td>2007</td>\n",
       "      <td>62</td>\n",
       "      <td>Fodder beet</td>\n",
       "      <td>000 Tonnes</td>\n",
       "      <td>NaN</td>\n",
       "    </tr>\n",
       "    <tr>\n",
       "      <th>1172</th>\n",
       "      <td>AQA03C3</td>\n",
       "      <td>Crop Yield</td>\n",
       "      <td>2007</td>\n",
       "      <td>2007</td>\n",
       "      <td>7</td>\n",
       "      <td>Kale and field cabbage</td>\n",
       "      <td>000 Tonnes</td>\n",
       "      <td>NaN</td>\n",
       "    </tr>\n",
       "  </tbody>\n",
       "</table>\n",
       "<p>1173 rows × 8 columns</p>\n",
       "</div>"
      ],
      "text/plain": [
       "     STATISTIC         Statistic  TLIST(A1)  Year  C02039V02469  \\\n",
       "0      AQA03C1  Area under Crops       1985  1985             1   \n",
       "1      AQA03C1  Area under Crops       1985  1985            11   \n",
       "2      AQA03C1  Area under Crops       1985  1985           111   \n",
       "3      AQA03C1  Area under Crops       1985  1985           112   \n",
       "4      AQA03C1  Area under Crops       1985  1985            12   \n",
       "...        ...               ...        ...   ...           ...   \n",
       "1168   AQA03C3        Crop Yield       2007  2007             4   \n",
       "1169   AQA03C3        Crop Yield       2007  2007             5   \n",
       "1170   AQA03C3        Crop Yield       2007  2007            61   \n",
       "1171   AQA03C3        Crop Yield       2007  2007            62   \n",
       "1172   AQA03C3        Crop Yield       2007  2007             7   \n",
       "\n",
       "                      Type of Crop          UNIT  VALUE  \n",
       "0     Total wheat, oats and barley  000 Hectares  386.2  \n",
       "1                      Total wheat  000 Hectares   77.7  \n",
       "2                     Winter wheat  000 Hectares   60.3  \n",
       "3                     Spring wheat  000 Hectares   17.4  \n",
       "4                       Total oats  000 Hectares   24.9  \n",
       "...                            ...           ...    ...  \n",
       "1168                      Potatoes    000 Tonnes  399.0  \n",
       "1169                       Turnips    000 Tonnes    NaN  \n",
       "1170                    Sugar beet    000 Tonnes    NaN  \n",
       "1171                   Fodder beet    000 Tonnes    NaN  \n",
       "1172        Kale and field cabbage    000 Tonnes    NaN  \n",
       "\n",
       "[1173 rows x 8 columns]"
      ]
     },
     "execution_count": 3,
     "metadata": {},
     "output_type": "execute_result"
    }
   ],
   "source": [
    "data2=pd.read_csv('AQA03_Crop Yield (1985 - 2007).csv')\n",
    "data2"
   ]
  },
  {
   "cell_type": "markdown",
   "id": "unauthorized-recording",
   "metadata": {},
   "source": [
    "## EDA"
   ]
  },
  {
   "cell_type": "markdown",
   "id": "italian-certificate",
   "metadata": {},
   "source": [
    "### analysing first dataset"
   ]
  },
  {
   "cell_type": "markdown",
   "id": "horizontal-irrigation",
   "metadata": {},
   "source": [
    "#### checking for null values"
   ]
  },
  {
   "cell_type": "code",
   "execution_count": 4,
   "id": "contemporary-words",
   "metadata": {},
   "outputs": [
    {
     "data": {
      "text/plain": [
       "STATISTIC       0\n",
       "Statistic       0\n",
       "TLIST(A1)       0\n",
       "Year            0\n",
       "C02039V02469    0\n",
       "Type of Crop    0\n",
       "UNIT            0\n",
       "VALUE           0\n",
       "dtype: int64"
      ]
     },
     "execution_count": 4,
     "metadata": {},
     "output_type": "execute_result"
    }
   ],
   "source": [
    "data1.isnull().sum()"
   ]
  },
  {
   "cell_type": "markdown",
   "id": "timely-financing",
   "metadata": {},
   "source": [
    "#### description of data"
   ]
  },
  {
   "cell_type": "code",
   "execution_count": 5,
   "id": "intimate-budget",
   "metadata": {},
   "outputs": [
    {
     "data": {
      "text/plain": [
       "count     546.000000\n",
       "mean      214.459341\n",
       "std       457.556839\n",
       "min         2.500000\n",
       "25%         8.400000\n",
       "50%        23.750000\n",
       "75%       165.550000\n",
       "max      2633.600000\n",
       "Name: VALUE, dtype: float64"
      ]
     },
     "execution_count": 5,
     "metadata": {},
     "output_type": "execute_result"
    }
   ],
   "source": [
    "data1['VALUE'].describe()"
   ]
  },
  {
   "cell_type": "markdown",
   "id": "after-clear",
   "metadata": {},
   "source": [
    "#### exploring unit feature"
   ]
  },
  {
   "cell_type": "code",
   "execution_count": 6,
   "id": "resistant-fantasy",
   "metadata": {},
   "outputs": [
    {
     "data": {
      "text/plain": [
       "array(['000 Hectares', 'Tonnes', '000 Tonnes'], dtype=object)"
      ]
     },
     "execution_count": 6,
     "metadata": {},
     "output_type": "execute_result"
    }
   ],
   "source": [
    "data1['UNIT'].unique()"
   ]
  },
  {
   "cell_type": "markdown",
   "id": "chief-boards",
   "metadata": {},
   "source": [
    "#### exploring measurment"
   ]
  },
  {
   "cell_type": "code",
   "execution_count": 7,
   "id": "absolute-military",
   "metadata": {},
   "outputs": [
    {
     "data": {
      "text/plain": [
       "array(['Area under Crops', 'Crop Yield per Hectare', 'Crop Production'],\n",
       "      dtype=object)"
      ]
     },
     "execution_count": 7,
     "metadata": {},
     "output_type": "execute_result"
    }
   ],
   "source": [
    "data1['Statistic'].unique()"
   ]
  },
  {
   "cell_type": "markdown",
   "id": "twenty-intention",
   "metadata": {},
   "source": [
    "#### exploring units"
   ]
  },
  {
   "cell_type": "code",
   "execution_count": 8,
   "id": "demonstrated-framing",
   "metadata": {},
   "outputs": [
    {
     "data": {
      "text/plain": [
       "array(['000 Hectares'], dtype=object)"
      ]
     },
     "execution_count": 8,
     "metadata": {},
     "output_type": "execute_result"
    }
   ],
   "source": [
    "data1[data1['Statistic']=='Area under Crops']['UNIT'].unique()"
   ]
  },
  {
   "cell_type": "code",
   "execution_count": 9,
   "id": "monetary-indonesian",
   "metadata": {},
   "outputs": [
    {
     "data": {
      "text/plain": [
       "array(['Tonnes'], dtype=object)"
      ]
     },
     "execution_count": 9,
     "metadata": {},
     "output_type": "execute_result"
    }
   ],
   "source": [
    "data1[data1['Statistic']=='Crop Yield per Hectare']['UNIT'].unique()"
   ]
  },
  {
   "cell_type": "code",
   "execution_count": 10,
   "id": "irish-fifty",
   "metadata": {},
   "outputs": [
    {
     "data": {
      "text/plain": [
       "array(['000 Tonnes'], dtype=object)"
      ]
     },
     "execution_count": 10,
     "metadata": {},
     "output_type": "execute_result"
    }
   ],
   "source": [
    "data1[data1['Statistic']=='Crop Production']['UNIT'].unique()"
   ]
  },
  {
   "cell_type": "markdown",
   "id": "hairy-headquarters",
   "metadata": {},
   "source": [
    "##### exploring how many records each measurment have"
   ]
  },
  {
   "cell_type": "code",
   "execution_count": 11,
   "id": "little-italian",
   "metadata": {},
   "outputs": [
    {
     "data": {
      "text/plain": [
       "182"
      ]
     },
     "execution_count": 11,
     "metadata": {},
     "output_type": "execute_result"
    }
   ],
   "source": [
    "len(data1[data1['Statistic']=='Area under Crops'])"
   ]
  },
  {
   "cell_type": "code",
   "execution_count": 12,
   "id": "blocked-leisure",
   "metadata": {},
   "outputs": [
    {
     "data": {
      "text/plain": [
       "182"
      ]
     },
     "execution_count": 12,
     "metadata": {},
     "output_type": "execute_result"
    }
   ],
   "source": [
    "len(data1[data1['Statistic']=='Crop Yield per Hectare'])"
   ]
  },
  {
   "cell_type": "code",
   "execution_count": 13,
   "id": "cathedral-developer",
   "metadata": {},
   "outputs": [
    {
     "data": {
      "text/plain": [
       "182"
      ]
     },
     "execution_count": 13,
     "metadata": {},
     "output_type": "execute_result"
    }
   ],
   "source": [
    "len(data1[data1['Statistic']=='Crop Production'])"
   ]
  },
  {
   "cell_type": "markdown",
   "id": "living-visibility",
   "metadata": {},
   "source": [
    "#### exploring year"
   ]
  },
  {
   "cell_type": "code",
   "execution_count": 14,
   "id": "associate-studio",
   "metadata": {},
   "outputs": [
    {
     "data": {
      "text/plain": [
       "2008"
      ]
     },
     "execution_count": 14,
     "metadata": {},
     "output_type": "execute_result"
    }
   ],
   "source": [
    "data1['Year'].min()"
   ]
  },
  {
   "cell_type": "code",
   "execution_count": 15,
   "id": "seeing-oliver",
   "metadata": {},
   "outputs": [
    {
     "data": {
      "text/plain": [
       "2021"
      ]
     },
     "execution_count": 15,
     "metadata": {},
     "output_type": "execute_result"
    }
   ],
   "source": [
    "data1['Year'].max()"
   ]
  },
  {
   "cell_type": "code",
   "execution_count": 16,
   "id": "biological-adams",
   "metadata": {},
   "outputs": [
    {
     "data": {
      "text/plain": [
       "13"
      ]
     },
     "execution_count": 16,
     "metadata": {},
     "output_type": "execute_result"
    }
   ],
   "source": [
    "data1['Year'].max()-data1['Year'].min()"
   ]
  },
  {
   "cell_type": "code",
   "execution_count": 17,
   "id": "understood-surgery",
   "metadata": {},
   "outputs": [
    {
     "data": {
      "text/plain": [
       "2008    39\n",
       "2009    39\n",
       "2010    39\n",
       "2011    39\n",
       "2012    39\n",
       "2013    39\n",
       "2014    39\n",
       "2015    39\n",
       "2016    39\n",
       "2017    39\n",
       "2018    39\n",
       "2019    39\n",
       "2020    39\n",
       "2021    39\n",
       "Name: Year, dtype: int64"
      ]
     },
     "execution_count": 17,
     "metadata": {},
     "output_type": "execute_result"
    }
   ],
   "source": [
    "data1['Year'].value_counts()"
   ]
  },
  {
   "cell_type": "markdown",
   "id": "developing-crowd",
   "metadata": {},
   "source": [
    "#### exploring type of crop"
   ]
  },
  {
   "cell_type": "code",
   "execution_count": 18,
   "id": "interesting-ready",
   "metadata": {},
   "outputs": [
    {
     "data": {
      "text/plain": [
       "13"
      ]
     },
     "execution_count": 18,
     "metadata": {},
     "output_type": "execute_result"
    }
   ],
   "source": [
    "len(data1['Type of Crop'].unique())"
   ]
  },
  {
   "cell_type": "code",
   "execution_count": 19,
   "id": "armed-flight",
   "metadata": {},
   "outputs": [
    {
     "data": {
      "text/plain": [
       "Total wheat                     42\n",
       "Beans and peas                  42\n",
       "Total oats                      42\n",
       "Oilseed rape                    42\n",
       "Potatoes                        42\n",
       "Total wheat, oats and barley    42\n",
       "Spring barley                   42\n",
       "Winter wheat                    42\n",
       "Spring wheat                    42\n",
       "Total barley                    42\n",
       "Winter oats                     42\n",
       "Winter barley                   42\n",
       "Spring oats                     42\n",
       "Name: Type of Crop, dtype: int64"
      ]
     },
     "execution_count": 19,
     "metadata": {},
     "output_type": "execute_result"
    }
   ],
   "source": [
    "data1['Type of Crop'].value_counts()"
   ]
  },
  {
   "cell_type": "markdown",
   "id": "serious-buying",
   "metadata": {},
   "source": [
    "### analysing second data"
   ]
  },
  {
   "cell_type": "markdown",
   "id": "regular-bones",
   "metadata": {},
   "source": [
    "#### checking for null values"
   ]
  },
  {
   "cell_type": "code",
   "execution_count": 20,
   "id": "awful-equivalent",
   "metadata": {},
   "outputs": [
    {
     "data": {
      "text/plain": [
       "STATISTIC        0\n",
       "Statistic        0\n",
       "TLIST(A1)        0\n",
       "Year             0\n",
       "C02039V02469     0\n",
       "Type of Crop     0\n",
       "UNIT             0\n",
       "VALUE           69\n",
       "dtype: int64"
      ]
     },
     "execution_count": 20,
     "metadata": {},
     "output_type": "execute_result"
    }
   ],
   "source": [
    "data2.isnull().sum()"
   ]
  },
  {
   "cell_type": "markdown",
   "id": "located-triangle",
   "metadata": {},
   "source": [
    "#### description of data"
   ]
  },
  {
   "cell_type": "code",
   "execution_count": 21,
   "id": "stunning-miller",
   "metadata": {},
   "outputs": [
    {
     "data": {
      "text/plain": [
       "count    1104.000000\n",
       "mean      204.333062\n",
       "std       411.534975\n",
       "min         0.000000\n",
       "25%         7.100000\n",
       "50%        31.050000\n",
       "75%       158.425000\n",
       "max      2500.900000\n",
       "Name: VALUE, dtype: float64"
      ]
     },
     "execution_count": 21,
     "metadata": {},
     "output_type": "execute_result"
    }
   ],
   "source": [
    "data2['VALUE'].describe()"
   ]
  },
  {
   "cell_type": "markdown",
   "id": "similar-debate",
   "metadata": {},
   "source": [
    "#### exploring units and measurments"
   ]
  },
  {
   "cell_type": "code",
   "execution_count": 22,
   "id": "early-secondary",
   "metadata": {},
   "outputs": [
    {
     "data": {
      "text/plain": [
       "array(['000 Hectares', 'Tonnes', '000 Tonnes'], dtype=object)"
      ]
     },
     "execution_count": 22,
     "metadata": {},
     "output_type": "execute_result"
    }
   ],
   "source": [
    "data2['UNIT'].unique()"
   ]
  },
  {
   "cell_type": "code",
   "execution_count": 23,
   "id": "rocky-press",
   "metadata": {},
   "outputs": [
    {
     "data": {
      "text/plain": [
       "array(['Area under Crops', 'Crop Yield per Hectare', 'Crop Yield'],\n",
       "      dtype=object)"
      ]
     },
     "execution_count": 23,
     "metadata": {},
     "output_type": "execute_result"
    }
   ],
   "source": [
    "data2['Statistic'].unique()"
   ]
  },
  {
   "cell_type": "code",
   "execution_count": 24,
   "id": "mobile-acoustic",
   "metadata": {},
   "outputs": [
    {
     "data": {
      "text/plain": [
       "array(['000 Hectares'], dtype=object)"
      ]
     },
     "execution_count": 24,
     "metadata": {},
     "output_type": "execute_result"
    }
   ],
   "source": [
    "data2[data2['Statistic']=='Area under Crops']['UNIT'].unique()"
   ]
  },
  {
   "cell_type": "code",
   "execution_count": 25,
   "id": "agreed-serum",
   "metadata": {},
   "outputs": [
    {
     "data": {
      "text/plain": [
       "array(['Tonnes'], dtype=object)"
      ]
     },
     "execution_count": 25,
     "metadata": {},
     "output_type": "execute_result"
    }
   ],
   "source": [
    "data2[data2['Statistic']=='Crop Yield per Hectare']['UNIT'].unique()"
   ]
  },
  {
   "cell_type": "code",
   "execution_count": 26,
   "id": "laughing-necessity",
   "metadata": {},
   "outputs": [
    {
     "data": {
      "text/plain": [
       "array(['000 Tonnes'], dtype=object)"
      ]
     },
     "execution_count": 26,
     "metadata": {},
     "output_type": "execute_result"
    }
   ],
   "source": [
    "data2[data2['Statistic']=='Crop Yield']['UNIT'].unique()"
   ]
  },
  {
   "cell_type": "markdown",
   "id": "designing-brass",
   "metadata": {},
   "source": [
    "#### exploring year"
   ]
  },
  {
   "cell_type": "code",
   "execution_count": 27,
   "id": "driving-pension",
   "metadata": {},
   "outputs": [
    {
     "data": {
      "text/plain": [
       "1985"
      ]
     },
     "execution_count": 27,
     "metadata": {},
     "output_type": "execute_result"
    }
   ],
   "source": [
    "data2['Year'].min()"
   ]
  },
  {
   "cell_type": "code",
   "execution_count": 28,
   "id": "sized-climb",
   "metadata": {},
   "outputs": [
    {
     "data": {
      "text/plain": [
       "2007"
      ]
     },
     "execution_count": 28,
     "metadata": {},
     "output_type": "execute_result"
    }
   ],
   "source": [
    "data2['Year'].max()"
   ]
  },
  {
   "cell_type": "code",
   "execution_count": 29,
   "id": "french-patio",
   "metadata": {},
   "outputs": [
    {
     "data": {
      "text/plain": [
       "22"
      ]
     },
     "execution_count": 29,
     "metadata": {},
     "output_type": "execute_result"
    }
   ],
   "source": [
    "data2['Year'].max()-data2['Year'].min()"
   ]
  },
  {
   "cell_type": "code",
   "execution_count": 30,
   "id": "quarterly-going",
   "metadata": {},
   "outputs": [
    {
     "data": {
      "text/plain": [
       "1985    51\n",
       "1997    51\n",
       "2006    51\n",
       "2005    51\n",
       "2004    51\n",
       "2003    51\n",
       "2002    51\n",
       "2001    51\n",
       "2000    51\n",
       "1999    51\n",
       "1998    51\n",
       "1996    51\n",
       "1986    51\n",
       "1995    51\n",
       "1994    51\n",
       "1993    51\n",
       "1992    51\n",
       "1991    51\n",
       "1990    51\n",
       "1989    51\n",
       "1988    51\n",
       "1987    51\n",
       "2007    51\n",
       "Name: Year, dtype: int64"
      ]
     },
     "execution_count": 30,
     "metadata": {},
     "output_type": "execute_result"
    }
   ],
   "source": [
    "data2['Year'].value_counts()"
   ]
  },
  {
   "cell_type": "markdown",
   "id": "economic-listening",
   "metadata": {},
   "source": [
    "#### exploring type of crop"
   ]
  },
  {
   "cell_type": "code",
   "execution_count": 31,
   "id": "interracial-radiation",
   "metadata": {},
   "outputs": [
    {
     "data": {
      "text/plain": [
       "17"
      ]
     },
     "execution_count": 31,
     "metadata": {},
     "output_type": "execute_result"
    }
   ],
   "source": [
    "len(data2['Type of Crop'].unique())"
   ]
  },
  {
   "cell_type": "code",
   "execution_count": 32,
   "id": "micro-malta",
   "metadata": {},
   "outputs": [
    {
     "data": {
      "text/plain": [
       "Total wheat                     69\n",
       "Kale and field cabbage          69\n",
       "Winter oats                     69\n",
       "Spring wheat                    69\n",
       "Spring oats                     69\n",
       "Potatoes                        69\n",
       "Total oats                      69\n",
       "Beans and peas                  69\n",
       "Turnips                         69\n",
       "Fodder beet                     69\n",
       "Total barley                    69\n",
       "Winter barley                   69\n",
       "Winter wheat                    69\n",
       "Spring barley                   69\n",
       "Total wheat, oats and barley    69\n",
       "Oilseed rape                    69\n",
       "Sugar beet                      69\n",
       "Name: Type of Crop, dtype: int64"
      ]
     },
     "execution_count": 32,
     "metadata": {},
     "output_type": "execute_result"
    }
   ],
   "source": [
    "data2['Type of Crop'].value_counts()"
   ]
  },
  {
   "cell_type": "markdown",
   "id": "dated-boundary",
   "metadata": {},
   "source": [
    "#### lenth of records in each measurment"
   ]
  },
  {
   "cell_type": "code",
   "execution_count": 33,
   "id": "creative-wrist",
   "metadata": {},
   "outputs": [
    {
     "data": {
      "text/plain": [
       "391"
      ]
     },
     "execution_count": 33,
     "metadata": {},
     "output_type": "execute_result"
    }
   ],
   "source": [
    "len(data2[data2['Statistic']=='Area under Crops'])"
   ]
  },
  {
   "cell_type": "code",
   "execution_count": 34,
   "id": "distinct-catalog",
   "metadata": {},
   "outputs": [
    {
     "data": {
      "text/plain": [
       "391"
      ]
     },
     "execution_count": 34,
     "metadata": {},
     "output_type": "execute_result"
    }
   ],
   "source": [
    "len(data2[data2['Statistic']=='Crop Yield per Hectare'])"
   ]
  },
  {
   "cell_type": "code",
   "execution_count": 35,
   "id": "narrow-mother",
   "metadata": {},
   "outputs": [
    {
     "data": {
      "text/plain": [
       "391"
      ]
     },
     "execution_count": 35,
     "metadata": {},
     "output_type": "execute_result"
    }
   ],
   "source": [
    "len(data2[data2['Statistic']=='Crop Yield'])"
   ]
  },
  {
   "cell_type": "markdown",
   "id": "peripheral-forward",
   "metadata": {},
   "source": [
    "#### checking for equality"
   ]
  },
  {
   "cell_type": "code",
   "execution_count": 36,
   "id": "contained-aside",
   "metadata": {},
   "outputs": [
    {
     "data": {
      "text/html": [
       "<div>\n",
       "<style scoped>\n",
       "    .dataframe tbody tr th:only-of-type {\n",
       "        vertical-align: middle;\n",
       "    }\n",
       "\n",
       "    .dataframe tbody tr th {\n",
       "        vertical-align: top;\n",
       "    }\n",
       "\n",
       "    .dataframe thead th {\n",
       "        text-align: right;\n",
       "    }\n",
       "</style>\n",
       "<table border=\"1\" class=\"dataframe\">\n",
       "  <thead>\n",
       "    <tr style=\"text-align: right;\">\n",
       "      <th></th>\n",
       "      <th>STATISTIC</th>\n",
       "      <th>Statistic</th>\n",
       "      <th>TLIST(A1)</th>\n",
       "      <th>Year</th>\n",
       "      <th>C02039V02469</th>\n",
       "      <th>Type of Crop</th>\n",
       "      <th>UNIT</th>\n",
       "      <th>VALUE</th>\n",
       "    </tr>\n",
       "  </thead>\n",
       "  <tbody>\n",
       "    <tr>\n",
       "      <th>0</th>\n",
       "      <td>AQA04C1</td>\n",
       "      <td>Area under Crops</td>\n",
       "      <td>2008</td>\n",
       "      <td>2008</td>\n",
       "      <td>1</td>\n",
       "      <td>Total wheat, oats and barley</td>\n",
       "      <td>000 Hectares</td>\n",
       "      <td>320.7</td>\n",
       "    </tr>\n",
       "    <tr>\n",
       "      <th>1</th>\n",
       "      <td>AQA04C1</td>\n",
       "      <td>Area under Crops</td>\n",
       "      <td>2008</td>\n",
       "      <td>2008</td>\n",
       "      <td>11</td>\n",
       "      <td>Total wheat</td>\n",
       "      <td>000 Hectares</td>\n",
       "      <td>110.7</td>\n",
       "    </tr>\n",
       "    <tr>\n",
       "      <th>2</th>\n",
       "      <td>AQA04C1</td>\n",
       "      <td>Area under Crops</td>\n",
       "      <td>2008</td>\n",
       "      <td>2008</td>\n",
       "      <td>111</td>\n",
       "      <td>Winter wheat</td>\n",
       "      <td>000 Hectares</td>\n",
       "      <td>87.5</td>\n",
       "    </tr>\n",
       "    <tr>\n",
       "      <th>3</th>\n",
       "      <td>AQA04C1</td>\n",
       "      <td>Area under Crops</td>\n",
       "      <td>2008</td>\n",
       "      <td>2008</td>\n",
       "      <td>112</td>\n",
       "      <td>Spring wheat</td>\n",
       "      <td>000 Hectares</td>\n",
       "      <td>23.2</td>\n",
       "    </tr>\n",
       "    <tr>\n",
       "      <th>4</th>\n",
       "      <td>AQA04C1</td>\n",
       "      <td>Area under Crops</td>\n",
       "      <td>2008</td>\n",
       "      <td>2008</td>\n",
       "      <td>12</td>\n",
       "      <td>Total oats</td>\n",
       "      <td>000 Hectares</td>\n",
       "      <td>22.9</td>\n",
       "    </tr>\n",
       "  </tbody>\n",
       "</table>\n",
       "</div>"
      ],
      "text/plain": [
       "  STATISTIC         Statistic  TLIST(A1)  Year  C02039V02469  \\\n",
       "0   AQA04C1  Area under Crops       2008  2008             1   \n",
       "1   AQA04C1  Area under Crops       2008  2008            11   \n",
       "2   AQA04C1  Area under Crops       2008  2008           111   \n",
       "3   AQA04C1  Area under Crops       2008  2008           112   \n",
       "4   AQA04C1  Area under Crops       2008  2008            12   \n",
       "\n",
       "                   Type of Crop          UNIT  VALUE  \n",
       "0  Total wheat, oats and barley  000 Hectares  320.7  \n",
       "1                   Total wheat  000 Hectares  110.7  \n",
       "2                  Winter wheat  000 Hectares   87.5  \n",
       "3                  Spring wheat  000 Hectares   23.2  \n",
       "4                    Total oats  000 Hectares   22.9  "
      ]
     },
     "execution_count": 36,
     "metadata": {},
     "output_type": "execute_result"
    }
   ],
   "source": [
    "data1[data1['Statistic']=='Area under Crops'].head()"
   ]
  },
  {
   "cell_type": "code",
   "execution_count": 37,
   "id": "bizarre-canberra",
   "metadata": {},
   "outputs": [
    {
     "data": {
      "text/html": [
       "<div>\n",
       "<style scoped>\n",
       "    .dataframe tbody tr th:only-of-type {\n",
       "        vertical-align: middle;\n",
       "    }\n",
       "\n",
       "    .dataframe tbody tr th {\n",
       "        vertical-align: top;\n",
       "    }\n",
       "\n",
       "    .dataframe thead th {\n",
       "        text-align: right;\n",
       "    }\n",
       "</style>\n",
       "<table border=\"1\" class=\"dataframe\">\n",
       "  <thead>\n",
       "    <tr style=\"text-align: right;\">\n",
       "      <th></th>\n",
       "      <th>STATISTIC</th>\n",
       "      <th>Statistic</th>\n",
       "      <th>TLIST(A1)</th>\n",
       "      <th>Year</th>\n",
       "      <th>C02039V02469</th>\n",
       "      <th>Type of Crop</th>\n",
       "      <th>UNIT</th>\n",
       "      <th>VALUE</th>\n",
       "    </tr>\n",
       "  </thead>\n",
       "  <tbody>\n",
       "    <tr>\n",
       "      <th>182</th>\n",
       "      <td>AQA04C2</td>\n",
       "      <td>Crop Yield per Hectare</td>\n",
       "      <td>2008</td>\n",
       "      <td>2008</td>\n",
       "      <td>1</td>\n",
       "      <td>Total wheat, oats and barley</td>\n",
       "      <td>Tonnes</td>\n",
       "      <td>7.7</td>\n",
       "    </tr>\n",
       "    <tr>\n",
       "      <th>183</th>\n",
       "      <td>AQA04C2</td>\n",
       "      <td>Crop Yield per Hectare</td>\n",
       "      <td>2008</td>\n",
       "      <td>2008</td>\n",
       "      <td>11</td>\n",
       "      <td>Total wheat</td>\n",
       "      <td>Tonnes</td>\n",
       "      <td>9.0</td>\n",
       "    </tr>\n",
       "    <tr>\n",
       "      <th>184</th>\n",
       "      <td>AQA04C2</td>\n",
       "      <td>Crop Yield per Hectare</td>\n",
       "      <td>2008</td>\n",
       "      <td>2008</td>\n",
       "      <td>111</td>\n",
       "      <td>Winter wheat</td>\n",
       "      <td>Tonnes</td>\n",
       "      <td>9.6</td>\n",
       "    </tr>\n",
       "    <tr>\n",
       "      <th>185</th>\n",
       "      <td>AQA04C2</td>\n",
       "      <td>Crop Yield per Hectare</td>\n",
       "      <td>2008</td>\n",
       "      <td>2008</td>\n",
       "      <td>112</td>\n",
       "      <td>Spring wheat</td>\n",
       "      <td>Tonnes</td>\n",
       "      <td>6.6</td>\n",
       "    </tr>\n",
       "    <tr>\n",
       "      <th>186</th>\n",
       "      <td>AQA04C2</td>\n",
       "      <td>Crop Yield per Hectare</td>\n",
       "      <td>2008</td>\n",
       "      <td>2008</td>\n",
       "      <td>12</td>\n",
       "      <td>Total oats</td>\n",
       "      <td>Tonnes</td>\n",
       "      <td>7.6</td>\n",
       "    </tr>\n",
       "  </tbody>\n",
       "</table>\n",
       "</div>"
      ],
      "text/plain": [
       "    STATISTIC               Statistic  TLIST(A1)  Year  C02039V02469  \\\n",
       "182   AQA04C2  Crop Yield per Hectare       2008  2008             1   \n",
       "183   AQA04C2  Crop Yield per Hectare       2008  2008            11   \n",
       "184   AQA04C2  Crop Yield per Hectare       2008  2008           111   \n",
       "185   AQA04C2  Crop Yield per Hectare       2008  2008           112   \n",
       "186   AQA04C2  Crop Yield per Hectare       2008  2008            12   \n",
       "\n",
       "                     Type of Crop    UNIT  VALUE  \n",
       "182  Total wheat, oats and barley  Tonnes    7.7  \n",
       "183                   Total wheat  Tonnes    9.0  \n",
       "184                  Winter wheat  Tonnes    9.6  \n",
       "185                  Spring wheat  Tonnes    6.6  \n",
       "186                    Total oats  Tonnes    7.6  "
      ]
     },
     "execution_count": 37,
     "metadata": {},
     "output_type": "execute_result"
    }
   ],
   "source": [
    "data1[data1['Statistic']=='Crop Yield per Hectare'].head()"
   ]
  },
  {
   "cell_type": "code",
   "execution_count": 38,
   "id": "running-coordinate",
   "metadata": {},
   "outputs": [
    {
     "data": {
      "text/html": [
       "<div>\n",
       "<style scoped>\n",
       "    .dataframe tbody tr th:only-of-type {\n",
       "        vertical-align: middle;\n",
       "    }\n",
       "\n",
       "    .dataframe tbody tr th {\n",
       "        vertical-align: top;\n",
       "    }\n",
       "\n",
       "    .dataframe thead th {\n",
       "        text-align: right;\n",
       "    }\n",
       "</style>\n",
       "<table border=\"1\" class=\"dataframe\">\n",
       "  <thead>\n",
       "    <tr style=\"text-align: right;\">\n",
       "      <th></th>\n",
       "      <th>STATISTIC</th>\n",
       "      <th>Statistic</th>\n",
       "      <th>TLIST(A1)</th>\n",
       "      <th>Year</th>\n",
       "      <th>C02039V02469</th>\n",
       "      <th>Type of Crop</th>\n",
       "      <th>UNIT</th>\n",
       "      <th>VALUE</th>\n",
       "    </tr>\n",
       "  </thead>\n",
       "  <tbody>\n",
       "    <tr>\n",
       "      <th>364</th>\n",
       "      <td>AQA04C3</td>\n",
       "      <td>Crop Production</td>\n",
       "      <td>2008</td>\n",
       "      <td>2008</td>\n",
       "      <td>1</td>\n",
       "      <td>Total wheat, oats and barley</td>\n",
       "      <td>000 Tonnes</td>\n",
       "      <td>2461.3</td>\n",
       "    </tr>\n",
       "    <tr>\n",
       "      <th>365</th>\n",
       "      <td>AQA04C3</td>\n",
       "      <td>Crop Production</td>\n",
       "      <td>2008</td>\n",
       "      <td>2008</td>\n",
       "      <td>11</td>\n",
       "      <td>Total wheat</td>\n",
       "      <td>000 Tonnes</td>\n",
       "      <td>992.8</td>\n",
       "    </tr>\n",
       "    <tr>\n",
       "      <th>366</th>\n",
       "      <td>AQA04C3</td>\n",
       "      <td>Crop Production</td>\n",
       "      <td>2008</td>\n",
       "      <td>2008</td>\n",
       "      <td>111</td>\n",
       "      <td>Winter wheat</td>\n",
       "      <td>000 Tonnes</td>\n",
       "      <td>839.9</td>\n",
       "    </tr>\n",
       "    <tr>\n",
       "      <th>367</th>\n",
       "      <td>AQA04C3</td>\n",
       "      <td>Crop Production</td>\n",
       "      <td>2008</td>\n",
       "      <td>2008</td>\n",
       "      <td>112</td>\n",
       "      <td>Spring wheat</td>\n",
       "      <td>000 Tonnes</td>\n",
       "      <td>153.0</td>\n",
       "    </tr>\n",
       "    <tr>\n",
       "      <th>368</th>\n",
       "      <td>AQA04C3</td>\n",
       "      <td>Crop Production</td>\n",
       "      <td>2008</td>\n",
       "      <td>2008</td>\n",
       "      <td>12</td>\n",
       "      <td>Total oats</td>\n",
       "      <td>000 Tonnes</td>\n",
       "      <td>174.3</td>\n",
       "    </tr>\n",
       "  </tbody>\n",
       "</table>\n",
       "</div>"
      ],
      "text/plain": [
       "    STATISTIC        Statistic  TLIST(A1)  Year  C02039V02469  \\\n",
       "364   AQA04C3  Crop Production       2008  2008             1   \n",
       "365   AQA04C3  Crop Production       2008  2008            11   \n",
       "366   AQA04C3  Crop Production       2008  2008           111   \n",
       "367   AQA04C3  Crop Production       2008  2008           112   \n",
       "368   AQA04C3  Crop Production       2008  2008            12   \n",
       "\n",
       "                     Type of Crop        UNIT   VALUE  \n",
       "364  Total wheat, oats and barley  000 Tonnes  2461.3  \n",
       "365                   Total wheat  000 Tonnes   992.8  \n",
       "366                  Winter wheat  000 Tonnes   839.9  \n",
       "367                  Spring wheat  000 Tonnes   153.0  \n",
       "368                    Total oats  000 Tonnes   174.3  "
      ]
     },
     "execution_count": 38,
     "metadata": {},
     "output_type": "execute_result"
    }
   ],
   "source": [
    "data1[data1['Statistic']=='Crop Production'].head()"
   ]
  },
  {
   "cell_type": "code",
   "execution_count": 39,
   "id": "analyzed-combining",
   "metadata": {},
   "outputs": [
    {
     "data": {
      "text/html": [
       "<div>\n",
       "<style scoped>\n",
       "    .dataframe tbody tr th:only-of-type {\n",
       "        vertical-align: middle;\n",
       "    }\n",
       "\n",
       "    .dataframe tbody tr th {\n",
       "        vertical-align: top;\n",
       "    }\n",
       "\n",
       "    .dataframe thead th {\n",
       "        text-align: right;\n",
       "    }\n",
       "</style>\n",
       "<table border=\"1\" class=\"dataframe\">\n",
       "  <thead>\n",
       "    <tr style=\"text-align: right;\">\n",
       "      <th></th>\n",
       "      <th>STATISTIC</th>\n",
       "      <th>Statistic</th>\n",
       "      <th>TLIST(A1)</th>\n",
       "      <th>Year</th>\n",
       "      <th>C02039V02469</th>\n",
       "      <th>Type of Crop</th>\n",
       "      <th>UNIT</th>\n",
       "      <th>VALUE</th>\n",
       "    </tr>\n",
       "  </thead>\n",
       "  <tbody>\n",
       "    <tr>\n",
       "      <th>0</th>\n",
       "      <td>AQA03C1</td>\n",
       "      <td>Area under Crops</td>\n",
       "      <td>1985</td>\n",
       "      <td>1985</td>\n",
       "      <td>1</td>\n",
       "      <td>Total wheat, oats and barley</td>\n",
       "      <td>000 Hectares</td>\n",
       "      <td>386.2</td>\n",
       "    </tr>\n",
       "    <tr>\n",
       "      <th>1</th>\n",
       "      <td>AQA03C1</td>\n",
       "      <td>Area under Crops</td>\n",
       "      <td>1985</td>\n",
       "      <td>1985</td>\n",
       "      <td>11</td>\n",
       "      <td>Total wheat</td>\n",
       "      <td>000 Hectares</td>\n",
       "      <td>77.7</td>\n",
       "    </tr>\n",
       "    <tr>\n",
       "      <th>2</th>\n",
       "      <td>AQA03C1</td>\n",
       "      <td>Area under Crops</td>\n",
       "      <td>1985</td>\n",
       "      <td>1985</td>\n",
       "      <td>111</td>\n",
       "      <td>Winter wheat</td>\n",
       "      <td>000 Hectares</td>\n",
       "      <td>60.3</td>\n",
       "    </tr>\n",
       "    <tr>\n",
       "      <th>3</th>\n",
       "      <td>AQA03C1</td>\n",
       "      <td>Area under Crops</td>\n",
       "      <td>1985</td>\n",
       "      <td>1985</td>\n",
       "      <td>112</td>\n",
       "      <td>Spring wheat</td>\n",
       "      <td>000 Hectares</td>\n",
       "      <td>17.4</td>\n",
       "    </tr>\n",
       "    <tr>\n",
       "      <th>4</th>\n",
       "      <td>AQA03C1</td>\n",
       "      <td>Area under Crops</td>\n",
       "      <td>1985</td>\n",
       "      <td>1985</td>\n",
       "      <td>12</td>\n",
       "      <td>Total oats</td>\n",
       "      <td>000 Hectares</td>\n",
       "      <td>24.9</td>\n",
       "    </tr>\n",
       "  </tbody>\n",
       "</table>\n",
       "</div>"
      ],
      "text/plain": [
       "  STATISTIC         Statistic  TLIST(A1)  Year  C02039V02469  \\\n",
       "0   AQA03C1  Area under Crops       1985  1985             1   \n",
       "1   AQA03C1  Area under Crops       1985  1985            11   \n",
       "2   AQA03C1  Area under Crops       1985  1985           111   \n",
       "3   AQA03C1  Area under Crops       1985  1985           112   \n",
       "4   AQA03C1  Area under Crops       1985  1985            12   \n",
       "\n",
       "                   Type of Crop          UNIT  VALUE  \n",
       "0  Total wheat, oats and barley  000 Hectares  386.2  \n",
       "1                   Total wheat  000 Hectares   77.7  \n",
       "2                  Winter wheat  000 Hectares   60.3  \n",
       "3                  Spring wheat  000 Hectares   17.4  \n",
       "4                    Total oats  000 Hectares   24.9  "
      ]
     },
     "execution_count": 39,
     "metadata": {},
     "output_type": "execute_result"
    }
   ],
   "source": [
    "data2[data2['Statistic']=='Area under Crops'].head()"
   ]
  },
  {
   "cell_type": "code",
   "execution_count": 40,
   "id": "several-nursery",
   "metadata": {},
   "outputs": [
    {
     "data": {
      "text/html": [
       "<div>\n",
       "<style scoped>\n",
       "    .dataframe tbody tr th:only-of-type {\n",
       "        vertical-align: middle;\n",
       "    }\n",
       "\n",
       "    .dataframe tbody tr th {\n",
       "        vertical-align: top;\n",
       "    }\n",
       "\n",
       "    .dataframe thead th {\n",
       "        text-align: right;\n",
       "    }\n",
       "</style>\n",
       "<table border=\"1\" class=\"dataframe\">\n",
       "  <thead>\n",
       "    <tr style=\"text-align: right;\">\n",
       "      <th></th>\n",
       "      <th>STATISTIC</th>\n",
       "      <th>Statistic</th>\n",
       "      <th>TLIST(A1)</th>\n",
       "      <th>Year</th>\n",
       "      <th>C02039V02469</th>\n",
       "      <th>Type of Crop</th>\n",
       "      <th>UNIT</th>\n",
       "      <th>VALUE</th>\n",
       "    </tr>\n",
       "  </thead>\n",
       "  <tbody>\n",
       "    <tr>\n",
       "      <th>391</th>\n",
       "      <td>AQA03C2</td>\n",
       "      <td>Crop Yield per Hectare</td>\n",
       "      <td>1985</td>\n",
       "      <td>1985</td>\n",
       "      <td>1</td>\n",
       "      <td>Total wheat, oats and barley</td>\n",
       "      <td>Tonnes</td>\n",
       "      <td>5.1</td>\n",
       "    </tr>\n",
       "    <tr>\n",
       "      <th>392</th>\n",
       "      <td>AQA03C2</td>\n",
       "      <td>Crop Yield per Hectare</td>\n",
       "      <td>1985</td>\n",
       "      <td>1985</td>\n",
       "      <td>11</td>\n",
       "      <td>Total wheat</td>\n",
       "      <td>Tonnes</td>\n",
       "      <td>6.4</td>\n",
       "    </tr>\n",
       "    <tr>\n",
       "      <th>393</th>\n",
       "      <td>AQA03C2</td>\n",
       "      <td>Crop Yield per Hectare</td>\n",
       "      <td>1985</td>\n",
       "      <td>1985</td>\n",
       "      <td>111</td>\n",
       "      <td>Winter wheat</td>\n",
       "      <td>Tonnes</td>\n",
       "      <td>6.5</td>\n",
       "    </tr>\n",
       "    <tr>\n",
       "      <th>394</th>\n",
       "      <td>AQA03C2</td>\n",
       "      <td>Crop Yield per Hectare</td>\n",
       "      <td>1985</td>\n",
       "      <td>1985</td>\n",
       "      <td>112</td>\n",
       "      <td>Spring wheat</td>\n",
       "      <td>Tonnes</td>\n",
       "      <td>5.8</td>\n",
       "    </tr>\n",
       "    <tr>\n",
       "      <th>395</th>\n",
       "      <td>AQA03C2</td>\n",
       "      <td>Crop Yield per Hectare</td>\n",
       "      <td>1985</td>\n",
       "      <td>1985</td>\n",
       "      <td>12</td>\n",
       "      <td>Total oats</td>\n",
       "      <td>Tonnes</td>\n",
       "      <td>5.1</td>\n",
       "    </tr>\n",
       "  </tbody>\n",
       "</table>\n",
       "</div>"
      ],
      "text/plain": [
       "    STATISTIC               Statistic  TLIST(A1)  Year  C02039V02469  \\\n",
       "391   AQA03C2  Crop Yield per Hectare       1985  1985             1   \n",
       "392   AQA03C2  Crop Yield per Hectare       1985  1985            11   \n",
       "393   AQA03C2  Crop Yield per Hectare       1985  1985           111   \n",
       "394   AQA03C2  Crop Yield per Hectare       1985  1985           112   \n",
       "395   AQA03C2  Crop Yield per Hectare       1985  1985            12   \n",
       "\n",
       "                     Type of Crop    UNIT  VALUE  \n",
       "391  Total wheat, oats and barley  Tonnes    5.1  \n",
       "392                   Total wheat  Tonnes    6.4  \n",
       "393                  Winter wheat  Tonnes    6.5  \n",
       "394                  Spring wheat  Tonnes    5.8  \n",
       "395                    Total oats  Tonnes    5.1  "
      ]
     },
     "execution_count": 40,
     "metadata": {},
     "output_type": "execute_result"
    }
   ],
   "source": [
    "data2[data2['Statistic']=='Crop Yield per Hectare'].head()"
   ]
  },
  {
   "cell_type": "code",
   "execution_count": 41,
   "id": "civic-maine",
   "metadata": {},
   "outputs": [
    {
     "data": {
      "text/html": [
       "<div>\n",
       "<style scoped>\n",
       "    .dataframe tbody tr th:only-of-type {\n",
       "        vertical-align: middle;\n",
       "    }\n",
       "\n",
       "    .dataframe tbody tr th {\n",
       "        vertical-align: top;\n",
       "    }\n",
       "\n",
       "    .dataframe thead th {\n",
       "        text-align: right;\n",
       "    }\n",
       "</style>\n",
       "<table border=\"1\" class=\"dataframe\">\n",
       "  <thead>\n",
       "    <tr style=\"text-align: right;\">\n",
       "      <th></th>\n",
       "      <th>STATISTIC</th>\n",
       "      <th>Statistic</th>\n",
       "      <th>TLIST(A1)</th>\n",
       "      <th>Year</th>\n",
       "      <th>C02039V02469</th>\n",
       "      <th>Type of Crop</th>\n",
       "      <th>UNIT</th>\n",
       "      <th>VALUE</th>\n",
       "    </tr>\n",
       "  </thead>\n",
       "  <tbody>\n",
       "    <tr>\n",
       "      <th>782</th>\n",
       "      <td>AQA03C3</td>\n",
       "      <td>Crop Yield</td>\n",
       "      <td>1985</td>\n",
       "      <td>1985</td>\n",
       "      <td>1</td>\n",
       "      <td>Total wheat, oats and barley</td>\n",
       "      <td>000 Tonnes</td>\n",
       "      <td>1986.0</td>\n",
       "    </tr>\n",
       "    <tr>\n",
       "      <th>783</th>\n",
       "      <td>AQA03C3</td>\n",
       "      <td>Crop Yield</td>\n",
       "      <td>1985</td>\n",
       "      <td>1985</td>\n",
       "      <td>11</td>\n",
       "      <td>Total wheat</td>\n",
       "      <td>000 Tonnes</td>\n",
       "      <td>495.0</td>\n",
       "    </tr>\n",
       "    <tr>\n",
       "      <th>784</th>\n",
       "      <td>AQA03C3</td>\n",
       "      <td>Crop Yield</td>\n",
       "      <td>1985</td>\n",
       "      <td>1985</td>\n",
       "      <td>111</td>\n",
       "      <td>Winter wheat</td>\n",
       "      <td>000 Tonnes</td>\n",
       "      <td>395.0</td>\n",
       "    </tr>\n",
       "    <tr>\n",
       "      <th>785</th>\n",
       "      <td>AQA03C3</td>\n",
       "      <td>Crop Yield</td>\n",
       "      <td>1985</td>\n",
       "      <td>1985</td>\n",
       "      <td>112</td>\n",
       "      <td>Spring wheat</td>\n",
       "      <td>000 Tonnes</td>\n",
       "      <td>100.0</td>\n",
       "    </tr>\n",
       "    <tr>\n",
       "      <th>786</th>\n",
       "      <td>AQA03C3</td>\n",
       "      <td>Crop Yield</td>\n",
       "      <td>1985</td>\n",
       "      <td>1985</td>\n",
       "      <td>12</td>\n",
       "      <td>Total oats</td>\n",
       "      <td>000 Tonnes</td>\n",
       "      <td>126.0</td>\n",
       "    </tr>\n",
       "  </tbody>\n",
       "</table>\n",
       "</div>"
      ],
      "text/plain": [
       "    STATISTIC   Statistic  TLIST(A1)  Year  C02039V02469  \\\n",
       "782   AQA03C3  Crop Yield       1985  1985             1   \n",
       "783   AQA03C3  Crop Yield       1985  1985            11   \n",
       "784   AQA03C3  Crop Yield       1985  1985           111   \n",
       "785   AQA03C3  Crop Yield       1985  1985           112   \n",
       "786   AQA03C3  Crop Yield       1985  1985            12   \n",
       "\n",
       "                     Type of Crop        UNIT   VALUE  \n",
       "782  Total wheat, oats and barley  000 Tonnes  1986.0  \n",
       "783                   Total wheat  000 Tonnes   495.0  \n",
       "784                  Winter wheat  000 Tonnes   395.0  \n",
       "785                  Spring wheat  000 Tonnes   100.0  \n",
       "786                    Total oats  000 Tonnes   126.0  "
      ]
     },
     "execution_count": 41,
     "metadata": {},
     "output_type": "execute_result"
    }
   ],
   "source": [
    "data2[data2['Statistic']=='Crop Yield'].head()"
   ]
  },
  {
   "cell_type": "markdown",
   "id": "pursuant-jordan",
   "metadata": {},
   "source": [
    "## data preparation"
   ]
  },
  {
   "cell_type": "markdown",
   "id": "northern-artwork",
   "metadata": {},
   "source": [
    "#### concatenate two datasets"
   ]
  },
  {
   "cell_type": "code",
   "execution_count": 42,
   "id": "loose-scheduling",
   "metadata": {},
   "outputs": [
    {
     "data": {
      "text/html": [
       "<div>\n",
       "<style scoped>\n",
       "    .dataframe tbody tr th:only-of-type {\n",
       "        vertical-align: middle;\n",
       "    }\n",
       "\n",
       "    .dataframe tbody tr th {\n",
       "        vertical-align: top;\n",
       "    }\n",
       "\n",
       "    .dataframe thead th {\n",
       "        text-align: right;\n",
       "    }\n",
       "</style>\n",
       "<table border=\"1\" class=\"dataframe\">\n",
       "  <thead>\n",
       "    <tr style=\"text-align: right;\">\n",
       "      <th></th>\n",
       "      <th>STATISTIC</th>\n",
       "      <th>Statistic</th>\n",
       "      <th>TLIST(A1)</th>\n",
       "      <th>Year</th>\n",
       "      <th>C02039V02469</th>\n",
       "      <th>Type of Crop</th>\n",
       "      <th>UNIT</th>\n",
       "      <th>VALUE</th>\n",
       "    </tr>\n",
       "  </thead>\n",
       "  <tbody>\n",
       "    <tr>\n",
       "      <th>0</th>\n",
       "      <td>AQA04C1</td>\n",
       "      <td>Area under Crops</td>\n",
       "      <td>2008</td>\n",
       "      <td>2008</td>\n",
       "      <td>1</td>\n",
       "      <td>Total wheat, oats and barley</td>\n",
       "      <td>000 Hectares</td>\n",
       "      <td>320.7</td>\n",
       "    </tr>\n",
       "    <tr>\n",
       "      <th>1</th>\n",
       "      <td>AQA04C1</td>\n",
       "      <td>Area under Crops</td>\n",
       "      <td>2008</td>\n",
       "      <td>2008</td>\n",
       "      <td>11</td>\n",
       "      <td>Total wheat</td>\n",
       "      <td>000 Hectares</td>\n",
       "      <td>110.7</td>\n",
       "    </tr>\n",
       "    <tr>\n",
       "      <th>2</th>\n",
       "      <td>AQA04C1</td>\n",
       "      <td>Area under Crops</td>\n",
       "      <td>2008</td>\n",
       "      <td>2008</td>\n",
       "      <td>111</td>\n",
       "      <td>Winter wheat</td>\n",
       "      <td>000 Hectares</td>\n",
       "      <td>87.5</td>\n",
       "    </tr>\n",
       "    <tr>\n",
       "      <th>3</th>\n",
       "      <td>AQA04C1</td>\n",
       "      <td>Area under Crops</td>\n",
       "      <td>2008</td>\n",
       "      <td>2008</td>\n",
       "      <td>112</td>\n",
       "      <td>Spring wheat</td>\n",
       "      <td>000 Hectares</td>\n",
       "      <td>23.2</td>\n",
       "    </tr>\n",
       "    <tr>\n",
       "      <th>4</th>\n",
       "      <td>AQA04C1</td>\n",
       "      <td>Area under Crops</td>\n",
       "      <td>2008</td>\n",
       "      <td>2008</td>\n",
       "      <td>12</td>\n",
       "      <td>Total oats</td>\n",
       "      <td>000 Hectares</td>\n",
       "      <td>22.9</td>\n",
       "    </tr>\n",
       "    <tr>\n",
       "      <th>...</th>\n",
       "      <td>...</td>\n",
       "      <td>...</td>\n",
       "      <td>...</td>\n",
       "      <td>...</td>\n",
       "      <td>...</td>\n",
       "      <td>...</td>\n",
       "      <td>...</td>\n",
       "      <td>...</td>\n",
       "    </tr>\n",
       "    <tr>\n",
       "      <th>1714</th>\n",
       "      <td>AQA03C3</td>\n",
       "      <td>Crop Yield</td>\n",
       "      <td>2007</td>\n",
       "      <td>2007</td>\n",
       "      <td>4</td>\n",
       "      <td>Potatoes</td>\n",
       "      <td>000 Tonnes</td>\n",
       "      <td>399.0</td>\n",
       "    </tr>\n",
       "    <tr>\n",
       "      <th>1715</th>\n",
       "      <td>AQA03C3</td>\n",
       "      <td>Crop Yield</td>\n",
       "      <td>2007</td>\n",
       "      <td>2007</td>\n",
       "      <td>5</td>\n",
       "      <td>Turnips</td>\n",
       "      <td>000 Tonnes</td>\n",
       "      <td>NaN</td>\n",
       "    </tr>\n",
       "    <tr>\n",
       "      <th>1716</th>\n",
       "      <td>AQA03C3</td>\n",
       "      <td>Crop Yield</td>\n",
       "      <td>2007</td>\n",
       "      <td>2007</td>\n",
       "      <td>61</td>\n",
       "      <td>Sugar beet</td>\n",
       "      <td>000 Tonnes</td>\n",
       "      <td>NaN</td>\n",
       "    </tr>\n",
       "    <tr>\n",
       "      <th>1717</th>\n",
       "      <td>AQA03C3</td>\n",
       "      <td>Crop Yield</td>\n",
       "      <td>2007</td>\n",
       "      <td>2007</td>\n",
       "      <td>62</td>\n",
       "      <td>Fodder beet</td>\n",
       "      <td>000 Tonnes</td>\n",
       "      <td>NaN</td>\n",
       "    </tr>\n",
       "    <tr>\n",
       "      <th>1718</th>\n",
       "      <td>AQA03C3</td>\n",
       "      <td>Crop Yield</td>\n",
       "      <td>2007</td>\n",
       "      <td>2007</td>\n",
       "      <td>7</td>\n",
       "      <td>Kale and field cabbage</td>\n",
       "      <td>000 Tonnes</td>\n",
       "      <td>NaN</td>\n",
       "    </tr>\n",
       "  </tbody>\n",
       "</table>\n",
       "<p>1719 rows × 8 columns</p>\n",
       "</div>"
      ],
      "text/plain": [
       "     STATISTIC         Statistic  TLIST(A1)  Year  C02039V02469  \\\n",
       "0      AQA04C1  Area under Crops       2008  2008             1   \n",
       "1      AQA04C1  Area under Crops       2008  2008            11   \n",
       "2      AQA04C1  Area under Crops       2008  2008           111   \n",
       "3      AQA04C1  Area under Crops       2008  2008           112   \n",
       "4      AQA04C1  Area under Crops       2008  2008            12   \n",
       "...        ...               ...        ...   ...           ...   \n",
       "1714   AQA03C3        Crop Yield       2007  2007             4   \n",
       "1715   AQA03C3        Crop Yield       2007  2007             5   \n",
       "1716   AQA03C3        Crop Yield       2007  2007            61   \n",
       "1717   AQA03C3        Crop Yield       2007  2007            62   \n",
       "1718   AQA03C3        Crop Yield       2007  2007             7   \n",
       "\n",
       "                      Type of Crop          UNIT  VALUE  \n",
       "0     Total wheat, oats and barley  000 Hectares  320.7  \n",
       "1                      Total wheat  000 Hectares  110.7  \n",
       "2                     Winter wheat  000 Hectares   87.5  \n",
       "3                     Spring wheat  000 Hectares   23.2  \n",
       "4                       Total oats  000 Hectares   22.9  \n",
       "...                            ...           ...    ...  \n",
       "1714                      Potatoes    000 Tonnes  399.0  \n",
       "1715                       Turnips    000 Tonnes    NaN  \n",
       "1716                    Sugar beet    000 Tonnes    NaN  \n",
       "1717                   Fodder beet    000 Tonnes    NaN  \n",
       "1718        Kale and field cabbage    000 Tonnes    NaN  \n",
       "\n",
       "[1719 rows x 8 columns]"
      ]
     },
     "execution_count": 42,
     "metadata": {},
     "output_type": "execute_result"
    }
   ],
   "source": [
    "data=pd.concat([data1,data2],axis=0).reset_index(drop=True)\n",
    "data"
   ]
  },
  {
   "cell_type": "code",
   "execution_count": 43,
   "id": "blond-homeless",
   "metadata": {},
   "outputs": [
    {
     "data": {
      "text/plain": [
       "(1719, 8)"
      ]
     },
     "execution_count": 43,
     "metadata": {},
     "output_type": "execute_result"
    }
   ],
   "source": [
    "data.shape"
   ]
  },
  {
   "cell_type": "markdown",
   "id": "corrected-instrument",
   "metadata": {},
   "source": [
    "The hectare is a non-SI metric unit of area equal to a square with 100-metre sides (1 hm2), or 10,000 m2, and is primarily used in the measurement of land."
   ]
  },
  {
   "cell_type": "markdown",
   "id": "rotary-apollo",
   "metadata": {},
   "source": [
    "#### craeting area dataframe"
   ]
  },
  {
   "cell_type": "code",
   "execution_count": 44,
   "id": "sufficient-retirement",
   "metadata": {},
   "outputs": [
    {
     "data": {
      "text/html": [
       "<div>\n",
       "<style scoped>\n",
       "    .dataframe tbody tr th:only-of-type {\n",
       "        vertical-align: middle;\n",
       "    }\n",
       "\n",
       "    .dataframe tbody tr th {\n",
       "        vertical-align: top;\n",
       "    }\n",
       "\n",
       "    .dataframe thead th {\n",
       "        text-align: right;\n",
       "    }\n",
       "</style>\n",
       "<table border=\"1\" class=\"dataframe\">\n",
       "  <thead>\n",
       "    <tr style=\"text-align: right;\">\n",
       "      <th></th>\n",
       "      <th>STATISTIC</th>\n",
       "      <th>Statistic</th>\n",
       "      <th>TLIST(A1)</th>\n",
       "      <th>Year</th>\n",
       "      <th>C02039V02469</th>\n",
       "      <th>Type of Crop</th>\n",
       "      <th>UNIT</th>\n",
       "      <th>VALUE</th>\n",
       "    </tr>\n",
       "  </thead>\n",
       "  <tbody>\n",
       "    <tr>\n",
       "      <th>0</th>\n",
       "      <td>AQA04C1</td>\n",
       "      <td>Area under Crops</td>\n",
       "      <td>2008</td>\n",
       "      <td>2008</td>\n",
       "      <td>1</td>\n",
       "      <td>Total wheat, oats and barley</td>\n",
       "      <td>000 Hectares</td>\n",
       "      <td>320.7</td>\n",
       "    </tr>\n",
       "    <tr>\n",
       "      <th>1</th>\n",
       "      <td>AQA04C1</td>\n",
       "      <td>Area under Crops</td>\n",
       "      <td>2008</td>\n",
       "      <td>2008</td>\n",
       "      <td>11</td>\n",
       "      <td>Total wheat</td>\n",
       "      <td>000 Hectares</td>\n",
       "      <td>110.7</td>\n",
       "    </tr>\n",
       "    <tr>\n",
       "      <th>2</th>\n",
       "      <td>AQA04C1</td>\n",
       "      <td>Area under Crops</td>\n",
       "      <td>2008</td>\n",
       "      <td>2008</td>\n",
       "      <td>111</td>\n",
       "      <td>Winter wheat</td>\n",
       "      <td>000 Hectares</td>\n",
       "      <td>87.5</td>\n",
       "    </tr>\n",
       "    <tr>\n",
       "      <th>3</th>\n",
       "      <td>AQA04C1</td>\n",
       "      <td>Area under Crops</td>\n",
       "      <td>2008</td>\n",
       "      <td>2008</td>\n",
       "      <td>112</td>\n",
       "      <td>Spring wheat</td>\n",
       "      <td>000 Hectares</td>\n",
       "      <td>23.2</td>\n",
       "    </tr>\n",
       "    <tr>\n",
       "      <th>4</th>\n",
       "      <td>AQA04C1</td>\n",
       "      <td>Area under Crops</td>\n",
       "      <td>2008</td>\n",
       "      <td>2008</td>\n",
       "      <td>12</td>\n",
       "      <td>Total oats</td>\n",
       "      <td>000 Hectares</td>\n",
       "      <td>22.9</td>\n",
       "    </tr>\n",
       "    <tr>\n",
       "      <th>...</th>\n",
       "      <td>...</td>\n",
       "      <td>...</td>\n",
       "      <td>...</td>\n",
       "      <td>...</td>\n",
       "      <td>...</td>\n",
       "      <td>...</td>\n",
       "      <td>...</td>\n",
       "      <td>...</td>\n",
       "    </tr>\n",
       "    <tr>\n",
       "      <th>932</th>\n",
       "      <td>AQA03C1</td>\n",
       "      <td>Area under Crops</td>\n",
       "      <td>2007</td>\n",
       "      <td>2007</td>\n",
       "      <td>4</td>\n",
       "      <td>Potatoes</td>\n",
       "      <td>000 Hectares</td>\n",
       "      <td>11.7</td>\n",
       "    </tr>\n",
       "    <tr>\n",
       "      <th>933</th>\n",
       "      <td>AQA03C1</td>\n",
       "      <td>Area under Crops</td>\n",
       "      <td>2007</td>\n",
       "      <td>2007</td>\n",
       "      <td>5</td>\n",
       "      <td>Turnips</td>\n",
       "      <td>000 Hectares</td>\n",
       "      <td>NaN</td>\n",
       "    </tr>\n",
       "    <tr>\n",
       "      <th>934</th>\n",
       "      <td>AQA03C1</td>\n",
       "      <td>Area under Crops</td>\n",
       "      <td>2007</td>\n",
       "      <td>2007</td>\n",
       "      <td>61</td>\n",
       "      <td>Sugar beet</td>\n",
       "      <td>000 Hectares</td>\n",
       "      <td>NaN</td>\n",
       "    </tr>\n",
       "    <tr>\n",
       "      <th>935</th>\n",
       "      <td>AQA03C1</td>\n",
       "      <td>Area under Crops</td>\n",
       "      <td>2007</td>\n",
       "      <td>2007</td>\n",
       "      <td>62</td>\n",
       "      <td>Fodder beet</td>\n",
       "      <td>000 Hectares</td>\n",
       "      <td>NaN</td>\n",
       "    </tr>\n",
       "    <tr>\n",
       "      <th>936</th>\n",
       "      <td>AQA03C1</td>\n",
       "      <td>Area under Crops</td>\n",
       "      <td>2007</td>\n",
       "      <td>2007</td>\n",
       "      <td>7</td>\n",
       "      <td>Kale and field cabbage</td>\n",
       "      <td>000 Hectares</td>\n",
       "      <td>NaN</td>\n",
       "    </tr>\n",
       "  </tbody>\n",
       "</table>\n",
       "<p>573 rows × 8 columns</p>\n",
       "</div>"
      ],
      "text/plain": [
       "    STATISTIC         Statistic  TLIST(A1)  Year  C02039V02469  \\\n",
       "0     AQA04C1  Area under Crops       2008  2008             1   \n",
       "1     AQA04C1  Area under Crops       2008  2008            11   \n",
       "2     AQA04C1  Area under Crops       2008  2008           111   \n",
       "3     AQA04C1  Area under Crops       2008  2008           112   \n",
       "4     AQA04C1  Area under Crops       2008  2008            12   \n",
       "..        ...               ...        ...   ...           ...   \n",
       "932   AQA03C1  Area under Crops       2007  2007             4   \n",
       "933   AQA03C1  Area under Crops       2007  2007             5   \n",
       "934   AQA03C1  Area under Crops       2007  2007            61   \n",
       "935   AQA03C1  Area under Crops       2007  2007            62   \n",
       "936   AQA03C1  Area under Crops       2007  2007             7   \n",
       "\n",
       "                     Type of Crop          UNIT  VALUE  \n",
       "0    Total wheat, oats and barley  000 Hectares  320.7  \n",
       "1                     Total wheat  000 Hectares  110.7  \n",
       "2                    Winter wheat  000 Hectares   87.5  \n",
       "3                    Spring wheat  000 Hectares   23.2  \n",
       "4                      Total oats  000 Hectares   22.9  \n",
       "..                            ...           ...    ...  \n",
       "932                      Potatoes  000 Hectares   11.7  \n",
       "933                       Turnips  000 Hectares    NaN  \n",
       "934                    Sugar beet  000 Hectares    NaN  \n",
       "935                   Fodder beet  000 Hectares    NaN  \n",
       "936        Kale and field cabbage  000 Hectares    NaN  \n",
       "\n",
       "[573 rows x 8 columns]"
      ]
     },
     "execution_count": 44,
     "metadata": {},
     "output_type": "execute_result"
    }
   ],
   "source": [
    "Area=data[data['Statistic']=='Area under Crops']\n",
    "Area"
   ]
  },
  {
   "cell_type": "markdown",
   "id": "pharmaceutical-tulsa",
   "metadata": {},
   "source": [
    "#### creating Crop_Yield_per_Hectare dataset"
   ]
  },
  {
   "cell_type": "code",
   "execution_count": 45,
   "id": "governmental-processor",
   "metadata": {},
   "outputs": [
    {
     "data": {
      "text/html": [
       "<div>\n",
       "<style scoped>\n",
       "    .dataframe tbody tr th:only-of-type {\n",
       "        vertical-align: middle;\n",
       "    }\n",
       "\n",
       "    .dataframe tbody tr th {\n",
       "        vertical-align: top;\n",
       "    }\n",
       "\n",
       "    .dataframe thead th {\n",
       "        text-align: right;\n",
       "    }\n",
       "</style>\n",
       "<table border=\"1\" class=\"dataframe\">\n",
       "  <thead>\n",
       "    <tr style=\"text-align: right;\">\n",
       "      <th></th>\n",
       "      <th>STATISTIC</th>\n",
       "      <th>Statistic</th>\n",
       "      <th>TLIST(A1)</th>\n",
       "      <th>Year</th>\n",
       "      <th>C02039V02469</th>\n",
       "      <th>Type of Crop</th>\n",
       "      <th>UNIT</th>\n",
       "      <th>VALUE</th>\n",
       "    </tr>\n",
       "  </thead>\n",
       "  <tbody>\n",
       "    <tr>\n",
       "      <th>182</th>\n",
       "      <td>AQA04C2</td>\n",
       "      <td>Crop Yield per Hectare</td>\n",
       "      <td>2008</td>\n",
       "      <td>2008</td>\n",
       "      <td>1</td>\n",
       "      <td>Total wheat, oats and barley</td>\n",
       "      <td>Tonnes</td>\n",
       "      <td>7.7</td>\n",
       "    </tr>\n",
       "    <tr>\n",
       "      <th>183</th>\n",
       "      <td>AQA04C2</td>\n",
       "      <td>Crop Yield per Hectare</td>\n",
       "      <td>2008</td>\n",
       "      <td>2008</td>\n",
       "      <td>11</td>\n",
       "      <td>Total wheat</td>\n",
       "      <td>Tonnes</td>\n",
       "      <td>9.0</td>\n",
       "    </tr>\n",
       "    <tr>\n",
       "      <th>184</th>\n",
       "      <td>AQA04C2</td>\n",
       "      <td>Crop Yield per Hectare</td>\n",
       "      <td>2008</td>\n",
       "      <td>2008</td>\n",
       "      <td>111</td>\n",
       "      <td>Winter wheat</td>\n",
       "      <td>Tonnes</td>\n",
       "      <td>9.6</td>\n",
       "    </tr>\n",
       "    <tr>\n",
       "      <th>185</th>\n",
       "      <td>AQA04C2</td>\n",
       "      <td>Crop Yield per Hectare</td>\n",
       "      <td>2008</td>\n",
       "      <td>2008</td>\n",
       "      <td>112</td>\n",
       "      <td>Spring wheat</td>\n",
       "      <td>Tonnes</td>\n",
       "      <td>6.6</td>\n",
       "    </tr>\n",
       "    <tr>\n",
       "      <th>186</th>\n",
       "      <td>AQA04C2</td>\n",
       "      <td>Crop Yield per Hectare</td>\n",
       "      <td>2008</td>\n",
       "      <td>2008</td>\n",
       "      <td>12</td>\n",
       "      <td>Total oats</td>\n",
       "      <td>Tonnes</td>\n",
       "      <td>7.6</td>\n",
       "    </tr>\n",
       "    <tr>\n",
       "      <th>...</th>\n",
       "      <td>...</td>\n",
       "      <td>...</td>\n",
       "      <td>...</td>\n",
       "      <td>...</td>\n",
       "      <td>...</td>\n",
       "      <td>...</td>\n",
       "      <td>...</td>\n",
       "      <td>...</td>\n",
       "    </tr>\n",
       "    <tr>\n",
       "      <th>1323</th>\n",
       "      <td>AQA03C2</td>\n",
       "      <td>Crop Yield per Hectare</td>\n",
       "      <td>2007</td>\n",
       "      <td>2007</td>\n",
       "      <td>4</td>\n",
       "      <td>Potatoes</td>\n",
       "      <td>Tonnes</td>\n",
       "      <td>34.0</td>\n",
       "    </tr>\n",
       "    <tr>\n",
       "      <th>1324</th>\n",
       "      <td>AQA03C2</td>\n",
       "      <td>Crop Yield per Hectare</td>\n",
       "      <td>2007</td>\n",
       "      <td>2007</td>\n",
       "      <td>5</td>\n",
       "      <td>Turnips</td>\n",
       "      <td>Tonnes</td>\n",
       "      <td>NaN</td>\n",
       "    </tr>\n",
       "    <tr>\n",
       "      <th>1325</th>\n",
       "      <td>AQA03C2</td>\n",
       "      <td>Crop Yield per Hectare</td>\n",
       "      <td>2007</td>\n",
       "      <td>2007</td>\n",
       "      <td>61</td>\n",
       "      <td>Sugar beet</td>\n",
       "      <td>Tonnes</td>\n",
       "      <td>NaN</td>\n",
       "    </tr>\n",
       "    <tr>\n",
       "      <th>1326</th>\n",
       "      <td>AQA03C2</td>\n",
       "      <td>Crop Yield per Hectare</td>\n",
       "      <td>2007</td>\n",
       "      <td>2007</td>\n",
       "      <td>62</td>\n",
       "      <td>Fodder beet</td>\n",
       "      <td>Tonnes</td>\n",
       "      <td>NaN</td>\n",
       "    </tr>\n",
       "    <tr>\n",
       "      <th>1327</th>\n",
       "      <td>AQA03C2</td>\n",
       "      <td>Crop Yield per Hectare</td>\n",
       "      <td>2007</td>\n",
       "      <td>2007</td>\n",
       "      <td>7</td>\n",
       "      <td>Kale and field cabbage</td>\n",
       "      <td>Tonnes</td>\n",
       "      <td>NaN</td>\n",
       "    </tr>\n",
       "  </tbody>\n",
       "</table>\n",
       "<p>573 rows × 8 columns</p>\n",
       "</div>"
      ],
      "text/plain": [
       "     STATISTIC               Statistic  TLIST(A1)  Year  C02039V02469  \\\n",
       "182    AQA04C2  Crop Yield per Hectare       2008  2008             1   \n",
       "183    AQA04C2  Crop Yield per Hectare       2008  2008            11   \n",
       "184    AQA04C2  Crop Yield per Hectare       2008  2008           111   \n",
       "185    AQA04C2  Crop Yield per Hectare       2008  2008           112   \n",
       "186    AQA04C2  Crop Yield per Hectare       2008  2008            12   \n",
       "...        ...                     ...        ...   ...           ...   \n",
       "1323   AQA03C2  Crop Yield per Hectare       2007  2007             4   \n",
       "1324   AQA03C2  Crop Yield per Hectare       2007  2007             5   \n",
       "1325   AQA03C2  Crop Yield per Hectare       2007  2007            61   \n",
       "1326   AQA03C2  Crop Yield per Hectare       2007  2007            62   \n",
       "1327   AQA03C2  Crop Yield per Hectare       2007  2007             7   \n",
       "\n",
       "                      Type of Crop    UNIT  VALUE  \n",
       "182   Total wheat, oats and barley  Tonnes    7.7  \n",
       "183                    Total wheat  Tonnes    9.0  \n",
       "184                   Winter wheat  Tonnes    9.6  \n",
       "185                   Spring wheat  Tonnes    6.6  \n",
       "186                     Total oats  Tonnes    7.6  \n",
       "...                            ...     ...    ...  \n",
       "1323                      Potatoes  Tonnes   34.0  \n",
       "1324                       Turnips  Tonnes    NaN  \n",
       "1325                    Sugar beet  Tonnes    NaN  \n",
       "1326                   Fodder beet  Tonnes    NaN  \n",
       "1327        Kale and field cabbage  Tonnes    NaN  \n",
       "\n",
       "[573 rows x 8 columns]"
      ]
     },
     "execution_count": 45,
     "metadata": {},
     "output_type": "execute_result"
    }
   ],
   "source": [
    "Crop_Yield_per_Hectare=data[data['Statistic']=='Crop Yield per Hectare']\n",
    "Crop_Yield_per_Hectare"
   ]
  },
  {
   "cell_type": "code",
   "execution_count": 46,
   "id": "velvet-puppy",
   "metadata": {},
   "outputs": [
    {
     "data": {
      "text/plain": [
       "array(['Area under Crops', 'Crop Yield per Hectare', 'Crop Production',\n",
       "       'Crop Yield'], dtype=object)"
      ]
     },
     "execution_count": 46,
     "metadata": {},
     "output_type": "execute_result"
    }
   ],
   "source": [
    "data['Statistic'].unique()"
   ]
  },
  {
   "cell_type": "markdown",
   "id": "described-choice",
   "metadata": {},
   "source": [
    "#### replace Crop Yield value with Crop Production"
   ]
  },
  {
   "cell_type": "code",
   "execution_count": 47,
   "id": "rising-container",
   "metadata": {},
   "outputs": [],
   "source": [
    "data['Statistic']=data['Statistic'].replace(['Crop Yield'],['Crop Production'])"
   ]
  },
  {
   "cell_type": "markdown",
   "id": "suspected-factory",
   "metadata": {},
   "source": [
    "#### craeting dataframe for crop production"
   ]
  },
  {
   "cell_type": "code",
   "execution_count": 48,
   "id": "comprehensive-banner",
   "metadata": {},
   "outputs": [
    {
     "data": {
      "text/html": [
       "<div>\n",
       "<style scoped>\n",
       "    .dataframe tbody tr th:only-of-type {\n",
       "        vertical-align: middle;\n",
       "    }\n",
       "\n",
       "    .dataframe tbody tr th {\n",
       "        vertical-align: top;\n",
       "    }\n",
       "\n",
       "    .dataframe thead th {\n",
       "        text-align: right;\n",
       "    }\n",
       "</style>\n",
       "<table border=\"1\" class=\"dataframe\">\n",
       "  <thead>\n",
       "    <tr style=\"text-align: right;\">\n",
       "      <th></th>\n",
       "      <th>STATISTIC</th>\n",
       "      <th>Statistic</th>\n",
       "      <th>TLIST(A1)</th>\n",
       "      <th>Year</th>\n",
       "      <th>C02039V02469</th>\n",
       "      <th>Type of Crop</th>\n",
       "      <th>UNIT</th>\n",
       "      <th>VALUE</th>\n",
       "    </tr>\n",
       "  </thead>\n",
       "  <tbody>\n",
       "    <tr>\n",
       "      <th>364</th>\n",
       "      <td>AQA04C3</td>\n",
       "      <td>Crop Production</td>\n",
       "      <td>2008</td>\n",
       "      <td>2008</td>\n",
       "      <td>1</td>\n",
       "      <td>Total wheat, oats and barley</td>\n",
       "      <td>000 Tonnes</td>\n",
       "      <td>2461.3</td>\n",
       "    </tr>\n",
       "    <tr>\n",
       "      <th>365</th>\n",
       "      <td>AQA04C3</td>\n",
       "      <td>Crop Production</td>\n",
       "      <td>2008</td>\n",
       "      <td>2008</td>\n",
       "      <td>11</td>\n",
       "      <td>Total wheat</td>\n",
       "      <td>000 Tonnes</td>\n",
       "      <td>992.8</td>\n",
       "    </tr>\n",
       "    <tr>\n",
       "      <th>366</th>\n",
       "      <td>AQA04C3</td>\n",
       "      <td>Crop Production</td>\n",
       "      <td>2008</td>\n",
       "      <td>2008</td>\n",
       "      <td>111</td>\n",
       "      <td>Winter wheat</td>\n",
       "      <td>000 Tonnes</td>\n",
       "      <td>839.9</td>\n",
       "    </tr>\n",
       "    <tr>\n",
       "      <th>367</th>\n",
       "      <td>AQA04C3</td>\n",
       "      <td>Crop Production</td>\n",
       "      <td>2008</td>\n",
       "      <td>2008</td>\n",
       "      <td>112</td>\n",
       "      <td>Spring wheat</td>\n",
       "      <td>000 Tonnes</td>\n",
       "      <td>153.0</td>\n",
       "    </tr>\n",
       "    <tr>\n",
       "      <th>368</th>\n",
       "      <td>AQA04C3</td>\n",
       "      <td>Crop Production</td>\n",
       "      <td>2008</td>\n",
       "      <td>2008</td>\n",
       "      <td>12</td>\n",
       "      <td>Total oats</td>\n",
       "      <td>000 Tonnes</td>\n",
       "      <td>174.3</td>\n",
       "    </tr>\n",
       "    <tr>\n",
       "      <th>...</th>\n",
       "      <td>...</td>\n",
       "      <td>...</td>\n",
       "      <td>...</td>\n",
       "      <td>...</td>\n",
       "      <td>...</td>\n",
       "      <td>...</td>\n",
       "      <td>...</td>\n",
       "      <td>...</td>\n",
       "    </tr>\n",
       "    <tr>\n",
       "      <th>1714</th>\n",
       "      <td>AQA03C3</td>\n",
       "      <td>Crop Production</td>\n",
       "      <td>2007</td>\n",
       "      <td>2007</td>\n",
       "      <td>4</td>\n",
       "      <td>Potatoes</td>\n",
       "      <td>000 Tonnes</td>\n",
       "      <td>399.0</td>\n",
       "    </tr>\n",
       "    <tr>\n",
       "      <th>1715</th>\n",
       "      <td>AQA03C3</td>\n",
       "      <td>Crop Production</td>\n",
       "      <td>2007</td>\n",
       "      <td>2007</td>\n",
       "      <td>5</td>\n",
       "      <td>Turnips</td>\n",
       "      <td>000 Tonnes</td>\n",
       "      <td>NaN</td>\n",
       "    </tr>\n",
       "    <tr>\n",
       "      <th>1716</th>\n",
       "      <td>AQA03C3</td>\n",
       "      <td>Crop Production</td>\n",
       "      <td>2007</td>\n",
       "      <td>2007</td>\n",
       "      <td>61</td>\n",
       "      <td>Sugar beet</td>\n",
       "      <td>000 Tonnes</td>\n",
       "      <td>NaN</td>\n",
       "    </tr>\n",
       "    <tr>\n",
       "      <th>1717</th>\n",
       "      <td>AQA03C3</td>\n",
       "      <td>Crop Production</td>\n",
       "      <td>2007</td>\n",
       "      <td>2007</td>\n",
       "      <td>62</td>\n",
       "      <td>Fodder beet</td>\n",
       "      <td>000 Tonnes</td>\n",
       "      <td>NaN</td>\n",
       "    </tr>\n",
       "    <tr>\n",
       "      <th>1718</th>\n",
       "      <td>AQA03C3</td>\n",
       "      <td>Crop Production</td>\n",
       "      <td>2007</td>\n",
       "      <td>2007</td>\n",
       "      <td>7</td>\n",
       "      <td>Kale and field cabbage</td>\n",
       "      <td>000 Tonnes</td>\n",
       "      <td>NaN</td>\n",
       "    </tr>\n",
       "  </tbody>\n",
       "</table>\n",
       "<p>573 rows × 8 columns</p>\n",
       "</div>"
      ],
      "text/plain": [
       "     STATISTIC        Statistic  TLIST(A1)  Year  C02039V02469  \\\n",
       "364    AQA04C3  Crop Production       2008  2008             1   \n",
       "365    AQA04C3  Crop Production       2008  2008            11   \n",
       "366    AQA04C3  Crop Production       2008  2008           111   \n",
       "367    AQA04C3  Crop Production       2008  2008           112   \n",
       "368    AQA04C3  Crop Production       2008  2008            12   \n",
       "...        ...              ...        ...   ...           ...   \n",
       "1714   AQA03C3  Crop Production       2007  2007             4   \n",
       "1715   AQA03C3  Crop Production       2007  2007             5   \n",
       "1716   AQA03C3  Crop Production       2007  2007            61   \n",
       "1717   AQA03C3  Crop Production       2007  2007            62   \n",
       "1718   AQA03C3  Crop Production       2007  2007             7   \n",
       "\n",
       "                      Type of Crop        UNIT   VALUE  \n",
       "364   Total wheat, oats and barley  000 Tonnes  2461.3  \n",
       "365                    Total wheat  000 Tonnes   992.8  \n",
       "366                   Winter wheat  000 Tonnes   839.9  \n",
       "367                   Spring wheat  000 Tonnes   153.0  \n",
       "368                     Total oats  000 Tonnes   174.3  \n",
       "...                            ...         ...     ...  \n",
       "1714                      Potatoes  000 Tonnes   399.0  \n",
       "1715                       Turnips  000 Tonnes     NaN  \n",
       "1716                    Sugar beet  000 Tonnes     NaN  \n",
       "1717                   Fodder beet  000 Tonnes     NaN  \n",
       "1718        Kale and field cabbage  000 Tonnes     NaN  \n",
       "\n",
       "[573 rows x 8 columns]"
      ]
     },
     "execution_count": 48,
     "metadata": {},
     "output_type": "execute_result"
    }
   ],
   "source": [
    "crop_production=data[data['Statistic']=='Crop Production']\n",
    "crop_production"
   ]
  },
  {
   "cell_type": "markdown",
   "id": "caring-planet",
   "metadata": {},
   "source": [
    "#### creating a dataframe from area"
   ]
  },
  {
   "cell_type": "code",
   "execution_count": 49,
   "id": "narrow-lemon",
   "metadata": {},
   "outputs": [
    {
     "data": {
      "text/html": [
       "<div>\n",
       "<style scoped>\n",
       "    .dataframe tbody tr th:only-of-type {\n",
       "        vertical-align: middle;\n",
       "    }\n",
       "\n",
       "    .dataframe tbody tr th {\n",
       "        vertical-align: top;\n",
       "    }\n",
       "\n",
       "    .dataframe thead th {\n",
       "        text-align: right;\n",
       "    }\n",
       "</style>\n",
       "<table border=\"1\" class=\"dataframe\">\n",
       "  <thead>\n",
       "    <tr style=\"text-align: right;\">\n",
       "      <th></th>\n",
       "      <th>Year</th>\n",
       "      <th>C02039V02469</th>\n",
       "      <th>Type of Crop</th>\n",
       "    </tr>\n",
       "  </thead>\n",
       "  <tbody>\n",
       "    <tr>\n",
       "      <th>0</th>\n",
       "      <td>2008</td>\n",
       "      <td>1</td>\n",
       "      <td>Total wheat, oats and barley</td>\n",
       "    </tr>\n",
       "    <tr>\n",
       "      <th>1</th>\n",
       "      <td>2008</td>\n",
       "      <td>11</td>\n",
       "      <td>Total wheat</td>\n",
       "    </tr>\n",
       "    <tr>\n",
       "      <th>2</th>\n",
       "      <td>2008</td>\n",
       "      <td>111</td>\n",
       "      <td>Winter wheat</td>\n",
       "    </tr>\n",
       "    <tr>\n",
       "      <th>3</th>\n",
       "      <td>2008</td>\n",
       "      <td>112</td>\n",
       "      <td>Spring wheat</td>\n",
       "    </tr>\n",
       "    <tr>\n",
       "      <th>4</th>\n",
       "      <td>2008</td>\n",
       "      <td>12</td>\n",
       "      <td>Total oats</td>\n",
       "    </tr>\n",
       "    <tr>\n",
       "      <th>...</th>\n",
       "      <td>...</td>\n",
       "      <td>...</td>\n",
       "      <td>...</td>\n",
       "    </tr>\n",
       "    <tr>\n",
       "      <th>932</th>\n",
       "      <td>2007</td>\n",
       "      <td>4</td>\n",
       "      <td>Potatoes</td>\n",
       "    </tr>\n",
       "    <tr>\n",
       "      <th>933</th>\n",
       "      <td>2007</td>\n",
       "      <td>5</td>\n",
       "      <td>Turnips</td>\n",
       "    </tr>\n",
       "    <tr>\n",
       "      <th>934</th>\n",
       "      <td>2007</td>\n",
       "      <td>61</td>\n",
       "      <td>Sugar beet</td>\n",
       "    </tr>\n",
       "    <tr>\n",
       "      <th>935</th>\n",
       "      <td>2007</td>\n",
       "      <td>62</td>\n",
       "      <td>Fodder beet</td>\n",
       "    </tr>\n",
       "    <tr>\n",
       "      <th>936</th>\n",
       "      <td>2007</td>\n",
       "      <td>7</td>\n",
       "      <td>Kale and field cabbage</td>\n",
       "    </tr>\n",
       "  </tbody>\n",
       "</table>\n",
       "<p>573 rows × 3 columns</p>\n",
       "</div>"
      ],
      "text/plain": [
       "     Year  C02039V02469                  Type of Crop\n",
       "0    2008             1  Total wheat, oats and barley\n",
       "1    2008            11                   Total wheat\n",
       "2    2008           111                  Winter wheat\n",
       "3    2008           112                  Spring wheat\n",
       "4    2008            12                    Total oats\n",
       "..    ...           ...                           ...\n",
       "932  2007             4                      Potatoes\n",
       "933  2007             5                       Turnips\n",
       "934  2007            61                    Sugar beet\n",
       "935  2007            62                   Fodder beet\n",
       "936  2007             7        Kale and field cabbage\n",
       "\n",
       "[573 rows x 3 columns]"
      ]
     },
     "execution_count": 49,
     "metadata": {},
     "output_type": "execute_result"
    }
   ],
   "source": [
    "df=Area[['Year','C02039V02469','Type of Crop']]\n",
    "df"
   ]
  },
  {
   "cell_type": "markdown",
   "id": "relevant-messenger",
   "metadata": {},
   "source": [
    "#### making three new features Area_under_Crops_Hectares,Crop_Yield_per_Hectare_in_Tonnes and crop_production_in_Tonnes"
   ]
  },
  {
   "cell_type": "code",
   "execution_count": 50,
   "id": "assured-heart",
   "metadata": {},
   "outputs": [],
   "source": [
    "df['Area_under_Crops_Hectares']=list(Area['VALUE'])\n",
    "df['Crop_Yield_per_Hectare_in_Tonnes']=list(Crop_Yield_per_Hectare['VALUE'])\n",
    "df['crop_production_in_Tonnes']=list(crop_production['VALUE'])"
   ]
  },
  {
   "cell_type": "code",
   "execution_count": 51,
   "id": "ongoing-brief",
   "metadata": {},
   "outputs": [
    {
     "data": {
      "text/html": [
       "<div>\n",
       "<style scoped>\n",
       "    .dataframe tbody tr th:only-of-type {\n",
       "        vertical-align: middle;\n",
       "    }\n",
       "\n",
       "    .dataframe tbody tr th {\n",
       "        vertical-align: top;\n",
       "    }\n",
       "\n",
       "    .dataframe thead th {\n",
       "        text-align: right;\n",
       "    }\n",
       "</style>\n",
       "<table border=\"1\" class=\"dataframe\">\n",
       "  <thead>\n",
       "    <tr style=\"text-align: right;\">\n",
       "      <th></th>\n",
       "      <th>Year</th>\n",
       "      <th>C02039V02469</th>\n",
       "      <th>Type of Crop</th>\n",
       "      <th>Area_under_Crops_Hectares</th>\n",
       "      <th>Crop_Yield_per_Hectare_in_Tonnes</th>\n",
       "      <th>crop_production_in_Tonnes</th>\n",
       "    </tr>\n",
       "  </thead>\n",
       "  <tbody>\n",
       "    <tr>\n",
       "      <th>0</th>\n",
       "      <td>2008</td>\n",
       "      <td>1</td>\n",
       "      <td>Total wheat, oats and barley</td>\n",
       "      <td>320.7</td>\n",
       "      <td>7.7</td>\n",
       "      <td>2461.3</td>\n",
       "    </tr>\n",
       "    <tr>\n",
       "      <th>1</th>\n",
       "      <td>2008</td>\n",
       "      <td>11</td>\n",
       "      <td>Total wheat</td>\n",
       "      <td>110.7</td>\n",
       "      <td>9.0</td>\n",
       "      <td>992.8</td>\n",
       "    </tr>\n",
       "    <tr>\n",
       "      <th>2</th>\n",
       "      <td>2008</td>\n",
       "      <td>111</td>\n",
       "      <td>Winter wheat</td>\n",
       "      <td>87.5</td>\n",
       "      <td>9.6</td>\n",
       "      <td>839.9</td>\n",
       "    </tr>\n",
       "    <tr>\n",
       "      <th>3</th>\n",
       "      <td>2008</td>\n",
       "      <td>112</td>\n",
       "      <td>Spring wheat</td>\n",
       "      <td>23.2</td>\n",
       "      <td>6.6</td>\n",
       "      <td>153.0</td>\n",
       "    </tr>\n",
       "    <tr>\n",
       "      <th>4</th>\n",
       "      <td>2008</td>\n",
       "      <td>12</td>\n",
       "      <td>Total oats</td>\n",
       "      <td>22.9</td>\n",
       "      <td>7.6</td>\n",
       "      <td>174.3</td>\n",
       "    </tr>\n",
       "    <tr>\n",
       "      <th>...</th>\n",
       "      <td>...</td>\n",
       "      <td>...</td>\n",
       "      <td>...</td>\n",
       "      <td>...</td>\n",
       "      <td>...</td>\n",
       "      <td>...</td>\n",
       "    </tr>\n",
       "    <tr>\n",
       "      <th>932</th>\n",
       "      <td>2007</td>\n",
       "      <td>4</td>\n",
       "      <td>Potatoes</td>\n",
       "      <td>11.7</td>\n",
       "      <td>34.0</td>\n",
       "      <td>399.0</td>\n",
       "    </tr>\n",
       "    <tr>\n",
       "      <th>933</th>\n",
       "      <td>2007</td>\n",
       "      <td>5</td>\n",
       "      <td>Turnips</td>\n",
       "      <td>NaN</td>\n",
       "      <td>NaN</td>\n",
       "      <td>NaN</td>\n",
       "    </tr>\n",
       "    <tr>\n",
       "      <th>934</th>\n",
       "      <td>2007</td>\n",
       "      <td>61</td>\n",
       "      <td>Sugar beet</td>\n",
       "      <td>NaN</td>\n",
       "      <td>NaN</td>\n",
       "      <td>NaN</td>\n",
       "    </tr>\n",
       "    <tr>\n",
       "      <th>935</th>\n",
       "      <td>2007</td>\n",
       "      <td>62</td>\n",
       "      <td>Fodder beet</td>\n",
       "      <td>NaN</td>\n",
       "      <td>NaN</td>\n",
       "      <td>NaN</td>\n",
       "    </tr>\n",
       "    <tr>\n",
       "      <th>936</th>\n",
       "      <td>2007</td>\n",
       "      <td>7</td>\n",
       "      <td>Kale and field cabbage</td>\n",
       "      <td>NaN</td>\n",
       "      <td>NaN</td>\n",
       "      <td>NaN</td>\n",
       "    </tr>\n",
       "  </tbody>\n",
       "</table>\n",
       "<p>573 rows × 6 columns</p>\n",
       "</div>"
      ],
      "text/plain": [
       "     Year  C02039V02469                  Type of Crop  \\\n",
       "0    2008             1  Total wheat, oats and barley   \n",
       "1    2008            11                   Total wheat   \n",
       "2    2008           111                  Winter wheat   \n",
       "3    2008           112                  Spring wheat   \n",
       "4    2008            12                    Total oats   \n",
       "..    ...           ...                           ...   \n",
       "932  2007             4                      Potatoes   \n",
       "933  2007             5                       Turnips   \n",
       "934  2007            61                    Sugar beet   \n",
       "935  2007            62                   Fodder beet   \n",
       "936  2007             7        Kale and field cabbage   \n",
       "\n",
       "     Area_under_Crops_Hectares  Crop_Yield_per_Hectare_in_Tonnes  \\\n",
       "0                        320.7                               7.7   \n",
       "1                        110.7                               9.0   \n",
       "2                         87.5                               9.6   \n",
       "3                         23.2                               6.6   \n",
       "4                         22.9                               7.6   \n",
       "..                         ...                               ...   \n",
       "932                       11.7                              34.0   \n",
       "933                        NaN                               NaN   \n",
       "934                        NaN                               NaN   \n",
       "935                        NaN                               NaN   \n",
       "936                        NaN                               NaN   \n",
       "\n",
       "     crop_production_in_Tonnes  \n",
       "0                       2461.3  \n",
       "1                        992.8  \n",
       "2                        839.9  \n",
       "3                        153.0  \n",
       "4                        174.3  \n",
       "..                         ...  \n",
       "932                      399.0  \n",
       "933                        NaN  \n",
       "934                        NaN  \n",
       "935                        NaN  \n",
       "936                        NaN  \n",
       "\n",
       "[573 rows x 6 columns]"
      ]
     },
     "execution_count": 51,
     "metadata": {},
     "output_type": "execute_result"
    }
   ],
   "source": [
    "df"
   ]
  },
  {
   "cell_type": "markdown",
   "id": "working-father",
   "metadata": {},
   "source": [
    "### data cleaning"
   ]
  },
  {
   "cell_type": "markdown",
   "id": "quick-dubai",
   "metadata": {},
   "source": [
    "#### checking for null values"
   ]
  },
  {
   "cell_type": "code",
   "execution_count": 52,
   "id": "tribal-disco",
   "metadata": {},
   "outputs": [
    {
     "data": {
      "text/plain": [
       "Year                                 0\n",
       "C02039V02469                         0\n",
       "Type of Crop                         0\n",
       "Area_under_Crops_Hectares           23\n",
       "Crop_Yield_per_Hectare_in_Tonnes    23\n",
       "crop_production_in_Tonnes           23\n",
       "dtype: int64"
      ]
     },
     "execution_count": 52,
     "metadata": {},
     "output_type": "execute_result"
    }
   ],
   "source": [
    "df.isnull().sum()"
   ]
  },
  {
   "cell_type": "markdown",
   "id": "approved-present",
   "metadata": {},
   "source": [
    "#### removing null values"
   ]
  },
  {
   "cell_type": "code",
   "execution_count": 53,
   "id": "bright-crash",
   "metadata": {},
   "outputs": [
    {
     "data": {
      "text/plain": [
       "(550, 6)"
      ]
     },
     "execution_count": 53,
     "metadata": {},
     "output_type": "execute_result"
    }
   ],
   "source": [
    "df=df.dropna()\n",
    "df.shape"
   ]
  },
  {
   "cell_type": "markdown",
   "id": "hawaiian-cause",
   "metadata": {},
   "source": [
    "#### craeting a new structured csv file"
   ]
  },
  {
   "cell_type": "code",
   "execution_count": 54,
   "id": "divided-terror",
   "metadata": {},
   "outputs": [],
   "source": [
    "df.to_csv('crop_production_modified.csv', index=None)"
   ]
  },
  {
   "cell_type": "markdown",
   "id": "homeless-hearts",
   "metadata": {},
   "source": [
    "#### correalation"
   ]
  },
  {
   "cell_type": "code",
   "execution_count": 55,
   "id": "comparable-paraguay",
   "metadata": {},
   "outputs": [
    {
     "data": {
      "text/plain": [
       "Year                                0.029505\n",
       "C02039V02469                       -0.202705\n",
       "Area_under_Crops_Hectares           0.881368\n",
       "Crop_Yield_per_Hectare_in_Tonnes    0.073780\n",
       "crop_production_in_Tonnes           1.000000\n",
       "Name: crop_production_in_Tonnes, dtype: float64"
      ]
     },
     "execution_count": 55,
     "metadata": {},
     "output_type": "execute_result"
    }
   ],
   "source": [
    "df.corr()['crop_production_in_Tonnes']"
   ]
  },
  {
   "cell_type": "markdown",
   "id": "frank-carolina",
   "metadata": {},
   "source": [
    "#### heatmap of correlation"
   ]
  },
  {
   "cell_type": "code",
   "execution_count": 56,
   "id": "engaged-toyota",
   "metadata": {},
   "outputs": [
    {
     "data": {
      "image/png": "[encoded data removed]",
      "text/plain": [
       "<Figure size 720x720 with 2 Axes>"
      ]
     },
     "metadata": {},
     "output_type": "display_data"
    }
   ],
   "source": [
    "# Finds correlation between Independent and dependent attributes\n",
    "plt.figure(figsize = (10,10))\n",
    "sns.heatmap(df.corr(), annot = True, cmap = \"RdYlGn\")\n",
    "plt.show()"
   ]
  },
  {
   "cell_type": "markdown",
   "id": "exciting-numbers",
   "metadata": {},
   "source": [
    "#### one hot encoding"
   ]
  },
  {
   "cell_type": "code",
   "execution_count": 57,
   "id": "healthy-berry",
   "metadata": {},
   "outputs": [],
   "source": [
    "df=pd.get_dummies(df, columns = [\"Type of Crop\"],drop_first=True, prefix=\"crop_\")"
   ]
  },
  {
   "cell_type": "code",
   "execution_count": 58,
   "id": "technical-respect",
   "metadata": {},
   "outputs": [
    {
     "data": {
      "text/plain": [
       "(550, 21)"
      ]
     },
     "execution_count": 58,
     "metadata": {},
     "output_type": "execute_result"
    }
   ],
   "source": [
    "df.shape"
   ]
  },
  {
   "cell_type": "code",
   "execution_count": 59,
   "id": "pursuant-richmond",
   "metadata": {},
   "outputs": [
    {
     "data": {
      "text/plain": [
       "Index(['Year', 'C02039V02469', 'Area_under_Crops_Hectares',\n",
       "       'Crop_Yield_per_Hectare_in_Tonnes', 'crop_production_in_Tonnes',\n",
       "       'crop__Fodder beet', 'crop__Kale and field cabbage',\n",
       "       'crop__Oilseed rape', 'crop__Potatoes', 'crop__Spring barley',\n",
       "       'crop__Spring oats', 'crop__Spring wheat', 'crop__Sugar beet',\n",
       "       'crop__Total barley', 'crop__Total oats', 'crop__Total wheat',\n",
       "       'crop__Total wheat, oats and barley', 'crop__Turnips',\n",
       "       'crop__Winter barley', 'crop__Winter oats', 'crop__Winter wheat'],\n",
       "      dtype='object')"
      ]
     },
     "execution_count": 59,
     "metadata": {},
     "output_type": "execute_result"
    }
   ],
   "source": [
    "df.columns"
   ]
  },
  {
   "cell_type": "code",
   "execution_count": 61,
   "id": "adverse-tourism",
   "metadata": {},
   "outputs": [
    {
     "data": {
      "text/plain": [
       "Year                                  0.029505\n",
       "C02039V02469                         -0.202705\n",
       "Area_under_Crops_Hectares             0.881368\n",
       "Crop_Yield_per_Hectare_in_Tonnes      0.073780\n",
       "crop_production_in_Tonnes             1.000000\n",
       "crop__Fodder beet                    -0.015861\n",
       "crop__Kale and field cabbage         -0.110180\n",
       "crop__Oilseed rape                   -0.232303\n",
       "crop__Potatoes                       -0.029825\n",
       "crop__Spring barley                   0.197427\n",
       "crop__Spring oats                    -0.212494\n",
       "crop__Spring wheat                   -0.183041\n",
       "crop__Sugar beet                      0.308836\n",
       "crop__Total barley                    0.330904\n",
       "crop__Total oats                     -0.175033\n",
       "crop__Total wheat                     0.053183\n",
       "crop__Total wheat, oats and barley    0.692950\n",
       "crop__Turnips                        -0.073375\n",
       "crop__Winter barley                  -0.108488\n",
       "crop__Winter oats                    -0.204503\n",
       "crop__Winter wheat                   -0.005759\n",
       "Name: crop_production_in_Tonnes, dtype: float64"
      ]
     },
     "execution_count": 61,
     "metadata": {},
     "output_type": "execute_result"
    }
   ],
   "source": [
    "df.corr()['crop_production_in_Tonnes']"
   ]
  },
  {
   "cell_type": "code",
   "execution_count": 65,
   "id": "genetic-morocco",
   "metadata": {},
   "outputs": [],
   "source": [
    "df.to_csv('crop_production_predictionML.csv', index=None)"
   ]
  },
  {
   "cell_type": "code",
   "execution_count": null,
   "id": "charitable-ribbon",
   "metadata": {},
   "outputs": [],
   "source": []
  }
 ],
 "metadata": {
  "kernelspec": {
   "display_name": "Python 3",
   "language": "python",
   "name": "python3"
  },
  "language_info": {
   "codemirror_mode": {
    "name": "ipython",
    "version": 3
   },
   "file_extension": ".py",
   "mimetype": "text/x-python",
   "name": "python",
   "nbconvert_exporter": "python",
   "pygments_lexer": "ipython3",
   "version": "3.9.1"
  }
 },
 "nbformat": 4,
 "nbformat_minor": 5
}
