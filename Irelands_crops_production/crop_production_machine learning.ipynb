{
 "cells": [
  {
   "cell_type": "markdown",
   "id": "impossible-midwest",
   "metadata": {},
   "source": [
    "##### importing libraries"
   ]
  },
  {
   "cell_type": "code",
   "execution_count": 1,
   "id": "reduced-alliance",
   "metadata": {},
   "outputs": [],
   "source": [
    "import numpy as np\n",
    "import pandas as pd\n",
    "import matplotlib.pyplot as plt\n",
    "import seaborn as sns\n",
    "sns.set()\n",
    "pd.options.mode.chained_assignment = None  # default='warn'"
   ]
  },
  {
   "cell_type": "markdown",
   "id": "plastic-python",
   "metadata": {},
   "source": [
    "##### importing dataset"
   ]
  },
  {
   "cell_type": "code",
   "execution_count": 2,
   "id": "monetary-configuration",
   "metadata": {},
   "outputs": [
    {
     "data": {
      "text/html": [
       "<div>\n",
       "<style scoped>\n",
       "    .dataframe tbody tr th:only-of-type {\n",
       "        vertical-align: middle;\n",
       "    }\n",
       "\n",
       "    .dataframe tbody tr th {\n",
       "        vertical-align: top;\n",
       "    }\n",
       "\n",
       "    .dataframe thead th {\n",
       "        text-align: right;\n",
       "    }\n",
       "</style>\n",
       "<table border=\"1\" class=\"dataframe\">\n",
       "  <thead>\n",
       "    <tr style=\"text-align: right;\">\n",
       "      <th></th>\n",
       "      <th>Year</th>\n",
       "      <th>C02039V02469</th>\n",
       "      <th>Area_under_Crops_Hectares</th>\n",
       "      <th>Crop_Yield_per_Hectare_in_Tonnes</th>\n",
       "      <th>crop_production_in_Tonnes</th>\n",
       "      <th>crop__Fodder beet</th>\n",
       "      <th>crop__Kale and field cabbage</th>\n",
       "      <th>crop__Oilseed rape</th>\n",
       "      <th>crop__Potatoes</th>\n",
       "      <th>crop__Spring barley</th>\n",
       "      <th>...</th>\n",
       "      <th>crop__Spring wheat</th>\n",
       "      <th>crop__Sugar beet</th>\n",
       "      <th>crop__Total barley</th>\n",
       "      <th>crop__Total oats</th>\n",
       "      <th>crop__Total wheat</th>\n",
       "      <th>crop__Total wheat, oats and barley</th>\n",
       "      <th>crop__Turnips</th>\n",
       "      <th>crop__Winter barley</th>\n",
       "      <th>crop__Winter oats</th>\n",
       "      <th>crop__Winter wheat</th>\n",
       "    </tr>\n",
       "  </thead>\n",
       "  <tbody>\n",
       "    <tr>\n",
       "      <th>0</th>\n",
       "      <td>2008</td>\n",
       "      <td>1</td>\n",
       "      <td>320.7</td>\n",
       "      <td>7.7</td>\n",
       "      <td>2461.3</td>\n",
       "      <td>0</td>\n",
       "      <td>0</td>\n",
       "      <td>0</td>\n",
       "      <td>0</td>\n",
       "      <td>0</td>\n",
       "      <td>...</td>\n",
       "      <td>0</td>\n",
       "      <td>0</td>\n",
       "      <td>0</td>\n",
       "      <td>0</td>\n",
       "      <td>0</td>\n",
       "      <td>1</td>\n",
       "      <td>0</td>\n",
       "      <td>0</td>\n",
       "      <td>0</td>\n",
       "      <td>0</td>\n",
       "    </tr>\n",
       "    <tr>\n",
       "      <th>1</th>\n",
       "      <td>2008</td>\n",
       "      <td>11</td>\n",
       "      <td>110.7</td>\n",
       "      <td>9.0</td>\n",
       "      <td>992.8</td>\n",
       "      <td>0</td>\n",
       "      <td>0</td>\n",
       "      <td>0</td>\n",
       "      <td>0</td>\n",
       "      <td>0</td>\n",
       "      <td>...</td>\n",
       "      <td>0</td>\n",
       "      <td>0</td>\n",
       "      <td>0</td>\n",
       "      <td>0</td>\n",
       "      <td>1</td>\n",
       "      <td>0</td>\n",
       "      <td>0</td>\n",
       "      <td>0</td>\n",
       "      <td>0</td>\n",
       "      <td>0</td>\n",
       "    </tr>\n",
       "    <tr>\n",
       "      <th>2</th>\n",
       "      <td>2008</td>\n",
       "      <td>111</td>\n",
       "      <td>87.5</td>\n",
       "      <td>9.6</td>\n",
       "      <td>839.9</td>\n",
       "      <td>0</td>\n",
       "      <td>0</td>\n",
       "      <td>0</td>\n",
       "      <td>0</td>\n",
       "      <td>0</td>\n",
       "      <td>...</td>\n",
       "      <td>0</td>\n",
       "      <td>0</td>\n",
       "      <td>0</td>\n",
       "      <td>0</td>\n",
       "      <td>0</td>\n",
       "      <td>0</td>\n",
       "      <td>0</td>\n",
       "      <td>0</td>\n",
       "      <td>0</td>\n",
       "      <td>1</td>\n",
       "    </tr>\n",
       "    <tr>\n",
       "      <th>3</th>\n",
       "      <td>2008</td>\n",
       "      <td>112</td>\n",
       "      <td>23.2</td>\n",
       "      <td>6.6</td>\n",
       "      <td>153.0</td>\n",
       "      <td>0</td>\n",
       "      <td>0</td>\n",
       "      <td>0</td>\n",
       "      <td>0</td>\n",
       "      <td>0</td>\n",
       "      <td>...</td>\n",
       "      <td>1</td>\n",
       "      <td>0</td>\n",
       "      <td>0</td>\n",
       "      <td>0</td>\n",
       "      <td>0</td>\n",
       "      <td>0</td>\n",
       "      <td>0</td>\n",
       "      <td>0</td>\n",
       "      <td>0</td>\n",
       "      <td>0</td>\n",
       "    </tr>\n",
       "    <tr>\n",
       "      <th>4</th>\n",
       "      <td>2008</td>\n",
       "      <td>12</td>\n",
       "      <td>22.9</td>\n",
       "      <td>7.6</td>\n",
       "      <td>174.3</td>\n",
       "      <td>0</td>\n",
       "      <td>0</td>\n",
       "      <td>0</td>\n",
       "      <td>0</td>\n",
       "      <td>0</td>\n",
       "      <td>...</td>\n",
       "      <td>0</td>\n",
       "      <td>0</td>\n",
       "      <td>0</td>\n",
       "      <td>1</td>\n",
       "      <td>0</td>\n",
       "      <td>0</td>\n",
       "      <td>0</td>\n",
       "      <td>0</td>\n",
       "      <td>0</td>\n",
       "      <td>0</td>\n",
       "    </tr>\n",
       "    <tr>\n",
       "      <th>...</th>\n",
       "      <td>...</td>\n",
       "      <td>...</td>\n",
       "      <td>...</td>\n",
       "      <td>...</td>\n",
       "      <td>...</td>\n",
       "      <td>...</td>\n",
       "      <td>...</td>\n",
       "      <td>...</td>\n",
       "      <td>...</td>\n",
       "      <td>...</td>\n",
       "      <td>...</td>\n",
       "      <td>...</td>\n",
       "      <td>...</td>\n",
       "      <td>...</td>\n",
       "      <td>...</td>\n",
       "      <td>...</td>\n",
       "      <td>...</td>\n",
       "      <td>...</td>\n",
       "      <td>...</td>\n",
       "      <td>...</td>\n",
       "      <td>...</td>\n",
       "    </tr>\n",
       "    <tr>\n",
       "      <th>545</th>\n",
       "      <td>2007</td>\n",
       "      <td>131</td>\n",
       "      <td>18.7</td>\n",
       "      <td>7.6</td>\n",
       "      <td>142.4</td>\n",
       "      <td>0</td>\n",
       "      <td>0</td>\n",
       "      <td>0</td>\n",
       "      <td>0</td>\n",
       "      <td>0</td>\n",
       "      <td>...</td>\n",
       "      <td>0</td>\n",
       "      <td>0</td>\n",
       "      <td>0</td>\n",
       "      <td>0</td>\n",
       "      <td>0</td>\n",
       "      <td>0</td>\n",
       "      <td>0</td>\n",
       "      <td>1</td>\n",
       "      <td>0</td>\n",
       "      <td>0</td>\n",
       "    </tr>\n",
       "    <tr>\n",
       "      <th>546</th>\n",
       "      <td>2007</td>\n",
       "      <td>132</td>\n",
       "      <td>148.8</td>\n",
       "      <td>6.6</td>\n",
       "      <td>982.2</td>\n",
       "      <td>0</td>\n",
       "      <td>0</td>\n",
       "      <td>0</td>\n",
       "      <td>0</td>\n",
       "      <td>1</td>\n",
       "      <td>...</td>\n",
       "      <td>0</td>\n",
       "      <td>0</td>\n",
       "      <td>0</td>\n",
       "      <td>0</td>\n",
       "      <td>0</td>\n",
       "      <td>0</td>\n",
       "      <td>0</td>\n",
       "      <td>0</td>\n",
       "      <td>0</td>\n",
       "      <td>0</td>\n",
       "    </tr>\n",
       "    <tr>\n",
       "      <th>547</th>\n",
       "      <td>2007</td>\n",
       "      <td>2</td>\n",
       "      <td>2.9</td>\n",
       "      <td>4.4</td>\n",
       "      <td>12.8</td>\n",
       "      <td>0</td>\n",
       "      <td>0</td>\n",
       "      <td>0</td>\n",
       "      <td>0</td>\n",
       "      <td>0</td>\n",
       "      <td>...</td>\n",
       "      <td>0</td>\n",
       "      <td>0</td>\n",
       "      <td>0</td>\n",
       "      <td>0</td>\n",
       "      <td>0</td>\n",
       "      <td>0</td>\n",
       "      <td>0</td>\n",
       "      <td>0</td>\n",
       "      <td>0</td>\n",
       "      <td>0</td>\n",
       "    </tr>\n",
       "    <tr>\n",
       "      <th>548</th>\n",
       "      <td>2007</td>\n",
       "      <td>3</td>\n",
       "      <td>8.2</td>\n",
       "      <td>3.9</td>\n",
       "      <td>31.9</td>\n",
       "      <td>0</td>\n",
       "      <td>0</td>\n",
       "      <td>1</td>\n",
       "      <td>0</td>\n",
       "      <td>0</td>\n",
       "      <td>...</td>\n",
       "      <td>0</td>\n",
       "      <td>0</td>\n",
       "      <td>0</td>\n",
       "      <td>0</td>\n",
       "      <td>0</td>\n",
       "      <td>0</td>\n",
       "      <td>0</td>\n",
       "      <td>0</td>\n",
       "      <td>0</td>\n",
       "      <td>0</td>\n",
       "    </tr>\n",
       "    <tr>\n",
       "      <th>549</th>\n",
       "      <td>2007</td>\n",
       "      <td>4</td>\n",
       "      <td>11.7</td>\n",
       "      <td>34.0</td>\n",
       "      <td>399.0</td>\n",
       "      <td>0</td>\n",
       "      <td>0</td>\n",
       "      <td>0</td>\n",
       "      <td>1</td>\n",
       "      <td>0</td>\n",
       "      <td>...</td>\n",
       "      <td>0</td>\n",
       "      <td>0</td>\n",
       "      <td>0</td>\n",
       "      <td>0</td>\n",
       "      <td>0</td>\n",
       "      <td>0</td>\n",
       "      <td>0</td>\n",
       "      <td>0</td>\n",
       "      <td>0</td>\n",
       "      <td>0</td>\n",
       "    </tr>\n",
       "  </tbody>\n",
       "</table>\n",
       "<p>550 rows × 21 columns</p>\n",
       "</div>"
      ],
      "text/plain": [
       "     Year  C02039V02469  Area_under_Crops_Hectares  \\\n",
       "0    2008             1                      320.7   \n",
       "1    2008            11                      110.7   \n",
       "2    2008           111                       87.5   \n",
       "3    2008           112                       23.2   \n",
       "4    2008            12                       22.9   \n",
       "..    ...           ...                        ...   \n",
       "545  2007           131                       18.7   \n",
       "546  2007           132                      148.8   \n",
       "547  2007             2                        2.9   \n",
       "548  2007             3                        8.2   \n",
       "549  2007             4                       11.7   \n",
       "\n",
       "     Crop_Yield_per_Hectare_in_Tonnes  crop_production_in_Tonnes  \\\n",
       "0                                 7.7                     2461.3   \n",
       "1                                 9.0                      992.8   \n",
       "2                                 9.6                      839.9   \n",
       "3                                 6.6                      153.0   \n",
       "4                                 7.6                      174.3   \n",
       "..                                ...                        ...   \n",
       "545                               7.6                      142.4   \n",
       "546                               6.6                      982.2   \n",
       "547                               4.4                       12.8   \n",
       "548                               3.9                       31.9   \n",
       "549                              34.0                      399.0   \n",
       "\n",
       "     crop__Fodder beet  crop__Kale and field cabbage  crop__Oilseed rape  \\\n",
       "0                    0                             0                   0   \n",
       "1                    0                             0                   0   \n",
       "2                    0                             0                   0   \n",
       "3                    0                             0                   0   \n",
       "4                    0                             0                   0   \n",
       "..                 ...                           ...                 ...   \n",
       "545                  0                             0                   0   \n",
       "546                  0                             0                   0   \n",
       "547                  0                             0                   0   \n",
       "548                  0                             0                   1   \n",
       "549                  0                             0                   0   \n",
       "\n",
       "     crop__Potatoes  crop__Spring barley  ...  crop__Spring wheat  \\\n",
       "0                 0                    0  ...                   0   \n",
       "1                 0                    0  ...                   0   \n",
       "2                 0                    0  ...                   0   \n",
       "3                 0                    0  ...                   1   \n",
       "4                 0                    0  ...                   0   \n",
       "..              ...                  ...  ...                 ...   \n",
       "545               0                    0  ...                   0   \n",
       "546               0                    1  ...                   0   \n",
       "547               0                    0  ...                   0   \n",
       "548               0                    0  ...                   0   \n",
       "549               1                    0  ...                   0   \n",
       "\n",
       "     crop__Sugar beet  crop__Total barley  crop__Total oats  \\\n",
       "0                   0                   0                 0   \n",
       "1                   0                   0                 0   \n",
       "2                   0                   0                 0   \n",
       "3                   0                   0                 0   \n",
       "4                   0                   0                 1   \n",
       "..                ...                 ...               ...   \n",
       "545                 0                   0                 0   \n",
       "546                 0                   0                 0   \n",
       "547                 0                   0                 0   \n",
       "548                 0                   0                 0   \n",
       "549                 0                   0                 0   \n",
       "\n",
       "     crop__Total wheat  crop__Total wheat, oats and barley  crop__Turnips  \\\n",
       "0                    0                                   1              0   \n",
       "1                    1                                   0              0   \n",
       "2                    0                                   0              0   \n",
       "3                    0                                   0              0   \n",
       "4                    0                                   0              0   \n",
       "..                 ...                                 ...            ...   \n",
       "545                  0                                   0              0   \n",
       "546                  0                                   0              0   \n",
       "547                  0                                   0              0   \n",
       "548                  0                                   0              0   \n",
       "549                  0                                   0              0   \n",
       "\n",
       "     crop__Winter barley  crop__Winter oats  crop__Winter wheat  \n",
       "0                      0                  0                   0  \n",
       "1                      0                  0                   0  \n",
       "2                      0                  0                   1  \n",
       "3                      0                  0                   0  \n",
       "4                      0                  0                   0  \n",
       "..                   ...                ...                 ...  \n",
       "545                    1                  0                   0  \n",
       "546                    0                  0                   0  \n",
       "547                    0                  0                   0  \n",
       "548                    0                  0                   0  \n",
       "549                    0                  0                   0  \n",
       "\n",
       "[550 rows x 21 columns]"
      ]
     },
     "execution_count": 2,
     "metadata": {},
     "output_type": "execute_result"
    }
   ],
   "source": [
    "df=pd.read_csv('crop_production_predictionML.csv')\n",
    "df"
   ]
  },
  {
   "cell_type": "markdown",
   "id": "intimate-stream",
   "metadata": {},
   "source": [
    "#### splitting in dependant and independant data"
   ]
  },
  {
   "cell_type": "code",
   "execution_count": 3,
   "id": "computational-serum",
   "metadata": {},
   "outputs": [
    {
     "data": {
      "text/plain": [
       "(550, 20)"
      ]
     },
     "execution_count": 3,
     "metadata": {},
     "output_type": "execute_result"
    }
   ],
   "source": [
    "X=df.drop(['crop_production_in_Tonnes'],axis=1)\n",
    "X.shape"
   ]
  },
  {
   "cell_type": "code",
   "execution_count": 4,
   "id": "expensive-keeping",
   "metadata": {},
   "outputs": [],
   "source": [
    "y=df['crop_production_in_Tonnes']"
   ]
  },
  {
   "cell_type": "markdown",
   "id": "ignored-vaccine",
   "metadata": {},
   "source": [
    "### feature scalling"
   ]
  },
  {
   "cell_type": "code",
   "execution_count": 5,
   "id": "opened-committee",
   "metadata": {},
   "outputs": [
    {
     "data": {
      "text/plain": [
       "array([[ 0.58211472, -1.00907364,  3.02939687, ..., -0.26856053,\n",
       "        -0.26856053, -0.26856053],\n",
       "       [ 0.58211472, -0.82827142,  0.55963168, ..., -0.26856053,\n",
       "        -0.26856053, -0.26856053],\n",
       "       [ 0.58211472,  0.97975081,  0.28678143, ..., -0.26856053,\n",
       "        -0.26856053,  3.72355541],\n",
       "       ...,\n",
       "       [ 0.48822525, -0.99099342, -0.70818111, ..., -0.26856053,\n",
       "        -0.26856053, -0.26856053],\n",
       "       [ 0.48822525, -0.9729132 , -0.64584894, ..., -0.26856053,\n",
       "        -0.26856053, -0.26856053],\n",
       "       [ 0.48822525, -0.95483297, -0.60468619, ..., -0.26856053,\n",
       "        -0.26856053, -0.26856053]])"
      ]
     },
     "execution_count": 5,
     "metadata": {},
     "output_type": "execute_result"
    }
   ],
   "source": [
    "from sklearn.preprocessing import StandardScaler\n",
    "scaler = StandardScaler()\n",
    "X_scaled = scaler.fit_transform(X)\n",
    "X_scaled"
   ]
  },
  {
   "cell_type": "markdown",
   "id": "interracial-constant",
   "metadata": {},
   "source": [
    "### dimentional reduction using PCA"
   ]
  },
  {
   "cell_type": "code",
   "execution_count": 9,
   "id": "alternate-methodology",
   "metadata": {},
   "outputs": [
    {
     "data": {
      "text/plain": [
       "(550, 16)"
      ]
     },
     "execution_count": 9,
     "metadata": {},
     "output_type": "execute_result"
    }
   ],
   "source": [
    "from sklearn.decomposition import PCA\n",
    "\n",
    "pca = PCA(0.95)\n",
    "X_pca = pca.fit_transform(X_scaled)\n",
    "X_pca.shape"
   ]
  },
  {
   "cell_type": "code",
   "execution_count": 10,
   "id": "changing-zambia",
   "metadata": {},
   "outputs": [
    {
     "data": {
      "text/plain": [
       "array([0.1175678 , 0.11047456, 0.08033868, 0.05692333, 0.05360624,\n",
       "       0.05360624, 0.05360624, 0.05360624, 0.05360624, 0.05360624,\n",
       "       0.05360624, 0.05360624, 0.05198806, 0.05192557, 0.05157712,\n",
       "       0.04107943])"
      ]
     },
     "execution_count": 10,
     "metadata": {},
     "output_type": "execute_result"
    }
   ],
   "source": [
    "pca.explained_variance_ratio_"
   ]
  },
  {
   "cell_type": "markdown",
   "id": "lyric-programmer",
   "metadata": {},
   "source": [
    "### train_test_split"
   ]
  },
  {
   "cell_type": "code",
   "execution_count": 11,
   "id": "piano-runner",
   "metadata": {},
   "outputs": [],
   "source": [
    "from sklearn.model_selection import train_test_split\n",
    "X_train_pca, X_test_pca, y_train, y_test = train_test_split(X_pca, y, test_size=0.2, random_state=30)"
   ]
  },
  {
   "cell_type": "markdown",
   "id": "flush-miller",
   "metadata": {},
   "source": [
    "### Model Building"
   ]
  },
  {
   "cell_type": "code",
   "execution_count": 12,
   "id": "identified-subscriber",
   "metadata": {},
   "outputs": [
    {
     "data": {
      "text/plain": [
       "LinearRegression()"
      ]
     },
     "execution_count": 12,
     "metadata": {},
     "output_type": "execute_result"
    }
   ],
   "source": [
    "from sklearn.linear_model import LinearRegression\n",
    "LR= LinearRegression()\n",
    "LR.fit(X_train_pca, y_train)"
   ]
  },
  {
   "cell_type": "code",
   "execution_count": 13,
   "id": "advisory-script",
   "metadata": {},
   "outputs": [
    {
     "data": {
      "text/plain": [
       "DecisionTreeRegressor()"
      ]
     },
     "execution_count": 13,
     "metadata": {},
     "output_type": "execute_result"
    }
   ],
   "source": [
    "from sklearn.tree import DecisionTreeRegressor\n",
    "DTR= DecisionTreeRegressor()\n",
    "DTR.fit(X_train_pca, y_train)"
   ]
  },
  {
   "cell_type": "code",
   "execution_count": 14,
   "id": "brown-thread",
   "metadata": {},
   "outputs": [
    {
     "data": {
      "text/plain": [
       "RandomForestRegressor()"
      ]
     },
     "execution_count": 14,
     "metadata": {},
     "output_type": "execute_result"
    }
   ],
   "source": [
    "from sklearn.ensemble import RandomForestRegressor\n",
    "RFR= RandomForestRegressor()\n",
    "RFR.fit(X_train_pca, y_train)"
   ]
  },
  {
   "cell_type": "markdown",
   "id": "packed-coupon",
   "metadata": {},
   "source": [
    "### accuarcy score"
   ]
  },
  {
   "cell_type": "code",
   "execution_count": 16,
   "id": "given-custom",
   "metadata": {},
   "outputs": [
    {
     "data": {
      "text/plain": [
       "0.9501566595154014"
      ]
     },
     "execution_count": 16,
     "metadata": {},
     "output_type": "execute_result"
    }
   ],
   "source": [
    "LR.score(X_test_pca, y_test)"
   ]
  },
  {
   "cell_type": "code",
   "execution_count": 17,
   "id": "perceived-tourism",
   "metadata": {},
   "outputs": [
    {
     "data": {
      "text/plain": [
       "0.9571615588315115"
      ]
     },
     "execution_count": 17,
     "metadata": {},
     "output_type": "execute_result"
    }
   ],
   "source": [
    "DTR.score(X_test_pca, y_test)"
   ]
  },
  {
   "cell_type": "code",
   "execution_count": 18,
   "id": "sudden-venue",
   "metadata": {},
   "outputs": [
    {
     "data": {
      "text/plain": [
       "0.974447322614494"
      ]
     },
     "execution_count": 18,
     "metadata": {},
     "output_type": "execute_result"
    }
   ],
   "source": [
    "RFR.score(X_test_pca, y_test)"
   ]
  },
  {
   "cell_type": "markdown",
   "id": "optical-british",
   "metadata": {},
   "source": [
    "### cross validation"
   ]
  },
  {
   "cell_type": "code",
   "execution_count": 19,
   "id": "configured-intervention",
   "metadata": {},
   "outputs": [
    {
     "data": {
      "text/html": [
       "<div>\n",
       "<style scoped>\n",
       "    .dataframe tbody tr th:only-of-type {\n",
       "        vertical-align: middle;\n",
       "    }\n",
       "\n",
       "    .dataframe tbody tr th {\n",
       "        vertical-align: top;\n",
       "    }\n",
       "\n",
       "    .dataframe thead th {\n",
       "        text-align: right;\n",
       "    }\n",
       "</style>\n",
       "<table border=\"1\" class=\"dataframe\">\n",
       "  <thead>\n",
       "    <tr style=\"text-align: right;\">\n",
       "      <th></th>\n",
       "      <th>LinearRegression()</th>\n",
       "      <th>DecisionTreeRegressor()</th>\n",
       "      <th>RandomForestRegressor()</th>\n",
       "    </tr>\n",
       "  </thead>\n",
       "  <tbody>\n",
       "    <tr>\n",
       "      <th>0</th>\n",
       "      <td>0.934236</td>\n",
       "      <td>0.966176</td>\n",
       "      <td>0.976309</td>\n",
       "    </tr>\n",
       "  </tbody>\n",
       "</table>\n",
       "</div>"
      ],
      "text/plain": [
       "   LinearRegression()  DecisionTreeRegressor()  RandomForestRegressor()\n",
       "0            0.934236                 0.966176                 0.976309"
      ]
     },
     "execution_count": 19,
     "metadata": {},
     "output_type": "execute_result"
    }
   ],
   "source": [
    "from sklearn.model_selection import cross_val_score\n",
    "model_scoring={}\n",
    "def all_model_scores(model,X,y):\n",
    "    scores=cross_val_score(model,X,y,cv=10)\n",
    "    mean_score=scores.mean()\n",
    "    model_scoring.update({model:mean_score})\n",
    "    return model_scoring\n",
    "\n",
    "Model_list=[LinearRegression(),DecisionTreeRegressor(),RandomForestRegressor()]\n",
    "for model in Model_list:\n",
    "    score_dict=all_model_scores(model,X_pca,y)\n",
    "df_Models_scores=pd.DataFrame(score_dict,index=[0])\n",
    "df_Models_scores"
   ]
  },
  {
   "cell_type": "markdown",
   "id": "congressional-presentation",
   "metadata": {},
   "source": [
    "### Table for Accuracy score ,MAE and RMSE"
   ]
  },
  {
   "cell_type": "code",
   "execution_count": 32,
   "id": "martial-reading",
   "metadata": {},
   "outputs": [],
   "source": [
    "\n",
    "from sklearn.metrics import mean_absolute_error\n",
    "from sklearn.metrics import mean_squared_error\n",
    "\n",
    "Models_names=['Linear Regresser','Decision Tree Regressor','Random Forest Regressor']\n",
    "Model_list=[LinearRegression(),DecisionTreeRegressor(),RandomForestRegressor()]\n",
    "Accuracy_Scores=[]\n",
    "MAE_Scores=[]\n",
    "RMSE_Scores=[]\n",
    "\n",
    "for model in Model_list:\n",
    "    model.fit(X_train_pca,y_train)\n",
    "    y_pred=model.predict(X_test_pca)\n",
    "    Accuracy_Scores.append(model.score(X_test_pca, y_test))\n",
    "    MAE_Scores.append(mean_absolute_error(y_test,y_pred))\n",
    "    RMSE_Scores.append(np.sqrt(mean_squared_error(y_test,y_pred)))\n",
    "    \n",
    "Table=pd.DataFrame(list(zip(Models_names,Accuracy_Scores,MAE_Scores,RMSE_Scores)),columns =['Machine Learning Models','Accuracy Scores','Mean_Absolute_Error','root_mean_squared_error'])"
   ]
  },
  {
   "cell_type": "code",
   "execution_count": 33,
   "id": "cellular-parish",
   "metadata": {},
   "outputs": [
    {
     "data": {
      "text/html": [
       "<div>\n",
       "<style scoped>\n",
       "    .dataframe tbody tr th:only-of-type {\n",
       "        vertical-align: middle;\n",
       "    }\n",
       "\n",
       "    .dataframe tbody tr th {\n",
       "        vertical-align: top;\n",
       "    }\n",
       "\n",
       "    .dataframe thead th {\n",
       "        text-align: right;\n",
       "    }\n",
       "</style>\n",
       "<table border=\"1\" class=\"dataframe\">\n",
       "  <thead>\n",
       "    <tr style=\"text-align: right;\">\n",
       "      <th></th>\n",
       "      <th>Machine Learning Models</th>\n",
       "      <th>Accuracy Scores</th>\n",
       "      <th>Mean_Absolute_Error</th>\n",
       "      <th>root_mean_squared_error</th>\n",
       "    </tr>\n",
       "  </thead>\n",
       "  <tbody>\n",
       "    <tr>\n",
       "      <th>0</th>\n",
       "      <td>Linear Regresser</td>\n",
       "      <td>0.950157</td>\n",
       "      <td>110.016822</td>\n",
       "      <td>148.049836</td>\n",
       "    </tr>\n",
       "    <tr>\n",
       "      <th>1</th>\n",
       "      <td>Decision Tree Regressor</td>\n",
       "      <td>0.962281</td>\n",
       "      <td>74.646364</td>\n",
       "      <td>128.790875</td>\n",
       "    </tr>\n",
       "    <tr>\n",
       "      <th>2</th>\n",
       "      <td>Random Forest Regressor</td>\n",
       "      <td>0.974919</td>\n",
       "      <td>64.697618</td>\n",
       "      <td>105.020630</td>\n",
       "    </tr>\n",
       "  </tbody>\n",
       "</table>\n",
       "</div>"
      ],
      "text/plain": [
       "   Machine Learning Models  Accuracy Scores  Mean_Absolute_Error  \\\n",
       "0         Linear Regresser         0.950157           110.016822   \n",
       "1  Decision Tree Regressor         0.962281            74.646364   \n",
       "2  Random Forest Regressor         0.974919            64.697618   \n",
       "\n",
       "   root_mean_squared_error  \n",
       "0               148.049836  \n",
       "1               128.790875  \n",
       "2               105.020630  "
      ]
     },
     "execution_count": 33,
     "metadata": {},
     "output_type": "execute_result"
    }
   ],
   "source": [
    "Table"
   ]
  },
  {
   "cell_type": "code",
   "execution_count": null,
   "id": "monthly-treasure",
   "metadata": {},
   "outputs": [],
   "source": []
  }
 ],
 "metadata": {
  "kernelspec": {
   "display_name": "Python 3",
   "language": "python",
   "name": "python3"
  },
  "language_info": {
   "codemirror_mode": {
    "name": "ipython",
    "version": 3
   },
   "file_extension": ".py",
   "mimetype": "text/x-python",
   "name": "python",
   "nbconvert_exporter": "python",
   "pygments_lexer": "ipython3",
   "version": "3.9.1"
  }
 },
 "nbformat": 4,
 "nbformat_minor": 5
}
