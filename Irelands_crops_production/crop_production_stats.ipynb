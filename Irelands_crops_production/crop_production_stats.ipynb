{
 "cells": [
  {
   "cell_type": "markdown",
   "id": "recorded-landscape",
   "metadata": {},
   "source": [
    "### importing libraries"
   ]
  },
  {
   "cell_type": "code",
   "execution_count": 2,
   "id": "union-springfield",
   "metadata": {},
   "outputs": [],
   "source": [
    "import numpy as np\n",
    "import pandas as pd\n",
    "import matplotlib.pyplot as plt\n",
    "import seaborn as sns\n",
    "sns.set()"
   ]
  },
  {
   "cell_type": "markdown",
   "id": "plastic-placement",
   "metadata": {},
   "source": [
    "### importing datasets"
   ]
  },
  {
   "cell_type": "code",
   "execution_count": 3,
   "id": "occupied-vatican",
   "metadata": {},
   "outputs": [
    {
     "data": {
      "text/html": [
       "<div>\n",
       "<style scoped>\n",
       "    .dataframe tbody tr th:only-of-type {\n",
       "        vertical-align: middle;\n",
       "    }\n",
       "\n",
       "    .dataframe tbody tr th {\n",
       "        vertical-align: top;\n",
       "    }\n",
       "\n",
       "    .dataframe thead th {\n",
       "        text-align: right;\n",
       "    }\n",
       "</style>\n",
       "<table border=\"1\" class=\"dataframe\">\n",
       "  <thead>\n",
       "    <tr style=\"text-align: right;\">\n",
       "      <th></th>\n",
       "      <th>LOCATION</th>\n",
       "      <th>INDICATOR</th>\n",
       "      <th>SUBJECT</th>\n",
       "      <th>MEASURE</th>\n",
       "      <th>FREQUENCY</th>\n",
       "      <th>TIME</th>\n",
       "      <th>Value</th>\n",
       "      <th>Flag Codes</th>\n",
       "    </tr>\n",
       "  </thead>\n",
       "  <tbody>\n",
       "    <tr>\n",
       "      <th>0</th>\n",
       "      <td>AUS</td>\n",
       "      <td>CROPYIELD</td>\n",
       "      <td>RICE</td>\n",
       "      <td>TONNE_HA</td>\n",
       "      <td>A</td>\n",
       "      <td>1990</td>\n",
       "      <td>8.314607</td>\n",
       "      <td>NaN</td>\n",
       "    </tr>\n",
       "    <tr>\n",
       "      <th>1</th>\n",
       "      <td>AUS</td>\n",
       "      <td>CROPYIELD</td>\n",
       "      <td>RICE</td>\n",
       "      <td>TONNE_HA</td>\n",
       "      <td>A</td>\n",
       "      <td>1991</td>\n",
       "      <td>8.394737</td>\n",
       "      <td>NaN</td>\n",
       "    </tr>\n",
       "    <tr>\n",
       "      <th>2</th>\n",
       "      <td>AUS</td>\n",
       "      <td>CROPYIELD</td>\n",
       "      <td>RICE</td>\n",
       "      <td>TONNE_HA</td>\n",
       "      <td>A</td>\n",
       "      <td>1992</td>\n",
       "      <td>8.094340</td>\n",
       "      <td>NaN</td>\n",
       "    </tr>\n",
       "    <tr>\n",
       "      <th>3</th>\n",
       "      <td>AUS</td>\n",
       "      <td>CROPYIELD</td>\n",
       "      <td>RICE</td>\n",
       "      <td>TONNE_HA</td>\n",
       "      <td>A</td>\n",
       "      <td>1993</td>\n",
       "      <td>8.336000</td>\n",
       "      <td>NaN</td>\n",
       "    </tr>\n",
       "    <tr>\n",
       "      <th>4</th>\n",
       "      <td>AUS</td>\n",
       "      <td>CROPYIELD</td>\n",
       "      <td>RICE</td>\n",
       "      <td>TONNE_HA</td>\n",
       "      <td>A</td>\n",
       "      <td>1994</td>\n",
       "      <td>8.537815</td>\n",
       "      <td>NaN</td>\n",
       "    </tr>\n",
       "    <tr>\n",
       "      <th>...</th>\n",
       "      <td>...</td>\n",
       "      <td>...</td>\n",
       "      <td>...</td>\n",
       "      <td>...</td>\n",
       "      <td>...</td>\n",
       "      <td>...</td>\n",
       "      <td>...</td>\n",
       "      <td>...</td>\n",
       "    </tr>\n",
       "    <tr>\n",
       "      <th>20561</th>\n",
       "      <td>OECD</td>\n",
       "      <td>CROPYIELD</td>\n",
       "      <td>SOYBEAN</td>\n",
       "      <td>THND_HA</td>\n",
       "      <td>A</td>\n",
       "      <td>2021</td>\n",
       "      <td>37010.208830</td>\n",
       "      <td>NaN</td>\n",
       "    </tr>\n",
       "    <tr>\n",
       "      <th>20562</th>\n",
       "      <td>OECD</td>\n",
       "      <td>CROPYIELD</td>\n",
       "      <td>SOYBEAN</td>\n",
       "      <td>THND_HA</td>\n",
       "      <td>A</td>\n",
       "      <td>2022</td>\n",
       "      <td>37069.214850</td>\n",
       "      <td>NaN</td>\n",
       "    </tr>\n",
       "    <tr>\n",
       "      <th>20563</th>\n",
       "      <td>OECD</td>\n",
       "      <td>CROPYIELD</td>\n",
       "      <td>SOYBEAN</td>\n",
       "      <td>THND_HA</td>\n",
       "      <td>A</td>\n",
       "      <td>2023</td>\n",
       "      <td>37143.459750</td>\n",
       "      <td>NaN</td>\n",
       "    </tr>\n",
       "    <tr>\n",
       "      <th>20564</th>\n",
       "      <td>OECD</td>\n",
       "      <td>CROPYIELD</td>\n",
       "      <td>SOYBEAN</td>\n",
       "      <td>THND_HA</td>\n",
       "      <td>A</td>\n",
       "      <td>2024</td>\n",
       "      <td>37013.651900</td>\n",
       "      <td>NaN</td>\n",
       "    </tr>\n",
       "    <tr>\n",
       "      <th>20565</th>\n",
       "      <td>OECD</td>\n",
       "      <td>CROPYIELD</td>\n",
       "      <td>SOYBEAN</td>\n",
       "      <td>THND_HA</td>\n",
       "      <td>A</td>\n",
       "      <td>2025</td>\n",
       "      <td>37041.401580</td>\n",
       "      <td>NaN</td>\n",
       "    </tr>\n",
       "  </tbody>\n",
       "</table>\n",
       "<p>20566 rows × 8 columns</p>\n",
       "</div>"
      ],
      "text/plain": [
       "      LOCATION  INDICATOR  SUBJECT   MEASURE FREQUENCY  TIME         Value  \\\n",
       "0          AUS  CROPYIELD     RICE  TONNE_HA         A  1990      8.314607   \n",
       "1          AUS  CROPYIELD     RICE  TONNE_HA         A  1991      8.394737   \n",
       "2          AUS  CROPYIELD     RICE  TONNE_HA         A  1992      8.094340   \n",
       "3          AUS  CROPYIELD     RICE  TONNE_HA         A  1993      8.336000   \n",
       "4          AUS  CROPYIELD     RICE  TONNE_HA         A  1994      8.537815   \n",
       "...        ...        ...      ...       ...       ...   ...           ...   \n",
       "20561     OECD  CROPYIELD  SOYBEAN   THND_HA         A  2021  37010.208830   \n",
       "20562     OECD  CROPYIELD  SOYBEAN   THND_HA         A  2022  37069.214850   \n",
       "20563     OECD  CROPYIELD  SOYBEAN   THND_HA         A  2023  37143.459750   \n",
       "20564     OECD  CROPYIELD  SOYBEAN   THND_HA         A  2024  37013.651900   \n",
       "20565     OECD  CROPYIELD  SOYBEAN   THND_HA         A  2025  37041.401580   \n",
       "\n",
       "       Flag Codes  \n",
       "0             NaN  \n",
       "1             NaN  \n",
       "2             NaN  \n",
       "3             NaN  \n",
       "4             NaN  \n",
       "...           ...  \n",
       "20561         NaN  \n",
       "20562         NaN  \n",
       "20563         NaN  \n",
       "20564         NaN  \n",
       "20565         NaN  \n",
       "\n",
       "[20566 rows x 8 columns]"
      ]
     },
     "execution_count": 3,
     "metadata": {},
     "output_type": "execute_result"
    }
   ],
   "source": [
    "df=pd.read_csv('crop_production.csv')\n",
    "df"
   ]
  },
  {
   "cell_type": "code",
   "execution_count": 4,
   "id": "unavailable-southwest",
   "metadata": {},
   "outputs": [
    {
     "data": {
      "text/html": [
       "<div>\n",
       "<style scoped>\n",
       "    .dataframe tbody tr th:only-of-type {\n",
       "        vertical-align: middle;\n",
       "    }\n",
       "\n",
       "    .dataframe tbody tr th {\n",
       "        vertical-align: top;\n",
       "    }\n",
       "\n",
       "    .dataframe thead th {\n",
       "        text-align: right;\n",
       "    }\n",
       "</style>\n",
       "<table border=\"1\" class=\"dataframe\">\n",
       "  <thead>\n",
       "    <tr style=\"text-align: right;\">\n",
       "      <th></th>\n",
       "      <th>Year</th>\n",
       "      <th>C02039V02469</th>\n",
       "      <th>Type of Crop</th>\n",
       "      <th>Area_under_Crops_Hectares</th>\n",
       "      <th>Crop_Yield_per_Hectare_in_Tonnes</th>\n",
       "      <th>crop_production_in_Tonnes</th>\n",
       "    </tr>\n",
       "  </thead>\n",
       "  <tbody>\n",
       "    <tr>\n",
       "      <th>0</th>\n",
       "      <td>2008</td>\n",
       "      <td>1</td>\n",
       "      <td>Total wheat, oats and barley</td>\n",
       "      <td>320.7</td>\n",
       "      <td>7.7</td>\n",
       "      <td>2461.3</td>\n",
       "    </tr>\n",
       "    <tr>\n",
       "      <th>1</th>\n",
       "      <td>2008</td>\n",
       "      <td>11</td>\n",
       "      <td>Total wheat</td>\n",
       "      <td>110.7</td>\n",
       "      <td>9.0</td>\n",
       "      <td>992.8</td>\n",
       "    </tr>\n",
       "    <tr>\n",
       "      <th>2</th>\n",
       "      <td>2008</td>\n",
       "      <td>111</td>\n",
       "      <td>Winter wheat</td>\n",
       "      <td>87.5</td>\n",
       "      <td>9.6</td>\n",
       "      <td>839.9</td>\n",
       "    </tr>\n",
       "    <tr>\n",
       "      <th>3</th>\n",
       "      <td>2008</td>\n",
       "      <td>112</td>\n",
       "      <td>Spring wheat</td>\n",
       "      <td>23.2</td>\n",
       "      <td>6.6</td>\n",
       "      <td>153.0</td>\n",
       "    </tr>\n",
       "    <tr>\n",
       "      <th>4</th>\n",
       "      <td>2008</td>\n",
       "      <td>12</td>\n",
       "      <td>Total oats</td>\n",
       "      <td>22.9</td>\n",
       "      <td>7.6</td>\n",
       "      <td>174.3</td>\n",
       "    </tr>\n",
       "  </tbody>\n",
       "</table>\n",
       "</div>"
      ],
      "text/plain": [
       "   Year  C02039V02469                  Type of Crop  \\\n",
       "0  2008             1  Total wheat, oats and barley   \n",
       "1  2008            11                   Total wheat   \n",
       "2  2008           111                  Winter wheat   \n",
       "3  2008           112                  Spring wheat   \n",
       "4  2008            12                    Total oats   \n",
       "\n",
       "   Area_under_Crops_Hectares  Crop_Yield_per_Hectare_in_Tonnes  \\\n",
       "0                      320.7                               7.7   \n",
       "1                      110.7                               9.0   \n",
       "2                       87.5                               9.6   \n",
       "3                       23.2                               6.6   \n",
       "4                       22.9                               7.6   \n",
       "\n",
       "   crop_production_in_Tonnes  \n",
       "0                     2461.3  \n",
       "1                      992.8  \n",
       "2                      839.9  \n",
       "3                      153.0  \n",
       "4                      174.3  "
      ]
     },
     "execution_count": 4,
     "metadata": {},
     "output_type": "execute_result"
    }
   ],
   "source": [
    "df2=pd.read_csv('crop_production_modified.csv')\n",
    "df2.head()"
   ]
  },
  {
   "cell_type": "markdown",
   "id": "consecutive-transportation",
   "metadata": {},
   "source": [
    "#### overview"
   ]
  },
  {
   "cell_type": "code",
   "execution_count": 7,
   "id": "bright-intelligence",
   "metadata": {},
   "outputs": [
    {
     "name": "stdout",
     "output_type": "stream",
     "text": [
      "<class 'pandas.core.frame.DataFrame'>\n",
      "RangeIndex: 20566 entries, 0 to 20565\n",
      "Data columns (total 8 columns):\n",
      " #   Column      Non-Null Count  Dtype  \n",
      "---  ------      --------------  -----  \n",
      " 0   LOCATION    20566 non-null  object \n",
      " 1   INDICATOR   20566 non-null  object \n",
      " 2   SUBJECT     20566 non-null  object \n",
      " 3   MEASURE     20566 non-null  object \n",
      " 4   FREQUENCY   20566 non-null  object \n",
      " 5   TIME        20566 non-null  int64  \n",
      " 6   Value       20566 non-null  float64\n",
      " 7   Flag Codes  0 non-null      float64\n",
      "dtypes: float64(2), int64(1), object(5)\n",
      "memory usage: 1.3+ MB\n"
     ]
    }
   ],
   "source": [
    "df.info()"
   ]
  },
  {
   "cell_type": "markdown",
   "id": "resident-contrast",
   "metadata": {},
   "source": [
    "#### drop feature"
   ]
  },
  {
   "cell_type": "code",
   "execution_count": 8,
   "id": "encouraging-identification",
   "metadata": {},
   "outputs": [
    {
     "data": {
      "text/plain": [
       "(20566, 7)"
      ]
     },
     "execution_count": 8,
     "metadata": {},
     "output_type": "execute_result"
    }
   ],
   "source": [
    "df=df.drop(['Flag Codes'],axis=1)\n",
    "df.shape"
   ]
  },
  {
   "cell_type": "markdown",
   "id": "fluid-township",
   "metadata": {},
   "source": [
    "#### exploring measurment"
   ]
  },
  {
   "cell_type": "code",
   "execution_count": 9,
   "id": "established-dressing",
   "metadata": {},
   "outputs": [
    {
     "data": {
      "text/plain": [
       "array(['TONNE_HA', 'THND_TONNE', 'THND_HA'], dtype=object)"
      ]
     },
     "execution_count": 9,
     "metadata": {},
     "output_type": "execute_result"
    }
   ],
   "source": [
    "df['MEASURE'].unique()"
   ]
  },
  {
   "cell_type": "code",
   "execution_count": 10,
   "id": "arctic-kitty",
   "metadata": {},
   "outputs": [
    {
     "data": {
      "text/plain": [
       "array(['CROPYIELD'], dtype=object)"
      ]
     },
     "execution_count": 10,
     "metadata": {},
     "output_type": "execute_result"
    }
   ],
   "source": [
    "df['INDICATOR'].unique()"
   ]
  },
  {
   "cell_type": "markdown",
   "id": "written-diploma",
   "metadata": {},
   "source": [
    "#### Exploring Measure Deeply"
   ]
  },
  {
   "cell_type": "code",
   "execution_count": 11,
   "id": "aggressive-concord",
   "metadata": {},
   "outputs": [
    {
     "data": {
      "text/html": [
       "<div>\n",
       "<style scoped>\n",
       "    .dataframe tbody tr th:only-of-type {\n",
       "        vertical-align: middle;\n",
       "    }\n",
       "\n",
       "    .dataframe tbody tr th {\n",
       "        vertical-align: top;\n",
       "    }\n",
       "\n",
       "    .dataframe thead th {\n",
       "        text-align: right;\n",
       "    }\n",
       "</style>\n",
       "<table border=\"1\" class=\"dataframe\">\n",
       "  <thead>\n",
       "    <tr style=\"text-align: right;\">\n",
       "      <th></th>\n",
       "      <th>LOCATION</th>\n",
       "      <th>INDICATOR</th>\n",
       "      <th>SUBJECT</th>\n",
       "      <th>MEASURE</th>\n",
       "      <th>FREQUENCY</th>\n",
       "      <th>TIME</th>\n",
       "      <th>Value</th>\n",
       "    </tr>\n",
       "  </thead>\n",
       "  <tbody>\n",
       "    <tr>\n",
       "      <th>0</th>\n",
       "      <td>AUS</td>\n",
       "      <td>CROPYIELD</td>\n",
       "      <td>RICE</td>\n",
       "      <td>TONNE_HA</td>\n",
       "      <td>A</td>\n",
       "      <td>1990</td>\n",
       "      <td>8.314607</td>\n",
       "    </tr>\n",
       "    <tr>\n",
       "      <th>1</th>\n",
       "      <td>AUS</td>\n",
       "      <td>CROPYIELD</td>\n",
       "      <td>RICE</td>\n",
       "      <td>TONNE_HA</td>\n",
       "      <td>A</td>\n",
       "      <td>1991</td>\n",
       "      <td>8.394737</td>\n",
       "    </tr>\n",
       "    <tr>\n",
       "      <th>2</th>\n",
       "      <td>AUS</td>\n",
       "      <td>CROPYIELD</td>\n",
       "      <td>RICE</td>\n",
       "      <td>TONNE_HA</td>\n",
       "      <td>A</td>\n",
       "      <td>1992</td>\n",
       "      <td>8.094340</td>\n",
       "    </tr>\n",
       "    <tr>\n",
       "      <th>3</th>\n",
       "      <td>AUS</td>\n",
       "      <td>CROPYIELD</td>\n",
       "      <td>RICE</td>\n",
       "      <td>TONNE_HA</td>\n",
       "      <td>A</td>\n",
       "      <td>1993</td>\n",
       "      <td>8.336000</td>\n",
       "    </tr>\n",
       "    <tr>\n",
       "      <th>4</th>\n",
       "      <td>AUS</td>\n",
       "      <td>CROPYIELD</td>\n",
       "      <td>RICE</td>\n",
       "      <td>TONNE_HA</td>\n",
       "      <td>A</td>\n",
       "      <td>1994</td>\n",
       "      <td>8.537815</td>\n",
       "    </tr>\n",
       "    <tr>\n",
       "      <th>...</th>\n",
       "      <td>...</td>\n",
       "      <td>...</td>\n",
       "      <td>...</td>\n",
       "      <td>...</td>\n",
       "      <td>...</td>\n",
       "      <td>...</td>\n",
       "      <td>...</td>\n",
       "    </tr>\n",
       "    <tr>\n",
       "      <th>20497</th>\n",
       "      <td>OECD</td>\n",
       "      <td>CROPYIELD</td>\n",
       "      <td>SOYBEAN</td>\n",
       "      <td>TONNE_HA</td>\n",
       "      <td>A</td>\n",
       "      <td>2021</td>\n",
       "      <td>3.254959</td>\n",
       "    </tr>\n",
       "    <tr>\n",
       "      <th>20498</th>\n",
       "      <td>OECD</td>\n",
       "      <td>CROPYIELD</td>\n",
       "      <td>SOYBEAN</td>\n",
       "      <td>TONNE_HA</td>\n",
       "      <td>A</td>\n",
       "      <td>2022</td>\n",
       "      <td>3.291244</td>\n",
       "    </tr>\n",
       "    <tr>\n",
       "      <th>20499</th>\n",
       "      <td>OECD</td>\n",
       "      <td>CROPYIELD</td>\n",
       "      <td>SOYBEAN</td>\n",
       "      <td>TONNE_HA</td>\n",
       "      <td>A</td>\n",
       "      <td>2023</td>\n",
       "      <td>3.323189</td>\n",
       "    </tr>\n",
       "    <tr>\n",
       "      <th>20500</th>\n",
       "      <td>OECD</td>\n",
       "      <td>CROPYIELD</td>\n",
       "      <td>SOYBEAN</td>\n",
       "      <td>TONNE_HA</td>\n",
       "      <td>A</td>\n",
       "      <td>2024</td>\n",
       "      <td>3.350868</td>\n",
       "    </tr>\n",
       "    <tr>\n",
       "      <th>20501</th>\n",
       "      <td>OECD</td>\n",
       "      <td>CROPYIELD</td>\n",
       "      <td>SOYBEAN</td>\n",
       "      <td>TONNE_HA</td>\n",
       "      <td>A</td>\n",
       "      <td>2025</td>\n",
       "      <td>3.378216</td>\n",
       "    </tr>\n",
       "  </tbody>\n",
       "</table>\n",
       "<p>6826 rows × 7 columns</p>\n",
       "</div>"
      ],
      "text/plain": [
       "      LOCATION  INDICATOR  SUBJECT   MEASURE FREQUENCY  TIME     Value\n",
       "0          AUS  CROPYIELD     RICE  TONNE_HA         A  1990  8.314607\n",
       "1          AUS  CROPYIELD     RICE  TONNE_HA         A  1991  8.394737\n",
       "2          AUS  CROPYIELD     RICE  TONNE_HA         A  1992  8.094340\n",
       "3          AUS  CROPYIELD     RICE  TONNE_HA         A  1993  8.336000\n",
       "4          AUS  CROPYIELD     RICE  TONNE_HA         A  1994  8.537815\n",
       "...        ...        ...      ...       ...       ...   ...       ...\n",
       "20497     OECD  CROPYIELD  SOYBEAN  TONNE_HA         A  2021  3.254959\n",
       "20498     OECD  CROPYIELD  SOYBEAN  TONNE_HA         A  2022  3.291244\n",
       "20499     OECD  CROPYIELD  SOYBEAN  TONNE_HA         A  2023  3.323189\n",
       "20500     OECD  CROPYIELD  SOYBEAN  TONNE_HA         A  2024  3.350868\n",
       "20501     OECD  CROPYIELD  SOYBEAN  TONNE_HA         A  2025  3.378216\n",
       "\n",
       "[6826 rows x 7 columns]"
      ]
     },
     "execution_count": 11,
     "metadata": {},
     "output_type": "execute_result"
    }
   ],
   "source": [
    "df[df['MEASURE']=='TONNE_HA']"
   ]
  },
  {
   "cell_type": "code",
   "execution_count": 12,
   "id": "comparative-dodge",
   "metadata": {},
   "outputs": [
    {
     "data": {
      "text/html": [
       "<div>\n",
       "<style scoped>\n",
       "    .dataframe tbody tr th:only-of-type {\n",
       "        vertical-align: middle;\n",
       "    }\n",
       "\n",
       "    .dataframe tbody tr th {\n",
       "        vertical-align: top;\n",
       "    }\n",
       "\n",
       "    .dataframe thead th {\n",
       "        text-align: right;\n",
       "    }\n",
       "</style>\n",
       "<table border=\"1\" class=\"dataframe\">\n",
       "  <thead>\n",
       "    <tr style=\"text-align: right;\">\n",
       "      <th></th>\n",
       "      <th>LOCATION</th>\n",
       "      <th>INDICATOR</th>\n",
       "      <th>SUBJECT</th>\n",
       "      <th>MEASURE</th>\n",
       "      <th>FREQUENCY</th>\n",
       "      <th>TIME</th>\n",
       "      <th>Value</th>\n",
       "    </tr>\n",
       "  </thead>\n",
       "  <tbody>\n",
       "    <tr>\n",
       "      <th>3284</th>\n",
       "      <td>WLD</td>\n",
       "      <td>CROPYIELD</td>\n",
       "      <td>RICE</td>\n",
       "      <td>THND_TONNE</td>\n",
       "      <td>A</td>\n",
       "      <td>1994</td>\n",
       "      <td>361820.7121</td>\n",
       "    </tr>\n",
       "    <tr>\n",
       "      <th>3285</th>\n",
       "      <td>WLD</td>\n",
       "      <td>CROPYIELD</td>\n",
       "      <td>RICE</td>\n",
       "      <td>THND_TONNE</td>\n",
       "      <td>A</td>\n",
       "      <td>1995</td>\n",
       "      <td>369091.1804</td>\n",
       "    </tr>\n",
       "    <tr>\n",
       "      <th>3286</th>\n",
       "      <td>WLD</td>\n",
       "      <td>CROPYIELD</td>\n",
       "      <td>RICE</td>\n",
       "      <td>THND_TONNE</td>\n",
       "      <td>A</td>\n",
       "      <td>1996</td>\n",
       "      <td>384153.4470</td>\n",
       "    </tr>\n",
       "    <tr>\n",
       "      <th>3287</th>\n",
       "      <td>WLD</td>\n",
       "      <td>CROPYIELD</td>\n",
       "      <td>RICE</td>\n",
       "      <td>THND_TONNE</td>\n",
       "      <td>A</td>\n",
       "      <td>1997</td>\n",
       "      <td>387716.7782</td>\n",
       "    </tr>\n",
       "    <tr>\n",
       "      <th>3288</th>\n",
       "      <td>WLD</td>\n",
       "      <td>CROPYIELD</td>\n",
       "      <td>RICE</td>\n",
       "      <td>THND_TONNE</td>\n",
       "      <td>A</td>\n",
       "      <td>1998</td>\n",
       "      <td>389939.8791</td>\n",
       "    </tr>\n",
       "    <tr>\n",
       "      <th>...</th>\n",
       "      <td>...</td>\n",
       "      <td>...</td>\n",
       "      <td>...</td>\n",
       "      <td>...</td>\n",
       "      <td>...</td>\n",
       "      <td>...</td>\n",
       "      <td>...</td>\n",
       "    </tr>\n",
       "    <tr>\n",
       "      <th>20434</th>\n",
       "      <td>OECD</td>\n",
       "      <td>CROPYIELD</td>\n",
       "      <td>SOYBEAN</td>\n",
       "      <td>THND_TONNE</td>\n",
       "      <td>A</td>\n",
       "      <td>2021</td>\n",
       "      <td>120466.7257</td>\n",
       "    </tr>\n",
       "    <tr>\n",
       "      <th>20435</th>\n",
       "      <td>OECD</td>\n",
       "      <td>CROPYIELD</td>\n",
       "      <td>SOYBEAN</td>\n",
       "      <td>THND_TONNE</td>\n",
       "      <td>A</td>\n",
       "      <td>2022</td>\n",
       "      <td>122003.8408</td>\n",
       "    </tr>\n",
       "    <tr>\n",
       "      <th>20436</th>\n",
       "      <td>OECD</td>\n",
       "      <td>CROPYIELD</td>\n",
       "      <td>SOYBEAN</td>\n",
       "      <td>THND_TONNE</td>\n",
       "      <td>A</td>\n",
       "      <td>2023</td>\n",
       "      <td>123434.7370</td>\n",
       "    </tr>\n",
       "    <tr>\n",
       "      <th>20437</th>\n",
       "      <td>OECD</td>\n",
       "      <td>CROPYIELD</td>\n",
       "      <td>SOYBEAN</td>\n",
       "      <td>THND_TONNE</td>\n",
       "      <td>A</td>\n",
       "      <td>2024</td>\n",
       "      <td>124027.8756</td>\n",
       "    </tr>\n",
       "    <tr>\n",
       "      <th>20438</th>\n",
       "      <td>OECD</td>\n",
       "      <td>CROPYIELD</td>\n",
       "      <td>SOYBEAN</td>\n",
       "      <td>THND_TONNE</td>\n",
       "      <td>A</td>\n",
       "      <td>2025</td>\n",
       "      <td>125133.8397</td>\n",
       "    </tr>\n",
       "  </tbody>\n",
       "</table>\n",
       "<p>6877 rows × 7 columns</p>\n",
       "</div>"
      ],
      "text/plain": [
       "      LOCATION  INDICATOR  SUBJECT     MEASURE FREQUENCY  TIME        Value\n",
       "3284       WLD  CROPYIELD     RICE  THND_TONNE         A  1994  361820.7121\n",
       "3285       WLD  CROPYIELD     RICE  THND_TONNE         A  1995  369091.1804\n",
       "3286       WLD  CROPYIELD     RICE  THND_TONNE         A  1996  384153.4470\n",
       "3287       WLD  CROPYIELD     RICE  THND_TONNE         A  1997  387716.7782\n",
       "3288       WLD  CROPYIELD     RICE  THND_TONNE         A  1998  389939.8791\n",
       "...        ...        ...      ...         ...       ...   ...          ...\n",
       "20434     OECD  CROPYIELD  SOYBEAN  THND_TONNE         A  2021  120466.7257\n",
       "20435     OECD  CROPYIELD  SOYBEAN  THND_TONNE         A  2022  122003.8408\n",
       "20436     OECD  CROPYIELD  SOYBEAN  THND_TONNE         A  2023  123434.7370\n",
       "20437     OECD  CROPYIELD  SOYBEAN  THND_TONNE         A  2024  124027.8756\n",
       "20438     OECD  CROPYIELD  SOYBEAN  THND_TONNE         A  2025  125133.8397\n",
       "\n",
       "[6877 rows x 7 columns]"
      ]
     },
     "execution_count": 12,
     "metadata": {},
     "output_type": "execute_result"
    }
   ],
   "source": [
    "df[df['MEASURE']=='THND_TONNE']"
   ]
  },
  {
   "cell_type": "code",
   "execution_count": 13,
   "id": "static-richardson",
   "metadata": {},
   "outputs": [
    {
     "data": {
      "text/html": [
       "<div>\n",
       "<style scoped>\n",
       "    .dataframe tbody tr th:only-of-type {\n",
       "        vertical-align: middle;\n",
       "    }\n",
       "\n",
       "    .dataframe tbody tr th {\n",
       "        vertical-align: top;\n",
       "    }\n",
       "\n",
       "    .dataframe thead th {\n",
       "        text-align: right;\n",
       "    }\n",
       "</style>\n",
       "<table border=\"1\" class=\"dataframe\">\n",
       "  <thead>\n",
       "    <tr style=\"text-align: right;\">\n",
       "      <th></th>\n",
       "      <th>LOCATION</th>\n",
       "      <th>INDICATOR</th>\n",
       "      <th>SUBJECT</th>\n",
       "      <th>MEASURE</th>\n",
       "      <th>FREQUENCY</th>\n",
       "      <th>TIME</th>\n",
       "      <th>Value</th>\n",
       "    </tr>\n",
       "  </thead>\n",
       "  <tbody>\n",
       "    <tr>\n",
       "      <th>3316</th>\n",
       "      <td>IRN</td>\n",
       "      <td>CROPYIELD</td>\n",
       "      <td>WHEAT</td>\n",
       "      <td>THND_HA</td>\n",
       "      <td>A</td>\n",
       "      <td>1990</td>\n",
       "      <td>6278.000260</td>\n",
       "    </tr>\n",
       "    <tr>\n",
       "      <th>3317</th>\n",
       "      <td>IRN</td>\n",
       "      <td>CROPYIELD</td>\n",
       "      <td>WHEAT</td>\n",
       "      <td>THND_HA</td>\n",
       "      <td>A</td>\n",
       "      <td>1991</td>\n",
       "      <td>6557.999758</td>\n",
       "    </tr>\n",
       "    <tr>\n",
       "      <th>3318</th>\n",
       "      <td>IRN</td>\n",
       "      <td>CROPYIELD</td>\n",
       "      <td>WHEAT</td>\n",
       "      <td>THND_HA</td>\n",
       "      <td>A</td>\n",
       "      <td>1992</td>\n",
       "      <td>6929.999940</td>\n",
       "    </tr>\n",
       "    <tr>\n",
       "      <th>3319</th>\n",
       "      <td>IRN</td>\n",
       "      <td>CROPYIELD</td>\n",
       "      <td>WHEAT</td>\n",
       "      <td>THND_HA</td>\n",
       "      <td>A</td>\n",
       "      <td>1993</td>\n",
       "      <td>7189.999794</td>\n",
       "    </tr>\n",
       "    <tr>\n",
       "      <th>3320</th>\n",
       "      <td>IRN</td>\n",
       "      <td>CROPYIELD</td>\n",
       "      <td>WHEAT</td>\n",
       "      <td>THND_HA</td>\n",
       "      <td>A</td>\n",
       "      <td>1994</td>\n",
       "      <td>6782.000195</td>\n",
       "    </tr>\n",
       "    <tr>\n",
       "      <th>...</th>\n",
       "      <td>...</td>\n",
       "      <td>...</td>\n",
       "      <td>...</td>\n",
       "      <td>...</td>\n",
       "      <td>...</td>\n",
       "      <td>...</td>\n",
       "      <td>...</td>\n",
       "    </tr>\n",
       "    <tr>\n",
       "      <th>20561</th>\n",
       "      <td>OECD</td>\n",
       "      <td>CROPYIELD</td>\n",
       "      <td>SOYBEAN</td>\n",
       "      <td>THND_HA</td>\n",
       "      <td>A</td>\n",
       "      <td>2021</td>\n",
       "      <td>37010.208830</td>\n",
       "    </tr>\n",
       "    <tr>\n",
       "      <th>20562</th>\n",
       "      <td>OECD</td>\n",
       "      <td>CROPYIELD</td>\n",
       "      <td>SOYBEAN</td>\n",
       "      <td>THND_HA</td>\n",
       "      <td>A</td>\n",
       "      <td>2022</td>\n",
       "      <td>37069.214850</td>\n",
       "    </tr>\n",
       "    <tr>\n",
       "      <th>20563</th>\n",
       "      <td>OECD</td>\n",
       "      <td>CROPYIELD</td>\n",
       "      <td>SOYBEAN</td>\n",
       "      <td>THND_HA</td>\n",
       "      <td>A</td>\n",
       "      <td>2023</td>\n",
       "      <td>37143.459750</td>\n",
       "    </tr>\n",
       "    <tr>\n",
       "      <th>20564</th>\n",
       "      <td>OECD</td>\n",
       "      <td>CROPYIELD</td>\n",
       "      <td>SOYBEAN</td>\n",
       "      <td>THND_HA</td>\n",
       "      <td>A</td>\n",
       "      <td>2024</td>\n",
       "      <td>37013.651900</td>\n",
       "    </tr>\n",
       "    <tr>\n",
       "      <th>20565</th>\n",
       "      <td>OECD</td>\n",
       "      <td>CROPYIELD</td>\n",
       "      <td>SOYBEAN</td>\n",
       "      <td>THND_HA</td>\n",
       "      <td>A</td>\n",
       "      <td>2025</td>\n",
       "      <td>37041.401580</td>\n",
       "    </tr>\n",
       "  </tbody>\n",
       "</table>\n",
       "<p>6863 rows × 7 columns</p>\n",
       "</div>"
      ],
      "text/plain": [
       "      LOCATION  INDICATOR  SUBJECT  MEASURE FREQUENCY  TIME         Value\n",
       "3316       IRN  CROPYIELD    WHEAT  THND_HA         A  1990   6278.000260\n",
       "3317       IRN  CROPYIELD    WHEAT  THND_HA         A  1991   6557.999758\n",
       "3318       IRN  CROPYIELD    WHEAT  THND_HA         A  1992   6929.999940\n",
       "3319       IRN  CROPYIELD    WHEAT  THND_HA         A  1993   7189.999794\n",
       "3320       IRN  CROPYIELD    WHEAT  THND_HA         A  1994   6782.000195\n",
       "...        ...        ...      ...      ...       ...   ...           ...\n",
       "20561     OECD  CROPYIELD  SOYBEAN  THND_HA         A  2021  37010.208830\n",
       "20562     OECD  CROPYIELD  SOYBEAN  THND_HA         A  2022  37069.214850\n",
       "20563     OECD  CROPYIELD  SOYBEAN  THND_HA         A  2023  37143.459750\n",
       "20564     OECD  CROPYIELD  SOYBEAN  THND_HA         A  2024  37013.651900\n",
       "20565     OECD  CROPYIELD  SOYBEAN  THND_HA         A  2025  37041.401580\n",
       "\n",
       "[6863 rows x 7 columns]"
      ]
     },
     "execution_count": 13,
     "metadata": {},
     "output_type": "execute_result"
    }
   ],
   "source": [
    "df[df['MEASURE']=='THND_HA']"
   ]
  },
  {
   "cell_type": "markdown",
   "id": "placed-arrangement",
   "metadata": {},
   "source": [
    "#### Finding maximum of Tonne per hectare "
   ]
  },
  {
   "cell_type": "code",
   "execution_count": 14,
   "id": "familiar-airplane",
   "metadata": {},
   "outputs": [
    {
     "data": {
      "text/plain": [
       "15.0"
      ]
     },
     "execution_count": 14,
     "metadata": {},
     "output_type": "execute_result"
    }
   ],
   "source": [
    "df[df['MEASURE']=='TONNE_HA']['Value'].max()"
   ]
  },
  {
   "cell_type": "markdown",
   "id": "owned-leather",
   "metadata": {},
   "source": [
    "#### Making a new data frame"
   ]
  },
  {
   "cell_type": "code",
   "execution_count": 15,
   "id": "deadly-viking",
   "metadata": {},
   "outputs": [
    {
     "data": {
      "text/html": [
       "<div>\n",
       "<style scoped>\n",
       "    .dataframe tbody tr th:only-of-type {\n",
       "        vertical-align: middle;\n",
       "    }\n",
       "\n",
       "    .dataframe tbody tr th {\n",
       "        vertical-align: top;\n",
       "    }\n",
       "\n",
       "    .dataframe thead th {\n",
       "        text-align: right;\n",
       "    }\n",
       "</style>\n",
       "<table border=\"1\" class=\"dataframe\">\n",
       "  <thead>\n",
       "    <tr style=\"text-align: right;\">\n",
       "      <th></th>\n",
       "      <th>LOCATION</th>\n",
       "      <th>INDICATOR</th>\n",
       "      <th>SUBJECT</th>\n",
       "      <th>MEASURE</th>\n",
       "      <th>FREQUENCY</th>\n",
       "      <th>TIME</th>\n",
       "      <th>Value</th>\n",
       "    </tr>\n",
       "  </thead>\n",
       "  <tbody>\n",
       "    <tr>\n",
       "      <th>0</th>\n",
       "      <td>AUS</td>\n",
       "      <td>CROPYIELD</td>\n",
       "      <td>RICE</td>\n",
       "      <td>TONNE_HA</td>\n",
       "      <td>A</td>\n",
       "      <td>1990</td>\n",
       "      <td>8.314607</td>\n",
       "    </tr>\n",
       "    <tr>\n",
       "      <th>1</th>\n",
       "      <td>AUS</td>\n",
       "      <td>CROPYIELD</td>\n",
       "      <td>RICE</td>\n",
       "      <td>TONNE_HA</td>\n",
       "      <td>A</td>\n",
       "      <td>1991</td>\n",
       "      <td>8.394737</td>\n",
       "    </tr>\n",
       "    <tr>\n",
       "      <th>2</th>\n",
       "      <td>AUS</td>\n",
       "      <td>CROPYIELD</td>\n",
       "      <td>RICE</td>\n",
       "      <td>TONNE_HA</td>\n",
       "      <td>A</td>\n",
       "      <td>1992</td>\n",
       "      <td>8.094340</td>\n",
       "    </tr>\n",
       "    <tr>\n",
       "      <th>3</th>\n",
       "      <td>AUS</td>\n",
       "      <td>CROPYIELD</td>\n",
       "      <td>RICE</td>\n",
       "      <td>TONNE_HA</td>\n",
       "      <td>A</td>\n",
       "      <td>1993</td>\n",
       "      <td>8.336000</td>\n",
       "    </tr>\n",
       "    <tr>\n",
       "      <th>4</th>\n",
       "      <td>AUS</td>\n",
       "      <td>CROPYIELD</td>\n",
       "      <td>RICE</td>\n",
       "      <td>TONNE_HA</td>\n",
       "      <td>A</td>\n",
       "      <td>1994</td>\n",
       "      <td>8.537815</td>\n",
       "    </tr>\n",
       "    <tr>\n",
       "      <th>...</th>\n",
       "      <td>...</td>\n",
       "      <td>...</td>\n",
       "      <td>...</td>\n",
       "      <td>...</td>\n",
       "      <td>...</td>\n",
       "      <td>...</td>\n",
       "      <td>...</td>\n",
       "    </tr>\n",
       "    <tr>\n",
       "      <th>20497</th>\n",
       "      <td>OECD</td>\n",
       "      <td>CROPYIELD</td>\n",
       "      <td>SOYBEAN</td>\n",
       "      <td>TONNE_HA</td>\n",
       "      <td>A</td>\n",
       "      <td>2021</td>\n",
       "      <td>3.254959</td>\n",
       "    </tr>\n",
       "    <tr>\n",
       "      <th>20498</th>\n",
       "      <td>OECD</td>\n",
       "      <td>CROPYIELD</td>\n",
       "      <td>SOYBEAN</td>\n",
       "      <td>TONNE_HA</td>\n",
       "      <td>A</td>\n",
       "      <td>2022</td>\n",
       "      <td>3.291244</td>\n",
       "    </tr>\n",
       "    <tr>\n",
       "      <th>20499</th>\n",
       "      <td>OECD</td>\n",
       "      <td>CROPYIELD</td>\n",
       "      <td>SOYBEAN</td>\n",
       "      <td>TONNE_HA</td>\n",
       "      <td>A</td>\n",
       "      <td>2023</td>\n",
       "      <td>3.323189</td>\n",
       "    </tr>\n",
       "    <tr>\n",
       "      <th>20500</th>\n",
       "      <td>OECD</td>\n",
       "      <td>CROPYIELD</td>\n",
       "      <td>SOYBEAN</td>\n",
       "      <td>TONNE_HA</td>\n",
       "      <td>A</td>\n",
       "      <td>2024</td>\n",
       "      <td>3.350868</td>\n",
       "    </tr>\n",
       "    <tr>\n",
       "      <th>20501</th>\n",
       "      <td>OECD</td>\n",
       "      <td>CROPYIELD</td>\n",
       "      <td>SOYBEAN</td>\n",
       "      <td>TONNE_HA</td>\n",
       "      <td>A</td>\n",
       "      <td>2025</td>\n",
       "      <td>3.378216</td>\n",
       "    </tr>\n",
       "  </tbody>\n",
       "</table>\n",
       "<p>6826 rows × 7 columns</p>\n",
       "</div>"
      ],
      "text/plain": [
       "      LOCATION  INDICATOR  SUBJECT   MEASURE FREQUENCY  TIME     Value\n",
       "0          AUS  CROPYIELD     RICE  TONNE_HA         A  1990  8.314607\n",
       "1          AUS  CROPYIELD     RICE  TONNE_HA         A  1991  8.394737\n",
       "2          AUS  CROPYIELD     RICE  TONNE_HA         A  1992  8.094340\n",
       "3          AUS  CROPYIELD     RICE  TONNE_HA         A  1993  8.336000\n",
       "4          AUS  CROPYIELD     RICE  TONNE_HA         A  1994  8.537815\n",
       "...        ...        ...      ...       ...       ...   ...       ...\n",
       "20497     OECD  CROPYIELD  SOYBEAN  TONNE_HA         A  2021  3.254959\n",
       "20498     OECD  CROPYIELD  SOYBEAN  TONNE_HA         A  2022  3.291244\n",
       "20499     OECD  CROPYIELD  SOYBEAN  TONNE_HA         A  2023  3.323189\n",
       "20500     OECD  CROPYIELD  SOYBEAN  TONNE_HA         A  2024  3.350868\n",
       "20501     OECD  CROPYIELD  SOYBEAN  TONNE_HA         A  2025  3.378216\n",
       "\n",
       "[6826 rows x 7 columns]"
      ]
     },
     "execution_count": 15,
     "metadata": {},
     "output_type": "execute_result"
    }
   ],
   "source": [
    "df_TONNE_HA=df[df['MEASURE']=='TONNE_HA']\n",
    "df_TONNE_HA"
   ]
  },
  {
   "cell_type": "markdown",
   "id": "through-harassment",
   "metadata": {},
   "source": [
    "#### Exploring Time feature"
   ]
  },
  {
   "cell_type": "code",
   "execution_count": 16,
   "id": "indoor-reservoir",
   "metadata": {},
   "outputs": [
    {
     "data": {
      "text/plain": [
       "array([1990, 1991, 1992, 1993, 1994, 1995, 1996, 1997, 1998, 1999, 2000,\n",
       "       2001, 2002, 2003, 2004, 2005, 2006, 2007, 2008, 2009, 2010, 2011,\n",
       "       2012, 2013, 2014, 2015, 2016, 2017, 2018, 2019, 2020, 2021, 2022,\n",
       "       2023, 2024, 2025], dtype=int64)"
      ]
     },
     "execution_count": 16,
     "metadata": {},
     "output_type": "execute_result"
    }
   ],
   "source": [
    "df_TONNE_HA['TIME'].unique()"
   ]
  },
  {
   "cell_type": "code",
   "execution_count": 17,
   "id": "qualified-alcohol",
   "metadata": {},
   "outputs": [
    {
     "data": {
      "text/plain": [
       "array([1990, 1991, 1992, 1993, 1994, 1995, 1996, 1997, 1998, 1999, 2000,\n",
       "       2001, 2002, 2003, 2004, 2005, 2006, 2007, 2008, 2009, 2010, 2011,\n",
       "       2012, 2013, 2014, 2015, 2016, 2017, 2018, 2019, 2020, 2021],\n",
       "      dtype=int64)"
      ]
     },
     "execution_count": 17,
     "metadata": {},
     "output_type": "execute_result"
    }
   ],
   "source": [
    "df_TONNE_HA=df_TONNE_HA[df_TONNE_HA['TIME']<=2021]\n",
    "df_TONNE_HA['TIME'].unique()"
   ]
  },
  {
   "cell_type": "markdown",
   "id": "molecular-shadow",
   "metadata": {},
   "source": [
    "#### Exploring Location"
   ]
  },
  {
   "cell_type": "code",
   "execution_count": 18,
   "id": "sweet-concrete",
   "metadata": {},
   "outputs": [
    {
     "data": {
      "text/plain": [
       "array(['AUS', 'CAN', 'JPN', 'KOR', 'MEX', 'NZL', 'TUR', 'USA', 'DZA',\n",
       "       'ARG', 'BGD', 'BRA', 'CHL', 'CHN', 'COL', 'EGY', 'ETH', 'GHA',\n",
       "       'IND', 'IDN', 'IRN', 'KAZ', 'MYS', 'MOZ', 'NGA', 'PAK', 'PRY',\n",
       "       'PER', 'PHL', 'RUS', 'SAU', 'ZAF', 'SDN', 'TZA', 'THA', 'UKR',\n",
       "       'URY', 'VNM', 'ZMB', 'WLD', 'SSA', 'OECD', 'BRICS', 'NOR', 'CHE',\n",
       "       'EU28', 'ISR', 'HTI'], dtype=object)"
      ]
     },
     "execution_count": 18,
     "metadata": {},
     "output_type": "execute_result"
    }
   ],
   "source": [
    "df_TONNE_HA['LOCATION'].unique()"
   ]
  },
  {
   "cell_type": "code",
   "execution_count": 19,
   "id": "aerial-titanium",
   "metadata": {},
   "outputs": [
    {
     "data": {
      "text/plain": [
       "48"
      ]
     },
     "execution_count": 19,
     "metadata": {},
     "output_type": "execute_result"
    }
   ],
   "source": [
    "len(df_TONNE_HA['LOCATION'].unique())"
   ]
  },
  {
   "cell_type": "markdown",
   "id": "failing-syria",
   "metadata": {},
   "source": [
    "#### Showing Mean values  crop production of every country "
   ]
  },
  {
   "cell_type": "code",
   "execution_count": 20,
   "id": "exterior-taste",
   "metadata": {},
   "outputs": [
    {
     "data": {
      "text/plain": [
       "LOCATION\n",
       "EGY      5.666778\n",
       "EU28     5.284387\n",
       "USA      4.991947\n",
       "CHL      4.879347\n",
       "OECD     4.811134\n",
       "AUS      4.565987\n",
       "NZL      4.515404\n",
       "CHE      4.501183\n",
       "TUR      3.961190\n",
       "CHN      3.955179\n",
       "ARG      3.640061\n",
       "KOR      3.637315\n",
       "URY      3.449577\n",
       "CAN      3.370863\n",
       "WLD      3.298083\n",
       "MEX      3.205045\n",
       "JPN      3.172529\n",
       "BRICS    3.094354\n",
       "IRN      3.059052\n",
       "UKR      2.926829\n",
       "BRA      2.796743\n",
       "BGD      2.794758\n",
       "PER      2.788810\n",
       "PRY      2.679273\n",
       "ZMB      2.503968\n",
       "ISR      2.459814\n",
       "COL      2.428569\n",
       "SAU      2.382612\n",
       "ZAF      2.324519\n",
       "RUS      2.215151\n",
       "KAZ      2.172629\n",
       "PAK      2.116438\n",
       "ETH      2.110397\n",
       "IDN      2.018955\n",
       "VNM      1.997118\n",
       "IND      1.979794\n",
       "SDN      1.664600\n",
       "THA      1.633828\n",
       "PHL      1.424363\n",
       "NOR      1.391830\n",
       "NGA      1.379987\n",
       "SSA      1.318223\n",
       "MYS      1.302415\n",
       "GHA      1.112780\n",
       "TZA      1.093537\n",
       "MOZ      0.867521\n",
       "HTI      0.829121\n",
       "DZA      0.732706\n",
       "Name: Value, dtype: float64"
      ]
     },
     "execution_count": 20,
     "metadata": {},
     "output_type": "execute_result"
    }
   ],
   "source": [
    "df_TONNE_HA.groupby('LOCATION')['Value'].mean().sort_values(ascending=False)"
   ]
  },
  {
   "cell_type": "markdown",
   "id": "commercial-custody",
   "metadata": {},
   "source": [
    "#### Mean Value on the basis of year:"
   ]
  },
  {
   "cell_type": "code",
   "execution_count": 21,
   "id": "virtual-commonwealth",
   "metadata": {},
   "outputs": [
    {
     "data": {
      "text/plain": [
       "TIME\n",
       "2021    3.271990\n",
       "2020    3.235173\n",
       "2019    3.198612\n",
       "2018    3.163266\n",
       "2017    3.129692\n",
       "2013    3.112395\n",
       "2015    3.082031\n",
       "2016    3.080635\n",
       "2014    3.073618\n",
       "2012    3.061141\n",
       "2011    3.035804\n",
       "2010    2.944634\n",
       "2009    2.911479\n",
       "2008    2.875256\n",
       "2007    2.845093\n",
       "2005    2.807404\n",
       "2006    2.805350\n",
       "2004    2.764892\n",
       "2002    2.628710\n",
       "2003    2.584151\n",
       "2001    2.540902\n",
       "2000    2.495138\n",
       "1999    2.454416\n",
       "1998    2.427348\n",
       "1996    2.369926\n",
       "1997    2.342488\n",
       "1995    2.293849\n",
       "1994    2.266535\n",
       "1993    2.184498\n",
       "1992    2.144870\n",
       "1991    2.132564\n",
       "1990    2.064785\n",
       "Name: Value, dtype: float64"
      ]
     },
     "execution_count": 21,
     "metadata": {},
     "output_type": "execute_result"
    }
   ],
   "source": [
    "df_TONNE_HA.groupby('TIME')['Value'].mean().sort_values(ascending=False)"
   ]
  },
  {
   "cell_type": "markdown",
   "id": "simple-comparative",
   "metadata": {},
   "source": [
    "#### Mean Value on the basis of types of crops:"
   ]
  },
  {
   "cell_type": "code",
   "execution_count": 22,
   "id": "dominant-authorization",
   "metadata": {},
   "outputs": [
    {
     "data": {
      "text/plain": [
       "SUBJECT\n",
       "MAIZE      4.166053\n",
       "RICE       2.638179\n",
       "WHEAT      2.534300\n",
       "SOYBEAN    1.573560\n",
       "Name: Value, dtype: float64"
      ]
     },
     "execution_count": 22,
     "metadata": {},
     "output_type": "execute_result"
    }
   ],
   "source": [
    "df_TONNE_HA.groupby('SUBJECT')['Value'].mean().sort_values(ascending=False)"
   ]
  },
  {
   "cell_type": "markdown",
   "id": "documentary-corporation",
   "metadata": {},
   "source": [
    "## Descriptive stats "
   ]
  },
  {
   "cell_type": "markdown",
   "id": "suffering-forwarding",
   "metadata": {},
   "source": [
    "#### Mean of crop production value in Ireland :"
   ]
  },
  {
   "cell_type": "code",
   "execution_count": 23,
   "id": "activated-duncan",
   "metadata": {},
   "outputs": [
    {
     "data": {
      "text/plain": [
       "14.127272727272727"
      ]
     },
     "execution_count": 23,
     "metadata": {},
     "output_type": "execute_result"
    }
   ],
   "source": [
    "df2['Crop_Yield_per_Hectare_in_Tonnes'].mean()"
   ]
  },
  {
   "cell_type": "code",
   "execution_count": 24,
   "id": "compliant-canvas",
   "metadata": {},
   "outputs": [
    {
     "data": {
      "text/plain": [
       "73.7"
      ]
     },
     "execution_count": 24,
     "metadata": {},
     "output_type": "execute_result"
    }
   ],
   "source": [
    "df2['Crop_Yield_per_Hectare_in_Tonnes'].max()"
   ]
  },
  {
   "cell_type": "code",
   "execution_count": 25,
   "id": "floating-integral",
   "metadata": {},
   "outputs": [
    {
     "data": {
      "text/plain": [
       "0.0"
      ]
     },
     "execution_count": 25,
     "metadata": {},
     "output_type": "execute_result"
    }
   ],
   "source": [
    "df2['Crop_Yield_per_Hectare_in_Tonnes'].min()"
   ]
  },
  {
   "cell_type": "code",
   "execution_count": 26,
   "id": "capital-television",
   "metadata": {},
   "outputs": [
    {
     "data": {
      "text/plain": [
       "16.21486033381029"
      ]
     },
     "execution_count": 26,
     "metadata": {},
     "output_type": "execute_result"
    }
   ],
   "source": [
    "df2['Crop_Yield_per_Hectare_in_Tonnes'].std()"
   ]
  },
  {
   "cell_type": "code",
   "execution_count": 27,
   "id": "selected-setting",
   "metadata": {},
   "outputs": [
    {
     "data": {
      "text/plain": [
       "count    550.000000\n",
       "mean      14.127273\n",
       "std       16.214860\n",
       "min        0.000000\n",
       "25%        6.100000\n",
       "50%        7.600000\n",
       "75%        9.100000\n",
       "max       73.700000\n",
       "Name: Crop_Yield_per_Hectare_in_Tonnes, dtype: float64"
      ]
     },
     "execution_count": 27,
     "metadata": {},
     "output_type": "execute_result"
    }
   ],
   "source": [
    "df2['Crop_Yield_per_Hectare_in_Tonnes'].describe()"
   ]
  },
  {
   "cell_type": "code",
   "execution_count": 28,
   "id": "coastal-hobby",
   "metadata": {},
   "outputs": [
    {
     "data": {
      "text/plain": [
       "10.520000000000005"
      ]
     },
     "execution_count": 28,
     "metadata": {},
     "output_type": "execute_result"
    }
   ],
   "source": [
    "df2['Crop_Yield_per_Hectare_in_Tonnes'].quantile(0.80)"
   ]
  },
  {
   "cell_type": "code",
   "execution_count": 29,
   "id": "biblical-relations",
   "metadata": {},
   "outputs": [
    {
     "data": {
      "text/plain": [
       "3.5450000000000004"
      ]
     },
     "execution_count": 29,
     "metadata": {},
     "output_type": "execute_result"
    }
   ],
   "source": [
    "df2['Crop_Yield_per_Hectare_in_Tonnes'].quantile(0.05)"
   ]
  },
  {
   "cell_type": "markdown",
   "id": "willing-rotation",
   "metadata": {},
   "source": [
    "## Inferential statistics "
   ]
  },
  {
   "cell_type": "code",
   "execution_count": 30,
   "id": "broadband-coordinate",
   "metadata": {},
   "outputs": [
    {
     "data": {
      "text/plain": [
       "0        0.554307\n",
       "1        0.559649\n",
       "2        0.539623\n",
       "3        0.555733\n",
       "4        0.569188\n",
       "           ...   \n",
       "20493    0.208480\n",
       "20494    0.211120\n",
       "20495    0.213244\n",
       "20496    0.214739\n",
       "20497    0.216997\n",
       "Name: Value, Length: 6062, dtype: float64"
      ]
     },
     "execution_count": 30,
     "metadata": {},
     "output_type": "execute_result"
    }
   ],
   "source": [
    "normal_distribution=(df_TONNE_HA['Value']-df_TONNE_HA['Value'].min())/(df_TONNE_HA['Value'].max()-df_TONNE_HA['Value'].min())\n",
    "normal_distribution"
   ]
  },
  {
   "cell_type": "markdown",
   "id": "coral-harvest",
   "metadata": {},
   "source": [
    "#### Chi-square test"
   ]
  },
  {
   "cell_type": "code",
   "execution_count": 31,
   "id": "fabulous-occasions",
   "metadata": {},
   "outputs": [],
   "source": [
    "import scipy.stats as stats"
   ]
  },
  {
   "cell_type": "code",
   "execution_count": 33,
   "id": "first-israeli",
   "metadata": {},
   "outputs": [
    {
     "name": "stdout",
     "output_type": "stream",
     "text": [
      "SUBJECT   MAIZE  RICE  SOYBEAN  WHEAT\n",
      "LOCATION                             \n",
      "ARG          32    32       32     32\n",
      "AUS          32    32       32     32\n",
      "BGD          32    32       32     32\n",
      "BRA          32    32       32     32\n",
      "BRICS        32    32       32     32\n",
      "CAN          32    32       32     32\n",
      "CHE          32    32       32     32\n",
      "CHL          32    32       32     32\n",
      "CHN          32    32       32     32\n",
      "COL          32    32       32     32\n",
      "DZA          32    32       32     32\n",
      "EGY          32    32       32     32\n",
      "ETH          32    32       32     32\n",
      "EU28         28    28        0     27\n",
      "GHA          32    32       32     32\n",
      "HTI          32    32       32     32\n",
      "IDN          32    32       32     32\n",
      "IND          32    32       32     32\n",
      "IRN          32    32       32     32\n",
      "ISR          32    32       32     32\n",
      "JPN          32    32       32     32\n",
      "KAZ          32    32       32     32\n",
      "KOR          32    32       32     32\n",
      "MEX          32    32       32     32\n",
      "MOZ          32    32       32     32\n",
      "MYS          32    32       32     32\n",
      "NGA          32    32       32     32\n",
      "NOR          32    32       32     32\n",
      "NZL          32    31       32     32\n",
      "OECD         28    28       27     27\n",
      "PAK          32    32       32     32\n",
      "PER          32    32       32     32\n",
      "PHL          32    32       32     32\n",
      "PRY          32    32       32     32\n",
      "RUS          32    32       32     32\n",
      "SAU          32    32       32     32\n",
      "SDN          32    32       32     32\n",
      "SSA          32    32       32     32\n",
      "THA          32    32       32     32\n",
      "TUR          32    32       32     32\n",
      "TZA          32    32       32     32\n",
      "UKR          32    32       32     32\n",
      "URY          32    32       32     32\n",
      "USA          32    32       32     32\n",
      "VNM          32    32       32     32\n",
      "WLD          28    28       27     27\n",
      "ZAF          32    32       32     32\n",
      "ZMB          32    32       32     32\n"
     ]
    }
   ],
   "source": [
    "dataset_table=pd.crosstab(df_TONNE_HA['LOCATION'],df_TONNE_HA['SUBJECT'])\n",
    "print(dataset_table)"
   ]
  },
  {
   "cell_type": "code",
   "execution_count": 34,
   "id": "scheduled-thermal",
   "metadata": {},
   "outputs": [
    {
     "data": {
      "text/plain": [
       "array([[32, 32, 32, 32],\n",
       "       [32, 32, 32, 32],\n",
       "       [32, 32, 32, 32],\n",
       "       [32, 32, 32, 32],\n",
       "       [32, 32, 32, 32],\n",
       "       [32, 32, 32, 32],\n",
       "       [32, 32, 32, 32],\n",
       "       [32, 32, 32, 32],\n",
       "       [32, 32, 32, 32],\n",
       "       [32, 32, 32, 32],\n",
       "       [32, 32, 32, 32],\n",
       "       [32, 32, 32, 32],\n",
       "       [32, 32, 32, 32],\n",
       "       [28, 28,  0, 27],\n",
       "       [32, 32, 32, 32],\n",
       "       [32, 32, 32, 32],\n",
       "       [32, 32, 32, 32],\n",
       "       [32, 32, 32, 32],\n",
       "       [32, 32, 32, 32],\n",
       "       [32, 32, 32, 32],\n",
       "       [32, 32, 32, 32],\n",
       "       [32, 32, 32, 32],\n",
       "       [32, 32, 32, 32],\n",
       "       [32, 32, 32, 32],\n",
       "       [32, 32, 32, 32],\n",
       "       [32, 32, 32, 32],\n",
       "       [32, 32, 32, 32],\n",
       "       [32, 32, 32, 32],\n",
       "       [32, 31, 32, 32],\n",
       "       [28, 28, 27, 27],\n",
       "       [32, 32, 32, 32],\n",
       "       [32, 32, 32, 32],\n",
       "       [32, 32, 32, 32],\n",
       "       [32, 32, 32, 32],\n",
       "       [32, 32, 32, 32],\n",
       "       [32, 32, 32, 32],\n",
       "       [32, 32, 32, 32],\n",
       "       [32, 32, 32, 32],\n",
       "       [32, 32, 32, 32],\n",
       "       [32, 32, 32, 32],\n",
       "       [32, 32, 32, 32],\n",
       "       [32, 32, 32, 32],\n",
       "       [32, 32, 32, 32],\n",
       "       [32, 32, 32, 32],\n",
       "       [32, 32, 32, 32],\n",
       "       [28, 28, 27, 27],\n",
       "       [32, 32, 32, 32],\n",
       "       [32, 32, 32, 32]], dtype=int64)"
      ]
     },
     "execution_count": 34,
     "metadata": {},
     "output_type": "execute_result"
    }
   ],
   "source": [
    "dataset_table.values "
   ]
  },
  {
   "cell_type": "code",
   "execution_count": 40,
   "id": "respective-albert",
   "metadata": {},
   "outputs": [
    {
     "name": "stdout",
     "output_type": "stream",
     "text": [
      "Observed Values :-\n",
      " [[32 32 32 32]\n",
      " [32 32 32 32]\n",
      " [32 32 32 32]\n",
      " [32 32 32 32]\n",
      " [32 32 32 32]\n",
      " [32 32 32 32]\n",
      " [32 32 32 32]\n",
      " [32 32 32 32]\n",
      " [32 32 32 32]\n",
      " [32 32 32 32]\n",
      " [32 32 32 32]\n",
      " [32 32 32 32]\n",
      " [32 32 32 32]\n",
      " [28 28  0 27]\n",
      " [32 32 32 32]\n",
      " [32 32 32 32]\n",
      " [32 32 32 32]\n",
      " [32 32 32 32]\n",
      " [32 32 32 32]\n",
      " [32 32 32 32]\n",
      " [32 32 32 32]\n",
      " [32 32 32 32]\n",
      " [32 32 32 32]\n",
      " [32 32 32 32]\n",
      " [32 32 32 32]\n",
      " [32 32 32 32]\n",
      " [32 32 32 32]\n",
      " [32 32 32 32]\n",
      " [32 31 32 32]\n",
      " [28 28 27 27]\n",
      " [32 32 32 32]\n",
      " [32 32 32 32]\n",
      " [32 32 32 32]\n",
      " [32 32 32 32]\n",
      " [32 32 32 32]\n",
      " [32 32 32 32]\n",
      " [32 32 32 32]\n",
      " [32 32 32 32]\n",
      " [32 32 32 32]\n",
      " [32 32 32 32]\n",
      " [32 32 32 32]\n",
      " [32 32 32 32]\n",
      " [32 32 32 32]\n",
      " [32 32 32 32]\n",
      " [32 32 32 32]\n",
      " [28 28 27 27]\n",
      " [32 32 32 32]\n",
      " [32 32 32 32]]\n"
     ]
    }
   ],
   "source": [
    "#Observed Values\n",
    "Observed_Values = dataset_table.values \n",
    "print(\"Observed Values :-\\n\",Observed_Values)"
   ]
  },
  {
   "cell_type": "code",
   "execution_count": 35,
   "id": "ideal-therapist",
   "metadata": {},
   "outputs": [],
   "source": [
    "val=stats.chi2_contingency(dataset_table)"
   ]
  },
  {
   "cell_type": "code",
   "execution_count": 36,
   "id": "known-canal",
   "metadata": {},
   "outputs": [
    {
     "data": {
      "text/plain": [
       "(27.646639164611248,\n",
       " 1.0,\n",
       " 141,\n",
       " array([[32.17947872, 32.15836358, 31.54602441, 32.11613329],\n",
       "        [32.17947872, 32.15836358, 31.54602441, 32.11613329],\n",
       "        [32.17947872, 32.15836358, 31.54602441, 32.11613329],\n",
       "        [32.17947872, 32.15836358, 31.54602441, 32.11613329],\n",
       "        [32.17947872, 32.15836358, 31.54602441, 32.11613329],\n",
       "        [32.17947872, 32.15836358, 31.54602441, 32.11613329],\n",
       "        [32.17947872, 32.15836358, 31.54602441, 32.11613329],\n",
       "        [32.17947872, 32.15836358, 31.54602441, 32.11613329],\n",
       "        [32.17947872, 32.15836358, 31.54602441, 32.11613329],\n",
       "        [32.17947872, 32.15836358, 31.54602441, 32.11613329],\n",
       "        [32.17947872, 32.15836358, 31.54602441, 32.11613329],\n",
       "        [32.17947872, 32.15836358, 31.54602441, 32.11613329],\n",
       "        [32.17947872, 32.15836358, 31.54602441, 32.11613329],\n",
       "        [20.86638073, 20.85268888, 20.45562521, 20.82530518],\n",
       "        [32.17947872, 32.15836358, 31.54602441, 32.11613329],\n",
       "        [32.17947872, 32.15836358, 31.54602441, 32.11613329],\n",
       "        [32.17947872, 32.15836358, 31.54602441, 32.11613329],\n",
       "        [32.17947872, 32.15836358, 31.54602441, 32.11613329],\n",
       "        [32.17947872, 32.15836358, 31.54602441, 32.11613329],\n",
       "        [32.17947872, 32.15836358, 31.54602441, 32.11613329],\n",
       "        [32.17947872, 32.15836358, 31.54602441, 32.11613329],\n",
       "        [32.17947872, 32.15836358, 31.54602441, 32.11613329],\n",
       "        [32.17947872, 32.15836358, 31.54602441, 32.11613329],\n",
       "        [32.17947872, 32.15836358, 31.54602441, 32.11613329],\n",
       "        [32.17947872, 32.15836358, 31.54602441, 32.11613329],\n",
       "        [32.17947872, 32.15836358, 31.54602441, 32.11613329],\n",
       "        [32.17947872, 32.15836358, 31.54602441, 32.11613329],\n",
       "        [32.17947872, 32.15836358, 31.54602441, 32.11613329],\n",
       "        [31.92807654, 31.90712636, 31.2995711 , 31.865226  ],\n",
       "        [27.65423952, 27.6360937 , 27.10986473, 27.59980205],\n",
       "        [32.17947872, 32.15836358, 31.54602441, 32.11613329],\n",
       "        [32.17947872, 32.15836358, 31.54602441, 32.11613329],\n",
       "        [32.17947872, 32.15836358, 31.54602441, 32.11613329],\n",
       "        [32.17947872, 32.15836358, 31.54602441, 32.11613329],\n",
       "        [32.17947872, 32.15836358, 31.54602441, 32.11613329],\n",
       "        [32.17947872, 32.15836358, 31.54602441, 32.11613329],\n",
       "        [32.17947872, 32.15836358, 31.54602441, 32.11613329],\n",
       "        [32.17947872, 32.15836358, 31.54602441, 32.11613329],\n",
       "        [32.17947872, 32.15836358, 31.54602441, 32.11613329],\n",
       "        [32.17947872, 32.15836358, 31.54602441, 32.11613329],\n",
       "        [32.17947872, 32.15836358, 31.54602441, 32.11613329],\n",
       "        [32.17947872, 32.15836358, 31.54602441, 32.11613329],\n",
       "        [32.17947872, 32.15836358, 31.54602441, 32.11613329],\n",
       "        [32.17947872, 32.15836358, 31.54602441, 32.11613329],\n",
       "        [32.17947872, 32.15836358, 31.54602441, 32.11613329],\n",
       "        [27.65423952, 27.6360937 , 27.10986473, 27.59980205],\n",
       "        [32.17947872, 32.15836358, 31.54602441, 32.11613329],\n",
       "        [32.17947872, 32.15836358, 31.54602441, 32.11613329]]))"
      ]
     },
     "execution_count": 36,
     "metadata": {},
     "output_type": "execute_result"
    }
   ],
   "source": [
    "val"
   ]
  },
  {
   "cell_type": "code",
   "execution_count": 37,
   "id": "recovered-allergy",
   "metadata": {},
   "outputs": [],
   "source": [
    "Expected_Values=val[3]"
   ]
  },
  {
   "cell_type": "code",
   "execution_count": 38,
   "id": "chronic-method",
   "metadata": {},
   "outputs": [
    {
     "name": "stdout",
     "output_type": "stream",
     "text": [
      "Degree of Freedom:- 1\n"
     ]
    }
   ],
   "source": [
    "no_of_rows=len(dataset_table.iloc[0:2,0])\n",
    "no_of_columns=len(dataset_table.iloc[0,0:2])\n",
    "ddof=(no_of_rows-1)*(no_of_columns-1)\n",
    "print(\"Degree of Freedom:-\",ddof)\n",
    "alpha = 0.05"
   ]
  },
  {
   "cell_type": "code",
   "execution_count": 41,
   "id": "actual-retention",
   "metadata": {},
   "outputs": [],
   "source": [
    "from scipy.stats import chi2\n",
    "chi_square=sum([(o-e)**2./e for o,e in zip(Observed_Values,Expected_Values)])\n",
    "chi_square_statistic=chi_square[0]+chi_square[1]"
   ]
  },
  {
   "cell_type": "code",
   "execution_count": 42,
   "id": "sporting-isolation",
   "metadata": {},
   "outputs": [
    {
     "name": "stdout",
     "output_type": "stream",
     "text": [
      "chi-square statistic:- 5.011079995341223\n"
     ]
    }
   ],
   "source": [
    "print(\"chi-square statistic:-\",chi_square_statistic)"
   ]
  },
  {
   "cell_type": "code",
   "execution_count": 43,
   "id": "removable-external",
   "metadata": {},
   "outputs": [
    {
     "name": "stdout",
     "output_type": "stream",
     "text": [
      "critical_value: 3.841458820694124\n"
     ]
    }
   ],
   "source": [
    "critical_value=chi2.ppf(q=1-alpha,df=ddof)\n",
    "print('critical_value:',critical_value)"
   ]
  },
  {
   "cell_type": "code",
   "execution_count": 44,
   "id": "orange-reader",
   "metadata": {},
   "outputs": [
    {
     "name": "stdout",
     "output_type": "stream",
     "text": [
      "p-value: 0.025185590452726503\n",
      "Significance level:  0.05\n",
      "Degree of Freedom:  1\n",
      "p-value: 0.025185590452726503\n"
     ]
    }
   ],
   "source": [
    "#p-value\n",
    "p_value=1-chi2.cdf(x=chi_square_statistic,df=ddof)\n",
    "print('p-value:',p_value)\n",
    "print('Significance level: ',alpha)\n",
    "print('Degree of Freedom: ',ddof)\n",
    "print('p-value:',p_value)"
   ]
  },
  {
   "cell_type": "code",
   "execution_count": 45,
   "id": "explicit-boulder",
   "metadata": {},
   "outputs": [
    {
     "name": "stdout",
     "output_type": "stream",
     "text": [
      "Reject H0,There is a relationship between 2 categorical variables\n",
      "Reject H0,There is a relationship between 2 categorical variables\n"
     ]
    }
   ],
   "source": [
    "if chi_square_statistic>=critical_value:\n",
    "    print(\"Reject H0,There is a relationship between 2 categorical variables\")\n",
    "else:\n",
    "    print(\"Retain H0,There is no relationship between 2 categorical variables\")\n",
    "    \n",
    "if p_value<=alpha:\n",
    "    print(\"Reject H0,There is a relationship between 2 categorical variables\")\n",
    "else:\n",
    "    print(\"Retain H0,There is no relationship between 2 categorical variables\")"
   ]
  },
  {
   "cell_type": "markdown",
   "id": "meaningful-large",
   "metadata": {},
   "source": [
    "### t_test for one sample"
   ]
  },
  {
   "cell_type": "code",
   "execution_count": 65,
   "id": "crazy-leave",
   "metadata": {},
   "outputs": [
    {
     "data": {
      "text/plain": [
       "array([ 2.1779964 ,  0.67599384,  2.08930183,  2.61651151, 10.49513331,\n",
       "        0.75442271,  5.58465277,  2.        ,  1.43936384,  2.93761253])"
      ]
     },
     "execution_count": 65,
     "metadata": {},
     "output_type": "execute_result"
    }
   ],
   "source": [
    "sample_size=10\n",
    "sample=np.random.choice(df_TONNE_HA['Value'],sample_size)\n",
    "sample"
   ]
  },
  {
   "cell_type": "code",
   "execution_count": 53,
   "id": "positive-voluntary",
   "metadata": {},
   "outputs": [],
   "source": [
    "from scipy.stats import ttest_1samp"
   ]
  },
  {
   "cell_type": "code",
   "execution_count": 60,
   "id": "valued-zoning",
   "metadata": {},
   "outputs": [],
   "source": [
    "ttest,p_value=ttest_1samp(sample,30)"
   ]
  },
  {
   "cell_type": "code",
   "execution_count": 61,
   "id": "active-departure",
   "metadata": {},
   "outputs": [
    {
     "name": "stdout",
     "output_type": "stream",
     "text": [
      "7.000029584407508e-15\n"
     ]
    }
   ],
   "source": [
    "print(p_value)"
   ]
  },
  {
   "cell_type": "code",
   "execution_count": 62,
   "id": "ordered-statistics",
   "metadata": {},
   "outputs": [
    {
     "name": "stdout",
     "output_type": "stream",
     "text": [
      " we are rejecting null hypothesis\n"
     ]
    }
   ],
   "source": [
    "if p_value < 0.05:    # alpha value is 0.05 or 5%\n",
    "    print(\" we are rejecting null hypothesis\")\n",
    "else:\n",
    "    print(\"we are accepting null hypothesis\")"
   ]
  },
  {
   "cell_type": "markdown",
   "id": "parallel-olive",
   "metadata": {},
   "source": [
    "### t_test for 2 samples"
   ]
  },
  {
   "cell_type": "code",
   "execution_count": 110,
   "id": "sufficient-adjustment",
   "metadata": {},
   "outputs": [
    {
     "name": "stdout",
     "output_type": "stream",
     "text": [
      "Test statistic is -2.351262\n",
      "p-value for two tailed test is 0.030302\n",
      " we are rejecting null hypothesis\n"
     ]
    }
   ],
   "source": [
    "t_value,p_value=stats.ttest_ind(sample1,sample2)\n",
    "\n",
    "print('Test statistic is %f'%float(\"{:.6f}\".format(t_value)))\n",
    "\n",
    "print('p-value for two tailed test is %f'%p_value)\n",
    "\n",
    "\n",
    "if p_value <=0.05:    # alpha value is 0.05 or 5%\n",
    "    print(\" we are rejecting null hypothesis\")\n",
    "else:\n",
    "    print(\"we are accepting null hypothesis\")\n"
   ]
  },
  {
   "cell_type": "markdown",
   "id": "corporate-click",
   "metadata": {},
   "source": [
    "#### correlation"
   ]
  },
  {
   "cell_type": "code",
   "execution_count": 67,
   "id": "nearby-international",
   "metadata": {},
   "outputs": [
    {
     "data": {
      "text/html": [
       "<div>\n",
       "<style scoped>\n",
       "    .dataframe tbody tr th:only-of-type {\n",
       "        vertical-align: middle;\n",
       "    }\n",
       "\n",
       "    .dataframe tbody tr th {\n",
       "        vertical-align: top;\n",
       "    }\n",
       "\n",
       "    .dataframe thead th {\n",
       "        text-align: right;\n",
       "    }\n",
       "</style>\n",
       "<table border=\"1\" class=\"dataframe\">\n",
       "  <thead>\n",
       "    <tr style=\"text-align: right;\">\n",
       "      <th></th>\n",
       "      <th>Year</th>\n",
       "      <th>C02039V02469</th>\n",
       "      <th>Area_under_Crops_Hectares</th>\n",
       "      <th>Crop_Yield_per_Hectare_in_Tonnes</th>\n",
       "      <th>crop_production_in_Tonnes</th>\n",
       "    </tr>\n",
       "  </thead>\n",
       "  <tbody>\n",
       "    <tr>\n",
       "      <th>Year</th>\n",
       "      <td>1.000000</td>\n",
       "      <td>0.045495</td>\n",
       "      <td>0.030966</td>\n",
       "      <td>-0.192102</td>\n",
       "      <td>0.029505</td>\n",
       "    </tr>\n",
       "    <tr>\n",
       "      <th>C02039V02469</th>\n",
       "      <td>0.045495</td>\n",
       "      <td>1.000000</td>\n",
       "      <td>-0.154555</td>\n",
       "      <td>-0.181995</td>\n",
       "      <td>-0.202705</td>\n",
       "    </tr>\n",
       "    <tr>\n",
       "      <th>Area_under_Crops_Hectares</th>\n",
       "      <td>0.030966</td>\n",
       "      <td>-0.154555</td>\n",
       "      <td>1.000000</td>\n",
       "      <td>-0.251131</td>\n",
       "      <td>0.881368</td>\n",
       "    </tr>\n",
       "    <tr>\n",
       "      <th>Crop_Yield_per_Hectare_in_Tonnes</th>\n",
       "      <td>-0.192102</td>\n",
       "      <td>-0.181995</td>\n",
       "      <td>-0.251131</td>\n",
       "      <td>1.000000</td>\n",
       "      <td>0.073780</td>\n",
       "    </tr>\n",
       "    <tr>\n",
       "      <th>crop_production_in_Tonnes</th>\n",
       "      <td>0.029505</td>\n",
       "      <td>-0.202705</td>\n",
       "      <td>0.881368</td>\n",
       "      <td>0.073780</td>\n",
       "      <td>1.000000</td>\n",
       "    </tr>\n",
       "  </tbody>\n",
       "</table>\n",
       "</div>"
      ],
      "text/plain": [
       "                                      Year  C02039V02469  \\\n",
       "Year                              1.000000      0.045495   \n",
       "C02039V02469                      0.045495      1.000000   \n",
       "Area_under_Crops_Hectares         0.030966     -0.154555   \n",
       "Crop_Yield_per_Hectare_in_Tonnes -0.192102     -0.181995   \n",
       "crop_production_in_Tonnes         0.029505     -0.202705   \n",
       "\n",
       "                                  Area_under_Crops_Hectares  \\\n",
       "Year                                               0.030966   \n",
       "C02039V02469                                      -0.154555   \n",
       "Area_under_Crops_Hectares                          1.000000   \n",
       "Crop_Yield_per_Hectare_in_Tonnes                  -0.251131   \n",
       "crop_production_in_Tonnes                          0.881368   \n",
       "\n",
       "                                  Crop_Yield_per_Hectare_in_Tonnes  \\\n",
       "Year                                                     -0.192102   \n",
       "C02039V02469                                             -0.181995   \n",
       "Area_under_Crops_Hectares                                -0.251131   \n",
       "Crop_Yield_per_Hectare_in_Tonnes                          1.000000   \n",
       "crop_production_in_Tonnes                                 0.073780   \n",
       "\n",
       "                                  crop_production_in_Tonnes  \n",
       "Year                                               0.029505  \n",
       "C02039V02469                                      -0.202705  \n",
       "Area_under_Crops_Hectares                          0.881368  \n",
       "Crop_Yield_per_Hectare_in_Tonnes                   0.073780  \n",
       "crop_production_in_Tonnes                          1.000000  "
      ]
     },
     "execution_count": 67,
     "metadata": {},
     "output_type": "execute_result"
    }
   ],
   "source": [
    "df2.corr()"
   ]
  },
  {
   "cell_type": "code",
   "execution_count": 68,
   "id": "atmospheric-absence",
   "metadata": {},
   "outputs": [
    {
     "data": {
      "text/html": [
       "<div>\n",
       "<style scoped>\n",
       "    .dataframe tbody tr th:only-of-type {\n",
       "        vertical-align: middle;\n",
       "    }\n",
       "\n",
       "    .dataframe tbody tr th {\n",
       "        vertical-align: top;\n",
       "    }\n",
       "\n",
       "    .dataframe thead th {\n",
       "        text-align: right;\n",
       "    }\n",
       "</style>\n",
       "<table border=\"1\" class=\"dataframe\">\n",
       "  <thead>\n",
       "    <tr style=\"text-align: right;\">\n",
       "      <th></th>\n",
       "      <th>TIME</th>\n",
       "      <th>Value</th>\n",
       "    </tr>\n",
       "  </thead>\n",
       "  <tbody>\n",
       "    <tr>\n",
       "      <th>TIME</th>\n",
       "      <td>1.000000</td>\n",
       "      <td>0.164199</td>\n",
       "    </tr>\n",
       "    <tr>\n",
       "      <th>Value</th>\n",
       "      <td>0.164199</td>\n",
       "      <td>1.000000</td>\n",
       "    </tr>\n",
       "  </tbody>\n",
       "</table>\n",
       "</div>"
      ],
      "text/plain": [
       "           TIME     Value\n",
       "TIME   1.000000  0.164199\n",
       "Value  0.164199  1.000000"
      ]
     },
     "execution_count": 68,
     "metadata": {},
     "output_type": "execute_result"
    }
   ],
   "source": [
    "df_TONNE_HA.corr()"
   ]
  },
  {
   "cell_type": "code",
   "execution_count": 69,
   "id": "conditional-isaac",
   "metadata": {},
   "outputs": [
    {
     "data": {
      "text/plain": [
       "<seaborn.axisgrid.PairGrid at 0x1c0f825f8e0>"
      ]
     },
     "execution_count": 69,
     "metadata": {},
     "output_type": "execute_result"
    },
    {
     "data": {
      "image/png": "[encoded data removed]",
      "text/plain": [
       "<Figure size 900x900 with 30 Axes>"
      ]
     },
     "metadata": {},
     "output_type": "display_data"
    }
   ],
   "source": [
    "sns.pairplot(df2)"
   ]
  },
  {
   "cell_type": "markdown",
   "id": "rough-freeze",
   "metadata": {},
   "source": [
    "### z_test"
   ]
  },
  {
   "cell_type": "code",
   "execution_count": 97,
   "id": "instant-stage",
   "metadata": {},
   "outputs": [],
   "source": [
    "from statsmodels.stats.weightstats import ztest as ztest\n"
   ]
  },
  {
   "cell_type": "code",
   "execution_count": 98,
   "id": "strategic-expense",
   "metadata": {},
   "outputs": [
    {
     "data": {
      "text/plain": [
       "array([1.62385964e+00, 8.84948600e+00, 8.84948600e+00, 5.96302891e+00,\n",
       "       2.16666675e+00, 9.00000000e-04, 1.12500000e+00, 1.99086058e+00,\n",
       "       2.33251238e+00, 9.00000000e-04])"
      ]
     },
     "execution_count": 98,
     "metadata": {},
     "output_type": "execute_result"
    }
   ],
   "source": [
    "sample_size=10\n",
    "sample1=np.random.choice(df_TONNE_HA['Value'],sample_size)\n",
    "sample1"
   ]
  },
  {
   "cell_type": "code",
   "execution_count": 99,
   "id": "postal-badge",
   "metadata": {},
   "outputs": [
    {
     "data": {
      "text/plain": [
       "array([ 7.4,  7.1, 44.5, 25.8,  6.4,  4.8,  6.3,  8.3,  5. , 52.3])"
      ]
     },
     "execution_count": 99,
     "metadata": {},
     "output_type": "execute_result"
    }
   ],
   "source": [
    "sample_size=10\n",
    "sample2=np.random.choice(df2['Crop_Yield_per_Hectare_in_Tonnes'],sample_size)\n",
    "sample2"
   ]
  },
  {
   "cell_type": "code",
   "execution_count": 100,
   "id": "special-parks",
   "metadata": {},
   "outputs": [
    {
     "data": {
      "text/plain": [
       "(-2.3512620746732367, 0.01870985083570661)"
      ]
     },
     "execution_count": 100,
     "metadata": {},
     "output_type": "execute_result"
    }
   ],
   "source": [
    "z_test,p_value=ztest(sample1,sample2, value=0) \n",
    "z_test,p_value"
   ]
  },
  {
   "cell_type": "code",
   "execution_count": 101,
   "id": "private-wallet",
   "metadata": {},
   "outputs": [
    {
     "name": "stdout",
     "output_type": "stream",
     "text": [
      " we are rejecting null hypothesis\n"
     ]
    }
   ],
   "source": [
    "if p_value < 0.05:    # alpha value is 0.05 or 5%\n",
    "    print(\" we are rejecting null hypothesis\")\n",
    "else:\n",
    "    print(\"we are accepting null hypothesis\")"
   ]
  },
  {
   "cell_type": "code",
   "execution_count": null,
   "id": "linear-fraud",
   "metadata": {},
   "outputs": [],
   "source": []
  }
 ],
 "metadata": {
  "kernelspec": {
   "display_name": "Python 3",
   "language": "python",
   "name": "python3"
  },
  "language_info": {
   "codemirror_mode": {
    "name": "ipython",
    "version": 3
   },
   "file_extension": ".py",
   "mimetype": "text/x-python",
   "name": "python",
   "nbconvert_exporter": "python",
   "pygments_lexer": "ipython3",
   "version": "3.9.1"
  }
 },
 "nbformat": 4,
 "nbformat_minor": 5
}
