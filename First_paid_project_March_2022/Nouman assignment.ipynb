{
 "cells": [
  {
   "cell_type": "markdown",
   "id": "unsigned-affairs",
   "metadata": {},
   "source": [
    "### Q:3 "
   ]
  },
  {
   "cell_type": "markdown",
   "id": "accompanied-tuesday",
   "metadata": {},
   "source": [
    "### picking of covid-19 dataset"
   ]
  },
  {
   "cell_type": "markdown",
   "id": "favorite-baker",
   "metadata": {},
   "source": [
    "#### Import all required libraries"
   ]
  },
  {
   "cell_type": "code",
   "execution_count": 2,
   "id": "thrown-young",
   "metadata": {},
   "outputs": [],
   "source": [
    "import pandas as pd\n",
    "import numpy as np\n",
    "import matplotlib.pyplot as plt\n",
    "import seaborn as sns"
   ]
  },
  {
   "cell_type": "markdown",
   "id": "bacterial-integral",
   "metadata": {},
   "source": [
    "#### Import csv file and create a dataframe"
   ]
  },
  {
   "cell_type": "code",
   "execution_count": 3,
   "id": "aging-lending",
   "metadata": {},
   "outputs": [
    {
     "data": {
      "text/html": [
       "<div>\n",
       "<style scoped>\n",
       "    .dataframe tbody tr th:only-of-type {\n",
       "        vertical-align: middle;\n",
       "    }\n",
       "\n",
       "    .dataframe tbody tr th {\n",
       "        vertical-align: top;\n",
       "    }\n",
       "\n",
       "    .dataframe thead th {\n",
       "        text-align: right;\n",
       "    }\n",
       "</style>\n",
       "<table border=\"1\" class=\"dataframe\">\n",
       "  <thead>\n",
       "    <tr style=\"text-align: right;\">\n",
       "      <th></th>\n",
       "      <th>Date</th>\n",
       "      <th>Country/Region</th>\n",
       "      <th>Confirmed</th>\n",
       "      <th>Deaths</th>\n",
       "      <th>Recovered</th>\n",
       "      <th>Active</th>\n",
       "      <th>New cases</th>\n",
       "      <th>New deaths</th>\n",
       "      <th>New recovered</th>\n",
       "      <th>WHO Region</th>\n",
       "    </tr>\n",
       "  </thead>\n",
       "  <tbody>\n",
       "    <tr>\n",
       "      <th>0</th>\n",
       "      <td>22/01/2020</td>\n",
       "      <td>Afghanistan</td>\n",
       "      <td>0</td>\n",
       "      <td>0</td>\n",
       "      <td>0</td>\n",
       "      <td>0</td>\n",
       "      <td>0</td>\n",
       "      <td>0</td>\n",
       "      <td>0</td>\n",
       "      <td>Eastern Mediterranean</td>\n",
       "    </tr>\n",
       "    <tr>\n",
       "      <th>1</th>\n",
       "      <td>22/01/2020</td>\n",
       "      <td>Albania</td>\n",
       "      <td>0</td>\n",
       "      <td>0</td>\n",
       "      <td>0</td>\n",
       "      <td>0</td>\n",
       "      <td>0</td>\n",
       "      <td>0</td>\n",
       "      <td>0</td>\n",
       "      <td>Europe</td>\n",
       "    </tr>\n",
       "    <tr>\n",
       "      <th>2</th>\n",
       "      <td>22/01/2020</td>\n",
       "      <td>Algeria</td>\n",
       "      <td>0</td>\n",
       "      <td>0</td>\n",
       "      <td>0</td>\n",
       "      <td>0</td>\n",
       "      <td>0</td>\n",
       "      <td>0</td>\n",
       "      <td>0</td>\n",
       "      <td>Africa</td>\n",
       "    </tr>\n",
       "    <tr>\n",
       "      <th>3</th>\n",
       "      <td>22/01/2020</td>\n",
       "      <td>Andorra</td>\n",
       "      <td>0</td>\n",
       "      <td>0</td>\n",
       "      <td>0</td>\n",
       "      <td>0</td>\n",
       "      <td>0</td>\n",
       "      <td>0</td>\n",
       "      <td>0</td>\n",
       "      <td>Europe</td>\n",
       "    </tr>\n",
       "    <tr>\n",
       "      <th>4</th>\n",
       "      <td>22/01/2020</td>\n",
       "      <td>Angola</td>\n",
       "      <td>0</td>\n",
       "      <td>0</td>\n",
       "      <td>0</td>\n",
       "      <td>0</td>\n",
       "      <td>0</td>\n",
       "      <td>0</td>\n",
       "      <td>0</td>\n",
       "      <td>Africa</td>\n",
       "    </tr>\n",
       "    <tr>\n",
       "      <th>...</th>\n",
       "      <td>...</td>\n",
       "      <td>...</td>\n",
       "      <td>...</td>\n",
       "      <td>...</td>\n",
       "      <td>...</td>\n",
       "      <td>...</td>\n",
       "      <td>...</td>\n",
       "      <td>...</td>\n",
       "      <td>...</td>\n",
       "      <td>...</td>\n",
       "    </tr>\n",
       "    <tr>\n",
       "      <th>35151</th>\n",
       "      <td>27/07/2020</td>\n",
       "      <td>West Bank and Gaza</td>\n",
       "      <td>10621</td>\n",
       "      <td>78</td>\n",
       "      <td>3752</td>\n",
       "      <td>6791</td>\n",
       "      <td>152</td>\n",
       "      <td>2</td>\n",
       "      <td>0</td>\n",
       "      <td>Eastern Mediterranean</td>\n",
       "    </tr>\n",
       "    <tr>\n",
       "      <th>35152</th>\n",
       "      <td>27/07/2020</td>\n",
       "      <td>Western Sahara</td>\n",
       "      <td>10</td>\n",
       "      <td>1</td>\n",
       "      <td>8</td>\n",
       "      <td>1</td>\n",
       "      <td>0</td>\n",
       "      <td>0</td>\n",
       "      <td>0</td>\n",
       "      <td>Africa</td>\n",
       "    </tr>\n",
       "    <tr>\n",
       "      <th>35153</th>\n",
       "      <td>27/07/2020</td>\n",
       "      <td>Yemen</td>\n",
       "      <td>1691</td>\n",
       "      <td>483</td>\n",
       "      <td>833</td>\n",
       "      <td>375</td>\n",
       "      <td>10</td>\n",
       "      <td>4</td>\n",
       "      <td>36</td>\n",
       "      <td>Eastern Mediterranean</td>\n",
       "    </tr>\n",
       "    <tr>\n",
       "      <th>35154</th>\n",
       "      <td>27/07/2020</td>\n",
       "      <td>Zambia</td>\n",
       "      <td>4552</td>\n",
       "      <td>140</td>\n",
       "      <td>2815</td>\n",
       "      <td>1597</td>\n",
       "      <td>71</td>\n",
       "      <td>1</td>\n",
       "      <td>465</td>\n",
       "      <td>Africa</td>\n",
       "    </tr>\n",
       "    <tr>\n",
       "      <th>35155</th>\n",
       "      <td>27/07/2020</td>\n",
       "      <td>Zimbabwe</td>\n",
       "      <td>2704</td>\n",
       "      <td>36</td>\n",
       "      <td>542</td>\n",
       "      <td>2126</td>\n",
       "      <td>192</td>\n",
       "      <td>2</td>\n",
       "      <td>24</td>\n",
       "      <td>Africa</td>\n",
       "    </tr>\n",
       "  </tbody>\n",
       "</table>\n",
       "<p>35156 rows × 10 columns</p>\n",
       "</div>"
      ],
      "text/plain": [
       "             Date      Country/Region  Confirmed  Deaths  Recovered  Active  \\\n",
       "0      22/01/2020         Afghanistan          0       0          0       0   \n",
       "1      22/01/2020             Albania          0       0          0       0   \n",
       "2      22/01/2020             Algeria          0       0          0       0   \n",
       "3      22/01/2020             Andorra          0       0          0       0   \n",
       "4      22/01/2020              Angola          0       0          0       0   \n",
       "...           ...                 ...        ...     ...        ...     ...   \n",
       "35151  27/07/2020  West Bank and Gaza      10621      78       3752    6791   \n",
       "35152  27/07/2020      Western Sahara         10       1          8       1   \n",
       "35153  27/07/2020               Yemen       1691     483        833     375   \n",
       "35154  27/07/2020              Zambia       4552     140       2815    1597   \n",
       "35155  27/07/2020            Zimbabwe       2704      36        542    2126   \n",
       "\n",
       "       New cases  New deaths  New recovered             WHO Region  \n",
       "0              0           0              0  Eastern Mediterranean  \n",
       "1              0           0              0                 Europe  \n",
       "2              0           0              0                 Africa  \n",
       "3              0           0              0                 Europe  \n",
       "4              0           0              0                 Africa  \n",
       "...          ...         ...            ...                    ...  \n",
       "35151        152           2              0  Eastern Mediterranean  \n",
       "35152          0           0              0                 Africa  \n",
       "35153         10           4             36  Eastern Mediterranean  \n",
       "35154         71           1            465                 Africa  \n",
       "35155        192           2             24                 Africa  \n",
       "\n",
       "[35156 rows x 10 columns]"
      ]
     },
     "execution_count": 3,
     "metadata": {},
     "output_type": "execute_result"
    }
   ],
   "source": [
    "df=pd.read_csv(r'C:\\Users\\sk\\Downloads\\full_grouped.csv')\n",
    "df"
   ]
  },
  {
   "cell_type": "markdown",
   "id": "behind-bearing",
   "metadata": {},
   "source": [
    "### Q:3 "
   ]
  },
  {
   "cell_type": "markdown",
   "id": "pregnant-enclosure",
   "metadata": {},
   "source": [
    "#### exploring data"
   ]
  },
  {
   "cell_type": "markdown",
   "id": "female-distributor",
   "metadata": {},
   "source": [
    "#### shape of data"
   ]
  },
  {
   "cell_type": "code",
   "execution_count": 60,
   "id": "ranking-carpet",
   "metadata": {},
   "outputs": [
    {
     "data": {
      "text/plain": [
       "(35156, 10)"
      ]
     },
     "execution_count": 60,
     "metadata": {},
     "output_type": "execute_result"
    }
   ],
   "source": [
    "df.shape"
   ]
  },
  {
   "cell_type": "markdown",
   "id": "distant-artwork",
   "metadata": {},
   "source": [
    "there are 315156 rows and 10 columns.So there are 35156 records and 10 features."
   ]
  },
  {
   "cell_type": "markdown",
   "id": "checked-understanding",
   "metadata": {},
   "source": [
    "#### features"
   ]
  },
  {
   "cell_type": "code",
   "execution_count": 61,
   "id": "sapphire-migration",
   "metadata": {},
   "outputs": [
    {
     "data": {
      "text/plain": [
       "Index(['Date', 'Country/Region', 'Confirmed', 'Deaths', 'Recovered', 'Active',\n",
       "       'New cases', 'New deaths', 'New recovered', 'WHO Region'],\n",
       "      dtype='object')"
      ]
     },
     "execution_count": 61,
     "metadata": {},
     "output_type": "execute_result"
    }
   ],
   "source": [
    "df.columns"
   ]
  },
  {
   "cell_type": "markdown",
   "id": "white-brush",
   "metadata": {},
   "source": [
    "#### overview of data"
   ]
  },
  {
   "cell_type": "code",
   "execution_count": 62,
   "id": "imperial-prediction",
   "metadata": {},
   "outputs": [
    {
     "name": "stdout",
     "output_type": "stream",
     "text": [
      "<class 'pandas.core.frame.DataFrame'>\n",
      "RangeIndex: 35156 entries, 0 to 35155\n",
      "Data columns (total 10 columns):\n",
      " #   Column          Non-Null Count  Dtype \n",
      "---  ------          --------------  ----- \n",
      " 0   Date            35156 non-null  object\n",
      " 1   Country/Region  35156 non-null  object\n",
      " 2   Confirmed       35156 non-null  int64 \n",
      " 3   Deaths          35156 non-null  int64 \n",
      " 4   Recovered       35156 non-null  int64 \n",
      " 5   Active          35156 non-null  int64 \n",
      " 6   New cases       35156 non-null  int64 \n",
      " 7   New deaths      35156 non-null  int64 \n",
      " 8   New recovered   35156 non-null  int64 \n",
      " 9   WHO Region      35156 non-null  object\n",
      "dtypes: int64(7), object(3)\n",
      "memory usage: 2.7+ MB\n"
     ]
    }
   ],
   "source": [
    "df.info()"
   ]
  },
  {
   "cell_type": "markdown",
   "id": "dying-austria",
   "metadata": {},
   "source": [
    "Here every feature have 35156 non_null values "
   ]
  },
  {
   "cell_type": "markdown",
   "id": "awful-walter",
   "metadata": {},
   "source": [
    "#### checking for any missing values"
   ]
  },
  {
   "cell_type": "code",
   "execution_count": 7,
   "id": "empty-touch",
   "metadata": {},
   "outputs": [
    {
     "data": {
      "text/plain": [
       "Date              0\n",
       "Country/Region    0\n",
       "Confirmed         0\n",
       "Deaths            0\n",
       "Recovered         0\n",
       "Active            0\n",
       "New cases         0\n",
       "New deaths        0\n",
       "New recovered     0\n",
       "WHO Region        0\n",
       "dtype: int64"
      ]
     },
     "execution_count": 7,
     "metadata": {},
     "output_type": "execute_result"
    }
   ],
   "source": [
    "df.isnull().sum()"
   ]
  },
  {
   "cell_type": "markdown",
   "id": "monetary-treasure",
   "metadata": {},
   "source": [
    "There is no missing value in any feature."
   ]
  },
  {
   "cell_type": "markdown",
   "id": "neutral-benjamin",
   "metadata": {},
   "source": [
    "#### numerical features"
   ]
  },
  {
   "cell_type": "markdown",
   "id": "chemical-mystery",
   "metadata": {},
   "source": [
    "these are features which are in the form of integer or float"
   ]
  },
  {
   "cell_type": "code",
   "execution_count": 66,
   "id": "weekly-judges",
   "metadata": {},
   "outputs": [
    {
     "data": {
      "text/plain": [
       "['Confirmed',\n",
       " 'Deaths',\n",
       " 'Recovered',\n",
       " 'Active',\n",
       " 'New cases',\n",
       " 'New deaths',\n",
       " 'New recovered']"
      ]
     },
     "execution_count": 66,
     "metadata": {},
     "output_type": "execute_result"
    }
   ],
   "source": [
    "numerical_features = [feature for feature in df.columns if df[feature].dtypes != 'O']\n",
    "numerical_features"
   ]
  },
  {
   "cell_type": "code",
   "execution_count": 68,
   "id": "minor-narrative",
   "metadata": {},
   "outputs": [
    {
     "data": {
      "text/plain": [
       "7"
      ]
     },
     "execution_count": 68,
     "metadata": {},
     "output_type": "execute_result"
    }
   ],
   "source": [
    "len(numerical_features)"
   ]
  },
  {
   "cell_type": "markdown",
   "id": "distinguished-disease",
   "metadata": {},
   "source": [
    "there are 7 features which is numerical"
   ]
  },
  {
   "cell_type": "markdown",
   "id": "located-thread",
   "metadata": {},
   "source": [
    "#### non numerical features"
   ]
  },
  {
   "cell_type": "markdown",
   "id": "ruled-disney",
   "metadata": {},
   "source": [
    "these are those features which is in the form of catagaries"
   ]
  },
  {
   "cell_type": "code",
   "execution_count": 67,
   "id": "internal-replication",
   "metadata": {},
   "outputs": [
    {
     "data": {
      "text/plain": [
       "['Date', 'Country/Region', 'WHO Region']"
      ]
     },
     "execution_count": 67,
     "metadata": {},
     "output_type": "execute_result"
    }
   ],
   "source": [
    "non_numerical_features = [feature for feature in df.columns if df[feature].dtypes == 'O']\n",
    "non_numerical_features"
   ]
  },
  {
   "cell_type": "code",
   "execution_count": 69,
   "id": "broadband-portsmouth",
   "metadata": {},
   "outputs": [
    {
     "data": {
      "text/plain": [
       "3"
      ]
     },
     "execution_count": 69,
     "metadata": {},
     "output_type": "execute_result"
    }
   ],
   "source": [
    "len(non_numerical_features)"
   ]
  },
  {
   "cell_type": "markdown",
   "id": "contrary-jacket",
   "metadata": {},
   "source": [
    "there are 3 non numerical or catagarical features"
   ]
  },
  {
   "cell_type": "markdown",
   "id": "undefined-energy",
   "metadata": {},
   "source": [
    "#### corealations"
   ]
  },
  {
   "cell_type": "markdown",
   "id": "national-treasury",
   "metadata": {},
   "source": [
    "this heatmap shows correlation score of each nummerical feature with each other"
   ]
  },
  {
   "cell_type": "code",
   "execution_count": 9,
   "id": "cathedral-stress",
   "metadata": {},
   "outputs": [
    {
     "data": {
      "image/png": "[encoded data removed]",
      "text/plain": [
       "<Figure size 1152x648 with 2 Axes>"
      ]
     },
     "metadata": {
      "needs_background": "light"
     },
     "output_type": "display_data"
    }
   ],
   "source": [
    "plt.figure(figsize=(16,9))\n",
    "sns.heatmap(df.corr(),cmap ='cividis',linewidth = 0.30, annot = True)\n",
    "plt.show()"
   ]
  },
  {
   "cell_type": "markdown",
   "id": "industrial-metropolitan",
   "metadata": {},
   "source": [
    "### Q:5"
   ]
  },
  {
   "cell_type": "markdown",
   "id": "metric-compound",
   "metadata": {},
   "source": [
    "##### i choosed Deaths and country feature"
   ]
  },
  {
   "cell_type": "markdown",
   "id": "negative-slave",
   "metadata": {},
   "source": [
    "#### a)central tendency "
   ]
  },
  {
   "cell_type": "code",
   "execution_count": 73,
   "id": "changing-columbia",
   "metadata": {},
   "outputs": [],
   "source": [
    "#### Note measures of central tendancy can not be found for catagarical features except mode"
   ]
  },
  {
   "cell_type": "markdown",
   "id": "attempted-questionnaire",
   "metadata": {},
   "source": [
    "the tendency for the values of a random variable to cluster round its mean, mode, or median."
   ]
  },
  {
   "cell_type": "markdown",
   "id": "partial-heaven",
   "metadata": {},
   "source": [
    "#### first way using describe method"
   ]
  },
  {
   "cell_type": "code",
   "execution_count": 74,
   "id": "involved-longitude",
   "metadata": {},
   "outputs": [
    {
     "data": {
      "text/html": [
       "<div>\n",
       "<style scoped>\n",
       "    .dataframe tbody tr th:only-of-type {\n",
       "        vertical-align: middle;\n",
       "    }\n",
       "\n",
       "    .dataframe tbody tr th {\n",
       "        vertical-align: top;\n",
       "    }\n",
       "\n",
       "    .dataframe thead th {\n",
       "        text-align: right;\n",
       "    }\n",
       "</style>\n",
       "<table border=\"1\" class=\"dataframe\">\n",
       "  <thead>\n",
       "    <tr style=\"text-align: right;\">\n",
       "      <th></th>\n",
       "      <th>Deaths</th>\n",
       "    </tr>\n",
       "  </thead>\n",
       "  <tbody>\n",
       "    <tr>\n",
       "      <th>count</th>\n",
       "      <td>35156.000000</td>\n",
       "    </tr>\n",
       "    <tr>\n",
       "      <th>mean</th>\n",
       "      <td>1234.068239</td>\n",
       "    </tr>\n",
       "    <tr>\n",
       "      <th>std</th>\n",
       "      <td>7437.238354</td>\n",
       "    </tr>\n",
       "    <tr>\n",
       "      <th>min</th>\n",
       "      <td>0.000000</td>\n",
       "    </tr>\n",
       "    <tr>\n",
       "      <th>25%</th>\n",
       "      <td>0.000000</td>\n",
       "    </tr>\n",
       "    <tr>\n",
       "      <th>50%</th>\n",
       "      <td>4.000000</td>\n",
       "    </tr>\n",
       "    <tr>\n",
       "      <th>75%</th>\n",
       "      <td>78.250000</td>\n",
       "    </tr>\n",
       "    <tr>\n",
       "      <th>max</th>\n",
       "      <td>148011.000000</td>\n",
       "    </tr>\n",
       "  </tbody>\n",
       "</table>\n",
       "</div>"
      ],
      "text/plain": [
       "              Deaths\n",
       "count   35156.000000\n",
       "mean     1234.068239\n",
       "std      7437.238354\n",
       "min         0.000000\n",
       "25%         0.000000\n",
       "50%         4.000000\n",
       "75%        78.250000\n",
       "max    148011.000000"
      ]
     },
     "execution_count": 74,
     "metadata": {},
     "output_type": "execute_result"
    }
   ],
   "source": [
    "df[['Deaths','Country/Region']].describe()"
   ]
  },
  {
   "cell_type": "markdown",
   "id": "reported-albania",
   "metadata": {},
   "source": [
    "##### finding every measure one by one"
   ]
  },
  {
   "cell_type": "markdown",
   "id": "introductory-factory",
   "metadata": {},
   "source": [
    "##### mean"
   ]
  },
  {
   "cell_type": "markdown",
   "id": "mature-madrid",
   "metadata": {},
   "source": [
    "mean is sum of values divided by total number of total values"
   ]
  },
  {
   "cell_type": "code",
   "execution_count": 78,
   "id": "continuing-showcase",
   "metadata": {},
   "outputs": [
    {
     "data": {
      "text/plain": [
       "Deaths    1234.068239\n",
       "dtype: float64"
      ]
     },
     "execution_count": 78,
     "metadata": {},
     "output_type": "execute_result"
    }
   ],
   "source": [
    "df[['Deaths','Country/Region']].mean()"
   ]
  },
  {
   "cell_type": "markdown",
   "id": "informative-perfume",
   "metadata": {},
   "source": [
    "#### median"
   ]
  },
  {
   "cell_type": "markdown",
   "id": "eastern-power",
   "metadata": {},
   "source": [
    "median is central value"
   ]
  },
  {
   "cell_type": "code",
   "execution_count": 79,
   "id": "agreed-lesson",
   "metadata": {},
   "outputs": [
    {
     "data": {
      "text/plain": [
       "Deaths    4.0\n",
       "dtype: float64"
      ]
     },
     "execution_count": 79,
     "metadata": {},
     "output_type": "execute_result"
    }
   ],
   "source": [
    "df[['Deaths','Country/Region']].median()\n"
   ]
  },
  {
   "cell_type": "markdown",
   "id": "impressive-dialogue",
   "metadata": {},
   "source": [
    "#### mode"
   ]
  },
  {
   "cell_type": "markdown",
   "id": "usual-pencil",
   "metadata": {},
   "source": [
    "mode is most frequent value"
   ]
  },
  {
   "cell_type": "code",
   "execution_count": 80,
   "id": "considerable-drawing",
   "metadata": {},
   "outputs": [
    {
     "data": {
      "text/plain": [
       "0    0\n",
       "dtype: int64"
      ]
     },
     "execution_count": 80,
     "metadata": {},
     "output_type": "execute_result"
    }
   ],
   "source": [
    "df['Deaths'].mode()"
   ]
  },
  {
   "cell_type": "markdown",
   "id": "heard-preference",
   "metadata": {},
   "source": [
    "mode of deaths is 0"
   ]
  },
  {
   "cell_type": "code",
   "execution_count": 82,
   "id": "hollywood-polymer",
   "metadata": {},
   "outputs": [
    {
     "data": {
      "text/plain": [
       "0             Afghanistan\n",
       "1                 Albania\n",
       "2                 Algeria\n",
       "3                 Andorra\n",
       "4                  Angola\n",
       "              ...        \n",
       "182    West Bank and Gaza\n",
       "183        Western Sahara\n",
       "184                 Yemen\n",
       "185                Zambia\n",
       "186              Zimbabwe\n",
       "Length: 187, dtype: object"
      ]
     },
     "execution_count": 82,
     "metadata": {},
     "output_type": "execute_result"
    }
   ],
   "source": [
    "df['Country/Region'].mode()"
   ]
  },
  {
   "cell_type": "code",
   "execution_count": 16,
   "id": "sophisticated-adelaide",
   "metadata": {},
   "outputs": [
    {
     "data": {
      "text/plain": [
       "Cambodia       188\n",
       "Ethiopia       188\n",
       "Djibouti       188\n",
       "China          188\n",
       "Latvia         188\n",
       "              ... \n",
       "Liberia        188\n",
       "Montenegro     188\n",
       "Sudan          188\n",
       "Mauritania     188\n",
       "South Sudan    188\n",
       "Name: Country/Region, Length: 187, dtype: int64"
      ]
     },
     "execution_count": 16,
     "metadata": {},
     "output_type": "execute_result"
    }
   ],
   "source": [
    "df['Country/Region'].value_counts()"
   ]
  },
  {
   "cell_type": "markdown",
   "id": "decimal-florist",
   "metadata": {},
   "source": [
    "as frequency of each country as same so all are behaving like mode"
   ]
  },
  {
   "cell_type": "markdown",
   "id": "forward-defeat",
   "metadata": {},
   "source": [
    "#### b) measure of dispertion"
   ]
  },
  {
   "cell_type": "markdown",
   "id": "white-reverse",
   "metadata": {},
   "source": [
    "Dispersion is a statistical term that describes the size of the distribution of values expected for a particular variable and can be measured by several different statistics, such as range, variance, and standard deviation."
   ]
  },
  {
   "cell_type": "markdown",
   "id": "dramatic-means",
   "metadata": {},
   "source": [
    "#### range"
   ]
  },
  {
   "cell_type": "markdown",
   "id": "billion-diesel",
   "metadata": {},
   "source": [
    " it is difference bw maximum and minimum value"
   ]
  },
  {
   "cell_type": "code",
   "execution_count": 85,
   "id": "eight-favor",
   "metadata": {},
   "outputs": [
    {
     "data": {
      "text/plain": [
       "148011"
      ]
     },
     "execution_count": 85,
     "metadata": {},
     "output_type": "execute_result"
    }
   ],
   "source": [
    "df['Deaths'].max()-df['Deaths'].min()"
   ]
  },
  {
   "cell_type": "markdown",
   "id": "close-branch",
   "metadata": {},
   "source": [
    "#### varience"
   ]
  },
  {
   "cell_type": "markdown",
   "id": "prescription-wheel",
   "metadata": {},
   "source": [
    "varience is also measure of dispersion showing the deviation of data points from mean"
   ]
  },
  {
   "cell_type": "code",
   "execution_count": 88,
   "id": "dedicated-prairie",
   "metadata": {},
   "outputs": [
    {
     "data": {
      "text/plain": [
       "-1521733.6347227278"
      ]
     },
     "execution_count": 88,
     "metadata": {},
     "output_type": "execute_result"
    }
   ],
   "source": [
    "sum(df['Deaths']-df['Deaths'].mean()**2)/(len(df)-1)"
   ]
  },
  {
   "cell_type": "markdown",
   "id": "together-candle",
   "metadata": {},
   "source": [
    "#### standard deviation"
   ]
  },
  {
   "cell_type": "markdown",
   "id": "numeric-domestic",
   "metadata": {},
   "source": [
    "this is a quantity expressing by how much the members of a group differ from the mean value for the group."
   ]
  },
  {
   "cell_type": "code",
   "execution_count": 90,
   "id": "apart-diving",
   "metadata": {},
   "outputs": [
    {
     "data": {
      "text/plain": [
       "Deaths    7437.238354\n",
       "dtype: float64"
      ]
     },
     "execution_count": 90,
     "metadata": {},
     "output_type": "execute_result"
    }
   ],
   "source": [
    "df[['Deaths','Country/Region']].std()"
   ]
  },
  {
   "cell_type": "markdown",
   "id": "anonymous-tactics",
   "metadata": {},
   "source": [
    "#### c) 5 number summary"
   ]
  },
  {
   "cell_type": "markdown",
   "id": "killing-island",
   "metadata": {},
   "source": [
    "#### minium"
   ]
  },
  {
   "cell_type": "code",
   "execution_count": 91,
   "id": "greenhouse-secret",
   "metadata": {},
   "outputs": [
    {
     "data": {
      "text/plain": [
       "Deaths    0\n",
       "dtype: int64"
      ]
     },
     "execution_count": 91,
     "metadata": {},
     "output_type": "execute_result"
    }
   ],
   "source": [
    "df[['Deaths']].min()"
   ]
  },
  {
   "cell_type": "markdown",
   "id": "transsexual-tattoo",
   "metadata": {},
   "source": [
    "#### first quartile"
   ]
  },
  {
   "cell_type": "code",
   "execution_count": 92,
   "id": "actual-novel",
   "metadata": {},
   "outputs": [
    {
     "data": {
      "text/plain": [
       "Deaths    0.0\n",
       "Name: 0.25, dtype: float64"
      ]
     },
     "execution_count": 92,
     "metadata": {},
     "output_type": "execute_result"
    }
   ],
   "source": [
    "df[['Deaths','Country/Region']].quantile(0.25)"
   ]
  },
  {
   "cell_type": "markdown",
   "id": "searching-lawrence",
   "metadata": {},
   "source": [
    "#### median"
   ]
  },
  {
   "cell_type": "code",
   "execution_count": 93,
   "id": "pressed-advancement",
   "metadata": {},
   "outputs": [
    {
     "data": {
      "text/plain": [
       "Deaths    4.0\n",
       "Name: 0.5, dtype: float64"
      ]
     },
     "execution_count": 93,
     "metadata": {},
     "output_type": "execute_result"
    }
   ],
   "source": [
    "df[['Deaths','Country/Region']].quantile(0.5)"
   ]
  },
  {
   "cell_type": "code",
   "execution_count": 94,
   "id": "extended-christianity",
   "metadata": {},
   "outputs": [],
   "source": [
    "### or"
   ]
  },
  {
   "cell_type": "code",
   "execution_count": 95,
   "id": "moral-capability",
   "metadata": {},
   "outputs": [
    {
     "data": {
      "text/plain": [
       "Deaths    4.0\n",
       "dtype: float64"
      ]
     },
     "execution_count": 95,
     "metadata": {},
     "output_type": "execute_result"
    }
   ],
   "source": [
    "df[['Deaths','Country/Region']].median()"
   ]
  },
  {
   "cell_type": "markdown",
   "id": "attended-salem",
   "metadata": {},
   "source": [
    "#### 3rd quartile"
   ]
  },
  {
   "cell_type": "code",
   "execution_count": 96,
   "id": "alien-routine",
   "metadata": {},
   "outputs": [
    {
     "data": {
      "text/plain": [
       "Deaths    78.25\n",
       "Name: 0.75, dtype: float64"
      ]
     },
     "execution_count": 96,
     "metadata": {},
     "output_type": "execute_result"
    }
   ],
   "source": [
    "df[['Deaths','Country/Region']].quantile(0.75)"
   ]
  },
  {
   "cell_type": "markdown",
   "id": "similar-butterfly",
   "metadata": {},
   "source": [
    "#### largest value"
   ]
  },
  {
   "cell_type": "code",
   "execution_count": 97,
   "id": "egyptian-vinyl",
   "metadata": {},
   "outputs": [
    {
     "data": {
      "text/plain": [
       "Deaths    148011\n",
       "dtype: int64"
      ]
     },
     "execution_count": 97,
     "metadata": {},
     "output_type": "execute_result"
    }
   ],
   "source": [
    "df[['Deaths']].max()"
   ]
  },
  {
   "cell_type": "markdown",
   "id": "relative-canada",
   "metadata": {},
   "source": [
    "### Q:6 "
   ]
  },
  {
   "cell_type": "markdown",
   "id": "corresponding-theory",
   "metadata": {},
   "source": [
    "#### dispersion using Histogram"
   ]
  },
  {
   "cell_type": "markdown",
   "id": "noted-terror",
   "metadata": {},
   "source": [
    "dispersion:Measures of dispersion describe the spread of the data."
   ]
  },
  {
   "cell_type": "code",
   "execution_count": 49,
   "id": "compact-tender",
   "metadata": {},
   "outputs": [
    {
     "data": {
      "image/png": "[encoded data removed]",
      "text/plain": [
       "<Figure size 432x288 with 1 Axes>"
      ]
     },
     "metadata": {
      "needs_background": "light"
     },
     "output_type": "display_data"
    }
   ],
   "source": [
    "plt.hist(df['Deaths'], range=(1,4), bins=8)\n",
    "plt.show()"
   ]
  },
  {
   "cell_type": "code",
   "execution_count": 65,
   "id": "yellow-auction",
   "metadata": {},
   "outputs": [
    {
     "name": "stderr",
     "output_type": "stream",
     "text": [
      "c:\\users\\sk\\appdata\\local\\programs\\python\\python39\\lib\\site-packages\\seaborn\\distributions.py:2557: FutureWarning: `distplot` is a deprecated function and will be removed in a future version. Please adapt your code to use either `displot` (a figure-level function with similar flexibility) or `histplot` (an axes-level function for histograms).\n",
      "  warnings.warn(msg, FutureWarning)\n"
     ]
    },
    {
     "data": {
      "image/png": "[encoded data removed]",
      "text/plain": [
       "<Figure size 432x288 with 1 Axes>"
      ]
     },
     "metadata": {
      "needs_background": "light"
     },
     "output_type": "display_data"
    }
   ],
   "source": [
    "ax = sns.distplot(df['Deaths'])\n",
    "plt.show()"
   ]
  },
  {
   "cell_type": "markdown",
   "id": "breeding-western",
   "metadata": {},
   "source": [
    "this histogram shows that dispersion is very high so here this histogram shows that data is left skewd"
   ]
  },
  {
   "cell_type": "markdown",
   "id": "monthly-gravity",
   "metadata": {},
   "source": [
    "### question:7 "
   ]
  },
  {
   "cell_type": "markdown",
   "id": "collectible-extent",
   "metadata": {},
   "source": [
    "##### distribution of data"
   ]
  },
  {
   "cell_type": "markdown",
   "id": "actual-deposit",
   "metadata": {},
   "source": [
    "#### reason:1 histogram\n",
    "as shown in above histogram that data is not in symmetric distribution because data is left skewed"
   ]
  },
  {
   "cell_type": "markdown",
   "id": "designed-pipeline",
   "metadata": {},
   "source": [
    "#### reason:2"
   ]
  },
  {
   "cell_type": "markdown",
   "id": "closed-ridge",
   "metadata": {},
   "source": [
    "#### reason:2 skewness"
   ]
  },
  {
   "cell_type": "markdown",
   "id": "equipped-divide",
   "metadata": {},
   "source": [
    "it refers to deviation from the symmetrical bell curve, or normal distribution, in a set of data. If the curve is shifted to the left or to the right, it is said to be skewed"
   ]
  },
  {
   "cell_type": "code",
   "execution_count": 30,
   "id": "bound-exception",
   "metadata": {},
   "outputs": [
    {
     "data": {
      "text/plain": [
       "11.597142842030857"
      ]
     },
     "execution_count": 30,
     "metadata": {},
     "output_type": "execute_result"
    }
   ],
   "source": [
    "df['Deaths'].skew()"
   ]
  },
  {
   "cell_type": "markdown",
   "id": "related-breathing",
   "metadata": {},
   "source": [
    "as its skew is very high so this is not symetric"
   ]
  },
  {
   "cell_type": "markdown",
   "id": "tired-wiring",
   "metadata": {},
   "source": [
    "it is must to be symmetric that data have skewness of zero"
   ]
  },
  {
   "cell_type": "markdown",
   "id": "orange-victoria",
   "metadata": {},
   "source": [
    "#### satandard deviation"
   ]
  },
  {
   "cell_type": "markdown",
   "id": "taken-entertainment",
   "metadata": {},
   "source": [
    "The standard deviation is a statistic that measures the\n",
    "dispersion of a dataset relative to its mean and is calculated \n",
    "as the square root of the variance."
   ]
  },
  {
   "cell_type": "code",
   "execution_count": 32,
   "id": "faced-sperm",
   "metadata": {},
   "outputs": [
    {
     "data": {
      "text/plain": [
       "7437.238354073035"
      ]
     },
     "execution_count": 32,
     "metadata": {},
     "output_type": "execute_result"
    }
   ],
   "source": [
    "df['Deaths'].std()"
   ]
  },
  {
   "cell_type": "markdown",
   "id": "alpine-entity",
   "metadata": {},
   "source": [
    "as its standard deviation is very high which show that feature of death is not symmetric"
   ]
  },
  {
   "cell_type": "markdown",
   "id": "duplicate-schedule",
   "metadata": {},
   "source": [
    "#### high difference of mean and median"
   ]
  },
  {
   "cell_type": "code",
   "execution_count": 37,
   "id": "north-wages",
   "metadata": {},
   "outputs": [
    {
     "data": {
      "text/plain": [
       "1234.0682387074753"
      ]
     },
     "execution_count": 37,
     "metadata": {},
     "output_type": "execute_result"
    }
   ],
   "source": [
    "df['Deaths'].mean()"
   ]
  },
  {
   "cell_type": "code",
   "execution_count": 41,
   "id": "australian-bidder",
   "metadata": {},
   "outputs": [
    {
     "data": {
      "text/plain": [
       "Deaths    4.0\n",
       "dtype: float64"
      ]
     },
     "execution_count": 41,
     "metadata": {},
     "output_type": "execute_result"
    }
   ],
   "source": [
    "df[['Deaths','Country/Region']].median()"
   ]
  },
  {
   "cell_type": "markdown",
   "id": "unknown-jewel",
   "metadata": {},
   "source": [
    "as mean is that measure of central tendency which is affected by higher values so here difference of mean and median is very clear which shows that feature of death have unsymmetric values"
   ]
  },
  {
   "cell_type": "markdown",
   "id": "popular-snapshot",
   "metadata": {},
   "source": [
    "### Q:8"
   ]
  },
  {
   "cell_type": "markdown",
   "id": "responsible-junction",
   "metadata": {},
   "source": [
    "#### missing values "
   ]
  },
  {
   "cell_type": "code",
   "execution_count": 43,
   "id": "opposite-husband",
   "metadata": {},
   "outputs": [
    {
     "data": {
      "text/plain": [
       "Deaths            0\n",
       "Country/Region    0\n",
       "dtype: int64"
      ]
     },
     "execution_count": 43,
     "metadata": {},
     "output_type": "execute_result"
    }
   ],
   "source": [
    "df[['Deaths','Country/Region']].isnull().sum()"
   ]
  },
  {
   "cell_type": "markdown",
   "id": "integral-customer",
   "metadata": {},
   "source": [
    "there is no null or missing values in this these two features"
   ]
  },
  {
   "cell_type": "markdown",
   "id": "removed-garlic",
   "metadata": {},
   "source": [
    "#### outliers"
   ]
  },
  {
   "cell_type": "code",
   "execution_count": 98,
   "id": "lesbian-greene",
   "metadata": {},
   "outputs": [
    {
     "data": {
      "image/png": "[encoded data removed]",
      "text/plain": [
       "<Figure size 432x288 with 1 Axes>"
      ]
     },
     "metadata": {
      "needs_background": "light"
     },
     "output_type": "display_data"
    }
   ],
   "source": [
    "import matplotlib.pyplot as plt\n",
    "ax = sns.boxplot(data=df[['Deaths','Country/Region']])\n",
    "plt.show()"
   ]
  },
  {
   "cell_type": "markdown",
   "id": "latest-control",
   "metadata": {},
   "source": [
    "This box plot showing that there is no outlier in this deaths"
   ]
  },
  {
   "cell_type": "markdown",
   "id": "dress-berkeley",
   "metadata": {},
   "source": [
    "### conclusion "
   ]
  },
  {
   "cell_type": "markdown",
   "id": "described-linux",
   "metadata": {},
   "source": [
    "#### This dataset which i am exploring is a health(covid_19) data set I choosed Deaths and Country feature to perform centaral tendancy measures.\n",
    "#### following are observations:\n",
    "#### as country is non nummerical feature so we can not find any more about that except mode deaths feature is very skewed a and left symmetric"
   ]
  },
  {
   "cell_type": "code",
   "execution_count": null,
   "id": "radical-binding",
   "metadata": {},
   "outputs": [],
   "source": []
  }
 ],
 "metadata": {
  "kernelspec": {
   "display_name": "Python 3",
   "language": "python",
   "name": "python3"
  },
  "language_info": {
   "codemirror_mode": {
    "name": "ipython",
    "version": 3
   },
   "file_extension": ".py",
   "mimetype": "text/x-python",
   "name": "python",
   "nbconvert_exporter": "python",
   "pygments_lexer": "ipython3",
   "version": "3.9.1"
  }
 },
 "nbformat": 4,
 "nbformat_minor": 5
}
