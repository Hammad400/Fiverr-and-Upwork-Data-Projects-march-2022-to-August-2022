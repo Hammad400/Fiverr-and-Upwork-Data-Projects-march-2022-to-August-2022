{
 "cells": [
  {
   "cell_type": "markdown",
   "metadata": {},
   "source": [
    "# Lab 1 - Descriptive Stats"
   ]
  },
  {
   "cell_type": "markdown",
   "metadata": {},
   "source": [
    "## Central tendency & Measures of Variability"
   ]
  },
  {
   "cell_type": "markdown",
   "metadata": {},
   "source": [
    "Please complete the following Lab. You will need to answer the questions. I would like you to focus on why we use each type of graph, what we are trying to plot. The idea is not that you just run every cell.\n",
    "\n",
    "* You will need to carry out research, for some of the questions\n",
    "* Some pieces of code don't work because some bits are missing\n",
    "\n"
   ]
  },
  {
   "cell_type": "markdown",
   "metadata": {},
   "source": [
    "## Using external datasets"
   ]
  },
  {
   "cell_type": "markdown",
   "metadata": {},
   "source": [
    "1) We want to upload a dataset in order to work with it but something is missing in order to make the following cell run properly. What Python module allows you to upload tabulated data? "
   ]
  },
  {
   "cell_type": "code",
   "execution_count": 1,
   "metadata": {},
   "outputs": [],
   "source": [
    "import pandas as pd"
   ]
  },
  {
   "cell_type": "code",
   "execution_count": 2,
   "metadata": {},
   "outputs": [],
   "source": [
    "data_spotify = pd.read_csv('https://raw.githubusercontent.com/rfordatascience/tidytuesday/master/data/2020/2020-01-21/spotify_songs.csv')"
   ]
  },
  {
   "cell_type": "markdown",
   "metadata": {},
   "source": [
    "**In the following link you can access to the information of the varialbes used in this data set:**  [https://github.com/rfordatascience/tidytuesday/blob/master/data/2020/2020-01-21/readme.md](https://github.com/rfordatascience/tidytuesday/blob/master/data/2020/2020-01-21/readme.md)"
   ]
  },
  {
   "cell_type": "markdown",
   "metadata": {},
   "source": [
    "## Understanding dataset"
   ]
  },
  {
   "cell_type": "markdown",
   "metadata": {},
   "source": [
    "2) How can you edit the following cel to visualize more than 5 rows?"
   ]
  },
  {
   "cell_type": "markdown",
   "metadata": {},
   "source": [
    "The function .head() by default shows the first 5 entries in your dataset"
   ]
  },
  {
   "cell_type": "code",
   "execution_count": 3,
   "metadata": {},
   "outputs": [
    {
     "data": {
      "text/html": [
       "<div>\n",
       "<style scoped>\n",
       "    .dataframe tbody tr th:only-of-type {\n",
       "        vertical-align: middle;\n",
       "    }\n",
       "\n",
       "    .dataframe tbody tr th {\n",
       "        vertical-align: top;\n",
       "    }\n",
       "\n",
       "    .dataframe thead th {\n",
       "        text-align: right;\n",
       "    }\n",
       "</style>\n",
       "<table border=\"1\" class=\"dataframe\">\n",
       "  <thead>\n",
       "    <tr style=\"text-align: right;\">\n",
       "      <th></th>\n",
       "      <th>track_id</th>\n",
       "      <th>track_name</th>\n",
       "      <th>track_artist</th>\n",
       "      <th>track_popularity</th>\n",
       "      <th>track_album_id</th>\n",
       "      <th>track_album_name</th>\n",
       "      <th>track_album_release_date</th>\n",
       "      <th>playlist_name</th>\n",
       "      <th>playlist_id</th>\n",
       "      <th>playlist_genre</th>\n",
       "      <th>...</th>\n",
       "      <th>key</th>\n",
       "      <th>loudness</th>\n",
       "      <th>mode</th>\n",
       "      <th>speechiness</th>\n",
       "      <th>acousticness</th>\n",
       "      <th>instrumentalness</th>\n",
       "      <th>liveness</th>\n",
       "      <th>valence</th>\n",
       "      <th>tempo</th>\n",
       "      <th>duration_ms</th>\n",
       "    </tr>\n",
       "  </thead>\n",
       "  <tbody>\n",
       "    <tr>\n",
       "      <th>0</th>\n",
       "      <td>6f807x0ima9a1j3VPbc7VN</td>\n",
       "      <td>I Don't Care (with Justin Bieber) - Loud Luxur...</td>\n",
       "      <td>Ed Sheeran</td>\n",
       "      <td>66</td>\n",
       "      <td>2oCs0DGTsRO98Gh5ZSl2Cx</td>\n",
       "      <td>I Don't Care (with Justin Bieber) [Loud Luxury...</td>\n",
       "      <td>2019-06-14</td>\n",
       "      <td>Pop Remix</td>\n",
       "      <td>37i9dQZF1DXcZDD7cfEKhW</td>\n",
       "      <td>pop</td>\n",
       "      <td>...</td>\n",
       "      <td>6</td>\n",
       "      <td>-2.634</td>\n",
       "      <td>1</td>\n",
       "      <td>0.0583</td>\n",
       "      <td>0.1020</td>\n",
       "      <td>0.000000</td>\n",
       "      <td>0.0653</td>\n",
       "      <td>0.518</td>\n",
       "      <td>122.036</td>\n",
       "      <td>194754</td>\n",
       "    </tr>\n",
       "    <tr>\n",
       "      <th>1</th>\n",
       "      <td>0r7CVbZTWZgbTCYdfa2P31</td>\n",
       "      <td>Memories - Dillon Francis Remix</td>\n",
       "      <td>Maroon 5</td>\n",
       "      <td>67</td>\n",
       "      <td>63rPSO264uRjW1X5E6cWv6</td>\n",
       "      <td>Memories (Dillon Francis Remix)</td>\n",
       "      <td>2019-12-13</td>\n",
       "      <td>Pop Remix</td>\n",
       "      <td>37i9dQZF1DXcZDD7cfEKhW</td>\n",
       "      <td>pop</td>\n",
       "      <td>...</td>\n",
       "      <td>11</td>\n",
       "      <td>-4.969</td>\n",
       "      <td>1</td>\n",
       "      <td>0.0373</td>\n",
       "      <td>0.0724</td>\n",
       "      <td>0.004210</td>\n",
       "      <td>0.3570</td>\n",
       "      <td>0.693</td>\n",
       "      <td>99.972</td>\n",
       "      <td>162600</td>\n",
       "    </tr>\n",
       "    <tr>\n",
       "      <th>2</th>\n",
       "      <td>1z1Hg7Vb0AhHDiEmnDE79l</td>\n",
       "      <td>All the Time - Don Diablo Remix</td>\n",
       "      <td>Zara Larsson</td>\n",
       "      <td>70</td>\n",
       "      <td>1HoSmj2eLcsrR0vE9gThr4</td>\n",
       "      <td>All the Time (Don Diablo Remix)</td>\n",
       "      <td>2019-07-05</td>\n",
       "      <td>Pop Remix</td>\n",
       "      <td>37i9dQZF1DXcZDD7cfEKhW</td>\n",
       "      <td>pop</td>\n",
       "      <td>...</td>\n",
       "      <td>1</td>\n",
       "      <td>-3.432</td>\n",
       "      <td>0</td>\n",
       "      <td>0.0742</td>\n",
       "      <td>0.0794</td>\n",
       "      <td>0.000023</td>\n",
       "      <td>0.1100</td>\n",
       "      <td>0.613</td>\n",
       "      <td>124.008</td>\n",
       "      <td>176616</td>\n",
       "    </tr>\n",
       "    <tr>\n",
       "      <th>3</th>\n",
       "      <td>75FpbthrwQmzHlBJLuGdC7</td>\n",
       "      <td>Call You Mine - Keanu Silva Remix</td>\n",
       "      <td>The Chainsmokers</td>\n",
       "      <td>60</td>\n",
       "      <td>1nqYsOef1yKKuGOVchbsk6</td>\n",
       "      <td>Call You Mine - The Remixes</td>\n",
       "      <td>2019-07-19</td>\n",
       "      <td>Pop Remix</td>\n",
       "      <td>37i9dQZF1DXcZDD7cfEKhW</td>\n",
       "      <td>pop</td>\n",
       "      <td>...</td>\n",
       "      <td>7</td>\n",
       "      <td>-3.778</td>\n",
       "      <td>1</td>\n",
       "      <td>0.1020</td>\n",
       "      <td>0.0287</td>\n",
       "      <td>0.000009</td>\n",
       "      <td>0.2040</td>\n",
       "      <td>0.277</td>\n",
       "      <td>121.956</td>\n",
       "      <td>169093</td>\n",
       "    </tr>\n",
       "    <tr>\n",
       "      <th>4</th>\n",
       "      <td>1e8PAfcKUYoKkxPhrHqw4x</td>\n",
       "      <td>Someone You Loved - Future Humans Remix</td>\n",
       "      <td>Lewis Capaldi</td>\n",
       "      <td>69</td>\n",
       "      <td>7m7vv9wlQ4i0LFuJiE2zsQ</td>\n",
       "      <td>Someone You Loved (Future Humans Remix)</td>\n",
       "      <td>2019-03-05</td>\n",
       "      <td>Pop Remix</td>\n",
       "      <td>37i9dQZF1DXcZDD7cfEKhW</td>\n",
       "      <td>pop</td>\n",
       "      <td>...</td>\n",
       "      <td>1</td>\n",
       "      <td>-4.672</td>\n",
       "      <td>1</td>\n",
       "      <td>0.0359</td>\n",
       "      <td>0.0803</td>\n",
       "      <td>0.000000</td>\n",
       "      <td>0.0833</td>\n",
       "      <td>0.725</td>\n",
       "      <td>123.976</td>\n",
       "      <td>189052</td>\n",
       "    </tr>\n",
       "  </tbody>\n",
       "</table>\n",
       "<p>5 rows × 23 columns</p>\n",
       "</div>"
      ],
      "text/plain": [
       "                 track_id                                         track_name  \\\n",
       "0  6f807x0ima9a1j3VPbc7VN  I Don't Care (with Justin Bieber) - Loud Luxur...   \n",
       "1  0r7CVbZTWZgbTCYdfa2P31                    Memories - Dillon Francis Remix   \n",
       "2  1z1Hg7Vb0AhHDiEmnDE79l                    All the Time - Don Diablo Remix   \n",
       "3  75FpbthrwQmzHlBJLuGdC7                  Call You Mine - Keanu Silva Remix   \n",
       "4  1e8PAfcKUYoKkxPhrHqw4x            Someone You Loved - Future Humans Remix   \n",
       "\n",
       "       track_artist  track_popularity          track_album_id  \\\n",
       "0        Ed Sheeran                66  2oCs0DGTsRO98Gh5ZSl2Cx   \n",
       "1          Maroon 5                67  63rPSO264uRjW1X5E6cWv6   \n",
       "2      Zara Larsson                70  1HoSmj2eLcsrR0vE9gThr4   \n",
       "3  The Chainsmokers                60  1nqYsOef1yKKuGOVchbsk6   \n",
       "4     Lewis Capaldi                69  7m7vv9wlQ4i0LFuJiE2zsQ   \n",
       "\n",
       "                                    track_album_name track_album_release_date  \\\n",
       "0  I Don't Care (with Justin Bieber) [Loud Luxury...               2019-06-14   \n",
       "1                    Memories (Dillon Francis Remix)               2019-12-13   \n",
       "2                    All the Time (Don Diablo Remix)               2019-07-05   \n",
       "3                        Call You Mine - The Remixes               2019-07-19   \n",
       "4            Someone You Loved (Future Humans Remix)               2019-03-05   \n",
       "\n",
       "  playlist_name             playlist_id playlist_genre  ... key  loudness  \\\n",
       "0     Pop Remix  37i9dQZF1DXcZDD7cfEKhW            pop  ...   6    -2.634   \n",
       "1     Pop Remix  37i9dQZF1DXcZDD7cfEKhW            pop  ...  11    -4.969   \n",
       "2     Pop Remix  37i9dQZF1DXcZDD7cfEKhW            pop  ...   1    -3.432   \n",
       "3     Pop Remix  37i9dQZF1DXcZDD7cfEKhW            pop  ...   7    -3.778   \n",
       "4     Pop Remix  37i9dQZF1DXcZDD7cfEKhW            pop  ...   1    -4.672   \n",
       "\n",
       "   mode  speechiness  acousticness  instrumentalness  liveness  valence  \\\n",
       "0     1       0.0583        0.1020          0.000000    0.0653    0.518   \n",
       "1     1       0.0373        0.0724          0.004210    0.3570    0.693   \n",
       "2     0       0.0742        0.0794          0.000023    0.1100    0.613   \n",
       "3     1       0.1020        0.0287          0.000009    0.2040    0.277   \n",
       "4     1       0.0359        0.0803          0.000000    0.0833    0.725   \n",
       "\n",
       "     tempo  duration_ms  \n",
       "0  122.036       194754  \n",
       "1   99.972       162600  \n",
       "2  124.008       176616  \n",
       "3  121.956       169093  \n",
       "4  123.976       189052  \n",
       "\n",
       "[5 rows x 23 columns]"
      ]
     },
     "execution_count": 3,
     "metadata": {},
     "output_type": "execute_result"
    }
   ],
   "source": [
    "data_spotify.head()"
   ]
  },
  {
   "cell_type": "code",
   "execution_count": 4,
   "metadata": {},
   "outputs": [
    {
     "data": {
      "text/html": [
       "<div>\n",
       "<style scoped>\n",
       "    .dataframe tbody tr th:only-of-type {\n",
       "        vertical-align: middle;\n",
       "    }\n",
       "\n",
       "    .dataframe tbody tr th {\n",
       "        vertical-align: top;\n",
       "    }\n",
       "\n",
       "    .dataframe thead th {\n",
       "        text-align: right;\n",
       "    }\n",
       "</style>\n",
       "<table border=\"1\" class=\"dataframe\">\n",
       "  <thead>\n",
       "    <tr style=\"text-align: right;\">\n",
       "      <th></th>\n",
       "      <th>track_id</th>\n",
       "      <th>track_name</th>\n",
       "      <th>track_artist</th>\n",
       "      <th>track_popularity</th>\n",
       "      <th>track_album_id</th>\n",
       "      <th>track_album_name</th>\n",
       "      <th>track_album_release_date</th>\n",
       "      <th>playlist_name</th>\n",
       "      <th>playlist_id</th>\n",
       "      <th>playlist_genre</th>\n",
       "      <th>...</th>\n",
       "      <th>key</th>\n",
       "      <th>loudness</th>\n",
       "      <th>mode</th>\n",
       "      <th>speechiness</th>\n",
       "      <th>acousticness</th>\n",
       "      <th>instrumentalness</th>\n",
       "      <th>liveness</th>\n",
       "      <th>valence</th>\n",
       "      <th>tempo</th>\n",
       "      <th>duration_ms</th>\n",
       "    </tr>\n",
       "  </thead>\n",
       "  <tbody>\n",
       "    <tr>\n",
       "      <th>0</th>\n",
       "      <td>6f807x0ima9a1j3VPbc7VN</td>\n",
       "      <td>I Don't Care (with Justin Bieber) - Loud Luxur...</td>\n",
       "      <td>Ed Sheeran</td>\n",
       "      <td>66</td>\n",
       "      <td>2oCs0DGTsRO98Gh5ZSl2Cx</td>\n",
       "      <td>I Don't Care (with Justin Bieber) [Loud Luxury...</td>\n",
       "      <td>2019-06-14</td>\n",
       "      <td>Pop Remix</td>\n",
       "      <td>37i9dQZF1DXcZDD7cfEKhW</td>\n",
       "      <td>pop</td>\n",
       "      <td>...</td>\n",
       "      <td>6</td>\n",
       "      <td>-2.634</td>\n",
       "      <td>1</td>\n",
       "      <td>0.0583</td>\n",
       "      <td>0.10200</td>\n",
       "      <td>0.000000</td>\n",
       "      <td>0.0653</td>\n",
       "      <td>0.518</td>\n",
       "      <td>122.036</td>\n",
       "      <td>194754</td>\n",
       "    </tr>\n",
       "    <tr>\n",
       "      <th>1</th>\n",
       "      <td>0r7CVbZTWZgbTCYdfa2P31</td>\n",
       "      <td>Memories - Dillon Francis Remix</td>\n",
       "      <td>Maroon 5</td>\n",
       "      <td>67</td>\n",
       "      <td>63rPSO264uRjW1X5E6cWv6</td>\n",
       "      <td>Memories (Dillon Francis Remix)</td>\n",
       "      <td>2019-12-13</td>\n",
       "      <td>Pop Remix</td>\n",
       "      <td>37i9dQZF1DXcZDD7cfEKhW</td>\n",
       "      <td>pop</td>\n",
       "      <td>...</td>\n",
       "      <td>11</td>\n",
       "      <td>-4.969</td>\n",
       "      <td>1</td>\n",
       "      <td>0.0373</td>\n",
       "      <td>0.07240</td>\n",
       "      <td>0.004210</td>\n",
       "      <td>0.3570</td>\n",
       "      <td>0.693</td>\n",
       "      <td>99.972</td>\n",
       "      <td>162600</td>\n",
       "    </tr>\n",
       "    <tr>\n",
       "      <th>2</th>\n",
       "      <td>1z1Hg7Vb0AhHDiEmnDE79l</td>\n",
       "      <td>All the Time - Don Diablo Remix</td>\n",
       "      <td>Zara Larsson</td>\n",
       "      <td>70</td>\n",
       "      <td>1HoSmj2eLcsrR0vE9gThr4</td>\n",
       "      <td>All the Time (Don Diablo Remix)</td>\n",
       "      <td>2019-07-05</td>\n",
       "      <td>Pop Remix</td>\n",
       "      <td>37i9dQZF1DXcZDD7cfEKhW</td>\n",
       "      <td>pop</td>\n",
       "      <td>...</td>\n",
       "      <td>1</td>\n",
       "      <td>-3.432</td>\n",
       "      <td>0</td>\n",
       "      <td>0.0742</td>\n",
       "      <td>0.07940</td>\n",
       "      <td>0.000023</td>\n",
       "      <td>0.1100</td>\n",
       "      <td>0.613</td>\n",
       "      <td>124.008</td>\n",
       "      <td>176616</td>\n",
       "    </tr>\n",
       "    <tr>\n",
       "      <th>3</th>\n",
       "      <td>75FpbthrwQmzHlBJLuGdC7</td>\n",
       "      <td>Call You Mine - Keanu Silva Remix</td>\n",
       "      <td>The Chainsmokers</td>\n",
       "      <td>60</td>\n",
       "      <td>1nqYsOef1yKKuGOVchbsk6</td>\n",
       "      <td>Call You Mine - The Remixes</td>\n",
       "      <td>2019-07-19</td>\n",
       "      <td>Pop Remix</td>\n",
       "      <td>37i9dQZF1DXcZDD7cfEKhW</td>\n",
       "      <td>pop</td>\n",
       "      <td>...</td>\n",
       "      <td>7</td>\n",
       "      <td>-3.778</td>\n",
       "      <td>1</td>\n",
       "      <td>0.1020</td>\n",
       "      <td>0.02870</td>\n",
       "      <td>0.000009</td>\n",
       "      <td>0.2040</td>\n",
       "      <td>0.277</td>\n",
       "      <td>121.956</td>\n",
       "      <td>169093</td>\n",
       "    </tr>\n",
       "    <tr>\n",
       "      <th>4</th>\n",
       "      <td>1e8PAfcKUYoKkxPhrHqw4x</td>\n",
       "      <td>Someone You Loved - Future Humans Remix</td>\n",
       "      <td>Lewis Capaldi</td>\n",
       "      <td>69</td>\n",
       "      <td>7m7vv9wlQ4i0LFuJiE2zsQ</td>\n",
       "      <td>Someone You Loved (Future Humans Remix)</td>\n",
       "      <td>2019-03-05</td>\n",
       "      <td>Pop Remix</td>\n",
       "      <td>37i9dQZF1DXcZDD7cfEKhW</td>\n",
       "      <td>pop</td>\n",
       "      <td>...</td>\n",
       "      <td>1</td>\n",
       "      <td>-4.672</td>\n",
       "      <td>1</td>\n",
       "      <td>0.0359</td>\n",
       "      <td>0.08030</td>\n",
       "      <td>0.000000</td>\n",
       "      <td>0.0833</td>\n",
       "      <td>0.725</td>\n",
       "      <td>123.976</td>\n",
       "      <td>189052</td>\n",
       "    </tr>\n",
       "    <tr>\n",
       "      <th>5</th>\n",
       "      <td>7fvUMiyapMsRRxr07cU8Ef</td>\n",
       "      <td>Beautiful People (feat. Khalid) - Jack Wins Remix</td>\n",
       "      <td>Ed Sheeran</td>\n",
       "      <td>67</td>\n",
       "      <td>2yiy9cd2QktrNvWC2EUi0k</td>\n",
       "      <td>Beautiful People (feat. Khalid) [Jack Wins Remix]</td>\n",
       "      <td>2019-07-11</td>\n",
       "      <td>Pop Remix</td>\n",
       "      <td>37i9dQZF1DXcZDD7cfEKhW</td>\n",
       "      <td>pop</td>\n",
       "      <td>...</td>\n",
       "      <td>8</td>\n",
       "      <td>-5.385</td>\n",
       "      <td>1</td>\n",
       "      <td>0.1270</td>\n",
       "      <td>0.07990</td>\n",
       "      <td>0.000000</td>\n",
       "      <td>0.1430</td>\n",
       "      <td>0.585</td>\n",
       "      <td>124.982</td>\n",
       "      <td>163049</td>\n",
       "    </tr>\n",
       "    <tr>\n",
       "      <th>6</th>\n",
       "      <td>2OAylPUDDfwRGfe0lYqlCQ</td>\n",
       "      <td>Never Really Over - R3HAB Remix</td>\n",
       "      <td>Katy Perry</td>\n",
       "      <td>62</td>\n",
       "      <td>7INHYSeusaFlyrHSNxm8qH</td>\n",
       "      <td>Never Really Over (R3HAB Remix)</td>\n",
       "      <td>2019-07-26</td>\n",
       "      <td>Pop Remix</td>\n",
       "      <td>37i9dQZF1DXcZDD7cfEKhW</td>\n",
       "      <td>pop</td>\n",
       "      <td>...</td>\n",
       "      <td>5</td>\n",
       "      <td>-4.788</td>\n",
       "      <td>0</td>\n",
       "      <td>0.0623</td>\n",
       "      <td>0.18700</td>\n",
       "      <td>0.000000</td>\n",
       "      <td>0.1760</td>\n",
       "      <td>0.152</td>\n",
       "      <td>112.648</td>\n",
       "      <td>187675</td>\n",
       "    </tr>\n",
       "    <tr>\n",
       "      <th>7</th>\n",
       "      <td>6b1RNvAcJjQH73eZO4BLAB</td>\n",
       "      <td>Post Malone (feat. RANI) - GATTÜSO Remix</td>\n",
       "      <td>Sam Feldt</td>\n",
       "      <td>69</td>\n",
       "      <td>6703SRPsLkS4bPtMFFJes1</td>\n",
       "      <td>Post Malone (feat. RANI) [GATTÜSO Remix]</td>\n",
       "      <td>2019-08-29</td>\n",
       "      <td>Pop Remix</td>\n",
       "      <td>37i9dQZF1DXcZDD7cfEKhW</td>\n",
       "      <td>pop</td>\n",
       "      <td>...</td>\n",
       "      <td>4</td>\n",
       "      <td>-2.419</td>\n",
       "      <td>0</td>\n",
       "      <td>0.0434</td>\n",
       "      <td>0.03350</td>\n",
       "      <td>0.000005</td>\n",
       "      <td>0.1110</td>\n",
       "      <td>0.367</td>\n",
       "      <td>127.936</td>\n",
       "      <td>207619</td>\n",
       "    </tr>\n",
       "    <tr>\n",
       "      <th>8</th>\n",
       "      <td>7bF6tCO3gFb8INrEDcjNT5</td>\n",
       "      <td>Tough Love - Tiësto Remix / Radio Edit</td>\n",
       "      <td>Avicii</td>\n",
       "      <td>68</td>\n",
       "      <td>7CvAfGvq4RlIwEbT9o8Iav</td>\n",
       "      <td>Tough Love (Tiësto Remix)</td>\n",
       "      <td>2019-06-14</td>\n",
       "      <td>Pop Remix</td>\n",
       "      <td>37i9dQZF1DXcZDD7cfEKhW</td>\n",
       "      <td>pop</td>\n",
       "      <td>...</td>\n",
       "      <td>8</td>\n",
       "      <td>-3.562</td>\n",
       "      <td>1</td>\n",
       "      <td>0.0565</td>\n",
       "      <td>0.02490</td>\n",
       "      <td>0.000004</td>\n",
       "      <td>0.6370</td>\n",
       "      <td>0.366</td>\n",
       "      <td>127.015</td>\n",
       "      <td>193187</td>\n",
       "    </tr>\n",
       "    <tr>\n",
       "      <th>9</th>\n",
       "      <td>1IXGILkPm0tOCNeq00kCPa</td>\n",
       "      <td>If I Can't Have You - Gryffin Remix</td>\n",
       "      <td>Shawn Mendes</td>\n",
       "      <td>67</td>\n",
       "      <td>4QxzbfSsVryEQwvPFEV5Iu</td>\n",
       "      <td>If I Can't Have You (Gryffin Remix)</td>\n",
       "      <td>2019-06-20</td>\n",
       "      <td>Pop Remix</td>\n",
       "      <td>37i9dQZF1DXcZDD7cfEKhW</td>\n",
       "      <td>pop</td>\n",
       "      <td>...</td>\n",
       "      <td>2</td>\n",
       "      <td>-4.552</td>\n",
       "      <td>1</td>\n",
       "      <td>0.0320</td>\n",
       "      <td>0.05670</td>\n",
       "      <td>0.000000</td>\n",
       "      <td>0.0919</td>\n",
       "      <td>0.590</td>\n",
       "      <td>124.957</td>\n",
       "      <td>253040</td>\n",
       "    </tr>\n",
       "    <tr>\n",
       "      <th>10</th>\n",
       "      <td>3eFJI470ALf1EYjywPRsJy</td>\n",
       "      <td>Cross Me (feat. Chance the Rapper &amp; PnB Rock) ...</td>\n",
       "      <td>Ed Sheeran</td>\n",
       "      <td>58</td>\n",
       "      <td>49bXZtlI5kQSqQMSCnSaWO</td>\n",
       "      <td>Cross Me (feat. Chance the Rapper &amp; PnB Rock) ...</td>\n",
       "      <td>2019-06-21</td>\n",
       "      <td>Pop Remix</td>\n",
       "      <td>37i9dQZF1DXcZDD7cfEKhW</td>\n",
       "      <td>pop</td>\n",
       "      <td>...</td>\n",
       "      <td>6</td>\n",
       "      <td>-6.500</td>\n",
       "      <td>1</td>\n",
       "      <td>0.1810</td>\n",
       "      <td>0.14600</td>\n",
       "      <td>0.000005</td>\n",
       "      <td>0.1240</td>\n",
       "      <td>0.752</td>\n",
       "      <td>121.984</td>\n",
       "      <td>207894</td>\n",
       "    </tr>\n",
       "    <tr>\n",
       "      <th>11</th>\n",
       "      <td>3iJeF2izF1QcpCgUc97BLl</td>\n",
       "      <td>Hate Me - R3HAB Remix</td>\n",
       "      <td>Ellie Goulding</td>\n",
       "      <td>67</td>\n",
       "      <td>6e6RVFWdZaoTiLAZOCMnps</td>\n",
       "      <td>Hate Me (R3HAB Remix)</td>\n",
       "      <td>2019-08-16</td>\n",
       "      <td>Pop Remix</td>\n",
       "      <td>37i9dQZF1DXcZDD7cfEKhW</td>\n",
       "      <td>pop</td>\n",
       "      <td>...</td>\n",
       "      <td>8</td>\n",
       "      <td>-4.918</td>\n",
       "      <td>1</td>\n",
       "      <td>0.0554</td>\n",
       "      <td>0.14800</td>\n",
       "      <td>0.000000</td>\n",
       "      <td>0.1330</td>\n",
       "      <td>0.329</td>\n",
       "      <td>123.125</td>\n",
       "      <td>203733</td>\n",
       "    </tr>\n",
       "    <tr>\n",
       "      <th>12</th>\n",
       "      <td>6e0CvGZf7CouOpYF8toXHC</td>\n",
       "      <td>Body On My</td>\n",
       "      <td>Loud Luxury</td>\n",
       "      <td>67</td>\n",
       "      <td>2R66I0nzp3NnuUlzIGWQ5P</td>\n",
       "      <td>Body On My</td>\n",
       "      <td>2019-03-29</td>\n",
       "      <td>Pop Remix</td>\n",
       "      <td>37i9dQZF1DXcZDD7cfEKhW</td>\n",
       "      <td>pop</td>\n",
       "      <td>...</td>\n",
       "      <td>1</td>\n",
       "      <td>-4.675</td>\n",
       "      <td>1</td>\n",
       "      <td>0.0463</td>\n",
       "      <td>0.03990</td>\n",
       "      <td>0.000000</td>\n",
       "      <td>0.3740</td>\n",
       "      <td>0.687</td>\n",
       "      <td>121.985</td>\n",
       "      <td>192507</td>\n",
       "    </tr>\n",
       "    <tr>\n",
       "      <th>13</th>\n",
       "      <td>3eLdNmnRWr9gIyBcqTSSti</td>\n",
       "      <td>SOS - Laidback Luke Tribute Remix / Radio Edit</td>\n",
       "      <td>Avicii</td>\n",
       "      <td>68</td>\n",
       "      <td>7Al4TIo0c5twNLfdOh1y1u</td>\n",
       "      <td>SOS (Laidback Luke Tribute Remix)</td>\n",
       "      <td>2019-05-17</td>\n",
       "      <td>Pop Remix</td>\n",
       "      <td>37i9dQZF1DXcZDD7cfEKhW</td>\n",
       "      <td>pop</td>\n",
       "      <td>...</td>\n",
       "      <td>5</td>\n",
       "      <td>-4.451</td>\n",
       "      <td>0</td>\n",
       "      <td>0.0625</td>\n",
       "      <td>0.01110</td>\n",
       "      <td>0.000000</td>\n",
       "      <td>0.3390</td>\n",
       "      <td>0.678</td>\n",
       "      <td>123.919</td>\n",
       "      <td>164516</td>\n",
       "    </tr>\n",
       "    <tr>\n",
       "      <th>14</th>\n",
       "      <td>55nMnifaQWKe3f9cbwOXwx</td>\n",
       "      <td>Summer Days (feat. Macklemore &amp; Patrick Stump ...</td>\n",
       "      <td>Martin Garrix</td>\n",
       "      <td>63</td>\n",
       "      <td>2vx3BtBMn8Ed3ygEg1OT2t</td>\n",
       "      <td>Summer Days (feat. Macklemore &amp; Patrick Stump ...</td>\n",
       "      <td>2019-07-12</td>\n",
       "      <td>Pop Remix</td>\n",
       "      <td>37i9dQZF1DXcZDD7cfEKhW</td>\n",
       "      <td>pop</td>\n",
       "      <td>...</td>\n",
       "      <td>5</td>\n",
       "      <td>-4.446</td>\n",
       "      <td>0</td>\n",
       "      <td>0.0594</td>\n",
       "      <td>0.00733</td>\n",
       "      <td>0.001830</td>\n",
       "      <td>0.0729</td>\n",
       "      <td>0.238</td>\n",
       "      <td>126.070</td>\n",
       "      <td>255238</td>\n",
       "    </tr>\n",
       "  </tbody>\n",
       "</table>\n",
       "<p>15 rows × 23 columns</p>\n",
       "</div>"
      ],
      "text/plain": [
       "                  track_id                                         track_name  \\\n",
       "0   6f807x0ima9a1j3VPbc7VN  I Don't Care (with Justin Bieber) - Loud Luxur...   \n",
       "1   0r7CVbZTWZgbTCYdfa2P31                    Memories - Dillon Francis Remix   \n",
       "2   1z1Hg7Vb0AhHDiEmnDE79l                    All the Time - Don Diablo Remix   \n",
       "3   75FpbthrwQmzHlBJLuGdC7                  Call You Mine - Keanu Silva Remix   \n",
       "4   1e8PAfcKUYoKkxPhrHqw4x            Someone You Loved - Future Humans Remix   \n",
       "5   7fvUMiyapMsRRxr07cU8Ef  Beautiful People (feat. Khalid) - Jack Wins Remix   \n",
       "6   2OAylPUDDfwRGfe0lYqlCQ                    Never Really Over - R3HAB Remix   \n",
       "7   6b1RNvAcJjQH73eZO4BLAB           Post Malone (feat. RANI) - GATTÜSO Remix   \n",
       "8   7bF6tCO3gFb8INrEDcjNT5             Tough Love - Tiësto Remix / Radio Edit   \n",
       "9   1IXGILkPm0tOCNeq00kCPa                If I Can't Have You - Gryffin Remix   \n",
       "10  3eFJI470ALf1EYjywPRsJy  Cross Me (feat. Chance the Rapper & PnB Rock) ...   \n",
       "11  3iJeF2izF1QcpCgUc97BLl                              Hate Me - R3HAB Remix   \n",
       "12  6e0CvGZf7CouOpYF8toXHC                                         Body On My   \n",
       "13  3eLdNmnRWr9gIyBcqTSSti     SOS - Laidback Luke Tribute Remix / Radio Edit   \n",
       "14  55nMnifaQWKe3f9cbwOXwx  Summer Days (feat. Macklemore & Patrick Stump ...   \n",
       "\n",
       "        track_artist  track_popularity          track_album_id  \\\n",
       "0         Ed Sheeran                66  2oCs0DGTsRO98Gh5ZSl2Cx   \n",
       "1           Maroon 5                67  63rPSO264uRjW1X5E6cWv6   \n",
       "2       Zara Larsson                70  1HoSmj2eLcsrR0vE9gThr4   \n",
       "3   The Chainsmokers                60  1nqYsOef1yKKuGOVchbsk6   \n",
       "4      Lewis Capaldi                69  7m7vv9wlQ4i0LFuJiE2zsQ   \n",
       "5         Ed Sheeran                67  2yiy9cd2QktrNvWC2EUi0k   \n",
       "6         Katy Perry                62  7INHYSeusaFlyrHSNxm8qH   \n",
       "7          Sam Feldt                69  6703SRPsLkS4bPtMFFJes1   \n",
       "8             Avicii                68  7CvAfGvq4RlIwEbT9o8Iav   \n",
       "9       Shawn Mendes                67  4QxzbfSsVryEQwvPFEV5Iu   \n",
       "10        Ed Sheeran                58  49bXZtlI5kQSqQMSCnSaWO   \n",
       "11    Ellie Goulding                67  6e6RVFWdZaoTiLAZOCMnps   \n",
       "12       Loud Luxury                67  2R66I0nzp3NnuUlzIGWQ5P   \n",
       "13            Avicii                68  7Al4TIo0c5twNLfdOh1y1u   \n",
       "14     Martin Garrix                63  2vx3BtBMn8Ed3ygEg1OT2t   \n",
       "\n",
       "                                     track_album_name  \\\n",
       "0   I Don't Care (with Justin Bieber) [Loud Luxury...   \n",
       "1                     Memories (Dillon Francis Remix)   \n",
       "2                     All the Time (Don Diablo Remix)   \n",
       "3                         Call You Mine - The Remixes   \n",
       "4             Someone You Loved (Future Humans Remix)   \n",
       "5   Beautiful People (feat. Khalid) [Jack Wins Remix]   \n",
       "6                     Never Really Over (R3HAB Remix)   \n",
       "7            Post Malone (feat. RANI) [GATTÜSO Remix]   \n",
       "8                           Tough Love (Tiësto Remix)   \n",
       "9                 If I Can't Have You (Gryffin Remix)   \n",
       "10  Cross Me (feat. Chance the Rapper & PnB Rock) ...   \n",
       "11                              Hate Me (R3HAB Remix)   \n",
       "12                                         Body On My   \n",
       "13                  SOS (Laidback Luke Tribute Remix)   \n",
       "14  Summer Days (feat. Macklemore & Patrick Stump ...   \n",
       "\n",
       "   track_album_release_date playlist_name             playlist_id  \\\n",
       "0                2019-06-14     Pop Remix  37i9dQZF1DXcZDD7cfEKhW   \n",
       "1                2019-12-13     Pop Remix  37i9dQZF1DXcZDD7cfEKhW   \n",
       "2                2019-07-05     Pop Remix  37i9dQZF1DXcZDD7cfEKhW   \n",
       "3                2019-07-19     Pop Remix  37i9dQZF1DXcZDD7cfEKhW   \n",
       "4                2019-03-05     Pop Remix  37i9dQZF1DXcZDD7cfEKhW   \n",
       "5                2019-07-11     Pop Remix  37i9dQZF1DXcZDD7cfEKhW   \n",
       "6                2019-07-26     Pop Remix  37i9dQZF1DXcZDD7cfEKhW   \n",
       "7                2019-08-29     Pop Remix  37i9dQZF1DXcZDD7cfEKhW   \n",
       "8                2019-06-14     Pop Remix  37i9dQZF1DXcZDD7cfEKhW   \n",
       "9                2019-06-20     Pop Remix  37i9dQZF1DXcZDD7cfEKhW   \n",
       "10               2019-06-21     Pop Remix  37i9dQZF1DXcZDD7cfEKhW   \n",
       "11               2019-08-16     Pop Remix  37i9dQZF1DXcZDD7cfEKhW   \n",
       "12               2019-03-29     Pop Remix  37i9dQZF1DXcZDD7cfEKhW   \n",
       "13               2019-05-17     Pop Remix  37i9dQZF1DXcZDD7cfEKhW   \n",
       "14               2019-07-12     Pop Remix  37i9dQZF1DXcZDD7cfEKhW   \n",
       "\n",
       "   playlist_genre  ... key  loudness  mode  speechiness  acousticness  \\\n",
       "0             pop  ...   6    -2.634     1       0.0583       0.10200   \n",
       "1             pop  ...  11    -4.969     1       0.0373       0.07240   \n",
       "2             pop  ...   1    -3.432     0       0.0742       0.07940   \n",
       "3             pop  ...   7    -3.778     1       0.1020       0.02870   \n",
       "4             pop  ...   1    -4.672     1       0.0359       0.08030   \n",
       "5             pop  ...   8    -5.385     1       0.1270       0.07990   \n",
       "6             pop  ...   5    -4.788     0       0.0623       0.18700   \n",
       "7             pop  ...   4    -2.419     0       0.0434       0.03350   \n",
       "8             pop  ...   8    -3.562     1       0.0565       0.02490   \n",
       "9             pop  ...   2    -4.552     1       0.0320       0.05670   \n",
       "10            pop  ...   6    -6.500     1       0.1810       0.14600   \n",
       "11            pop  ...   8    -4.918     1       0.0554       0.14800   \n",
       "12            pop  ...   1    -4.675     1       0.0463       0.03990   \n",
       "13            pop  ...   5    -4.451     0       0.0625       0.01110   \n",
       "14            pop  ...   5    -4.446     0       0.0594       0.00733   \n",
       "\n",
       "    instrumentalness  liveness  valence    tempo  duration_ms  \n",
       "0           0.000000    0.0653    0.518  122.036       194754  \n",
       "1           0.004210    0.3570    0.693   99.972       162600  \n",
       "2           0.000023    0.1100    0.613  124.008       176616  \n",
       "3           0.000009    0.2040    0.277  121.956       169093  \n",
       "4           0.000000    0.0833    0.725  123.976       189052  \n",
       "5           0.000000    0.1430    0.585  124.982       163049  \n",
       "6           0.000000    0.1760    0.152  112.648       187675  \n",
       "7           0.000005    0.1110    0.367  127.936       207619  \n",
       "8           0.000004    0.6370    0.366  127.015       193187  \n",
       "9           0.000000    0.0919    0.590  124.957       253040  \n",
       "10          0.000005    0.1240    0.752  121.984       207894  \n",
       "11          0.000000    0.1330    0.329  123.125       203733  \n",
       "12          0.000000    0.3740    0.687  121.985       192507  \n",
       "13          0.000000    0.3390    0.678  123.919       164516  \n",
       "14          0.001830    0.0729    0.238  126.070       255238  \n",
       "\n",
       "[15 rows x 23 columns]"
      ]
     },
     "execution_count": 4,
     "metadata": {},
     "output_type": "execute_result"
    }
   ],
   "source": [
    "data_spotify.head(15)"
   ]
  },
  {
   "cell_type": "markdown",
   "metadata": {},
   "source": [
    "3) What information does the method info() provide? "
   ]
  },
  {
   "cell_type": "markdown",
   "metadata": {},
   "source": [
    "The **info()** method displays general information about your dataset:\n",
    "* number of rows = entries\n",
    "* number of variables = columns\n",
    "* null values --> you can compare this number with the total number of entries\n",
    "* data types = when we have an object, that might mean that we are working with a categorical variable"
   ]
  },
  {
   "cell_type": "code",
   "execution_count": 5,
   "metadata": {},
   "outputs": [
    {
     "name": "stdout",
     "output_type": "stream",
     "text": [
      "<class 'pandas.core.frame.DataFrame'>\n",
      "RangeIndex: 32833 entries, 0 to 32832\n",
      "Data columns (total 23 columns):\n",
      " #   Column                    Non-Null Count  Dtype  \n",
      "---  ------                    --------------  -----  \n",
      " 0   track_id                  32833 non-null  object \n",
      " 1   track_name                32828 non-null  object \n",
      " 2   track_artist              32828 non-null  object \n",
      " 3   track_popularity          32833 non-null  int64  \n",
      " 4   track_album_id            32833 non-null  object \n",
      " 5   track_album_name          32828 non-null  object \n",
      " 6   track_album_release_date  32833 non-null  object \n",
      " 7   playlist_name             32833 non-null  object \n",
      " 8   playlist_id               32833 non-null  object \n",
      " 9   playlist_genre            32833 non-null  object \n",
      " 10  playlist_subgenre         32833 non-null  object \n",
      " 11  danceability              32833 non-null  float64\n",
      " 12  energy                    32833 non-null  float64\n",
      " 13  key                       32833 non-null  int64  \n",
      " 14  loudness                  32833 non-null  float64\n",
      " 15  mode                      32833 non-null  int64  \n",
      " 16  speechiness               32833 non-null  float64\n",
      " 17  acousticness              32833 non-null  float64\n",
      " 18  instrumentalness          32833 non-null  float64\n",
      " 19  liveness                  32833 non-null  float64\n",
      " 20  valence                   32833 non-null  float64\n",
      " 21  tempo                     32833 non-null  float64\n",
      " 22  duration_ms               32833 non-null  int64  \n",
      "dtypes: float64(9), int64(4), object(10)\n",
      "memory usage: 4.5+ MB\n"
     ]
    }
   ],
   "source": [
    "data_spotify.info()"
   ]
  },
  {
   "cell_type": "markdown",
   "metadata": {},
   "source": [
    "## Central tendency measures"
   ]
  },
  {
   "cell_type": "markdown",
   "metadata": {},
   "source": [
    "4) Can we apply central tendency measures to any of the variables in our dataset? Justify"
   ]
  },
  {
   "cell_type": "markdown",
   "metadata": {},
   "source": [
    "No, we can only calculate mean, median and mode on numerical variables. We can only calculate the mode for qualitative data."
   ]
  },
  {
   "cell_type": "markdown",
   "metadata": {},
   "source": [
    "5) The following code show us the mean of the variable Loudness. Calculate the median of the same variable. What is the relation between Mean and Median for the \"loudness\" variable? "
   ]
  },
  {
   "cell_type": "code",
   "execution_count": 6,
   "metadata": {},
   "outputs": [
    {
     "name": "stdout",
     "output_type": "stream",
     "text": [
      "-6.719499131970946\n"
     ]
    }
   ],
   "source": [
    "average = data_spotify[\"loudness\"].mean()\n",
    "print(average)"
   ]
  },
  {
   "cell_type": "code",
   "execution_count": 7,
   "metadata": {},
   "outputs": [
    {
     "name": "stdout",
     "output_type": "stream",
     "text": [
      "-6.166\n"
     ]
    }
   ],
   "source": [
    "middlePoint = data_spotify[\"loudness\"].median()\n",
    "print(middlePoint)"
   ]
  },
  {
   "cell_type": "markdown",
   "metadata": {},
   "source": [
    "6) With this information can we say that there are some outliers in that dataset?"
   ]
  },
  {
   "cell_type": "markdown",
   "metadata": {},
   "source": [
    "If we only analyze the values of mean and median, because mean < median we might have outliers. There is not a big difference between those values (considering the range of the variable loudness that goes from -60 to 0), that might mean that the presence of outliers is very low, in other words, the frecuency of the outliers is very low and then the mean is not highly affected by them."
   ]
  },
  {
   "cell_type": "markdown",
   "metadata": {},
   "source": [
    "7) Can you say that \"loudness\" follows a normal distribution?"
   ]
  },
  {
   "cell_type": "markdown",
   "metadata": {},
   "source": [
    "Comparing the values of mean and median, we might say that the variable doesn't follow a normal distribution. In addition, if we calculate the mode, we can see that there are different modes and they also have a different value"
   ]
  },
  {
   "cell_type": "code",
   "execution_count": 8,
   "metadata": {},
   "outputs": [
    {
     "name": "stdout",
     "output_type": "stream",
     "text": [
      "0   -6.400\n",
      "1   -5.608\n",
      "2   -4.973\n",
      "3   -4.443\n",
      "4   -3.782\n",
      "dtype: float64\n"
     ]
    }
   ],
   "source": [
    "mode = data_spotify[\"loudness\"].mode()\n",
    "print(mode)"
   ]
  },
  {
   "cell_type": "markdown",
   "metadata": {},
   "source": [
    "With the above output we can see that there are 5 different modes:\n",
    "* -6.400\n",
    "* -5.608\n",
    "* -4.973\n",
    "* -4.443\n",
    "* -3.782"
   ]
  },
  {
   "cell_type": "markdown",
   "metadata": {},
   "source": [
    "With the below code, we can get the frecquency that those elements appear in the dataset, and we can see that matches with the mode previously calculated. We can actually see that the five different modes appear 20 times each."
   ]
  },
  {
   "cell_type": "code",
   "execution_count": 9,
   "metadata": {},
   "outputs": [
    {
     "data": {
      "text/plain": [
       "-4.443     20\n",
       "-4.973     20\n",
       "-3.782     20\n",
       "-6.400     20\n",
       "-5.608     20\n",
       "           ..\n",
       "-10.740     1\n",
       "-2.710      1\n",
       "-4.297      1\n",
       "-14.531     1\n",
       "-15.225     1\n",
       "Name: loudness, Length: 10222, dtype: int64"
      ]
     },
     "execution_count": 9,
     "metadata": {},
     "output_type": "execute_result"
    }
   ],
   "source": [
    "data_spotify[\"loudness\"].value_counts()"
   ]
  },
  {
   "cell_type": "markdown",
   "metadata": {},
   "source": [
    "We can also plot a histogram to visualize the distribution of our variable, and understand a little bit better how this variable behaves. In this case we will use a function of seaborn, but you can also find other functions to plot histograms."
   ]
  },
  {
   "cell_type": "code",
   "execution_count": 10,
   "metadata": {},
   "outputs": [],
   "source": [
    "import seaborn as sns"
   ]
  },
  {
   "cell_type": "code",
   "execution_count": 11,
   "metadata": {},
   "outputs": [
    {
     "data": {
      "text/plain": [
       "<matplotlib.axes._subplots.AxesSubplot at 0x9f71658>"
      ]
     },
     "execution_count": 11,
     "metadata": {},
     "output_type": "execute_result"
    },
    {
     "data": {
      "image/png": "[encoded data removed]",
      "text/plain": [
       "<Figure size 432x288 with 1 Axes>"
      ]
     },
     "metadata": {
      "needs_background": "light"
     },
     "output_type": "display_data"
    }
   ],
   "source": [
    "sns.distplot(data_spotify['loudness'])"
   ]
  },
  {
   "cell_type": "markdown",
   "metadata": {},
   "source": [
    "On the histogram we can see that the variable seems negative skewed, again that matches with the previos statement: mean < median and we can see how the variable contains outliers which do not have a high frecquency."
   ]
  },
  {
   "cell_type": "markdown",
   "metadata": {},
   "source": [
    "There is a module called **stats** from **[scipy](https://www.scipy.org/)** that contains several statistical functions"
   ]
  },
  {
   "cell_type": "markdown",
   "metadata": {},
   "source": [
    "8) What does the following code do. What do its arguments mean? "
   ]
  },
  {
   "cell_type": "markdown",
   "metadata": {},
   "source": [
    "The arguments of the functions, allows to change the variable that you want to use and in addition allows you to chante the proportion cut. In the first case 0.1 means that we will tream 10% of both ends of the tails of our distribution and after that calculate the mean"
   ]
  },
  {
   "cell_type": "markdown",
   "metadata": {},
   "source": [
    "Calculating the trim mean, also allows us to get a mean value closer to the median."
   ]
  },
  {
   "cell_type": "code",
   "execution_count": 12,
   "metadata": {},
   "outputs": [],
   "source": [
    "from scipy import stats"
   ]
  },
  {
   "cell_type": "code",
   "execution_count": 13,
   "metadata": {},
   "outputs": [
    {
     "data": {
      "text/plain": [
       "-6.409853808961817"
      ]
     },
     "execution_count": 13,
     "metadata": {},
     "output_type": "execute_result"
    }
   ],
   "source": [
    "stats.trim_mean(data_spotify[\"loudness\"], 0.1)"
   ]
  },
  {
   "cell_type": "code",
   "execution_count": 14,
   "metadata": {},
   "outputs": [
    {
     "data": {
      "text/plain": [
       "-6.166"
      ]
     },
     "execution_count": 14,
     "metadata": {},
     "output_type": "execute_result"
    }
   ],
   "source": [
    "stats.trim_mean(data_spotify[\"loudness\"], 0.5)"
   ]
  },
  {
   "cell_type": "markdown",
   "metadata": {},
   "source": [
    "9) Pick another of the variables in our dataset and find its: mean, median and mode."
   ]
  },
  {
   "cell_type": "markdown",
   "metadata": {},
   "source": [
    "10) The following cell shows you a **Frequency table**. What information do you get from that?"
   ]
  },
  {
   "cell_type": "code",
   "execution_count": 15,
   "metadata": {},
   "outputs": [
    {
     "data": {
      "text/plain": [
       "Martin Garrix       161\n",
       "Queen               136\n",
       "The Chainsmokers    123\n",
       "David Guetta        110\n",
       "Don Omar            102\n",
       "                   ... \n",
       "Myles Jasnowski       1\n",
       "Cetu Javu             1\n",
       "Crossnaders           1\n",
       "Hopex                 1\n",
       "Papa Reu              1\n",
       "Name: track_artist, Length: 10692, dtype: int64"
      ]
     },
     "execution_count": 15,
     "metadata": {},
     "output_type": "execute_result"
    }
   ],
   "source": [
    "data_spotify[\"track_artist\"].value_counts()"
   ]
  },
  {
   "cell_type": "markdown",
   "metadata": {},
   "source": [
    "We can say that Martin Garrix is the mode of \"track artist\" and appears 161 times in the dataset."
   ]
  },
  {
   "cell_type": "markdown",
   "metadata": {},
   "source": [
    "11) Get the mode of the variable \"track_artist\". Based on the variable's mode/modes, how can you describe that variable?"
   ]
  },
  {
   "cell_type": "code",
   "execution_count": 16,
   "metadata": {},
   "outputs": [
    {
     "name": "stdout",
     "output_type": "stream",
     "text": [
      "0    Martin Garrix\n",
      "dtype: object\n"
     ]
    }
   ],
   "source": [
    "mode = data_spotify[\"track_artist\"].mode()\n",
    "print(mode)"
   ]
  },
  {
   "cell_type": "markdown",
   "metadata": {},
   "source": [
    "## Measures of Variability"
   ]
  },
  {
   "cell_type": "markdown",
   "metadata": {},
   "source": [
    "In a similar way that we calculated the mean, we can also compute other statistics such as variance and standard deviation."
   ]
  },
  {
   "cell_type": "markdown",
   "metadata": {},
   "source": [
    "12) Calculate the variance of the variable \"loudness\"."
   ]
  },
  {
   "cell_type": "code",
   "execution_count": 17,
   "metadata": {},
   "outputs": [
    {
     "data": {
      "text/plain": [
       "8.930752035155496"
      ]
     },
     "execution_count": 17,
     "metadata": {},
     "output_type": "execute_result"
    }
   ],
   "source": [
    "stats.tvar(data_spotify[\"loudness\"])"
   ]
  },
  {
   "cell_type": "code",
   "execution_count": 18,
   "metadata": {},
   "outputs": [
    {
     "data": {
      "text/plain": [
       "8.93075203515546"
      ]
     },
     "execution_count": 18,
     "metadata": {},
     "output_type": "execute_result"
    }
   ],
   "source": [
    "data_spotify[\"loudness\"].var()\n"
   ]
  },
  {
   "cell_type": "markdown",
   "metadata": {},
   "source": [
    "13) Calculate the standard deviation of the variable \"loudness\"."
   ]
  },
  {
   "cell_type": "code",
   "execution_count": 19,
   "metadata": {},
   "outputs": [
    {
     "data": {
      "text/plain": [
       "2.9884363863324013"
      ]
     },
     "execution_count": 19,
     "metadata": {},
     "output_type": "execute_result"
    }
   ],
   "source": [
    "data_spotify[\"loudness\"].std()"
   ]
  },
  {
   "cell_type": "markdown",
   "metadata": {},
   "source": [
    "14) Running the following cell you can plot the variable \"loudness\" Box-plot. What can you analize from it?"
   ]
  },
  {
   "cell_type": "markdown",
   "metadata": {},
   "source": [
    "Here you can find two different ways to obtain a boxplot. In both cases you can visualize the presence of outliers and also you can see how the middle line (Q2 or Median) is not exactly in the middle. The box is not symmetrical. That also tells you that the distribution of loudness is not a symetrical distribution and it is skewed"
   ]
  },
  {
   "cell_type": "code",
   "execution_count": 20,
   "metadata": {},
   "outputs": [
    {
     "data": {
      "text/plain": [
       "<matplotlib.axes._subplots.AxesSubplot at 0xb8cbee0>"
      ]
     },
     "execution_count": 20,
     "metadata": {},
     "output_type": "execute_result"
    },
    {
     "data": {
      "image/png": "[encoded data removed]",
      "text/plain": [
       "<Figure size 432x288 with 1 Axes>"
      ]
     },
     "metadata": {
      "needs_background": "light"
     },
     "output_type": "display_data"
    }
   ],
   "source": [
    "data_spotify[\"loudness\"].plot.box()"
   ]
  },
  {
   "cell_type": "code",
   "execution_count": 21,
   "metadata": {},
   "outputs": [],
   "source": [
    "import seaborn as sns"
   ]
  },
  {
   "cell_type": "code",
   "execution_count": 22,
   "metadata": {},
   "outputs": [
    {
     "data": {
      "text/plain": [
       "<matplotlib.axes._subplots.AxesSubplot at 0xb93b2e0>"
      ]
     },
     "execution_count": 22,
     "metadata": {},
     "output_type": "execute_result"
    },
    {
     "data": {
      "image/png": "[encoded data removed]",
      "text/plain": [
       "<Figure size 432x288 with 1 Axes>"
      ]
     },
     "metadata": {
      "needs_background": "light"
     },
     "output_type": "display_data"
    }
   ],
   "source": [
    "sns.boxplot(x=data_spotify[\"loudness\"])"
   ]
  },
  {
   "cell_type": "code",
   "execution_count": 23,
   "metadata": {},
   "outputs": [
    {
     "data": {
      "text/plain": [
       "-1.364097027497649"
      ]
     },
     "execution_count": 23,
     "metadata": {},
     "output_type": "execute_result"
    }
   ],
   "source": [
    "data_spotify[\"loudness\"].skew()"
   ]
  },
  {
   "cell_type": "markdown",
   "metadata": {},
   "source": [
    "To support your visual representation of the skewness of your variable, you can calculate the skewness. In this case we obtained a negative value, which tells us that the variable is Negative skewed. Again this also matches with our first statement mean < median"
   ]
  },
  {
   "cell_type": "markdown",
   "metadata": {},
   "source": [
    "15) Pick another variable and plot its Box-plot"
   ]
  },
  {
   "cell_type": "markdown",
   "metadata": {},
   "source": [
    "16) We keep working with the variable \"loudness\". The following piece of code helps you to get one Quartile, which one?"
   ]
  },
  {
   "cell_type": "markdown",
   "metadata": {},
   "source": [
    "First Quartile - divides the dataset in a 25%"
   ]
  },
  {
   "cell_type": "code",
   "execution_count": 24,
   "metadata": {},
   "outputs": [
    {
     "name": "stdout",
     "output_type": "stream",
     "text": [
      "-8.171\n"
     ]
    }
   ],
   "source": [
    "quantile = data_spotify[\"loudness\"].quantile(0.25)\n",
    "print(quantile)"
   ]
  },
  {
   "cell_type": "markdown",
   "metadata": {},
   "source": [
    "Second Quartile - divides the dataset in a 50%: that is why it is the same as the median"
   ]
  },
  {
   "cell_type": "code",
   "execution_count": 25,
   "metadata": {},
   "outputs": [
    {
     "name": "stdout",
     "output_type": "stream",
     "text": [
      "-6.166\n"
     ]
    }
   ],
   "source": [
    "quantile = data_spotify[\"loudness\"].quantile(0.5)\n",
    "print(quantile)"
   ]
  },
  {
   "cell_type": "markdown",
   "metadata": {},
   "source": [
    "Third Quartile - divides the dataset in a 75%"
   ]
  },
  {
   "cell_type": "code",
   "execution_count": 26,
   "metadata": {},
   "outputs": [
    {
     "name": "stdout",
     "output_type": "stream",
     "text": [
      "-4.645\n"
     ]
    }
   ],
   "source": [
    "quantile = data_spotify[\"loudness\"].quantile(0.75)\n",
    "print(quantile)"
   ]
  },
  {
   "cell_type": "markdown",
   "metadata": {},
   "source": [
    "17) What is the difference between Quantile and Quartile?"
   ]
  },
  {
   "cell_type": "markdown",
   "metadata": {},
   "source": [
    "18) Which quantiles you need to get the IQR, and how you can calculate them? Provide the 5 number summary."
   ]
  },
  {
   "cell_type": "code",
   "execution_count": 27,
   "metadata": {},
   "outputs": [
    {
     "data": {
      "text/plain": [
       "count    32833.000000\n",
       "mean        -6.719499\n",
       "std          2.988436\n",
       "min        -46.448000\n",
       "25%         -8.171000\n",
       "50%         -6.166000\n",
       "75%         -4.645000\n",
       "max          1.275000\n",
       "Name: loudness, dtype: float64"
      ]
     },
     "execution_count": 27,
     "metadata": {},
     "output_type": "execute_result"
    }
   ],
   "source": [
    "data_spotify[\"loudness\"].describe()"
   ]
  },
  {
   "cell_type": "markdown",
   "metadata": {},
   "source": [
    "19) What information does the method describe() provide?"
   ]
  },
  {
   "cell_type": "markdown",
   "metadata": {},
   "source": [
    "We can obtain the 5 number summary and the descriptive stats (except for the mode)"
   ]
  },
  {
   "cell_type": "code",
   "execution_count": null,
   "metadata": {},
   "outputs": [],
   "source": []
  }
 ],
 "metadata": {
  "kernelspec": {
   "display_name": "Python 3",
   "language": "python",
   "name": "python3"
  },
  "language_info": {
   "codemirror_mode": {
    "name": "ipython",
    "version": 3
   },
   "file_extension": ".py",
   "mimetype": "text/x-python",
   "name": "python",
   "nbconvert_exporter": "python",
   "pygments_lexer": "ipython3",
   "version": "3.8.3"
  }
 },
 "nbformat": 4,
 "nbformat_minor": 4
}
