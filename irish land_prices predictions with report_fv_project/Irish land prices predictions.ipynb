{
 "cells": [
  {
   "cell_type": "markdown",
   "metadata": {},
   "source": [
    "# Irish land prices predictions\n",
    "---"
   ]
  },
  {
   "cell_type": "markdown",
   "metadata": {},
   "source": [
    "Dataset Description:\n"
   ]
  },
  {
   "cell_type": "markdown",
   "metadata": {},
   "source": [
    "### importing libraries"
   ]
  },
  {
   "cell_type": "code",
   "execution_count": 92,
   "metadata": {},
   "outputs": [],
   "source": [
    "import numpy as np\n",
    "import pandas as pd\n",
    "import matplotlib.pyplot as plt\n",
    "import seaborn as sns\n",
    "sns.set()"
   ]
  },
  {
   "cell_type": "markdown",
   "metadata": {},
   "source": [
    "### importing dataset"
   ]
  },
  {
   "cell_type": "code",
   "execution_count": 93,
   "metadata": {},
   "outputs": [],
   "source": [
    "train_data = pd.read_csv(r\"C:\\Users\\sk\\Downloads\\land_prices_analysis\\ARA02 - Agricultural Land Sales.csv\")"
   ]
  },
  {
   "cell_type": "code",
   "execution_count": 94,
   "metadata": {},
   "outputs": [],
   "source": [
    "pd.set_option('display.max_columns', None)"
   ]
  },
  {
   "cell_type": "code",
   "execution_count": 95,
   "metadata": {},
   "outputs": [
    {
     "data": {
      "text/html": [
       "<div>\n",
       "<style scoped>\n",
       "    .dataframe tbody tr th:only-of-type {\n",
       "        vertical-align: middle;\n",
       "    }\n",
       "\n",
       "    .dataframe tbody tr th {\n",
       "        vertical-align: top;\n",
       "    }\n",
       "\n",
       "    .dataframe thead th {\n",
       "        text-align: right;\n",
       "    }\n",
       "</style>\n",
       "<table border=\"1\" class=\"dataframe\">\n",
       "  <thead>\n",
       "    <tr style=\"text-align: right;\">\n",
       "      <th></th>\n",
       "      <th>STATISTIC</th>\n",
       "      <th>Statistic</th>\n",
       "      <th>TLIST(A1)</th>\n",
       "      <th>Year</th>\n",
       "      <th>C03388V04075</th>\n",
       "      <th>Type of Land Use</th>\n",
       "      <th>C02196V02652</th>\n",
       "      <th>Region</th>\n",
       "      <th>UNIT</th>\n",
       "      <th>VALUE</th>\n",
       "    </tr>\n",
       "  </thead>\n",
       "  <tbody>\n",
       "    <tr>\n",
       "      <th>0</th>\n",
       "      <td>ARA02C01</td>\n",
       "      <td>Median Price per Acre</td>\n",
       "      <td>2013</td>\n",
       "      <td>2013</td>\n",
       "      <td>1</td>\n",
       "      <td>All Land Types</td>\n",
       "      <td>-</td>\n",
       "      <td>State</td>\n",
       "      <td>Euro per Acre</td>\n",
       "      <td>6389.8</td>\n",
       "    </tr>\n",
       "    <tr>\n",
       "      <th>1</th>\n",
       "      <td>ARA02C01</td>\n",
       "      <td>Median Price per Acre</td>\n",
       "      <td>2013</td>\n",
       "      <td>2013</td>\n",
       "      <td>1</td>\n",
       "      <td>All Land Types</td>\n",
       "      <td>IE11</td>\n",
       "      <td>Border</td>\n",
       "      <td>Euro per Acre</td>\n",
       "      <td>4685.2</td>\n",
       "    </tr>\n",
       "    <tr>\n",
       "      <th>2</th>\n",
       "      <td>ARA02C01</td>\n",
       "      <td>Median Price per Acre</td>\n",
       "      <td>2013</td>\n",
       "      <td>2013</td>\n",
       "      <td>1</td>\n",
       "      <td>All Land Types</td>\n",
       "      <td>IE12</td>\n",
       "      <td>Midland</td>\n",
       "      <td>Euro per Acre</td>\n",
       "      <td>7114.6</td>\n",
       "    </tr>\n",
       "    <tr>\n",
       "      <th>3</th>\n",
       "      <td>ARA02C01</td>\n",
       "      <td>Median Price per Acre</td>\n",
       "      <td>2013</td>\n",
       "      <td>2013</td>\n",
       "      <td>1</td>\n",
       "      <td>All Land Types</td>\n",
       "      <td>IE13</td>\n",
       "      <td>West</td>\n",
       "      <td>Euro per Acre</td>\n",
       "      <td>4496.5</td>\n",
       "    </tr>\n",
       "    <tr>\n",
       "      <th>4</th>\n",
       "      <td>ARA02C01</td>\n",
       "      <td>Median Price per Acre</td>\n",
       "      <td>2013</td>\n",
       "      <td>2013</td>\n",
       "      <td>1</td>\n",
       "      <td>All Land Types</td>\n",
       "      <td>IE21</td>\n",
       "      <td>Dublin</td>\n",
       "      <td>Euro per Acre</td>\n",
       "      <td>10117.2</td>\n",
       "    </tr>\n",
       "  </tbody>\n",
       "</table>\n",
       "</div>"
      ],
      "text/plain": [
       "  STATISTIC              Statistic  TLIST(A1)  Year  C03388V04075  \\\n",
       "0  ARA02C01  Median Price per Acre       2013  2013             1   \n",
       "1  ARA02C01  Median Price per Acre       2013  2013             1   \n",
       "2  ARA02C01  Median Price per Acre       2013  2013             1   \n",
       "3  ARA02C01  Median Price per Acre       2013  2013             1   \n",
       "4  ARA02C01  Median Price per Acre       2013  2013             1   \n",
       "\n",
       "  Type of Land Use C02196V02652   Region           UNIT    VALUE  \n",
       "0   All Land Types            -    State  Euro per Acre   6389.8  \n",
       "1   All Land Types         IE11   Border  Euro per Acre   4685.2  \n",
       "2   All Land Types         IE12  Midland  Euro per Acre   7114.6  \n",
       "3   All Land Types         IE13     West  Euro per Acre   4496.5  \n",
       "4   All Land Types         IE21   Dublin  Euro per Acre  10117.2  "
      ]
     },
     "execution_count": 95,
     "metadata": {},
     "output_type": "execute_result"
    }
   ],
   "source": [
    "train_data.head()"
   ]
  },
  {
   "cell_type": "code",
   "execution_count": 96,
   "metadata": {},
   "outputs": [
    {
     "data": {
      "text/plain": [
       "(1728, 10)"
      ]
     },
     "execution_count": 96,
     "metadata": {},
     "output_type": "execute_result"
    }
   ],
   "source": [
    "train_data.shape"
   ]
  },
  {
   "cell_type": "code",
   "execution_count": 97,
   "metadata": {},
   "outputs": [
    {
     "name": "stdout",
     "output_type": "stream",
     "text": [
      "<class 'pandas.core.frame.DataFrame'>\n",
      "RangeIndex: 1728 entries, 0 to 1727\n",
      "Data columns (total 10 columns):\n",
      " #   Column            Non-Null Count  Dtype \n",
      "---  ------            --------------  ----- \n",
      " 0   STATISTIC         1728 non-null   object\n",
      " 1   Statistic         1728 non-null   object\n",
      " 2   TLIST(A1)         1728 non-null   int64 \n",
      " 3   Year              1728 non-null   int64 \n",
      " 4   C03388V04075      1728 non-null   int64 \n",
      " 5   Type of Land Use  1728 non-null   object\n",
      " 6   C02196V02652      1728 non-null   object\n",
      " 7   Region            1728 non-null   object\n",
      " 8   UNIT              1728 non-null   object\n",
      " 9   VALUE             1728 non-null   object\n",
      "dtypes: int64(3), object(7)\n",
      "memory usage: 135.1+ KB\n"
     ]
    }
   ],
   "source": [
    "train_data.info()"
   ]
  },
  {
   "cell_type": "markdown",
   "metadata": {},
   "source": [
    "### checking missing values"
   ]
  },
  {
   "cell_type": "code",
   "execution_count": 98,
   "metadata": {},
   "outputs": [
    {
     "data": {
      "text/plain": [
       "STATISTIC           0\n",
       "Statistic           0\n",
       "TLIST(A1)           0\n",
       "Year                0\n",
       "C03388V04075        0\n",
       "Type of Land Use    0\n",
       "C02196V02652        0\n",
       "Region              0\n",
       "UNIT                0\n",
       "VALUE               0\n",
       "dtype: int64"
      ]
     },
     "execution_count": 98,
     "metadata": {},
     "output_type": "execute_result"
    }
   ],
   "source": [
    "train_data.isnull().sum()"
   ]
  },
  {
   "cell_type": "markdown",
   "metadata": {},
   "source": [
    "### drop missing values"
   ]
  },
  {
   "cell_type": "code",
   "execution_count": 99,
   "metadata": {},
   "outputs": [],
   "source": [
    "# train_data.dropna(inplace = True)\n",
    "# train_data.shape"
   ]
  },
  {
   "cell_type": "code",
   "execution_count": 100,
   "metadata": {},
   "outputs": [],
   "source": [
    "train_data.drop(['TLIST(A1)'],axis=1,inplace=True)\n"
   ]
  },
  {
   "cell_type": "code",
   "execution_count": 101,
   "metadata": {},
   "outputs": [],
   "source": [
    "train_data['VALUE']=train_data['VALUE'].replace(['.'],[0])"
   ]
  },
  {
   "cell_type": "code",
   "execution_count": 102,
   "metadata": {},
   "outputs": [],
   "source": [
    "train_data['VALUE']=train_data['VALUE'].apply(lambda x:float(x))\n"
   ]
  },
  {
   "cell_type": "markdown",
   "metadata": {},
   "source": [
    "---"
   ]
  },
  {
   "cell_type": "markdown",
   "metadata": {},
   "source": [
    "### EDA"
   ]
  },
  {
   "cell_type": "markdown",
   "metadata": {},
   "source": [
    "##### qualitative features"
   ]
  },
  {
   "cell_type": "code",
   "execution_count": 103,
   "metadata": {},
   "outputs": [
    {
     "data": {
      "text/plain": [
       "['STATISTIC',\n",
       " 'Statistic',\n",
       " 'Year',\n",
       " 'C03388V04075',\n",
       " 'Type of Land Use',\n",
       " 'C02196V02652',\n",
       " 'Region',\n",
       " 'UNIT']"
      ]
     },
     "execution_count": 103,
     "metadata": {},
     "output_type": "execute_result"
    }
   ],
   "source": [
    "qual_features=[feature for feature in train_data.columns if len(train_data[feature].unique())<10]\n",
    "qual_features"
   ]
  },
  {
   "cell_type": "code",
   "execution_count": 104,
   "metadata": {},
   "outputs": [
    {
     "name": "stdout",
     "output_type": "stream",
     "text": [
      "STATISTIC\n",
      "['ARA02C01' 'ARA02C02' 'ARA02C03' 'ARA02C04' 'ARA02C05' 'ARA02C06'\n",
      " 'ARA02C07' 'ARA02C08']\n",
      "Statistic\n",
      "['Median Price per Acre' 'Median Price per Hectare' 'Mean Price per Acre'\n",
      " 'Mean Price per Hectare' 'Number of Transactions'\n",
      " 'Volume of Land Sold Acres' 'Volume of Land Sold Hectares'\n",
      " 'Value of Land Sold']\n",
      "Year\n",
      "[2013 2014 2015 2016 2017 2018 2019 2020]\n",
      "C03388V04075\n",
      "[1 2 3]\n",
      "Type of Land Use\n",
      "['All Land Types' 'Arable Land' 'Permanent Grassland']\n",
      "C02196V02652\n",
      "['-' 'IE11' 'IE12' 'IE13' 'IE21' 'IE22' 'IE23' 'IE24' 'IE25']\n",
      "Region\n",
      "['State' 'Border' 'Midland' 'West' 'Dublin' 'Mid-East' 'Mid-West'\n",
      " 'South-East' 'South-West']\n",
      "UNIT\n",
      "['Euro per Acre' 'Euro per Hectare' 'Number' 'Euro']\n"
     ]
    }
   ],
   "source": [
    "for feature in qual_features:\n",
    "    print(feature)\n",
    "    print(train_data[feature].unique())"
   ]
  },
  {
   "cell_type": "markdown",
   "metadata": {},
   "source": [
    "##### showing relationships between qualitative features and flight prices using bar charts"
   ]
  },
  {
   "cell_type": "code",
   "execution_count": 105,
   "metadata": {},
   "outputs": [
    {
     "name": "stdout",
     "output_type": "stream",
     "text": [
      "STATISTIC\n"
     ]
    },
    {
     "data": {
      "image/png": "[encoded data removed]",
      "text/plain": [
       "<Figure size 1080x360 with 2 Axes>"
      ]
     },
     "metadata": {},
     "output_type": "display_data"
    },
    {
     "name": "stdout",
     "output_type": "stream",
     "text": [
      "Statistic\n"
     ]
    },
    {
     "data": {
      "image/png": "[encoded data removed]",
      "text/plain": [
       "<Figure size 1080x360 with 2 Axes>"
      ]
     },
     "metadata": {},
     "output_type": "display_data"
    },
    {
     "name": "stdout",
     "output_type": "stream",
     "text": [
      "Year\n"
     ]
    },
    {
     "data": {
      "image/png": "[encoded data removed]",
      "text/plain": [
       "<Figure size 1080x360 with 2 Axes>"
      ]
     },
     "metadata": {},
     "output_type": "display_data"
    },
    {
     "name": "stdout",
     "output_type": "stream",
     "text": [
      "C03388V04075\n"
     ]
    },
    {
     "data": {
      "image/png": "[encoded data removed]",
      "text/plain": [
       "<Figure size 1080x360 with 2 Axes>"
      ]
     },
     "metadata": {},
     "output_type": "display_data"
    },
    {
     "name": "stdout",
     "output_type": "stream",
     "text": [
      "Type of Land Use\n"
     ]
    },
    {
     "data": {
      "image/png": "[encoded data removed]",
      "text/plain": [
       "<Figure size 1080x360 with 2 Axes>"
      ]
     },
     "metadata": {},
     "output_type": "display_data"
    },
    {
     "name": "stdout",
     "output_type": "stream",
     "text": [
      "C02196V02652\n"
     ]
    },
    {
     "data": {
      "image/png": "[encoded data removed]",
      "text/plain": [
       "<Figure size 1080x360 with 2 Axes>"
      ]
     },
     "metadata": {},
     "output_type": "display_data"
    },
    {
     "name": "stdout",
     "output_type": "stream",
     "text": [
      "Region\n"
     ]
    },
    {
     "data": {
      "image/png": "[encoded data removed]",
      "text/plain": [
       "<Figure size 1080x360 with 2 Axes>"
      ]
     },
     "metadata": {},
     "output_type": "display_data"
    },
    {
     "name": "stdout",
     "output_type": "stream",
     "text": [
      "UNIT\n"
     ]
    },
    {
     "data": {
      "image/png": "[encoded data removed]",
      "text/plain": [
       "<Figure size 1080x360 with 2 Axes>"
      ]
     },
     "metadata": {},
     "output_type": "display_data"
    }
   ],
   "source": [
    "for feature in qual_features:\n",
    "    print(feature)\n",
    "    plt.figure(figsize=(15,5))\n",
    "    plt.subplot(1, 2, 1)\n",
    "    sns.countplot(x=feature,data=train_data)\n",
    "    plt.subplot(1, 2, 2)\n",
    "    sns.barplot(x=feature,y='VALUE',data=train_data)\n",
    "    plt.show()"
   ]
  },
  {
   "cell_type": "markdown",
   "metadata": {},
   "source": [
    "##### quantitative features"
   ]
  },
  {
   "cell_type": "code",
   "execution_count": 106,
   "metadata": {},
   "outputs": [
    {
     "data": {
      "text/plain": [
       "['VALUE']"
      ]
     },
     "execution_count": 106,
     "metadata": {},
     "output_type": "execute_result"
    }
   ],
   "source": [
    "quant_features=[feature for feature in train_data.columns if train_data[feature].dtype!='O' and \n",
    "                len(train_data[feature].unique())>10 ]\n",
    "quant_features"
   ]
  },
  {
   "cell_type": "markdown",
   "metadata": {},
   "source": [
    "##### showing distributions of quantitave features histograms"
   ]
  },
  {
   "cell_type": "code",
   "execution_count": 107,
   "metadata": {},
   "outputs": [
    {
     "data": {
      "image/png": "[encoded data removed]",
      "text/plain": [
       "<Figure size 432x288 with 1 Axes>"
      ]
     },
     "metadata": {},
     "output_type": "display_data"
    }
   ],
   "source": [
    "for feature in quant_features:\n",
    "    sns.histplot(train_data[feature],bins=8)\n",
    "    plt.show()"
   ]
  },
  {
   "cell_type": "markdown",
   "metadata": {},
   "source": [
    "### one hot encoding"
   ]
  },
  {
   "cell_type": "code",
   "execution_count": 108,
   "metadata": {},
   "outputs": [],
   "source": [
    "train_data=pd.get_dummies(train_data, columns = [\"STATISTIC\"],drop_first=True, prefix=\"ST\")"
   ]
  },
  {
   "cell_type": "code",
   "execution_count": 109,
   "metadata": {},
   "outputs": [],
   "source": [
    "train_data=pd.get_dummies(train_data, columns = [\"Statistic\"],drop_first=True, prefix=\"st\")"
   ]
  },
  {
   "cell_type": "code",
   "execution_count": 110,
   "metadata": {},
   "outputs": [],
   "source": [
    "train_data=pd.get_dummies(train_data, columns = ['Type of Land Use'],drop_first=True, prefix=\"L_type\")"
   ]
  },
  {
   "cell_type": "code",
   "execution_count": 111,
   "metadata": {},
   "outputs": [],
   "source": [
    "train_data=pd.get_dummies(train_data, columns = ['C02196V02652'],drop_first=True, prefix=\"C02\")"
   ]
  },
  {
   "cell_type": "code",
   "execution_count": 112,
   "metadata": {},
   "outputs": [],
   "source": [
    "train_data=pd.get_dummies(train_data, columns = ['Region'],drop_first=True, prefix=\"Reg\")"
   ]
  },
  {
   "cell_type": "code",
   "execution_count": 113,
   "metadata": {},
   "outputs": [],
   "source": [
    "train_data=pd.get_dummies(train_data, columns = ['UNIT'],drop_first=True, prefix=\"un\")"
   ]
  },
  {
   "cell_type": "code",
   "execution_count": 114,
   "metadata": {},
   "outputs": [
    {
     "data": {
      "text/plain": [
       "Index(['Year', 'C03388V04075', 'VALUE', 'ST_ARA02C02', 'ST_ARA02C03',\n",
       "       'ST_ARA02C04', 'ST_ARA02C05', 'ST_ARA02C06', 'ST_ARA02C07',\n",
       "       'ST_ARA02C08', 'st_Mean Price per Hectare', 'st_Median Price per Acre',\n",
       "       'st_Median Price per Hectare', 'st_Number of Transactions',\n",
       "       'st_Value of Land Sold', 'st_Volume of Land Sold Acres',\n",
       "       'st_Volume of Land Sold Hectares', 'L_type_Arable Land',\n",
       "       'L_type_Permanent Grassland', 'C02_IE11', 'C02_IE12', 'C02_IE13',\n",
       "       'C02_IE21', 'C02_IE22', 'C02_IE23', 'C02_IE24', 'C02_IE25',\n",
       "       'Reg_Dublin', 'Reg_Mid-East', 'Reg_Mid-West', 'Reg_Midland',\n",
       "       'Reg_South-East', 'Reg_South-West', 'Reg_State', 'Reg_West',\n",
       "       'un_Euro per Acre', 'un_Euro per Hectare', 'un_Number'],\n",
       "      dtype='object')"
      ]
     },
     "execution_count": 114,
     "metadata": {},
     "output_type": "execute_result"
    }
   ],
   "source": [
    "train_data.columns"
   ]
  },
  {
   "cell_type": "code",
   "execution_count": 115,
   "metadata": {},
   "outputs": [
    {
     "data": {
      "text/plain": [
       "38"
      ]
     },
     "execution_count": 115,
     "metadata": {},
     "output_type": "execute_result"
    }
   ],
   "source": [
    "len(train_data.columns)"
   ]
  },
  {
   "cell_type": "code",
   "execution_count": 24,
   "metadata": {},
   "outputs": [
    {
     "data": {
      "text/plain": [
       "[]"
      ]
     },
     "execution_count": 24,
     "metadata": {},
     "output_type": "execute_result"
    }
   ],
   "source": [
    "non_num_features=[feature for feature in train_data.columns if train_data[feature].dtype=='O']\n",
    "non_num_features"
   ]
  },
  {
   "cell_type": "markdown",
   "metadata": {},
   "source": [
    "## preparing dataset for regression"
   ]
  },
  {
   "cell_type": "markdown",
   "metadata": {},
   "source": [
    "#### sipiliting dataset into dependant and independant"
   ]
  },
  {
   "cell_type": "markdown",
   "metadata": {},
   "source": [
    "## Feature Selection\n"
   ]
  },
  {
   "cell_type": "code",
   "execution_count": 25,
   "metadata": {},
   "outputs": [],
   "source": [
    "X = train_data.drop(['VALUE'],axis=1)"
   ]
  },
  {
   "cell_type": "code",
   "execution_count": 26,
   "metadata": {},
   "outputs": [
    {
     "data": {
      "text/plain": [
       "Index(['Year', 'C03388V04075', 'ST_ARA02C02', 'ST_ARA02C03', 'ST_ARA02C04',\n",
       "       'ST_ARA02C05', 'ST_ARA02C06', 'ST_ARA02C07', 'ST_ARA02C08',\n",
       "       'st_Mean Price per Hectare', 'st_Median Price per Acre',\n",
       "       'st_Median Price per Hectare', 'st_Number of Transactions',\n",
       "       'st_Value of Land Sold', 'st_Volume of Land Sold Acres',\n",
       "       'st_Volume of Land Sold Hectares', 'L_type_Arable Land',\n",
       "       'L_type_Permanent Grassland', 'C02_IE11', 'C02_IE12', 'C02_IE13',\n",
       "       'C02_IE21', 'C02_IE22', 'C02_IE23', 'C02_IE24', 'C02_IE25',\n",
       "       'Reg_Dublin', 'Reg_Mid-East', 'Reg_Mid-West', 'Reg_Midland',\n",
       "       'Reg_South-East', 'Reg_South-West', 'Reg_State', 'Reg_West',\n",
       "       'un_Euro per Acre', 'un_Euro per Hectare', 'un_Number'],\n",
       "      dtype='object')"
      ]
     },
     "execution_count": 26,
     "metadata": {},
     "output_type": "execute_result"
    }
   ],
   "source": [
    "X.columns"
   ]
  },
  {
   "cell_type": "code",
   "execution_count": 27,
   "metadata": {},
   "outputs": [
    {
     "data": {
      "text/plain": [
       "0     6389.8\n",
       "1     4685.2\n",
       "2     7114.6\n",
       "3     4496.5\n",
       "4    10117.2\n",
       "Name: VALUE, dtype: float64"
      ]
     },
     "execution_count": 27,
     "metadata": {},
     "output_type": "execute_result"
    }
   ],
   "source": [
    "y = train_data['VALUE']\n",
    "y.head()"
   ]
  },
  {
   "cell_type": "code",
   "execution_count": 29,
   "metadata": {},
   "outputs": [
    {
     "data": {
      "text/plain": [
       "ExtraTreesRegressor()"
      ]
     },
     "execution_count": 29,
     "metadata": {},
     "output_type": "execute_result"
    }
   ],
   "source": [
    "# Important feature using ExtraTreesRegressor\n",
    "\n",
    "from sklearn.ensemble import ExtraTreesRegressor\n",
    "selection = ExtraTreesRegressor()\n",
    "selection.fit(X, y)"
   ]
  },
  {
   "cell_type": "code",
   "execution_count": 30,
   "metadata": {},
   "outputs": [
    {
     "name": "stdout",
     "output_type": "stream",
     "text": [
      "[4.60150063e-02 1.65285330e-03 9.12009602e-11 2.55239826e-11\n",
      " 7.68140711e-11 1.19130822e-10 4.49160494e-09 4.21105381e-10\n",
      " 1.35830604e-01 7.73304741e-11 3.01749966e-11 8.63498015e-11\n",
      " 9.36947318e-11 1.11134130e-01 5.02948030e-09 4.96691782e-10\n",
      " 2.54386802e-01 1.66844585e-03 2.98242487e-04 1.89317877e-04\n",
      " 8.59170718e-05 6.21054844e-03 4.95365508e-04 3.94638975e-04\n",
      " 1.57651530e-04 6.96909747e-04 6.21083080e-03 4.49030338e-04\n",
      " 3.28025214e-04 1.77272519e-04 1.83166895e-04 9.33730104e-04\n",
      " 4.32405683e-01 9.57894299e-05 1.65347447e-09 2.49256741e-08\n",
      " 1.36276252e-09]\n"
     ]
    }
   ],
   "source": [
    "print(selection.feature_importances_)"
   ]
  },
  {
   "cell_type": "markdown",
   "metadata": {},
   "source": [
    "#### graph of feature importances for better visualization"
   ]
  },
  {
   "cell_type": "code",
   "execution_count": 69,
   "metadata": {},
   "outputs": [
    {
     "data": {
      "image/png": "[encoded data removed]",
      "text/plain": [
       "<Figure size 864x576 with 1 Axes>"
      ]
     },
     "metadata": {},
     "output_type": "display_data"
    }
   ],
   "source": [
    "#plot graph of feature importances for better visualization\n",
    "\n",
    "plt.figure(figsize = (12,8))\n",
    "feat_importances = pd.Series(selection.feature_importances_, index=X.columns)\n",
    "feat_importances.nlargest(10).plot(kind='barh')\n",
    "plt.show()\n"
   ]
  },
  {
   "cell_type": "markdown",
   "metadata": {},
   "source": [
    "---"
   ]
  },
  {
   "cell_type": "markdown",
   "metadata": {},
   "source": [
    "#### train test splitting"
   ]
  },
  {
   "cell_type": "code",
   "execution_count": 32,
   "metadata": {},
   "outputs": [],
   "source": [
    "from sklearn.model_selection import train_test_split\n",
    "X_train, X_test, y_train, y_test = train_test_split(X, y, test_size = 0.2, random_state = 42)"
   ]
  },
  {
   "cell_type": "code",
   "execution_count": 33,
   "metadata": {},
   "outputs": [
    {
     "data": {
      "text/plain": [
       "((1382, 37), (346, 37), (1382,), (346,))"
      ]
     },
     "execution_count": 33,
     "metadata": {},
     "output_type": "execute_result"
    }
   ],
   "source": [
    "X_train.shape, X_test.shape, y_train.shape, y_test.shape"
   ]
  },
  {
   "cell_type": "markdown",
   "metadata": {},
   "source": [
    "#### Model building"
   ]
  },
  {
   "cell_type": "code",
   "execution_count": 34,
   "metadata": {},
   "outputs": [
    {
     "data": {
      "text/plain": [
       "LinearRegression()"
      ]
     },
     "execution_count": 34,
     "metadata": {},
     "output_type": "execute_result"
    }
   ],
   "source": [
    "from sklearn.linear_model import LinearRegression\n",
    "LR= LinearRegression()\n",
    "LR.fit(X_train, y_train)"
   ]
  },
  {
   "cell_type": "code",
   "execution_count": 35,
   "metadata": {},
   "outputs": [
    {
     "data": {
      "text/plain": [
       "DecisionTreeRegressor()"
      ]
     },
     "execution_count": 35,
     "metadata": {},
     "output_type": "execute_result"
    }
   ],
   "source": [
    "from sklearn.tree import DecisionTreeRegressor\n",
    "DTR= DecisionTreeRegressor()\n",
    "DTR.fit(X_train, y_train)"
   ]
  },
  {
   "cell_type": "code",
   "execution_count": 36,
   "metadata": {},
   "outputs": [
    {
     "data": {
      "text/plain": [
       "RandomForestRegressor()"
      ]
     },
     "execution_count": 36,
     "metadata": {},
     "output_type": "execute_result"
    }
   ],
   "source": [
    "from sklearn.ensemble import RandomForestRegressor\n",
    "RFR= RandomForestRegressor()\n",
    "RFR.fit(X_train, y_train)"
   ]
  },
  {
   "cell_type": "markdown",
   "metadata": {},
   "source": [
    "## predictions"
   ]
  },
  {
   "cell_type": "code",
   "execution_count": 37,
   "metadata": {},
   "outputs": [
    {
     "data": {
      "text/html": [
       "<div>\n",
       "<style scoped>\n",
       "    .dataframe tbody tr th:only-of-type {\n",
       "        vertical-align: middle;\n",
       "    }\n",
       "\n",
       "    .dataframe tbody tr th {\n",
       "        vertical-align: top;\n",
       "    }\n",
       "\n",
       "    .dataframe thead th {\n",
       "        text-align: right;\n",
       "    }\n",
       "</style>\n",
       "<table border=\"1\" class=\"dataframe\">\n",
       "  <thead>\n",
       "    <tr style=\"text-align: right;\">\n",
       "      <th></th>\n",
       "      <th>Year</th>\n",
       "      <th>C03388V04075</th>\n",
       "      <th>ST_ARA02C02</th>\n",
       "      <th>ST_ARA02C03</th>\n",
       "      <th>ST_ARA02C04</th>\n",
       "      <th>ST_ARA02C05</th>\n",
       "      <th>ST_ARA02C06</th>\n",
       "      <th>ST_ARA02C07</th>\n",
       "      <th>ST_ARA02C08</th>\n",
       "      <th>st_Mean Price per Hectare</th>\n",
       "      <th>st_Median Price per Acre</th>\n",
       "      <th>st_Median Price per Hectare</th>\n",
       "      <th>st_Number of Transactions</th>\n",
       "      <th>st_Value of Land Sold</th>\n",
       "      <th>st_Volume of Land Sold Acres</th>\n",
       "      <th>st_Volume of Land Sold Hectares</th>\n",
       "      <th>L_type_Arable Land</th>\n",
       "      <th>L_type_Permanent Grassland</th>\n",
       "      <th>C02_IE11</th>\n",
       "      <th>C02_IE12</th>\n",
       "      <th>C02_IE13</th>\n",
       "      <th>C02_IE21</th>\n",
       "      <th>C02_IE22</th>\n",
       "      <th>C02_IE23</th>\n",
       "      <th>C02_IE24</th>\n",
       "      <th>C02_IE25</th>\n",
       "      <th>Reg_Dublin</th>\n",
       "      <th>Reg_Mid-East</th>\n",
       "      <th>Reg_Mid-West</th>\n",
       "      <th>Reg_Midland</th>\n",
       "      <th>Reg_South-East</th>\n",
       "      <th>Reg_South-West</th>\n",
       "      <th>Reg_State</th>\n",
       "      <th>Reg_West</th>\n",
       "      <th>un_Euro per Acre</th>\n",
       "      <th>un_Euro per Hectare</th>\n",
       "      <th>un_Number</th>\n",
       "    </tr>\n",
       "  </thead>\n",
       "  <tbody>\n",
       "    <tr>\n",
       "      <th>599</th>\n",
       "      <td>2019</td>\n",
       "      <td>1</td>\n",
       "      <td>0</td>\n",
       "      <td>1</td>\n",
       "      <td>0</td>\n",
       "      <td>0</td>\n",
       "      <td>0</td>\n",
       "      <td>0</td>\n",
       "      <td>0</td>\n",
       "      <td>0</td>\n",
       "      <td>0</td>\n",
       "      <td>0</td>\n",
       "      <td>0</td>\n",
       "      <td>0</td>\n",
       "      <td>0</td>\n",
       "      <td>0</td>\n",
       "      <td>0</td>\n",
       "      <td>0</td>\n",
       "      <td>0</td>\n",
       "      <td>0</td>\n",
       "      <td>0</td>\n",
       "      <td>0</td>\n",
       "      <td>1</td>\n",
       "      <td>0</td>\n",
       "      <td>0</td>\n",
       "      <td>0</td>\n",
       "      <td>0</td>\n",
       "      <td>1</td>\n",
       "      <td>0</td>\n",
       "      <td>0</td>\n",
       "      <td>0</td>\n",
       "      <td>0</td>\n",
       "      <td>0</td>\n",
       "      <td>0</td>\n",
       "      <td>1</td>\n",
       "      <td>0</td>\n",
       "      <td>0</td>\n",
       "    </tr>\n",
       "    <tr>\n",
       "      <th>1201</th>\n",
       "      <td>2017</td>\n",
       "      <td>2</td>\n",
       "      <td>0</td>\n",
       "      <td>0</td>\n",
       "      <td>0</td>\n",
       "      <td>0</td>\n",
       "      <td>1</td>\n",
       "      <td>0</td>\n",
       "      <td>0</td>\n",
       "      <td>0</td>\n",
       "      <td>0</td>\n",
       "      <td>0</td>\n",
       "      <td>0</td>\n",
       "      <td>0</td>\n",
       "      <td>1</td>\n",
       "      <td>0</td>\n",
       "      <td>1</td>\n",
       "      <td>0</td>\n",
       "      <td>0</td>\n",
       "      <td>0</td>\n",
       "      <td>0</td>\n",
       "      <td>1</td>\n",
       "      <td>0</td>\n",
       "      <td>0</td>\n",
       "      <td>0</td>\n",
       "      <td>0</td>\n",
       "      <td>1</td>\n",
       "      <td>0</td>\n",
       "      <td>0</td>\n",
       "      <td>0</td>\n",
       "      <td>0</td>\n",
       "      <td>0</td>\n",
       "      <td>0</td>\n",
       "      <td>0</td>\n",
       "      <td>0</td>\n",
       "      <td>0</td>\n",
       "      <td>1</td>\n",
       "    </tr>\n",
       "    <tr>\n",
       "      <th>628</th>\n",
       "      <td>2020</td>\n",
       "      <td>1</td>\n",
       "      <td>0</td>\n",
       "      <td>1</td>\n",
       "      <td>0</td>\n",
       "      <td>0</td>\n",
       "      <td>0</td>\n",
       "      <td>0</td>\n",
       "      <td>0</td>\n",
       "      <td>0</td>\n",
       "      <td>0</td>\n",
       "      <td>0</td>\n",
       "      <td>0</td>\n",
       "      <td>0</td>\n",
       "      <td>0</td>\n",
       "      <td>0</td>\n",
       "      <td>0</td>\n",
       "      <td>0</td>\n",
       "      <td>0</td>\n",
       "      <td>0</td>\n",
       "      <td>0</td>\n",
       "      <td>0</td>\n",
       "      <td>0</td>\n",
       "      <td>0</td>\n",
       "      <td>1</td>\n",
       "      <td>0</td>\n",
       "      <td>0</td>\n",
       "      <td>0</td>\n",
       "      <td>0</td>\n",
       "      <td>0</td>\n",
       "      <td>1</td>\n",
       "      <td>0</td>\n",
       "      <td>0</td>\n",
       "      <td>0</td>\n",
       "      <td>1</td>\n",
       "      <td>0</td>\n",
       "      <td>0</td>\n",
       "    </tr>\n",
       "    <tr>\n",
       "      <th>1498</th>\n",
       "      <td>2020</td>\n",
       "      <td>2</td>\n",
       "      <td>0</td>\n",
       "      <td>0</td>\n",
       "      <td>0</td>\n",
       "      <td>0</td>\n",
       "      <td>0</td>\n",
       "      <td>1</td>\n",
       "      <td>0</td>\n",
       "      <td>0</td>\n",
       "      <td>0</td>\n",
       "      <td>0</td>\n",
       "      <td>0</td>\n",
       "      <td>0</td>\n",
       "      <td>0</td>\n",
       "      <td>1</td>\n",
       "      <td>1</td>\n",
       "      <td>0</td>\n",
       "      <td>0</td>\n",
       "      <td>0</td>\n",
       "      <td>0</td>\n",
       "      <td>1</td>\n",
       "      <td>0</td>\n",
       "      <td>0</td>\n",
       "      <td>0</td>\n",
       "      <td>0</td>\n",
       "      <td>1</td>\n",
       "      <td>0</td>\n",
       "      <td>0</td>\n",
       "      <td>0</td>\n",
       "      <td>0</td>\n",
       "      <td>0</td>\n",
       "      <td>0</td>\n",
       "      <td>0</td>\n",
       "      <td>0</td>\n",
       "      <td>0</td>\n",
       "      <td>1</td>\n",
       "    </tr>\n",
       "    <tr>\n",
       "      <th>1263</th>\n",
       "      <td>2019</td>\n",
       "      <td>3</td>\n",
       "      <td>0</td>\n",
       "      <td>0</td>\n",
       "      <td>0</td>\n",
       "      <td>0</td>\n",
       "      <td>1</td>\n",
       "      <td>0</td>\n",
       "      <td>0</td>\n",
       "      <td>0</td>\n",
       "      <td>0</td>\n",
       "      <td>0</td>\n",
       "      <td>0</td>\n",
       "      <td>0</td>\n",
       "      <td>1</td>\n",
       "      <td>0</td>\n",
       "      <td>0</td>\n",
       "      <td>1</td>\n",
       "      <td>0</td>\n",
       "      <td>0</td>\n",
       "      <td>1</td>\n",
       "      <td>0</td>\n",
       "      <td>0</td>\n",
       "      <td>0</td>\n",
       "      <td>0</td>\n",
       "      <td>0</td>\n",
       "      <td>0</td>\n",
       "      <td>0</td>\n",
       "      <td>0</td>\n",
       "      <td>0</td>\n",
       "      <td>0</td>\n",
       "      <td>0</td>\n",
       "      <td>0</td>\n",
       "      <td>1</td>\n",
       "      <td>0</td>\n",
       "      <td>0</td>\n",
       "      <td>1</td>\n",
       "    </tr>\n",
       "    <tr>\n",
       "      <th>...</th>\n",
       "      <td>...</td>\n",
       "      <td>...</td>\n",
       "      <td>...</td>\n",
       "      <td>...</td>\n",
       "      <td>...</td>\n",
       "      <td>...</td>\n",
       "      <td>...</td>\n",
       "      <td>...</td>\n",
       "      <td>...</td>\n",
       "      <td>...</td>\n",
       "      <td>...</td>\n",
       "      <td>...</td>\n",
       "      <td>...</td>\n",
       "      <td>...</td>\n",
       "      <td>...</td>\n",
       "      <td>...</td>\n",
       "      <td>...</td>\n",
       "      <td>...</td>\n",
       "      <td>...</td>\n",
       "      <td>...</td>\n",
       "      <td>...</td>\n",
       "      <td>...</td>\n",
       "      <td>...</td>\n",
       "      <td>...</td>\n",
       "      <td>...</td>\n",
       "      <td>...</td>\n",
       "      <td>...</td>\n",
       "      <td>...</td>\n",
       "      <td>...</td>\n",
       "      <td>...</td>\n",
       "      <td>...</td>\n",
       "      <td>...</td>\n",
       "      <td>...</td>\n",
       "      <td>...</td>\n",
       "      <td>...</td>\n",
       "      <td>...</td>\n",
       "      <td>...</td>\n",
       "    </tr>\n",
       "    <tr>\n",
       "      <th>100</th>\n",
       "      <td>2016</td>\n",
       "      <td>3</td>\n",
       "      <td>0</td>\n",
       "      <td>0</td>\n",
       "      <td>0</td>\n",
       "      <td>0</td>\n",
       "      <td>0</td>\n",
       "      <td>0</td>\n",
       "      <td>0</td>\n",
       "      <td>0</td>\n",
       "      <td>1</td>\n",
       "      <td>0</td>\n",
       "      <td>0</td>\n",
       "      <td>0</td>\n",
       "      <td>0</td>\n",
       "      <td>0</td>\n",
       "      <td>0</td>\n",
       "      <td>1</td>\n",
       "      <td>1</td>\n",
       "      <td>0</td>\n",
       "      <td>0</td>\n",
       "      <td>0</td>\n",
       "      <td>0</td>\n",
       "      <td>0</td>\n",
       "      <td>0</td>\n",
       "      <td>0</td>\n",
       "      <td>0</td>\n",
       "      <td>0</td>\n",
       "      <td>0</td>\n",
       "      <td>0</td>\n",
       "      <td>0</td>\n",
       "      <td>0</td>\n",
       "      <td>0</td>\n",
       "      <td>0</td>\n",
       "      <td>1</td>\n",
       "      <td>0</td>\n",
       "      <td>0</td>\n",
       "    </tr>\n",
       "    <tr>\n",
       "      <th>274</th>\n",
       "      <td>2015</td>\n",
       "      <td>1</td>\n",
       "      <td>1</td>\n",
       "      <td>0</td>\n",
       "      <td>0</td>\n",
       "      <td>0</td>\n",
       "      <td>0</td>\n",
       "      <td>0</td>\n",
       "      <td>0</td>\n",
       "      <td>0</td>\n",
       "      <td>0</td>\n",
       "      <td>1</td>\n",
       "      <td>0</td>\n",
       "      <td>0</td>\n",
       "      <td>0</td>\n",
       "      <td>0</td>\n",
       "      <td>0</td>\n",
       "      <td>0</td>\n",
       "      <td>0</td>\n",
       "      <td>0</td>\n",
       "      <td>0</td>\n",
       "      <td>1</td>\n",
       "      <td>0</td>\n",
       "      <td>0</td>\n",
       "      <td>0</td>\n",
       "      <td>0</td>\n",
       "      <td>1</td>\n",
       "      <td>0</td>\n",
       "      <td>0</td>\n",
       "      <td>0</td>\n",
       "      <td>0</td>\n",
       "      <td>0</td>\n",
       "      <td>0</td>\n",
       "      <td>0</td>\n",
       "      <td>0</td>\n",
       "      <td>1</td>\n",
       "      <td>0</td>\n",
       "    </tr>\n",
       "    <tr>\n",
       "      <th>1206</th>\n",
       "      <td>2017</td>\n",
       "      <td>3</td>\n",
       "      <td>0</td>\n",
       "      <td>0</td>\n",
       "      <td>0</td>\n",
       "      <td>0</td>\n",
       "      <td>1</td>\n",
       "      <td>0</td>\n",
       "      <td>0</td>\n",
       "      <td>0</td>\n",
       "      <td>0</td>\n",
       "      <td>0</td>\n",
       "      <td>0</td>\n",
       "      <td>0</td>\n",
       "      <td>1</td>\n",
       "      <td>0</td>\n",
       "      <td>0</td>\n",
       "      <td>1</td>\n",
       "      <td>0</td>\n",
       "      <td>0</td>\n",
       "      <td>0</td>\n",
       "      <td>0</td>\n",
       "      <td>0</td>\n",
       "      <td>0</td>\n",
       "      <td>0</td>\n",
       "      <td>0</td>\n",
       "      <td>0</td>\n",
       "      <td>0</td>\n",
       "      <td>0</td>\n",
       "      <td>0</td>\n",
       "      <td>0</td>\n",
       "      <td>0</td>\n",
       "      <td>1</td>\n",
       "      <td>0</td>\n",
       "      <td>0</td>\n",
       "      <td>0</td>\n",
       "      <td>1</td>\n",
       "    </tr>\n",
       "    <tr>\n",
       "      <th>101</th>\n",
       "      <td>2016</td>\n",
       "      <td>3</td>\n",
       "      <td>0</td>\n",
       "      <td>0</td>\n",
       "      <td>0</td>\n",
       "      <td>0</td>\n",
       "      <td>0</td>\n",
       "      <td>0</td>\n",
       "      <td>0</td>\n",
       "      <td>0</td>\n",
       "      <td>1</td>\n",
       "      <td>0</td>\n",
       "      <td>0</td>\n",
       "      <td>0</td>\n",
       "      <td>0</td>\n",
       "      <td>0</td>\n",
       "      <td>0</td>\n",
       "      <td>1</td>\n",
       "      <td>0</td>\n",
       "      <td>1</td>\n",
       "      <td>0</td>\n",
       "      <td>0</td>\n",
       "      <td>0</td>\n",
       "      <td>0</td>\n",
       "      <td>0</td>\n",
       "      <td>0</td>\n",
       "      <td>0</td>\n",
       "      <td>0</td>\n",
       "      <td>0</td>\n",
       "      <td>1</td>\n",
       "      <td>0</td>\n",
       "      <td>0</td>\n",
       "      <td>0</td>\n",
       "      <td>0</td>\n",
       "      <td>1</td>\n",
       "      <td>0</td>\n",
       "      <td>0</td>\n",
       "    </tr>\n",
       "    <tr>\n",
       "      <th>1084</th>\n",
       "      <td>2013</td>\n",
       "      <td>1</td>\n",
       "      <td>0</td>\n",
       "      <td>0</td>\n",
       "      <td>0</td>\n",
       "      <td>0</td>\n",
       "      <td>1</td>\n",
       "      <td>0</td>\n",
       "      <td>0</td>\n",
       "      <td>0</td>\n",
       "      <td>0</td>\n",
       "      <td>0</td>\n",
       "      <td>0</td>\n",
       "      <td>0</td>\n",
       "      <td>1</td>\n",
       "      <td>0</td>\n",
       "      <td>0</td>\n",
       "      <td>0</td>\n",
       "      <td>0</td>\n",
       "      <td>0</td>\n",
       "      <td>0</td>\n",
       "      <td>1</td>\n",
       "      <td>0</td>\n",
       "      <td>0</td>\n",
       "      <td>0</td>\n",
       "      <td>0</td>\n",
       "      <td>1</td>\n",
       "      <td>0</td>\n",
       "      <td>0</td>\n",
       "      <td>0</td>\n",
       "      <td>0</td>\n",
       "      <td>0</td>\n",
       "      <td>0</td>\n",
       "      <td>0</td>\n",
       "      <td>0</td>\n",
       "      <td>0</td>\n",
       "      <td>1</td>\n",
       "    </tr>\n",
       "  </tbody>\n",
       "</table>\n",
       "<p>346 rows × 37 columns</p>\n",
       "</div>"
      ],
      "text/plain": [
       "      Year  C03388V04075  ST_ARA02C02  ST_ARA02C03  ST_ARA02C04  ST_ARA02C05  \\\n",
       "599   2019             1            0            1            0            0   \n",
       "1201  2017             2            0            0            0            0   \n",
       "628   2020             1            0            1            0            0   \n",
       "1498  2020             2            0            0            0            0   \n",
       "1263  2019             3            0            0            0            0   \n",
       "...    ...           ...          ...          ...          ...          ...   \n",
       "100   2016             3            0            0            0            0   \n",
       "274   2015             1            1            0            0            0   \n",
       "1206  2017             3            0            0            0            0   \n",
       "101   2016             3            0            0            0            0   \n",
       "1084  2013             1            0            0            0            0   \n",
       "\n",
       "      ST_ARA02C06  ST_ARA02C07  ST_ARA02C08  st_Mean Price per Hectare  \\\n",
       "599             0            0            0                          0   \n",
       "1201            1            0            0                          0   \n",
       "628             0            0            0                          0   \n",
       "1498            0            1            0                          0   \n",
       "1263            1            0            0                          0   \n",
       "...           ...          ...          ...                        ...   \n",
       "100             0            0            0                          0   \n",
       "274             0            0            0                          0   \n",
       "1206            1            0            0                          0   \n",
       "101             0            0            0                          0   \n",
       "1084            1            0            0                          0   \n",
       "\n",
       "      st_Median Price per Acre  st_Median Price per Hectare  \\\n",
       "599                          0                            0   \n",
       "1201                         0                            0   \n",
       "628                          0                            0   \n",
       "1498                         0                            0   \n",
       "1263                         0                            0   \n",
       "...                        ...                          ...   \n",
       "100                          1                            0   \n",
       "274                          0                            1   \n",
       "1206                         0                            0   \n",
       "101                          1                            0   \n",
       "1084                         0                            0   \n",
       "\n",
       "      st_Number of Transactions  st_Value of Land Sold  \\\n",
       "599                           0                      0   \n",
       "1201                          0                      0   \n",
       "628                           0                      0   \n",
       "1498                          0                      0   \n",
       "1263                          0                      0   \n",
       "...                         ...                    ...   \n",
       "100                           0                      0   \n",
       "274                           0                      0   \n",
       "1206                          0                      0   \n",
       "101                           0                      0   \n",
       "1084                          0                      0   \n",
       "\n",
       "      st_Volume of Land Sold Acres  st_Volume of Land Sold Hectares  \\\n",
       "599                              0                                0   \n",
       "1201                             1                                0   \n",
       "628                              0                                0   \n",
       "1498                             0                                1   \n",
       "1263                             1                                0   \n",
       "...                            ...                              ...   \n",
       "100                              0                                0   \n",
       "274                              0                                0   \n",
       "1206                             1                                0   \n",
       "101                              0                                0   \n",
       "1084                             1                                0   \n",
       "\n",
       "      L_type_Arable Land  L_type_Permanent Grassland  C02_IE11  C02_IE12  \\\n",
       "599                    0                           0         0         0   \n",
       "1201                   1                           0         0         0   \n",
       "628                    0                           0         0         0   \n",
       "1498                   1                           0         0         0   \n",
       "1263                   0                           1         0         0   \n",
       "...                  ...                         ...       ...       ...   \n",
       "100                    0                           1         1         0   \n",
       "274                    0                           0         0         0   \n",
       "1206                   0                           1         0         0   \n",
       "101                    0                           1         0         1   \n",
       "1084                   0                           0         0         0   \n",
       "\n",
       "      C02_IE13  C02_IE21  C02_IE22  C02_IE23  C02_IE24  C02_IE25  Reg_Dublin  \\\n",
       "599          0         0         1         0         0         0           0   \n",
       "1201         0         1         0         0         0         0           1   \n",
       "628          0         0         0         0         1         0           0   \n",
       "1498         0         1         0         0         0         0           1   \n",
       "1263         1         0         0         0         0         0           0   \n",
       "...        ...       ...       ...       ...       ...       ...         ...   \n",
       "100          0         0         0         0         0         0           0   \n",
       "274          0         1         0         0         0         0           1   \n",
       "1206         0         0         0         0         0         0           0   \n",
       "101          0         0         0         0         0         0           0   \n",
       "1084         0         1         0         0         0         0           1   \n",
       "\n",
       "      Reg_Mid-East  Reg_Mid-West  Reg_Midland  Reg_South-East  Reg_South-West  \\\n",
       "599              1             0            0               0               0   \n",
       "1201             0             0            0               0               0   \n",
       "628              0             0            0               1               0   \n",
       "1498             0             0            0               0               0   \n",
       "1263             0             0            0               0               0   \n",
       "...            ...           ...          ...             ...             ...   \n",
       "100              0             0            0               0               0   \n",
       "274              0             0            0               0               0   \n",
       "1206             0             0            0               0               0   \n",
       "101              0             0            1               0               0   \n",
       "1084             0             0            0               0               0   \n",
       "\n",
       "      Reg_State  Reg_West  un_Euro per Acre  un_Euro per Hectare  un_Number  \n",
       "599           0         0                 1                    0          0  \n",
       "1201          0         0                 0                    0          1  \n",
       "628           0         0                 1                    0          0  \n",
       "1498          0         0                 0                    0          1  \n",
       "1263          0         1                 0                    0          1  \n",
       "...         ...       ...               ...                  ...        ...  \n",
       "100           0         0                 1                    0          0  \n",
       "274           0         0                 0                    1          0  \n",
       "1206          1         0                 0                    0          1  \n",
       "101           0         0                 1                    0          0  \n",
       "1084          0         0                 0                    0          1  \n",
       "\n",
       "[346 rows x 37 columns]"
      ]
     },
     "execution_count": 37,
     "metadata": {},
     "output_type": "execute_result"
    }
   ],
   "source": [
    "X_test"
   ]
  },
  {
   "cell_type": "code",
   "execution_count": 38,
   "metadata": {},
   "outputs": [],
   "source": [
    "arr=np.array(X_test.iloc[5],ndmin=2)"
   ]
  },
  {
   "cell_type": "code",
   "execution_count": 39,
   "metadata": {},
   "outputs": [
    {
     "data": {
      "text/plain": [
       "array([-11105414.94685054])"
      ]
     },
     "execution_count": 39,
     "metadata": {},
     "output_type": "execute_result"
    }
   ],
   "source": [
    "LR.predict(arr)"
   ]
  },
  {
   "cell_type": "code",
   "execution_count": 40,
   "metadata": {},
   "outputs": [
    {
     "data": {
      "text/plain": [
       "array([16.])"
      ]
     },
     "execution_count": 40,
     "metadata": {},
     "output_type": "execute_result"
    }
   ],
   "source": [
    "DTR.predict(arr)"
   ]
  },
  {
   "cell_type": "code",
   "execution_count": 41,
   "metadata": {},
   "outputs": [
    {
     "data": {
      "text/plain": [
       "array([13.27])"
      ]
     },
     "execution_count": 41,
     "metadata": {},
     "output_type": "execute_result"
    }
   ],
   "source": [
    "RFR.predict(arr)"
   ]
  },
  {
   "cell_type": "code",
   "execution_count": 42,
   "metadata": {},
   "outputs": [
    {
     "data": {
      "text/plain": [
       "15.0"
      ]
     },
     "execution_count": 42,
     "metadata": {},
     "output_type": "execute_result"
    }
   ],
   "source": [
    "y_test.iloc[5]"
   ]
  },
  {
   "cell_type": "markdown",
   "metadata": {},
   "source": [
    "### Evaluation of Linear Regression Model"
   ]
  },
  {
   "cell_type": "markdown",
   "metadata": {},
   "source": [
    "#### acuracy score"
   ]
  },
  {
   "cell_type": "code",
   "execution_count": 43,
   "metadata": {},
   "outputs": [
    {
     "data": {
      "text/plain": [
       "0.27222581717028294"
      ]
     },
     "execution_count": 43,
     "metadata": {},
     "output_type": "execute_result"
    }
   ],
   "source": [
    "LR.score(X_test, y_test)"
   ]
  },
  {
   "cell_type": "code",
   "execution_count": 44,
   "metadata": {},
   "outputs": [
    {
     "data": {
      "text/plain": [
       "0.9733652799839906"
      ]
     },
     "execution_count": 44,
     "metadata": {},
     "output_type": "execute_result"
    }
   ],
   "source": [
    "DTR.score(X_test, y_test)"
   ]
  },
  {
   "cell_type": "code",
   "execution_count": 45,
   "metadata": {},
   "outputs": [
    {
     "data": {
      "text/plain": [
       "0.9790205757024544"
      ]
     },
     "execution_count": 45,
     "metadata": {},
     "output_type": "execute_result"
    }
   ],
   "source": [
    "RFR.score(X_test, y_test)"
   ]
  },
  {
   "cell_type": "markdown",
   "metadata": {},
   "source": [
    "#### Mean Absolute Error"
   ]
  },
  {
   "cell_type": "code",
   "execution_count": 52,
   "metadata": {},
   "outputs": [
    {
     "name": "stdout",
     "output_type": "stream",
     "text": [
      "MAE: 10104981.757127976\n"
     ]
    }
   ],
   "source": [
    "LR_pred=LR.predict(X_test)\n",
    "from sklearn.metrics import mean_absolute_error\n",
    "print('MAE:',mean_absolute_error(y_test, LR_pred))"
   ]
  },
  {
   "cell_type": "code",
   "execution_count": 53,
   "metadata": {},
   "outputs": [
    {
     "name": "stdout",
     "output_type": "stream",
     "text": [
      "MAE: 868915.6286127168\n"
     ]
    }
   ],
   "source": [
    "DTR_pred=DTR.predict(X_test)\n",
    "from sklearn.metrics import mean_absolute_error\n",
    "print('MAE:', mean_absolute_error(y_test, DTR_pred))"
   ]
  },
  {
   "cell_type": "code",
   "execution_count": 54,
   "metadata": {},
   "outputs": [
    {
     "name": "stdout",
     "output_type": "stream",
     "text": [
      "MAE: 737795.725410407\n"
     ]
    }
   ],
   "source": [
    "RFR_pred=RFR.predict(X_test)\n",
    "from sklearn.metrics import mean_absolute_error\n",
    "print('MAE:', mean_absolute_error(y_test, RFR_pred))"
   ]
  },
  {
   "cell_type": "markdown",
   "metadata": {},
   "source": [
    "#### mean_squared_error"
   ]
  },
  {
   "cell_type": "code",
   "execution_count": 55,
   "metadata": {},
   "outputs": [
    {
     "name": "stdout",
     "output_type": "stream",
     "text": [
      "MSE: 508470053950521.7\n"
     ]
    }
   ],
   "source": [
    "from sklearn.metrics import mean_squared_error\n",
    "print('MSE:', mean_squared_error(y_test, LR_pred))"
   ]
  },
  {
   "cell_type": "code",
   "execution_count": 56,
   "metadata": {},
   "outputs": [
    {
     "name": "stdout",
     "output_type": "stream",
     "text": [
      "MSE: 18608735845561.207\n"
     ]
    }
   ],
   "source": [
    "from sklearn.metrics import mean_squared_error\n",
    "print('MSE:', mean_squared_error(y_test, DTR_pred))"
   ]
  },
  {
   "cell_type": "code",
   "execution_count": 57,
   "metadata": {},
   "outputs": [
    {
     "name": "stdout",
     "output_type": "stream",
     "text": [
      "MSE: 14657580958625.229\n"
     ]
    }
   ],
   "source": [
    "from sklearn.metrics import mean_squared_error\n",
    "print('MSE:', mean_squared_error(y_test, RFR_pred))"
   ]
  },
  {
   "cell_type": "markdown",
   "metadata": {},
   "source": [
    "#### root mean_squared_error"
   ]
  },
  {
   "cell_type": "code",
   "execution_count": 58,
   "metadata": {},
   "outputs": [
    {
     "name": "stdout",
     "output_type": "stream",
     "text": [
      "RMSE: 22549280.563923135\n"
     ]
    }
   ],
   "source": [
    "from sklearn.metrics import mean_squared_error\n",
    "print('RMSE:', np.sqrt(mean_squared_error(y_test,LR_pred)))"
   ]
  },
  {
   "cell_type": "code",
   "execution_count": 59,
   "metadata": {},
   "outputs": [
    {
     "name": "stdout",
     "output_type": "stream",
     "text": [
      "RMSE: 4313784.399522211\n"
     ]
    }
   ],
   "source": [
    "from sklearn.metrics import mean_squared_error\n",
    "print('RMSE:', np.sqrt(mean_squared_error(y_test,DTR_pred)))"
   ]
  },
  {
   "cell_type": "code",
   "execution_count": 60,
   "metadata": {},
   "outputs": [
    {
     "name": "stdout",
     "output_type": "stream",
     "text": [
      "RMSE: 3828522.033190514\n"
     ]
    }
   ],
   "source": [
    "from sklearn.metrics import mean_squared_error\n",
    "print('RMSE:', np.sqrt(mean_squared_error(y_test,RFR_pred)))"
   ]
  },
  {
   "cell_type": "markdown",
   "metadata": {},
   "source": [
    "## preparing dataset for classification "
   ]
  },
  {
   "cell_type": "markdown",
   "metadata": {},
   "source": [
    "#### sipiliting dataset into dependant and independant"
   ]
  },
  {
   "cell_type": "code",
   "execution_count": 67,
   "metadata": {},
   "outputs": [
    {
     "data": {
      "text/plain": [
       "count    1.728000e+03\n",
       "mean     6.780674e+06\n",
       "std      3.605931e+07\n",
       "min      0.000000e+00\n",
       "25%      1.025750e+03\n",
       "50%      8.524850e+03\n",
       "75%      1.981183e+04\n",
       "max      4.426477e+08\n",
       "Name: VALUE, dtype: float64"
      ]
     },
     "execution_count": 67,
     "metadata": {},
     "output_type": "execute_result"
    }
   ],
   "source": [
    "train_data['VALUE'].describe()"
   ]
  },
  {
   "cell_type": "code",
   "execution_count": 71,
   "metadata": {},
   "outputs": [
    {
     "data": {
      "text/plain": [
       "0       0\n",
       "1       0\n",
       "2       0\n",
       "3       0\n",
       "4       1\n",
       "       ..\n",
       "1723    1\n",
       "1724    1\n",
       "1725    1\n",
       "1726    1\n",
       "1727    1\n",
       "Name: condition, Length: 1728, dtype: int32"
      ]
     },
     "execution_count": 71,
     "metadata": {},
     "output_type": "execute_result"
    }
   ],
   "source": [
    "train_data['condition']=(train_data['VALUE']>=train_data['VALUE'].median()).astype(int)\n",
    "train_data['condition']"
   ]
  },
  {
   "cell_type": "code",
   "execution_count": 72,
   "metadata": {},
   "outputs": [],
   "source": [
    "X=train_data.drop(['condition','VALUE'],axis=1)"
   ]
  },
  {
   "cell_type": "code",
   "execution_count": 73,
   "metadata": {},
   "outputs": [
    {
     "data": {
      "text/html": [
       "<div>\n",
       "<style scoped>\n",
       "    .dataframe tbody tr th:only-of-type {\n",
       "        vertical-align: middle;\n",
       "    }\n",
       "\n",
       "    .dataframe tbody tr th {\n",
       "        vertical-align: top;\n",
       "    }\n",
       "\n",
       "    .dataframe thead th {\n",
       "        text-align: right;\n",
       "    }\n",
       "</style>\n",
       "<table border=\"1\" class=\"dataframe\">\n",
       "  <thead>\n",
       "    <tr style=\"text-align: right;\">\n",
       "      <th></th>\n",
       "      <th>Year</th>\n",
       "      <th>C03388V04075</th>\n",
       "      <th>ST_ARA02C02</th>\n",
       "      <th>ST_ARA02C03</th>\n",
       "      <th>ST_ARA02C04</th>\n",
       "      <th>ST_ARA02C05</th>\n",
       "      <th>ST_ARA02C06</th>\n",
       "      <th>ST_ARA02C07</th>\n",
       "      <th>ST_ARA02C08</th>\n",
       "      <th>st_Mean Price per Hectare</th>\n",
       "      <th>st_Median Price per Acre</th>\n",
       "      <th>st_Median Price per Hectare</th>\n",
       "      <th>st_Number of Transactions</th>\n",
       "      <th>st_Value of Land Sold</th>\n",
       "      <th>st_Volume of Land Sold Acres</th>\n",
       "      <th>st_Volume of Land Sold Hectares</th>\n",
       "      <th>L_type_Arable Land</th>\n",
       "      <th>L_type_Permanent Grassland</th>\n",
       "      <th>C02_IE11</th>\n",
       "      <th>C02_IE12</th>\n",
       "      <th>C02_IE13</th>\n",
       "      <th>C02_IE21</th>\n",
       "      <th>C02_IE22</th>\n",
       "      <th>C02_IE23</th>\n",
       "      <th>C02_IE24</th>\n",
       "      <th>C02_IE25</th>\n",
       "      <th>Reg_Dublin</th>\n",
       "      <th>Reg_Mid-East</th>\n",
       "      <th>Reg_Mid-West</th>\n",
       "      <th>Reg_Midland</th>\n",
       "      <th>Reg_South-East</th>\n",
       "      <th>Reg_South-West</th>\n",
       "      <th>Reg_State</th>\n",
       "      <th>Reg_West</th>\n",
       "      <th>un_Euro per Acre</th>\n",
       "      <th>un_Euro per Hectare</th>\n",
       "      <th>un_Number</th>\n",
       "    </tr>\n",
       "  </thead>\n",
       "  <tbody>\n",
       "    <tr>\n",
       "      <th>0</th>\n",
       "      <td>2013</td>\n",
       "      <td>1</td>\n",
       "      <td>0</td>\n",
       "      <td>0</td>\n",
       "      <td>0</td>\n",
       "      <td>0</td>\n",
       "      <td>0</td>\n",
       "      <td>0</td>\n",
       "      <td>0</td>\n",
       "      <td>0</td>\n",
       "      <td>1</td>\n",
       "      <td>0</td>\n",
       "      <td>0</td>\n",
       "      <td>0</td>\n",
       "      <td>0</td>\n",
       "      <td>0</td>\n",
       "      <td>0</td>\n",
       "      <td>0</td>\n",
       "      <td>0</td>\n",
       "      <td>0</td>\n",
       "      <td>0</td>\n",
       "      <td>0</td>\n",
       "      <td>0</td>\n",
       "      <td>0</td>\n",
       "      <td>0</td>\n",
       "      <td>0</td>\n",
       "      <td>0</td>\n",
       "      <td>0</td>\n",
       "      <td>0</td>\n",
       "      <td>0</td>\n",
       "      <td>0</td>\n",
       "      <td>0</td>\n",
       "      <td>1</td>\n",
       "      <td>0</td>\n",
       "      <td>1</td>\n",
       "      <td>0</td>\n",
       "      <td>0</td>\n",
       "    </tr>\n",
       "    <tr>\n",
       "      <th>1</th>\n",
       "      <td>2013</td>\n",
       "      <td>1</td>\n",
       "      <td>0</td>\n",
       "      <td>0</td>\n",
       "      <td>0</td>\n",
       "      <td>0</td>\n",
       "      <td>0</td>\n",
       "      <td>0</td>\n",
       "      <td>0</td>\n",
       "      <td>0</td>\n",
       "      <td>1</td>\n",
       "      <td>0</td>\n",
       "      <td>0</td>\n",
       "      <td>0</td>\n",
       "      <td>0</td>\n",
       "      <td>0</td>\n",
       "      <td>0</td>\n",
       "      <td>0</td>\n",
       "      <td>1</td>\n",
       "      <td>0</td>\n",
       "      <td>0</td>\n",
       "      <td>0</td>\n",
       "      <td>0</td>\n",
       "      <td>0</td>\n",
       "      <td>0</td>\n",
       "      <td>0</td>\n",
       "      <td>0</td>\n",
       "      <td>0</td>\n",
       "      <td>0</td>\n",
       "      <td>0</td>\n",
       "      <td>0</td>\n",
       "      <td>0</td>\n",
       "      <td>0</td>\n",
       "      <td>0</td>\n",
       "      <td>1</td>\n",
       "      <td>0</td>\n",
       "      <td>0</td>\n",
       "    </tr>\n",
       "    <tr>\n",
       "      <th>2</th>\n",
       "      <td>2013</td>\n",
       "      <td>1</td>\n",
       "      <td>0</td>\n",
       "      <td>0</td>\n",
       "      <td>0</td>\n",
       "      <td>0</td>\n",
       "      <td>0</td>\n",
       "      <td>0</td>\n",
       "      <td>0</td>\n",
       "      <td>0</td>\n",
       "      <td>1</td>\n",
       "      <td>0</td>\n",
       "      <td>0</td>\n",
       "      <td>0</td>\n",
       "      <td>0</td>\n",
       "      <td>0</td>\n",
       "      <td>0</td>\n",
       "      <td>0</td>\n",
       "      <td>0</td>\n",
       "      <td>1</td>\n",
       "      <td>0</td>\n",
       "      <td>0</td>\n",
       "      <td>0</td>\n",
       "      <td>0</td>\n",
       "      <td>0</td>\n",
       "      <td>0</td>\n",
       "      <td>0</td>\n",
       "      <td>0</td>\n",
       "      <td>0</td>\n",
       "      <td>1</td>\n",
       "      <td>0</td>\n",
       "      <td>0</td>\n",
       "      <td>0</td>\n",
       "      <td>0</td>\n",
       "      <td>1</td>\n",
       "      <td>0</td>\n",
       "      <td>0</td>\n",
       "    </tr>\n",
       "    <tr>\n",
       "      <th>3</th>\n",
       "      <td>2013</td>\n",
       "      <td>1</td>\n",
       "      <td>0</td>\n",
       "      <td>0</td>\n",
       "      <td>0</td>\n",
       "      <td>0</td>\n",
       "      <td>0</td>\n",
       "      <td>0</td>\n",
       "      <td>0</td>\n",
       "      <td>0</td>\n",
       "      <td>1</td>\n",
       "      <td>0</td>\n",
       "      <td>0</td>\n",
       "      <td>0</td>\n",
       "      <td>0</td>\n",
       "      <td>0</td>\n",
       "      <td>0</td>\n",
       "      <td>0</td>\n",
       "      <td>0</td>\n",
       "      <td>0</td>\n",
       "      <td>1</td>\n",
       "      <td>0</td>\n",
       "      <td>0</td>\n",
       "      <td>0</td>\n",
       "      <td>0</td>\n",
       "      <td>0</td>\n",
       "      <td>0</td>\n",
       "      <td>0</td>\n",
       "      <td>0</td>\n",
       "      <td>0</td>\n",
       "      <td>0</td>\n",
       "      <td>0</td>\n",
       "      <td>0</td>\n",
       "      <td>1</td>\n",
       "      <td>1</td>\n",
       "      <td>0</td>\n",
       "      <td>0</td>\n",
       "    </tr>\n",
       "    <tr>\n",
       "      <th>4</th>\n",
       "      <td>2013</td>\n",
       "      <td>1</td>\n",
       "      <td>0</td>\n",
       "      <td>0</td>\n",
       "      <td>0</td>\n",
       "      <td>0</td>\n",
       "      <td>0</td>\n",
       "      <td>0</td>\n",
       "      <td>0</td>\n",
       "      <td>0</td>\n",
       "      <td>1</td>\n",
       "      <td>0</td>\n",
       "      <td>0</td>\n",
       "      <td>0</td>\n",
       "      <td>0</td>\n",
       "      <td>0</td>\n",
       "      <td>0</td>\n",
       "      <td>0</td>\n",
       "      <td>0</td>\n",
       "      <td>0</td>\n",
       "      <td>0</td>\n",
       "      <td>1</td>\n",
       "      <td>0</td>\n",
       "      <td>0</td>\n",
       "      <td>0</td>\n",
       "      <td>0</td>\n",
       "      <td>1</td>\n",
       "      <td>0</td>\n",
       "      <td>0</td>\n",
       "      <td>0</td>\n",
       "      <td>0</td>\n",
       "      <td>0</td>\n",
       "      <td>0</td>\n",
       "      <td>0</td>\n",
       "      <td>1</td>\n",
       "      <td>0</td>\n",
       "      <td>0</td>\n",
       "    </tr>\n",
       "    <tr>\n",
       "      <th>...</th>\n",
       "      <td>...</td>\n",
       "      <td>...</td>\n",
       "      <td>...</td>\n",
       "      <td>...</td>\n",
       "      <td>...</td>\n",
       "      <td>...</td>\n",
       "      <td>...</td>\n",
       "      <td>...</td>\n",
       "      <td>...</td>\n",
       "      <td>...</td>\n",
       "      <td>...</td>\n",
       "      <td>...</td>\n",
       "      <td>...</td>\n",
       "      <td>...</td>\n",
       "      <td>...</td>\n",
       "      <td>...</td>\n",
       "      <td>...</td>\n",
       "      <td>...</td>\n",
       "      <td>...</td>\n",
       "      <td>...</td>\n",
       "      <td>...</td>\n",
       "      <td>...</td>\n",
       "      <td>...</td>\n",
       "      <td>...</td>\n",
       "      <td>...</td>\n",
       "      <td>...</td>\n",
       "      <td>...</td>\n",
       "      <td>...</td>\n",
       "      <td>...</td>\n",
       "      <td>...</td>\n",
       "      <td>...</td>\n",
       "      <td>...</td>\n",
       "      <td>...</td>\n",
       "      <td>...</td>\n",
       "      <td>...</td>\n",
       "      <td>...</td>\n",
       "      <td>...</td>\n",
       "    </tr>\n",
       "    <tr>\n",
       "      <th>1723</th>\n",
       "      <td>2020</td>\n",
       "      <td>3</td>\n",
       "      <td>0</td>\n",
       "      <td>0</td>\n",
       "      <td>0</td>\n",
       "      <td>0</td>\n",
       "      <td>0</td>\n",
       "      <td>0</td>\n",
       "      <td>1</td>\n",
       "      <td>0</td>\n",
       "      <td>0</td>\n",
       "      <td>0</td>\n",
       "      <td>0</td>\n",
       "      <td>1</td>\n",
       "      <td>0</td>\n",
       "      <td>0</td>\n",
       "      <td>0</td>\n",
       "      <td>1</td>\n",
       "      <td>0</td>\n",
       "      <td>0</td>\n",
       "      <td>0</td>\n",
       "      <td>1</td>\n",
       "      <td>0</td>\n",
       "      <td>0</td>\n",
       "      <td>0</td>\n",
       "      <td>0</td>\n",
       "      <td>1</td>\n",
       "      <td>0</td>\n",
       "      <td>0</td>\n",
       "      <td>0</td>\n",
       "      <td>0</td>\n",
       "      <td>0</td>\n",
       "      <td>0</td>\n",
       "      <td>0</td>\n",
       "      <td>0</td>\n",
       "      <td>0</td>\n",
       "      <td>0</td>\n",
       "    </tr>\n",
       "    <tr>\n",
       "      <th>1724</th>\n",
       "      <td>2020</td>\n",
       "      <td>3</td>\n",
       "      <td>0</td>\n",
       "      <td>0</td>\n",
       "      <td>0</td>\n",
       "      <td>0</td>\n",
       "      <td>0</td>\n",
       "      <td>0</td>\n",
       "      <td>1</td>\n",
       "      <td>0</td>\n",
       "      <td>0</td>\n",
       "      <td>0</td>\n",
       "      <td>0</td>\n",
       "      <td>1</td>\n",
       "      <td>0</td>\n",
       "      <td>0</td>\n",
       "      <td>0</td>\n",
       "      <td>1</td>\n",
       "      <td>0</td>\n",
       "      <td>0</td>\n",
       "      <td>0</td>\n",
       "      <td>0</td>\n",
       "      <td>1</td>\n",
       "      <td>0</td>\n",
       "      <td>0</td>\n",
       "      <td>0</td>\n",
       "      <td>0</td>\n",
       "      <td>1</td>\n",
       "      <td>0</td>\n",
       "      <td>0</td>\n",
       "      <td>0</td>\n",
       "      <td>0</td>\n",
       "      <td>0</td>\n",
       "      <td>0</td>\n",
       "      <td>0</td>\n",
       "      <td>0</td>\n",
       "      <td>0</td>\n",
       "    </tr>\n",
       "    <tr>\n",
       "      <th>1725</th>\n",
       "      <td>2020</td>\n",
       "      <td>3</td>\n",
       "      <td>0</td>\n",
       "      <td>0</td>\n",
       "      <td>0</td>\n",
       "      <td>0</td>\n",
       "      <td>0</td>\n",
       "      <td>0</td>\n",
       "      <td>1</td>\n",
       "      <td>0</td>\n",
       "      <td>0</td>\n",
       "      <td>0</td>\n",
       "      <td>0</td>\n",
       "      <td>1</td>\n",
       "      <td>0</td>\n",
       "      <td>0</td>\n",
       "      <td>0</td>\n",
       "      <td>1</td>\n",
       "      <td>0</td>\n",
       "      <td>0</td>\n",
       "      <td>0</td>\n",
       "      <td>0</td>\n",
       "      <td>0</td>\n",
       "      <td>1</td>\n",
       "      <td>0</td>\n",
       "      <td>0</td>\n",
       "      <td>0</td>\n",
       "      <td>0</td>\n",
       "      <td>1</td>\n",
       "      <td>0</td>\n",
       "      <td>0</td>\n",
       "      <td>0</td>\n",
       "      <td>0</td>\n",
       "      <td>0</td>\n",
       "      <td>0</td>\n",
       "      <td>0</td>\n",
       "      <td>0</td>\n",
       "    </tr>\n",
       "    <tr>\n",
       "      <th>1726</th>\n",
       "      <td>2020</td>\n",
       "      <td>3</td>\n",
       "      <td>0</td>\n",
       "      <td>0</td>\n",
       "      <td>0</td>\n",
       "      <td>0</td>\n",
       "      <td>0</td>\n",
       "      <td>0</td>\n",
       "      <td>1</td>\n",
       "      <td>0</td>\n",
       "      <td>0</td>\n",
       "      <td>0</td>\n",
       "      <td>0</td>\n",
       "      <td>1</td>\n",
       "      <td>0</td>\n",
       "      <td>0</td>\n",
       "      <td>0</td>\n",
       "      <td>1</td>\n",
       "      <td>0</td>\n",
       "      <td>0</td>\n",
       "      <td>0</td>\n",
       "      <td>0</td>\n",
       "      <td>0</td>\n",
       "      <td>0</td>\n",
       "      <td>1</td>\n",
       "      <td>0</td>\n",
       "      <td>0</td>\n",
       "      <td>0</td>\n",
       "      <td>0</td>\n",
       "      <td>0</td>\n",
       "      <td>1</td>\n",
       "      <td>0</td>\n",
       "      <td>0</td>\n",
       "      <td>0</td>\n",
       "      <td>0</td>\n",
       "      <td>0</td>\n",
       "      <td>0</td>\n",
       "    </tr>\n",
       "    <tr>\n",
       "      <th>1727</th>\n",
       "      <td>2020</td>\n",
       "      <td>3</td>\n",
       "      <td>0</td>\n",
       "      <td>0</td>\n",
       "      <td>0</td>\n",
       "      <td>0</td>\n",
       "      <td>0</td>\n",
       "      <td>0</td>\n",
       "      <td>1</td>\n",
       "      <td>0</td>\n",
       "      <td>0</td>\n",
       "      <td>0</td>\n",
       "      <td>0</td>\n",
       "      <td>1</td>\n",
       "      <td>0</td>\n",
       "      <td>0</td>\n",
       "      <td>0</td>\n",
       "      <td>1</td>\n",
       "      <td>0</td>\n",
       "      <td>0</td>\n",
       "      <td>0</td>\n",
       "      <td>0</td>\n",
       "      <td>0</td>\n",
       "      <td>0</td>\n",
       "      <td>0</td>\n",
       "      <td>1</td>\n",
       "      <td>0</td>\n",
       "      <td>0</td>\n",
       "      <td>0</td>\n",
       "      <td>0</td>\n",
       "      <td>0</td>\n",
       "      <td>1</td>\n",
       "      <td>0</td>\n",
       "      <td>0</td>\n",
       "      <td>0</td>\n",
       "      <td>0</td>\n",
       "      <td>0</td>\n",
       "    </tr>\n",
       "  </tbody>\n",
       "</table>\n",
       "<p>1728 rows × 37 columns</p>\n",
       "</div>"
      ],
      "text/plain": [
       "      Year  C03388V04075  ST_ARA02C02  ST_ARA02C03  ST_ARA02C04  ST_ARA02C05  \\\n",
       "0     2013             1            0            0            0            0   \n",
       "1     2013             1            0            0            0            0   \n",
       "2     2013             1            0            0            0            0   \n",
       "3     2013             1            0            0            0            0   \n",
       "4     2013             1            0            0            0            0   \n",
       "...    ...           ...          ...          ...          ...          ...   \n",
       "1723  2020             3            0            0            0            0   \n",
       "1724  2020             3            0            0            0            0   \n",
       "1725  2020             3            0            0            0            0   \n",
       "1726  2020             3            0            0            0            0   \n",
       "1727  2020             3            0            0            0            0   \n",
       "\n",
       "      ST_ARA02C06  ST_ARA02C07  ST_ARA02C08  st_Mean Price per Hectare  \\\n",
       "0               0            0            0                          0   \n",
       "1               0            0            0                          0   \n",
       "2               0            0            0                          0   \n",
       "3               0            0            0                          0   \n",
       "4               0            0            0                          0   \n",
       "...           ...          ...          ...                        ...   \n",
       "1723            0            0            1                          0   \n",
       "1724            0            0            1                          0   \n",
       "1725            0            0            1                          0   \n",
       "1726            0            0            1                          0   \n",
       "1727            0            0            1                          0   \n",
       "\n",
       "      st_Median Price per Acre  st_Median Price per Hectare  \\\n",
       "0                            1                            0   \n",
       "1                            1                            0   \n",
       "2                            1                            0   \n",
       "3                            1                            0   \n",
       "4                            1                            0   \n",
       "...                        ...                          ...   \n",
       "1723                         0                            0   \n",
       "1724                         0                            0   \n",
       "1725                         0                            0   \n",
       "1726                         0                            0   \n",
       "1727                         0                            0   \n",
       "\n",
       "      st_Number of Transactions  st_Value of Land Sold  \\\n",
       "0                             0                      0   \n",
       "1                             0                      0   \n",
       "2                             0                      0   \n",
       "3                             0                      0   \n",
       "4                             0                      0   \n",
       "...                         ...                    ...   \n",
       "1723                          0                      1   \n",
       "1724                          0                      1   \n",
       "1725                          0                      1   \n",
       "1726                          0                      1   \n",
       "1727                          0                      1   \n",
       "\n",
       "      st_Volume of Land Sold Acres  st_Volume of Land Sold Hectares  \\\n",
       "0                                0                                0   \n",
       "1                                0                                0   \n",
       "2                                0                                0   \n",
       "3                                0                                0   \n",
       "4                                0                                0   \n",
       "...                            ...                              ...   \n",
       "1723                             0                                0   \n",
       "1724                             0                                0   \n",
       "1725                             0                                0   \n",
       "1726                             0                                0   \n",
       "1727                             0                                0   \n",
       "\n",
       "      L_type_Arable Land  L_type_Permanent Grassland  C02_IE11  C02_IE12  \\\n",
       "0                      0                           0         0         0   \n",
       "1                      0                           0         1         0   \n",
       "2                      0                           0         0         1   \n",
       "3                      0                           0         0         0   \n",
       "4                      0                           0         0         0   \n",
       "...                  ...                         ...       ...       ...   \n",
       "1723                   0                           1         0         0   \n",
       "1724                   0                           1         0         0   \n",
       "1725                   0                           1         0         0   \n",
       "1726                   0                           1         0         0   \n",
       "1727                   0                           1         0         0   \n",
       "\n",
       "      C02_IE13  C02_IE21  C02_IE22  C02_IE23  C02_IE24  C02_IE25  Reg_Dublin  \\\n",
       "0            0         0         0         0         0         0           0   \n",
       "1            0         0         0         0         0         0           0   \n",
       "2            0         0         0         0         0         0           0   \n",
       "3            1         0         0         0         0         0           0   \n",
       "4            0         1         0         0         0         0           1   \n",
       "...        ...       ...       ...       ...       ...       ...         ...   \n",
       "1723         0         1         0         0         0         0           1   \n",
       "1724         0         0         1         0         0         0           0   \n",
       "1725         0         0         0         1         0         0           0   \n",
       "1726         0         0         0         0         1         0           0   \n",
       "1727         0         0         0         0         0         1           0   \n",
       "\n",
       "      Reg_Mid-East  Reg_Mid-West  Reg_Midland  Reg_South-East  Reg_South-West  \\\n",
       "0                0             0            0               0               0   \n",
       "1                0             0            0               0               0   \n",
       "2                0             0            1               0               0   \n",
       "3                0             0            0               0               0   \n",
       "4                0             0            0               0               0   \n",
       "...            ...           ...          ...             ...             ...   \n",
       "1723             0             0            0               0               0   \n",
       "1724             1             0            0               0               0   \n",
       "1725             0             1            0               0               0   \n",
       "1726             0             0            0               1               0   \n",
       "1727             0             0            0               0               1   \n",
       "\n",
       "      Reg_State  Reg_West  un_Euro per Acre  un_Euro per Hectare  un_Number  \n",
       "0             1         0                 1                    0          0  \n",
       "1             0         0                 1                    0          0  \n",
       "2             0         0                 1                    0          0  \n",
       "3             0         1                 1                    0          0  \n",
       "4             0         0                 1                    0          0  \n",
       "...         ...       ...               ...                  ...        ...  \n",
       "1723          0         0                 0                    0          0  \n",
       "1724          0         0                 0                    0          0  \n",
       "1725          0         0                 0                    0          0  \n",
       "1726          0         0                 0                    0          0  \n",
       "1727          0         0                 0                    0          0  \n",
       "\n",
       "[1728 rows x 37 columns]"
      ]
     },
     "execution_count": 73,
     "metadata": {},
     "output_type": "execute_result"
    }
   ],
   "source": [
    "X"
   ]
  },
  {
   "cell_type": "code",
   "execution_count": 75,
   "metadata": {},
   "outputs": [
    {
     "data": {
      "text/plain": [
       "0       0\n",
       "1       0\n",
       "2       0\n",
       "3       0\n",
       "4       1\n",
       "       ..\n",
       "1723    1\n",
       "1724    1\n",
       "1725    1\n",
       "1726    1\n",
       "1727    1\n",
       "Name: condition, Length: 1728, dtype: int32"
      ]
     },
     "execution_count": 75,
     "metadata": {},
     "output_type": "execute_result"
    }
   ],
   "source": [
    "y=train_data['condition']\n",
    "y"
   ]
  },
  {
   "cell_type": "code",
   "execution_count": 77,
   "metadata": {},
   "outputs": [],
   "source": [
    "from sklearn.model_selection import train_test_split\n",
    "X_train, X_test, y_train, y_test = train_test_split(X, y, test_size = 0.2, random_state = 42)"
   ]
  },
  {
   "cell_type": "markdown",
   "metadata": {},
   "source": [
    "#### Model building for classification\n"
   ]
  },
  {
   "cell_type": "code",
   "execution_count": 78,
   "metadata": {},
   "outputs": [
    {
     "data": {
      "text/plain": [
       "DecisionTreeClassifier()"
      ]
     },
     "execution_count": 78,
     "metadata": {},
     "output_type": "execute_result"
    }
   ],
   "source": [
    "from sklearn.tree import DecisionTreeClassifier\n",
    "DTC= DecisionTreeClassifier()\n",
    "DTC.fit(X_train,y_train)"
   ]
  },
  {
   "cell_type": "code",
   "execution_count": 79,
   "metadata": {},
   "outputs": [
    {
     "data": {
      "text/plain": [
       "RandomForestClassifier()"
      ]
     },
     "execution_count": 79,
     "metadata": {},
     "output_type": "execute_result"
    }
   ],
   "source": [
    "from sklearn.ensemble import RandomForestClassifier\n",
    "RFC = RandomForestClassifier()\n",
    "RFC.fit(X_train,y_train)"
   ]
  },
  {
   "cell_type": "markdown",
   "metadata": {},
   "source": [
    "### predictions"
   ]
  },
  {
   "cell_type": "code",
   "execution_count": 80,
   "metadata": {},
   "outputs": [
    {
     "data": {
      "text/plain": [
       "Year                               2019\n",
       "C03388V04075                          3\n",
       "ST_ARA02C02                           0\n",
       "ST_ARA02C03                           0\n",
       "ST_ARA02C04                           0\n",
       "ST_ARA02C05                           0\n",
       "ST_ARA02C06                           0\n",
       "ST_ARA02C07                           1\n",
       "ST_ARA02C08                           0\n",
       "st_Mean Price per Hectare             0\n",
       "st_Median Price per Acre              0\n",
       "st_Median Price per Hectare           0\n",
       "st_Number of Transactions             0\n",
       "st_Value of Land Sold                 0\n",
       "st_Volume of Land Sold Acres          0\n",
       "st_Volume of Land Sold Hectares       1\n",
       "L_type_Arable Land                    0\n",
       "L_type_Permanent Grassland            1\n",
       "C02_IE11                              0\n",
       "C02_IE12                              0\n",
       "C02_IE13                              0\n",
       "C02_IE21                              0\n",
       "C02_IE22                              1\n",
       "C02_IE23                              0\n",
       "C02_IE24                              0\n",
       "C02_IE25                              0\n",
       "Reg_Dublin                            0\n",
       "Reg_Mid-East                          1\n",
       "Reg_Mid-West                          0\n",
       "Reg_Midland                           0\n",
       "Reg_South-East                        0\n",
       "Reg_South-West                        0\n",
       "Reg_State                             0\n",
       "Reg_West                              0\n",
       "un_Euro per Acre                      0\n",
       "un_Euro per Hectare                   0\n",
       "un_Number                             1\n",
       "Name: 1481, dtype: int64"
      ]
     },
     "execution_count": 80,
     "metadata": {},
     "output_type": "execute_result"
    }
   ],
   "source": [
    "X_test.iloc[10]"
   ]
  },
  {
   "cell_type": "code",
   "execution_count": 81,
   "metadata": {},
   "outputs": [],
   "source": [
    "arr=np.array(X_test.iloc[10],ndmin=2)"
   ]
  },
  {
   "cell_type": "code",
   "execution_count": 82,
   "metadata": {},
   "outputs": [
    {
     "data": {
      "text/plain": [
       "array([0])"
      ]
     },
     "execution_count": 82,
     "metadata": {},
     "output_type": "execute_result"
    }
   ],
   "source": [
    "DTC.predict(arr)"
   ]
  },
  {
   "cell_type": "code",
   "execution_count": 83,
   "metadata": {},
   "outputs": [
    {
     "data": {
      "text/plain": [
       "array([0])"
      ]
     },
     "execution_count": 83,
     "metadata": {},
     "output_type": "execute_result"
    }
   ],
   "source": [
    "RFC.predict(arr)"
   ]
  },
  {
   "cell_type": "code",
   "execution_count": 84,
   "metadata": {},
   "outputs": [
    {
     "data": {
      "text/plain": [
       "0"
      ]
     },
     "execution_count": 84,
     "metadata": {},
     "output_type": "execute_result"
    }
   ],
   "source": [
    "y_test.iloc[10]"
   ]
  },
  {
   "cell_type": "markdown",
   "metadata": {},
   "source": [
    "### Evaluating classification model"
   ]
  },
  {
   "cell_type": "code",
   "execution_count": 85,
   "metadata": {},
   "outputs": [
    {
     "data": {
      "text/plain": [
       "0.9624277456647399"
      ]
     },
     "execution_count": 85,
     "metadata": {},
     "output_type": "execute_result"
    }
   ],
   "source": [
    "DTC.score(X_test,y_test)"
   ]
  },
  {
   "cell_type": "code",
   "execution_count": 86,
   "metadata": {},
   "outputs": [
    {
     "data": {
      "text/plain": [
       "0.930635838150289"
      ]
     },
     "execution_count": 86,
     "metadata": {},
     "output_type": "execute_result"
    }
   ],
   "source": [
    "RFC.score(X_test,y_test)"
   ]
  },
  {
   "cell_type": "markdown",
   "metadata": {},
   "source": [
    "### precision,recall and f1_score"
   ]
  },
  {
   "cell_type": "code",
   "execution_count": 87,
   "metadata": {},
   "outputs": [
    {
     "name": "stdout",
     "output_type": "stream",
     "text": [
      "Accuracy: 0.9624277456647399\n",
      "Precision: 0.9777777777777777\n",
      "Recall: 0.9513513513513514\n",
      "F1_score: 0.9643835616438355\n"
     ]
    }
   ],
   "source": [
    "from sklearn import metrics\n",
    "y_pred=DTC.predict(X_test)\n",
    "print(\"Accuracy:\",metrics.accuracy_score(y_test,y_pred))\n",
    "print(\"Precision:\",metrics.precision_score(y_test,y_pred))\n",
    "print(\"Recall:\",metrics.recall_score(y_test,y_pred))\n",
    "\n",
    "from sklearn import metrics\n",
    "score=metrics.accuracy_score(y_test,y_pred)\n",
    "pre=metrics.precision_score(y_test, y_pred)\n",
    "recall=metrics.recall_score(y_test, y_pred)\n",
    "f1_score=2*pre*recall/(pre+recall)\n",
    "print(\"F1_score:\",f1_score)"
   ]
  },
  {
   "cell_type": "code",
   "execution_count": 88,
   "metadata": {},
   "outputs": [
    {
     "name": "stdout",
     "output_type": "stream",
     "text": [
      "Accuracy: 0.930635838150289\n",
      "Precision: 0.9548022598870056\n",
      "Recall: 0.9135135135135135\n",
      "F1_score: 0.9337016574585636\n"
     ]
    }
   ],
   "source": [
    "from sklearn import metrics\n",
    "y_pred=RFC.predict(X_test)\n",
    "print(\"Accuracy:\",metrics.accuracy_score(y_test,y_pred))\n",
    "print(\"Precision:\",metrics.precision_score(y_test,y_pred))\n",
    "print(\"Recall:\",metrics.recall_score(y_test,y_pred))\n",
    "\n",
    "from sklearn import metrics\n",
    "score=metrics.accuracy_score(y_test,y_pred)\n",
    "pre=metrics.precision_score(y_test, y_pred)\n",
    "recall=metrics.recall_score(y_test, y_pred)\n",
    "f1_score=2*pre*recall/(pre+recall)\n",
    "print(\"F1_score:\",f1_score)"
   ]
  },
  {
   "cell_type": "code",
   "execution_count": 89,
   "metadata": {},
   "outputs": [],
   "source": [
    "### classification report"
   ]
  },
  {
   "cell_type": "code",
   "execution_count": 90,
   "metadata": {},
   "outputs": [
    {
     "name": "stdout",
     "output_type": "stream",
     "text": [
      "              precision    recall  f1-score   support\n",
      "\n",
      "           0       0.95      0.98      0.96       161\n",
      "           1       0.98      0.95      0.96       185\n",
      "\n",
      "    accuracy                           0.96       346\n",
      "   macro avg       0.96      0.96      0.96       346\n",
      "weighted avg       0.96      0.96      0.96       346\n",
      "\n"
     ]
    }
   ],
   "source": [
    "from sklearn.metrics import classification_report\n",
    "y_pred=DTC.predict(X_test)\n",
    "print(classification_report(y_test,y_pred))"
   ]
  },
  {
   "cell_type": "code",
   "execution_count": 91,
   "metadata": {},
   "outputs": [
    {
     "name": "stdout",
     "output_type": "stream",
     "text": [
      "              precision    recall  f1-score   support\n",
      "\n",
      "           0       0.91      0.95      0.93       161\n",
      "           1       0.95      0.91      0.93       185\n",
      "\n",
      "    accuracy                           0.93       346\n",
      "   macro avg       0.93      0.93      0.93       346\n",
      "weighted avg       0.93      0.93      0.93       346\n",
      "\n"
     ]
    }
   ],
   "source": [
    "from sklearn.metrics import classification_report\n",
    "y_pred=RFC.predict(X_test)\n",
    "print(classification_report(y_test,y_pred))"
   ]
  },
  {
   "cell_type": "code",
   "execution_count": null,
   "metadata": {},
   "outputs": [],
   "source": []
  }
 ],
 "metadata": {
  "kernelspec": {
   "display_name": "Python 3",
   "language": "python",
   "name": "python3"
  },
  "language_info": {
   "codemirror_mode": {
    "name": "ipython",
    "version": 3
   },
   "file_extension": ".py",
   "mimetype": "text/x-python",
   "name": "python",
   "nbconvert_exporter": "python",
   "pygments_lexer": "ipython3",
   "version": "3.9.1"
  }
 },
 "nbformat": 4,
 "nbformat_minor": 4
}
